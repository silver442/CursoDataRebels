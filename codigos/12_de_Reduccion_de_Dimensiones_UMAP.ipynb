{
  "cells": [
    {
      "cell_type": "markdown",
      "id": "3170fa41",
      "metadata": {
        "id": "3170fa41"
      },
      "source": [
        "\n",
        "## UMAP (Uniform Manifold Approximation and Projection)\n",
        "\n",
        "UMAP es una técnica moderna de reducción de dimensionalidad y visualización de datos. Aunque puede ser comparada con técnicas como t-SNE en términos de visualización, UMAP tiene ventajas notables:\n",
        "\n",
        "1. **Generalizable**: A diferencia de t-SNE, UMAP se puede usar en un contexto de aprendizaje supervisado.\n",
        "2. **Preserva la estructura global**: Mientras que t-SNE tiende a enfocarse en la preservación de las distancias a pequeña escala, UMAP preserva mejor la estructura a larga escala de los datos.\n",
        "3. **Rápido y escalable**: UMAP suele ser más rápido que otras técnicas, lo que permite trabajar con conjuntos de datos más grandes.\n",
        "\n",
        "UMAP se basa en teoría de topología y geometría, y busca aproximar la estructura subyacente (o topología) de los datos. Se puede pensar en UMAP como una técnica que crea un mapa de los datos, donde las regiones cercanas en el espacio de alta dimensión también están cerca en el espacio reducido.\n",
        "\n",
        "En esta libreta, exploraremos cómo UMAP puede ser utilizado para visualizar un conjunto de datos de imágenes de dígitos escritos a mano.\n"
      ]
    },
    {
      "cell_type": "markdown",
      "id": "dcc603ac",
      "metadata": {
        "id": "dcc603ac"
      },
      "source": [
        "## Importaciones y preparación\n",
        "Primero, importamos las bibliotecas esenciales para el análisis, la visualización y la manipulación de datos. Además, cargamos el conjunto de datos que utilizaremos, que es un conjunto popular de imágenes de dígitos escritos a mano."
      ]
    },
    {
      "cell_type": "code",
      "execution_count": null,
      "id": "b00127eb",
      "metadata": {
        "ExecuteTime": {
          "end_time": "2022-11-11T13:20:00.930644Z",
          "start_time": "2022-11-11T13:19:59.197135Z"
        },
        "id": "b00127eb"
      },
      "outputs": [],
      "source": [
        "import pandas as pd\n",
        "import numpy as np\n",
        "import plotly.express as px\n",
        "from sklearn.datasets import load_digits\n",
        "from sklearn.model_selection import train_test_split"
      ]
    },
    {
      "cell_type": "markdown",
      "id": "0b00a4c9",
      "metadata": {
        "id": "0b00a4c9"
      },
      "source": [
        "## Configuración de UMAP\n",
        "Para utilizar UMAP, necesitamos importar la implementación adecuada. Si aún no tienes instalado `umap-learn`, puedes hacerlo usando pip."
      ]
    },
    {
      "cell_type": "code",
      "execution_count": null,
      "id": "e78863b8",
      "metadata": {
        "ExecuteTime": {
          "end_time": "2022-11-11T13:20:16.399024Z",
          "start_time": "2022-11-11T13:20:07.995452Z"
        },
        "id": "e78863b8"
      },
      "outputs": [],
      "source": [
        "#pip install umap-learn\n",
        "\n",
        "from umap import UMAP"
      ]
    },
    {
      "cell_type": "markdown",
      "id": "628c68f6",
      "metadata": {
        "id": "628c68f6"
      },
      "source": [
        "## Carga del conjunto de datos\n",
        "Aquí cargamos el conjunto de datos de dígitos, que contiene imágenes de dígitos escritos a mano junto con sus etiquetas correspondientes."
      ]
    },
    {
      "cell_type": "code",
      "execution_count": null,
      "id": "4d3a2396",
      "metadata": {
        "ExecuteTime": {
          "end_time": "2022-11-11T13:20:16.561666Z",
          "start_time": "2022-11-11T13:20:16.421549Z"
        },
        "id": "4d3a2396"
      },
      "outputs": [],
      "source": [
        "digitos=load_digits()"
      ]
    },
    {
      "cell_type": "markdown",
      "id": "d6d7ba6a",
      "metadata": {
        "id": "d6d7ba6a"
      },
      "source": [
        "## Exploración inicial\n",
        "Es esencial conocer la estructura de nuestros datos antes de cualquier análisis. Aquí, simplemente verificamos el tipo del objeto que contiene los dígitos."
      ]
    },
    {
      "cell_type": "code",
      "execution_count": null,
      "id": "e80efb36",
      "metadata": {
        "ExecuteTime": {
          "end_time": "2022-11-11T13:20:24.536690Z",
          "start_time": "2022-11-11T13:20:24.511286Z"
        },
        "id": "e80efb36"
      },
      "outputs": [],
      "source": [
        "type(digitos)"
      ]
    },
    {
      "cell_type": "markdown",
      "id": "0a7fdc74",
      "metadata": {
        "id": "0a7fdc74"
      },
      "source": [
        "## Preparación de datos y etiquetas\n",
        "Separando las imágenes de dígitos (datos) de sus etiquetas. Esto nos proporciona `X` como un conjunto de datos con las imágenes y `y` con las etiquetas correspondientes."
      ]
    },
    {
      "cell_type": "code",
      "execution_count": null,
      "id": "56e8e7be",
      "metadata": {
        "ExecuteTime": {
          "end_time": "2022-11-11T13:20:59.879096Z",
          "start_time": "2022-11-11T13:20:59.759737Z"
        },
        "id": "56e8e7be"
      },
      "outputs": [],
      "source": [
        "X,y=load_digits(return_X_y=True)"
      ]
    },
    {
      "cell_type": "markdown",
      "id": "3fa9e866",
      "metadata": {
        "id": "3fa9e866"
      },
      "source": [
        "## Visualización de dígitos\n",
        "Antes de aplicar cualquier técnica de reducción de dimensionalidad, es útil visualizar algunos de los datos. Aquí, mostramos algunas de las imágenes de dígitos para tener una idea de lo que contienen."
      ]
    },
    {
      "cell_type": "code",
      "execution_count": null,
      "id": "94aad0e8",
      "metadata": {
        "ExecuteTime": {
          "end_time": "2022-11-11T13:21:03.981383Z",
          "start_time": "2022-11-11T13:21:03.139611Z"
        },
        "id": "94aad0e8"
      },
      "outputs": [],
      "source": [
        "import matplotlib.pyplot as plt"
      ]
    },
    {
      "cell_type": "markdown",
      "id": "21a61f06",
      "metadata": {
        "id": "21a61f06"
      },
      "source": [
        "## Explorando dimensiones de los datos\n",
        "Verificamos las dimensiones de las imágenes y los datos. Esto nos da una idea de la dimensionalidad con la que estamos trabajando."
      ]
    },
    {
      "cell_type": "code",
      "execution_count": null,
      "id": "5523480e",
      "metadata": {
        "ExecuteTime": {
          "end_time": "2022-11-11T13:21:17.957277Z",
          "start_time": "2022-11-11T13:21:15.966575Z"
        },
        "id": "5523480e"
      },
      "outputs": [],
      "source": [
        "fig,axs=plt.subplots(2,5,sharey=False,\n",
        "                    tight_layout=True,\n",
        "                    figsize=(12,6))\n",
        "plt.gray()\n",
        "n=0\n",
        "for i in range(2):\n",
        "    for j in range(5):\n",
        "        axs[i,j].matshow(digitos.images[n])\n",
        "        axs[i,j].set(title=y[n])\n",
        "        n+=1\n",
        "plt.show()"
      ]
    },
    {
      "cell_type": "markdown",
      "id": "9daef7d1",
      "metadata": {
        "id": "9daef7d1"
      },
      "source": [
        "..."
      ]
    },
    {
      "cell_type": "markdown",
      "id": "77115944",
      "metadata": {
        "id": "77115944"
      },
      "source": [
        "## Dimensiones del Conjunto de Datos\n",
        "Antes de cualquier transformación, es fundamental conocer las dimensiones de nuestro conjunto de datos. Aquí verificamos la forma de las imágenes, lo que nos da una idea de la cantidad de imágenes y su dimensionalidad."
      ]
    },
    {
      "cell_type": "code",
      "execution_count": null,
      "id": "b19471b7",
      "metadata": {
        "ExecuteTime": {
          "end_time": "2022-11-11T13:22:57.562868Z",
          "start_time": "2022-11-11T13:22:57.546801Z"
        },
        "id": "b19471b7"
      },
      "outputs": [],
      "source": [
        "X.shape"
      ]
    },
    {
      "cell_type": "markdown",
      "id": "9289d7cf",
      "metadata": {
        "id": "9289d7cf"
      },
      "source": [
        "## Etiquetas del Conjunto de Datos\n",
        "Verificamos las dimensiones de `y`, que contiene las etiquetas para cada imagen. Esto nos indica cuántas etiquetas tenemos en total."
      ]
    },
    {
      "cell_type": "code",
      "execution_count": null,
      "id": "63d44e41",
      "metadata": {
        "ExecuteTime": {
          "end_time": "2022-11-11T13:23:54.777235Z",
          "start_time": "2022-11-11T13:23:54.753189Z"
        },
        "id": "63d44e41"
      },
      "outputs": [],
      "source": [
        "y.shape"
      ]
    },
    {
      "cell_type": "markdown",
      "id": "78b8ee72",
      "metadata": {
        "id": "78b8ee72"
      },
      "source": [
        "## Configuración de UMAP\n",
        "Para aplicar UMAP, primero definimos sus parámetros. Estos parámetros determinarán cómo se realiza la reducción de dimensionalidad y pueden influir en la calidad de la visualización.\n",
        "\n",
        "## Parámetros de UMAP\n",
        "\n",
        "Estamos inicializando UMAP con una serie de parámetros específicos. A continuación, se describe el propósito y significado de cada parámetro:\n",
        "\n",
        "- `n_neighbors`: Es el número de vecinos cercanos que UMAP considerará al trazar la estructura subyacente de los datos. Un valor de 100 indica que UMAP observará los 100 vecinos más cercanos. Este parámetro puede influir en la granularidad de la reducción; valores más bajos tienden a enfocarse en estructuras locales, mientras que valores más altos pueden enfocarse en estructuras más globales.\n",
        "\n",
        "- `n_components`: Es el número de dimensiones en las que se quiere reducir los datos. En este caso, estamos reduciendo los datos a 3 dimensiones.\n",
        "\n",
        "- `metric`: Es la métrica que UMAP usará para medir distancias en el espacio de alta dimensión. Estamos utilizando la métrica euclidiana, que es la medida de distancia estándar en la geometría.\n",
        "\n",
        "- `min_dist`: Es una restricción para evitar que los puntos se acerquen demasiado entre sí en el espacio de baja dimensión. Un valor de 0.5 asegura que hay cierta dispersión en la visualización.\n",
        "\n",
        "- `local_connectivity`: Es el número de vecinos más cercanos que se usarán para la conectividad local en una estructura de KNN. En este caso, estamos considerando 2 vecinos para la conectividad local.\n",
        "\n",
        "- `random_state`: Es una semilla para el generador de números aleatorios, asegurando que los resultados sean reproducibles.\n",
        "\n",
        "Estos parámetros han sido seleccionados para adaptarse a la naturaleza y estructura de nuestros datos, y pueden influir en cómo UMAP reduce la dimensionalidad y visualiza el conjunto de datos.\n"
      ]
    },
    {
      "cell_type": "code",
      "execution_count": null,
      "id": "94346a64",
      "metadata": {
        "ExecuteTime": {
          "end_time": "2022-11-11T13:26:28.462442Z",
          "start_time": "2022-11-11T13:26:28.454440Z"
        },
        "id": "94346a64"
      },
      "outputs": [],
      "source": [
        "reductor=UMAP(n_neighbors=100,\n",
        "             n_components=3,\n",
        "             metric='euclidean',\n",
        "             min_dist=0.1,\n",
        "             random_state=0)"
      ]
    },
    {
      "cell_type": "markdown",
      "id": "cf39c8b9",
      "metadata": {
        "id": "cf39c8b9"
      },
      "source": [
        "## Aplicación de UMAP\n",
        "Aquí aplicamos UMAP a nuestros datos para reducir su dimensionalidad. El resultado será una representación de 3D de nuestras imágenes de dígitos, que luego podemos visualizar."
      ]
    },
    {
      "cell_type": "code",
      "execution_count": null,
      "id": "393a06a8",
      "metadata": {
        "ExecuteTime": {
          "end_time": "2022-11-11T13:27:19.300245Z",
          "start_time": "2022-11-11T13:27:03.998238Z"
        },
        "id": "393a06a8"
      },
      "outputs": [],
      "source": [
        "x_trans=reductor.fit_transform(X)\n",
        "x_trans.shape"
      ]
    },
    {
      "cell_type": "markdown",
      "id": "92d07f06",
      "metadata": {
        "id": "92d07f06"
      },
      "source": [
        "## Visualización con UMAP\n",
        "Con los datos transformados por UMAP, creamos una visualización para ver cómo se agrupan las imágenes de dígitos en el espacio 3D. Esto nos permite entender si imágenes similares se agrupan juntas."
      ]
    },
    {
      "cell_type": "code",
      "execution_count": null,
      "id": "e2e43699",
      "metadata": {
        "ExecuteTime": {
          "end_time": "2022-11-11T13:28:24.950770Z",
          "start_time": "2022-11-11T13:28:24.934767Z"
        },
        "id": "e2e43699"
      },
      "outputs": [],
      "source": [
        "def graficar_umap(x,y):\n",
        "    arr_concat=np.concatenate((\n",
        "    x,y.reshape(y.shape[0],1)),axis=1)\n",
        "    df=pd.DataFrame(arr_concat,\n",
        "                    columns=['x','y','z','e'])\n",
        "    df['e']=df['e'].astype(int)\n",
        "    df.sort_values(by='e',axis=0,\n",
        "                   ascending=True,\n",
        "                   inplace=True)\n",
        "    fig=px.scatter_3d(df,x='x',y='y',z='z',\n",
        "                     color=df['e'].astype(str))\n",
        "    fig.update_traces(marker=dict(\n",
        "    size=3,line=dict(color='black',\n",
        "                    width=0.1)))\n",
        "    fig.show()"
      ]
    },
    {
      "cell_type": "code",
      "execution_count": null,
      "id": "abff039d",
      "metadata": {
        "ExecuteTime": {
          "end_time": "2022-11-11T14:00:27.074646Z",
          "start_time": "2022-11-11T14:00:26.875413Z"
        },
        "id": "abff039d"
      },
      "outputs": [],
      "source": [
        "graficar_umap(x_trans,y)"
      ]
    },
    {
      "cell_type": "markdown",
      "id": "de11c88d",
      "metadata": {
        "id": "de11c88d"
      },
      "source": [
        "## UMAP Supervisado\n",
        "UMAP, además de ser una poderosa herramienta para la reducción no supervisada de la dimensionalidad, también ofrece una versión supervisada. En el modo supervisado, UMAP utiliza información de etiqueta (si está disponible) para guiar el proceso de reducción de dimensionalidad.\n",
        "\n",
        "El uso de UMAP en modo supervisado puede mejorar la separación entre clases en el espacio de baja dimensión. Esto es especialmente útil cuando se tiene un conjunto de datos etiquetado y se desea que la estructura de baja dimensión refleje las categorías o clases de los datos.\n",
        "\n",
        "Para usar UMAP de forma supervisada:\n",
        "\n",
        "1. Asegúrate de que tienes etiquetas para cada punto de datos en tu conjunto de datos.\n",
        "2. En lugar de simplemente pasar tus datos a UMAP, también pasarás las etiquetas usando el argumento `y`."
      ]
    },
    {
      "cell_type": "markdown",
      "id": "f0ec5165",
      "metadata": {
        "id": "f0ec5165"
      },
      "source": [
        "## Preparación de Datos para UMAP Supervisado\n",
        "\n",
        "Antes de aplicar UMAP en modo supervisado, es esencial dividir el conjunto de datos en conjuntos de entrenamiento y prueba. Esta división nos permite entrenar el modelo con una porción de los datos y luego validar o probar con una porción separada.\n",
        "\n",
        "Utilizamos la función `train_test_split` de `sklearn` para realizar esta división:\n",
        "\n",
        "- `X_train` y `y_train` contienen los datos y etiquetas, respectivamente, para el conjunto de entrenamiento.\n",
        "- `X_test` y `y_test` contienen los datos y etiquetas para el conjunto de prueba.\n",
        "- El argumento `test_size=0.3` indica que el 30% de los datos se reservará para pruebas, mientras que el 70% restante se utilizará para entrenamiento.\n",
        "- `random_state=0` asegura que la división sea reproducible, es decir, al ejecutar el código varias veces con el mismo estado aleatorio, obtendremos la misma división.\n",
        "\n",
        "Una vez que tengamos nuestros conjuntos de datos de entrenamiento y prueba, podemos proceder a aplicar UMAP de manera supervisada utilizando `X_train` y `y_train`.\n"
      ]
    },
    {
      "cell_type": "markdown",
      "id": "cb61d28e",
      "metadata": {
        "id": "cb61d28e"
      },
      "source": [
        "..."
      ]
    },
    {
      "cell_type": "code",
      "execution_count": null,
      "id": "61236b83",
      "metadata": {
        "ExecuteTime": {
          "end_time": "2022-11-11T13:59:08.159928Z",
          "start_time": "2022-11-11T13:59:08.135954Z"
        },
        "id": "61236b83"
      },
      "outputs": [],
      "source": [
        "X_train,X_test,y_train,y_test=train_test_split(X,\n",
        "                y,test_size=0.3,\n",
        "                random_state=0)"
      ]
    },
    {
      "cell_type": "code",
      "execution_count": null,
      "id": "bb8d2524",
      "metadata": {
        "ExecuteTime": {
          "end_time": "2022-11-11T13:59:49.168273Z",
          "start_time": "2022-11-11T13:59:49.158024Z"
        },
        "id": "bb8d2524"
      },
      "outputs": [],
      "source": [
        "X_train.shape"
      ]
    },
    {
      "cell_type": "markdown",
      "id": "5d14d03a",
      "metadata": {
        "id": "5d14d03a"
      },
      "source": [
        "## Aplicación de UMAP\n",
        "Vamos a crear nuestro objeto de la clase UMAP para realizar la reducción de la dimensión de nuestros datos."
      ]
    },
    {
      "cell_type": "code",
      "execution_count": null,
      "id": "af11079f",
      "metadata": {
        "ExecuteTime": {
          "end_time": "2022-11-11T14:17:37.207936Z",
          "start_time": "2022-11-11T14:17:37.191924Z"
        },
        "id": "af11079f"
      },
      "outputs": [],
      "source": [
        "reductor_sup=UMAP(n_neighbors=100,\n",
        "                 n_components=3,\n",
        "                 metric='euclidean',\n",
        "                 min_dist=0.5,\n",
        "                 local_connectivity=2,\n",
        "                 random_state=0)"
      ]
    },
    {
      "cell_type": "code",
      "execution_count": null,
      "id": "2f32bb82",
      "metadata": {
        "ExecuteTime": {
          "end_time": "2022-11-11T14:17:57.664454Z",
          "start_time": "2022-11-11T14:17:49.019361Z"
        },
        "id": "2f32bb82"
      },
      "outputs": [],
      "source": [
        "X_train_res=reductor_sup.fit_transform(X_train,\n",
        "                                       y_train)\n",
        "X_train_res.shape"
      ]
    },
    {
      "cell_type": "markdown",
      "id": "ba34db47",
      "metadata": {
        "id": "ba34db47"
      },
      "source": [
        "## Grafica con Reducción Supervisada de Datos de Entrenamiento\n",
        "Vamos a revisar y comparar como quedaron reducidos en este caso los datos originales."
      ]
    },
    {
      "cell_type": "code",
      "execution_count": null,
      "id": "636817bc",
      "metadata": {
        "ExecuteTime": {
          "end_time": "2022-11-11T14:18:02.034334Z",
          "start_time": "2022-11-11T14:18:01.849789Z"
        },
        "id": "636817bc"
      },
      "outputs": [],
      "source": [
        "graficar_umap(X_train_res,y_train)"
      ]
    },
    {
      "cell_type": "markdown",
      "id": "d515558e",
      "metadata": {
        "id": "d515558e"
      },
      "source": [
        "## Transformación del Conjunto de Prueba con UMAP\n",
        "\n",
        "Después de ajustar (o entrenar) el reductor UMAP con el conjunto de entrenamiento, podemos usar este reductor ya entrenado para transformar otros conjuntos de datos en el espacio reducido. En este caso, estamos transformando el conjunto de prueba `X_test` usando el método `transform` del reductor.\n",
        "\n",
        "El resultado, `X_test_trans`, contiene la representación de baja dimensión del conjunto de prueba. Esta representación mantiene las propiedades y relaciones aprendidas del conjunto de entrenamiento en el espacio reducido.\n",
        "\n",
        "Posteriormente, consultamos la forma de `X_test_trans` con `.shape` para verificar las dimensiones de la transformación, lo que nos indica cuántos puntos de datos hay en el conjunto de prueba y en cuántas dimensiones se han reducido.\n"
      ]
    },
    {
      "cell_type": "code",
      "execution_count": null,
      "id": "18e0642f",
      "metadata": {
        "ExecuteTime": {
          "end_time": "2022-11-11T14:18:21.614133Z",
          "start_time": "2022-11-11T14:18:15.759138Z"
        },
        "id": "18e0642f"
      },
      "outputs": [],
      "source": [
        "X_test_trans=reductor_sup.transform(X_test)\n",
        "X_test_trans.shape"
      ]
    },
    {
      "cell_type": "markdown",
      "id": "c759ecbe",
      "metadata": {
        "id": "c759ecbe"
      },
      "source": [
        "## Gráfica de Predicciones\n",
        "Ahora podemos graficar nuestras predicciones."
      ]
    },
    {
      "cell_type": "code",
      "execution_count": null,
      "id": "cf8658a6",
      "metadata": {
        "ExecuteTime": {
          "end_time": "2022-11-11T14:18:25.517289Z",
          "start_time": "2022-11-11T14:18:25.356649Z"
        },
        "id": "cf8658a6"
      },
      "outputs": [],
      "source": [
        "graficar_umap(X_test_trans,y_test)"
      ]
    },
    {
      "cell_type": "markdown",
      "id": "ddeac705",
      "metadata": {
        "id": "ddeac705"
      },
      "source": [
        "## Clustering Usando Modularidad sobre el Grafo de UMAP\n",
        "\n",
        "Para realizar un análisis de cluster en nuestros datos reducidos por UMAP, utilizaremos la métrica de modularidad. La modularidad es una métrica que mide la calidad de una asignación de nodos a clusters en un grafo. Un valor alto de modularidad indica que la red tiene una estructura comunitaria bien definida.\n",
        "\n",
        "UMAP, en su esencia, crea un grafo de vecindad de alta dimensión y luego optimiza una representación de baja dimensión de este grafo. Por lo tanto, podemos utilizar el grafo subyacente generado por UMAP para realizar un análisis de clustering basado en modularidad.\n",
        "\n",
        "Pasos generales para el proceso:\n",
        "\n",
        "1. **Obtener el Grafo de UMAP**: Después de ajustar y transformar los datos con UMAP, podemos acceder al grafo subyacente.\n",
        "2. **Aplicar Modularidad**: Usaremos un algoritmo que optimice la modularidad para identificar clusters en el grafo.\n",
        "3. **Análisis de Clusters**: Una vez obtenidos los clusters, podemos analizar, visualizar y interpretar los grupos de datos.\n",
        "\n",
        "Requisitos:\n",
        "\n",
        "- Tener un conjunto de datos ya transformado por UMAP.\n",
        "- Una implementación o librería que permita calcular la modularidad sobre grafos.\n",
        "- Herramientas de visualización para inspeccionar y entender los clusters resultantes.\n",
        "\n",
        "A continuación, procederemos con estos pasos y aplicaremos un análisis de clustering basado en modularidad sobre nuestro conjunto de datos reducido por UMAP. El primer paso es construir nuestra matriz de adyacencia. La matriz de adyacencia es una representación cuadrada de un grafo donde el elemento en la i-ésima fila y j-ésima columna es una indicación de la presencia (y en muchos casos, el peso) de un enlace entre el nodo i y el nodo j. Inicialmente vamos a crearla vacía.\n"
      ]
    },
    {
      "cell_type": "code",
      "execution_count": null,
      "id": "d91ad258",
      "metadata": {
        "ExecuteTime": {
          "end_time": "2022-11-11T14:28:34.272070Z",
          "start_time": "2022-11-11T14:28:34.256068Z"
        },
        "id": "d91ad258"
      },
      "outputs": [],
      "source": [
        "ma=np.zeros(reductor_sup.graph_.shape)\n",
        "ma.shape"
      ]
    },
    {
      "cell_type": "markdown",
      "id": "5e2d057f",
      "metadata": {
        "id": "5e2d057f"
      },
      "source": [
        "## Llenar la Matriz Adyacente con los Datos de UMAP\n",
        "\n",
        "Pasos del proceso:\n",
        "\n",
        "1. Inicializamos una matriz de ceros `ma` con las mismas dimensiones que el grafo de UMAP.\n",
        "2. Iteramos sobre cada nodo del grafo.\n",
        "3. Para cada nodo, identificamos sus vecinos y los pesos de los enlaces utilizando las estructuras `indptr`, `indices` y `data` del grafo de UMAP.\n",
        "4. Llenamos la matriz de adyacencia `ma` con los pesos correspondientes en las posiciones adecuadas.\n",
        "\n",
        "Al final de este proceso, `ma` será la matriz de adyacencia del grafo, donde `ma[i, j]` representa el peso del enlace entre el nodo i y el nodo j. Si no hay un enlace entre esos nodos, `ma[i, j]` será cero.\n",
        "\n",
        "Esta matriz de adyacencia será fundamental para aplicar algoritmos de clustering basados en modularidad, ya que permite una representación compacta y accesible del grafo.\n"
      ]
    },
    {
      "cell_type": "code",
      "execution_count": null,
      "id": "fde34133",
      "metadata": {
        "ExecuteTime": {
          "end_time": "2022-11-11T14:36:56.276906Z",
          "start_time": "2022-11-11T14:36:56.244879Z"
        },
        "id": "fde34133"
      },
      "outputs": [],
      "source": [
        "contador=0\n",
        "for i in range(ma.shape[0]):\n",
        "    tam=reductor_sup.graph_.indptr[i+1]- \\\n",
        "    reductor_sup.graph_.indptr[i]\n",
        "    ma[i,reductor_sup.graph_.indices[\n",
        "        contador:contador+tam\n",
        "    ]]=reductor_sup.graph_.data[\n",
        "        contador:contador+tam]\n",
        "    contador+=tam"
      ]
    },
    {
      "cell_type": "markdown",
      "id": "29a2d6f5",
      "metadata": {
        "id": "29a2d6f5"
      },
      "source": [
        "## Gráfica de la matriz adyacente\n",
        "Podemos visualizar la matriz adyacente que creamos."
      ]
    },
    {
      "cell_type": "code",
      "execution_count": null,
      "id": "2eba1346",
      "metadata": {
        "ExecuteTime": {
          "end_time": "2022-11-11T14:38:02.483824Z",
          "start_time": "2022-11-11T14:37:56.147575Z"
        },
        "id": "2eba1346"
      },
      "outputs": [],
      "source": [
        "fig=px.imshow(ma)\n",
        "fig.show()"
      ]
    },
    {
      "cell_type": "markdown",
      "id": "ec2204e4",
      "metadata": {
        "id": "ec2204e4"
      },
      "source": [
        "## Algoritmo de Louvain para Detección de Comunidades\n",
        "\n",
        "El algoritmo de Louvain es un método eficiente para detectar comunidades en grandes redes, que optimiza la modularidad a través de un proceso iterativo. Este enfoque no solo es conocido por su rapidez, sino también por su capacidad para manejar grandes conjuntos de datos con una complejidad computacional relativamente baja.\n",
        "\n",
        "### Proceso del Algoritmo de Louvain\n",
        "\n",
        "1. **Inicialización**: Cada nodo en la red comienza como su propia comunidad.\n",
        "\n",
        "2. **Asignación Local**: Iterativamente, cada nodo se reconsidera para su reasignación a una de las comunidades de sus vecinos si dicha reasignación produce un aumento en la modularidad total. Esto se repite hasta que no se pueden hacer más mejoras.\n",
        "\n",
        "3. **Agrupación**: Una vez que se alcanza un óptimo local, cada comunidad se \"agrupa\" en un solo nodo, y el paso anterior se repite para esta nueva red de comunidades.\n",
        "\n",
        "4. **Iteración**: Los pasos 2 y 3 se repiten hasta que la modularidad no aumenta significativamente.\n",
        "\n",
        "### Ventajas\n",
        "\n",
        "- **Eficiencia**: Funciona bien en redes grandes debido a su enfoque iterativo y localizado.\n",
        "- **Flexibilidad**: No requiere un número predefinido de comunidades, lo que lo hace adaptable a varios tipos de estructuras de datos.\n",
        "\n",
        "### Desventajas\n",
        "\n",
        "- **Estocástico**: Puede producir resultados ligeramente diferentes en diferentes ejecuciones debido a la naturaleza aleatoria de las decisiones de asignación de nodos.\n",
        "- **Detección de Comunidades Pequeñas**: Al igual que otros métodos que maximizan la modularidad, puede tener dificultades para identificar comunidades más pequeñas dentro de redes muy grandes.\n",
        "\n",
        "### Instalación de la Biblioteca\n",
        "\n",
        "Para utilizar el algoritmo de Louvain en Python, es necesario instalar la biblioteca `python-louvain`, que se puede hacer fácilmente utilizando pip:\n",
        "\n",
        "```bash\n",
        "pip install python-louvain\n",
        "```"
      ]
    },
    {
      "cell_type": "code",
      "execution_count": null,
      "id": "3b21d38a",
      "metadata": {
        "id": "3b21d38a"
      },
      "outputs": [],
      "source": [
        "import networkx as nx\n",
        "import community as community_louvain\n",
        "\n",
        "G = nx.from_numpy_array(ma)\n",
        "partition = community_louvain.best_partition(G)\n",
        "sorted_values = [partition[k] for k in sorted(partition.keys())]\n",
        "print(sorted_values)"
      ]
    },
    {
      "cell_type": "markdown",
      "id": "400bf154",
      "metadata": {
        "id": "400bf154"
      },
      "source": [
        "## Gráfica de Nuestros Clusters Obtenidos\n",
        "Vamos a visualizar el resultado de nuestro algoritmo de clusterización."
      ]
    },
    {
      "cell_type": "code",
      "execution_count": null,
      "id": "385fdd63",
      "metadata": {
        "ExecuteTime": {
          "end_time": "2022-11-11T14:41:27.069604Z",
          "start_time": "2022-11-11T14:41:26.877237Z"
        },
        "id": "385fdd63"
      },
      "outputs": [],
      "source": [
        "graficar_umap(X_train_res,np.array(sorted_values))"
      ]
    }
  ],
  "metadata": {
    "kernelspec": {
      "display_name": "Python 3 (ipykernel)",
      "language": "python",
      "name": "python3"
    },
    "language_info": {
      "codemirror_mode": {
        "name": "ipython",
        "version": 3
      },
      "file_extension": ".py",
      "mimetype": "text/x-python",
      "name": "python",
      "nbconvert_exporter": "python",
      "pygments_lexer": "ipython3",
      "version": "3.10.13"
    },
    "varInspector": {
      "cols": {
        "lenName": 16,
        "lenType": 16,
        "lenVar": 40
      },
      "kernels_config": {
        "python": {
          "delete_cmd_postfix": "",
          "delete_cmd_prefix": "del ",
          "library": "var_list.py",
          "varRefreshCmd": "print(var_dic_list())"
        },
        "r": {
          "delete_cmd_postfix": ") ",
          "delete_cmd_prefix": "rm(",
          "library": "var_list.r",
          "varRefreshCmd": "cat(var_dic_list()) "
        }
      },
      "types_to_exclude": [
        "module",
        "function",
        "builtin_function_or_method",
        "instance",
        "_Feature"
      ],
      "window_display": false
    },
    "colab": {
      "provenance": []
    }
  },
  "nbformat": 4,
  "nbformat_minor": 5
}