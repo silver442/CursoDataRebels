{
  "cells": [
    {
      "cell_type": "markdown",
      "id": "3b79fbf2",
      "metadata": {
        "id": "3b79fbf2"
      },
      "source": [
        "# Variables Aleatorias\n",
        "\n",
        "Una **variable aleatoria** es una función que asigna un valor numérico a cada posible resultado de un experimento aleatorio. En otras palabras, una variable aleatoria es una cantidad numérica que depende del resultado de un experimento aleatorio.\n",
        "\n",
        "Las variables aleatorias se clasifican en dos tipos: las **variables aleatorias discretas** y las **variables aleatorias continuas**.\n",
        "\n",
        "- **Variable Aleatoria Discreta:** Toma un conjunto finito o numerable de valores posibles. Ejemplos incluyen el número de caras que aparecen en el lanzamiento de dos monedas, donde los posibles valores son 0, 1 o 2.\n",
        "  \n",
        "- **Variable Aleatoria Continua:** Toma valores en un intervalo continuo. Ejemplos incluyen la altura de las personas, donde la variable aleatoria puede tomar cualquier valor dentro de un rango continuo de alturas posibles.\n",
        "\n",
        "En la teoría de la probabilidad, las variables aleatorias se utilizan para modelar experimentos aleatorios y describir cómo se distribuyen los resultados posibles.\n",
        "\n",
        "## Variables Aleatorias Discretas\n",
        "\n",
        "Una **variable aleatoria discreta** es aquella que puede tomar un conjunto finito o numerable de valores posibles. Estos valores suelen ser el resultado de contar eventos específicos. Por ejemplo, el número de llamadas recibidas en una central telefónica en una hora o el número de veces que un dado muestra un número par en 10 lanzamientos.\n",
        "\n",
        "Las variables aleatorias discretas se caracterizan por tener una función de probabilidad que asigna una probabilidad específica a cada valor posible. Esta función de probabilidad se conoce como **función de masa de probabilidad (PMF, por sus siglas en inglés)**.\n",
        "\n",
        "### Ejemplos de Variables Aleatorias Discretas\n",
        "\n",
        "1. **Número de Caras al Lanzar una Moneda:**\n",
        "   - Posibles valores: 0, 1 (para un lanzamiento)\n",
        "   - PMF: La probabilidad de obtener 0 caras es 0.5 y de obtener 1 cara es 0.5.\n",
        "\n",
        "2. **Número de Éxitos en una Serie de Lanzamientos de un Dado:**\n",
        "   - Posibles valores: 0, 1, 2, ..., 6 (para un solo lanzamiento)\n",
        "   - PMF: Cada número tiene una probabilidad de 1/6.\n",
        "\n",
        "En Python, podemos generar variables aleatorias discretas utilizando bibliotecas como `numpy` y `scipy`. A continuación, se muestra un ejemplo de cómo generar y visualizar una variable aleatoria discreta usando `numpy`."
      ]
    },
    {
      "cell_type": "code",
      "execution_count": null,
      "id": "9519918d",
      "metadata": {
        "id": "9519918d"
      },
      "outputs": [],
      "source": [
        "import numpy as np\n",
        "import matplotlib.pyplot as plt\n",
        "\n",
        "# Generación de variables aleatorias discretas\n",
        "# Supongamos que queremos generar valores 1 y 2 con igual probabilidad\n",
        "valores = np.random.choice([1, 2], size=1000, p=[0.5, 0.5])\n",
        "\n",
        "# Visualización de la distribución con un histograma\n",
        "plt.hist(valores, bins=2, edgecolor='black', alpha=0.7)\n",
        "plt.title(\"Distribución de una Variable Aleatoria Discreta\")\n",
        "plt.xlabel(\"Valor\")\n",
        "plt.ylabel(\"Frecuencia\")\n",
        "plt.xticks([1, 2])\n",
        "plt.grid(True)\n",
        "plt.show()"
      ]
    },
    {
      "cell_type": "markdown",
      "id": "c1cb8e26",
      "metadata": {
        "id": "c1cb8e26"
      },
      "source": [
        "## Variables Aleatorias Continuas\n",
        "\n",
        "Una **variable aleatoria continua** es aquella que puede tomar cualquier valor dentro de un intervalo continuo. A diferencia de las variables aleatorias discretas, que tienen un conjunto finito o numerable de posibles valores, las variables aleatorias continuas pueden tomar infinitos valores posibles dentro de un rango específico.\n",
        "\n",
        "Las variables aleatorias continuas se describen mediante una **función de densidad de probabilidad (PDF, por sus siglas en inglés)**, que indica la probabilidad de que la variable aleatoria tome un valor dentro de un intervalo determinado.\n",
        "\n",
        "### Ejemplos de Variables Aleatorias Continuas\n",
        "\n",
        "1. **Altura de las Personas:**\n",
        "   - La altura de una persona puede tomar cualquier valor dentro de un rango continuo, por ejemplo, de 0 a 2.5 metros.\n",
        "   - La PDF correspondiente describe la probabilidad de que una persona tenga una altura dentro de un intervalo específico.\n",
        "\n",
        "2. **Tiempo de Espera en una Fila:**\n",
        "   - El tiempo de espera puede ser cualquier valor positivo, y no se limita a valores discretos.\n",
        "   - La PDF correspondiente describe la probabilidad de que el tiempo de espera caiga dentro de un intervalo específico.\n",
        "\n",
        "Para ilustrar esto con un ejemplo práctico en Python, generaremos datos aleatorios continuos usando `numpy`."
      ]
    },
    {
      "cell_type": "code",
      "execution_count": null,
      "id": "a45756db",
      "metadata": {
        "id": "a45756db"
      },
      "outputs": [],
      "source": [
        "import numpy as np\n",
        "import matplotlib.pyplot as plt\n",
        "\n",
        "# Generación de datos de altura de personas\n",
        "# Supongamos que la altura promedio es de 1.75 metros con una variabilidad alrededor de este valor\n",
        "media_altura = 1.75\n",
        "variabilidad = 0.1\n",
        "\n",
        "# Generamos 1000 alturas de personas como suma de múltiples variables uniformes\n",
        "# Esto nos dará una distribución más centrada sin usar scipy\n",
        "num_samples = 1000\n",
        "num_uniforms = 10\n",
        "\n",
        "# Suma de variables aleatorias uniformes para aproximar una distribución centrada\n",
        "valores_altura = media_altura + (np.sum(np.random.rand(num_samples, num_uniforms), axis=1) - num_uniforms / 2) * variabilidad / np.sqrt(num_uniforms / 12)\n",
        "\n",
        "# Visualización de la distribución con un histograma\n",
        "plt.hist(valores_altura, bins=30, density=True, alpha=0.7, edgecolor='black')\n",
        "plt.title(\"Distribución de Alturas de Personas\")\n",
        "plt.xlabel(\"Altura (metros)\")\n",
        "plt.ylabel(\"Densidad de Probabilidad\")\n",
        "plt.grid(True)\n",
        "plt.show()"
      ]
    },
    {
      "cell_type": "markdown",
      "id": "ccb21a6a",
      "metadata": {
        "id": "ccb21a6a"
      },
      "source": [
        "## Distribuciones de Probabilidad\n",
        "\n",
        "En estadística, una **distribución de probabilidad** es una función matemática que describe la probabilidad de ocurrencia de diferentes resultados posibles en un experimento aleatorio. Las distribuciones de probabilidad son fundamentales para el análisis de datos y el modelado de fenómenos en diversos campos, como la física, la ingeniería, la economía, la biología, entre otros.\n",
        "\n",
        "Las distribuciones de probabilidad se utilizan para describir la probabilidad asociada con cada posible valor de una variable aleatoria.\n",
        "Estas distribuciones se pueden clasificar en dos tipos principales: las **distribuciones de probabilidad discretas** y las **distribuciones de probabilidad continuas**."
      ]
    },
    {
      "cell_type": "markdown",
      "id": "4f42b0e4",
      "metadata": {
        "id": "4f42b0e4"
      },
      "source": [
        "## Distribuciones Discretas\n",
        "Las distribuciones de probabilidad discretas se utilizan para modelar variables aleatorias discretas, es decir, variables que toman un conjunto finito o numerable de valores. Las distribuciones discretas de probabilidad se describen mediante la función de probabilidad de masa (PMF), que asigna una probabilidad a cada valor posible de la variable aleatoria.\n",
        "\n",
        "## Función de Probabilidad de Masa\n",
        "La función de probabilidad de masa (PMF) de una variable aleatoria discreta $X$ se define como:\n",
        "\n",
        "$$P(X = x_i) = p_i$$\n",
        "\n",
        "donde $x_i$ es el valor posible de la variable aleatoria $X$, y $p_i$ es la probabilidad de que $X$ tome el valor $x_i$.\n",
        "\n",
        "Las propiedades de la PMF son:\n",
        "\n",
        "$0 \\leq p_i \\leq 1$ para todo $i$\n",
        "</br></br>\n",
        "$\\sum_{i} p_i = 1$"
      ]
    },
    {
      "cell_type": "markdown",
      "id": "ef5cefe6",
      "metadata": {
        "id": "ef5cefe6"
      },
      "source": [
        "## Función de Distribución Acumulada\n",
        "La función de distribución acumulada (CDF, por sus siglas en inglés) es una función que nos permite describir la probabilidad acumulada de que una variable aleatoria $X$ tome un valor menor o igual a un valor dado $x$. La CDF se define como:\n",
        "\n",
        "$$F(x) = P(X \\leq x)$$\n",
        "\n",
        "donde $X$ es una variable aleatoria y $x$ es un número real. La CDF de una variable aleatoria nos permite responder preguntas del tipo \"¿Cuál es la probabilidad de que $X$ sea menor o igual a un valor dado $x$?\".\n",
        "\n",
        "A continuación se presentan algunas de las distribuciones discretas de probabilidad más comunes:"
      ]
    },
    {
      "cell_type": "markdown",
      "id": "b9e36174",
      "metadata": {
        "id": "b9e36174"
      },
      "source": [
        "## Distribución de Bernoulli\n",
        "La distribución de Bernoulli es una distribución de probabilidad discreta que se utiliza para modelar una variable aleatoria $X$ que toma dos valores posibles, generalmente etiquetados como \"éxito\" y \"fracaso\". Esta distribución se caracteriza por un parámetro $p$, que representa la probabilidad de \"éxito\".\n",
        "\n",
        "Un ejemplo común de la distribución de Bernoulli es el lanzamiento de una moneda, donde el resultado puede ser \"cara\" o \"cruz\" con probabilidades iguales de 0.5 para cada uno. En este caso, si definimos \"éxito\" como obtener \"cara\", la variable aleatoria $X$ que representa el resultado de lanzar la moneda sigue una distribución de Bernoulli con $p=0.5$.\n",
        "\n",
        "La función `np.random.random()` de `NumPy` genera un número aleatorio en el rango $[0, 1)$, es decir, un número aleatorio entre $0$ (incluido) y $1$ (excluido). Es importante destacar que la función devuelve un número aleatorio generado de manera uniforme, lo que significa que la probabilidad de obtener cualquier número en el rango $[0, 1)$ es la misma.\n",
        "\n",
        "Podemos utilizar esta función para generar una distribución de Bernoulli con una probabilidad de éxito determinada `p`. En el siguiente ejemplo, generamos un número aleatorio en el rango $[0, 1)$ utilizando la función `np.random.random()`, y luego comparamos este número con `p` para determinar si la prueba fue un éxito o un fracaso. Si el número aleatorio es menor que `p`, la prueba se considera un éxito y se asigna un valor de `1` a la lista. De lo contrario, la prueba se considera un fracaso y se asigna un valor de `0` a la lista."
      ]
    },
    {
      "cell_type": "code",
      "execution_count": null,
      "id": "d374d70b",
      "metadata": {
        "ExecuteTime": {
          "end_time": "2023-03-08T15:10:04.653207Z",
          "start_time": "2023-03-08T15:10:04.646657Z"
        },
        "id": "d374d70b"
      },
      "outputs": [],
      "source": [
        "import numpy as np\n",
        "# Generamos una distribución de Bernoulli con p=0.3\n",
        "p = 0.3\n",
        "\n",
        "# Generamos una lista de 10 valores aleatorios de una distribución de Bernoulli con p=0.3\n",
        "dist_bernoulli = [1 if np.random.random() < p else 0 for _ in range(100)]\n",
        "\n",
        "print(dist_bernoulli)"
      ]
    },
    {
      "cell_type": "code",
      "execution_count": null,
      "id": "b8353de6",
      "metadata": {
        "ExecuteTime": {
          "end_time": "2023-03-08T15:12:30.012440Z",
          "start_time": "2023-03-08T15:12:29.988291Z"
        },
        "id": "b8353de6"
      },
      "outputs": [],
      "source": [
        "# Definimos la lista de valores\n",
        "valores = dist_bernoulli\n",
        "\n",
        "# Calculamos el histograma de los valores\n",
        "conteos, bordes = np.histogram(valores, bins=[-0.5, 0.5, 1.5])\n",
        "\n",
        "# Calculamos la proporción de cada valor\n",
        "prop_0 = conteos[0] / len(valores)\n",
        "prop_1 = conteos[1] / len(valores)\n",
        "\n",
        "# Imprimimos las proporciones\n",
        "print(\"Proporción de 0's: \", prop_0)\n",
        "print(\"Proporción de 1's: \", prop_1)"
      ]
    },
    {
      "cell_type": "code",
      "execution_count": null,
      "id": "f7d4cf9b",
      "metadata": {
        "id": "f7d4cf9b"
      },
      "outputs": [],
      "source": [
        "# Valores posibles de la variable aleatoria X\n",
        "x = np.arange(len(conteos))\n",
        "\n",
        "# Graficamos la PMF con matplotlib\n",
        "plt.bar(x, conteos / len(valores), alpha=0.7, edgecolor='black')\n",
        "plt.title(\"Función de masa de probabilidad de una distribución de Bernoulli\")\n",
        "plt.xlabel(\"Valores de X\")\n",
        "plt.ylabel(\"P(X = x)\")\n",
        "plt.xticks(x)\n",
        "plt.grid(True)\n",
        "plt.show()"
      ]
    },
    {
      "cell_type": "markdown",
      "id": "29766cb2",
      "metadata": {
        "id": "29766cb2"
      },
      "source": [
        "## Distribución Binomial\n",
        "\n",
        "La distribución binomial es un modelo de probabilidad discreta que describe el número de éxitos $X$ en una serie de $n$ ensayos independientes e idénticamente distribuidos con una probabilidad de éxito $p$ constante en cada ensayo. La distribución binomial se denota por $B(n, p)$.\n",
        "\n",
        "La función de probabilidad de masa ($PMF$) de la distribución binomial está dada por la siguiente fórmula:\n",
        "\n",
        "$$P(X = k) = \\binom{n}{k} p^k (1-p)^{n-k}$$\n",
        "\n",
        "donde $\\binom{n}{k}$ es el coeficiente binomial, que representa el número de formas en que se pueden elegir $k$ éxitos en $n$ ensayos.\n",
        "\n",
        "La función de distribución acumulada ($CDF$) de la distribución binomial está dada por la siguiente fórmula:\n",
        "\n",
        "$$F(X \\leq k) = \\sum_{i=0}^k \\binom{n}{i} p^i (1-p)^{n-i}$$\n",
        "\n",
        "donde $k$ es un valor entero no negativo.\n",
        "\n",
        "La media y la varianza de una distribución binomial $B(n, p)$ están dadas por:\n",
        "\n",
        "$$\\mu = np$$\n",
        "\n",
        "$$\\sigma^2 = np(1-p)$$\n",
        "\n",
        "La distribución binomial es una generalización de la distribución de Bernoulli, que describe el resultado de un solo ensayo con una probabilidad de éxito $p$. De hecho, la distribución binomial se reduce a la distribución de Bernoulli cuando $n = 1$.\n",
        "\n",
        "Supongamos que se sabe que el 80% de los estudiantes de una universidad pasan el examen de matemáticas. Si se toma una muestra aleatoria de 10 estudiantes de esta universidad, ¿cuál es la probabilidad de que exactamente 7 pasen el examen?\n",
        "\n",
        "Este problema se puede modelar como una distribución binomial con n = 10 ensayos, una probabilidad de éxito p = 0.8 y se busca la probabilidad de que X = 7 éxitos. La fórmula para la PMF de la distribución binomial es:\n",
        "\n",
        "$$\n",
        "P(X = 7) = \\binom{10}{7} (0.8)^7 (1-0.8)^{10-7}\n",
        "$$\n",
        "\n",
        "### Paso 1: Calcular el Coeficiente Binomial\n",
        "\n",
        "El coeficiente binomial $ \\binom{10}{7} $ se calcula usando la fórmula:\n",
        "\n",
        "$$\n",
        "\\binom{n}{k} = \\frac{n!}{k!(n-k)!}\n",
        "$$\n",
        "\n",
        "Para $ n = 10 $ y $ k = 7 $:\n",
        "\n",
        "$$\n",
        "\\binom{10}{7} = \\frac{10!}{7!(10-7)!} = \\frac{10!}{7! \\cdot 3!}\n",
        "$$\n",
        "\n",
        "### Paso 2: Calcular las Potencias\n",
        "\n",
        "Calcular $ (0.8)^7 $:\n",
        "\n",
        "$$\n",
        "(0.8)^7 = 0.2097152\n",
        "$$\n",
        "\n",
        "Calcular $ (1-0.8)^{10-7} $:\n",
        "\n",
        "$$\n",
        "(0.2)^3 = 0.008\n",
        "$$\n",
        "\n",
        "### Paso 3: Multiplicar los Términos\n",
        "\n",
        "Multiplicar el coeficiente binomial por las potencias calculadas:\n",
        "\n",
        "$$\n",
        "P(X = 7) = \\binom{10}{7} \\cdot (0.8)^7 \\cdot (0.2)^3\n",
        "$$\n",
        "\n",
        "Calculamos el coeficiente binomial $ \\binom{10}{7} $:\n",
        "\n",
        "$$\n",
        "\\binom{10}{7} = \\frac{10!}{7! \\cdot 3!} = \\frac{10 \\times 9 \\times 8}{3 \\times 2 \\times 1} = 120\n",
        "$$\n",
        "\n",
        "Entonces:\n",
        "\n",
        "$$\n",
        "P(X = 7) = 120 \\cdot 0.2097152 \\cdot 0.008 = 0.201326592\n",
        "$$\n",
        "\n",
        "### Resultado Final\n",
        "\n",
        "La probabilidad de obtener exactamente 7 éxitos en 10 ensayos con una probabilidad de éxito de 0.8 es:\n",
        "\n",
        "$$\n",
        "P(X = 7) = 0.2013 \\quad (\\text{aproximadamente})\n",
        "$$\n",
        "\n",
        "Podemos calcular esta probabilidad en Python usando la función `scipy.stats.binom.pmf` de la siguiente manera:"
      ]
    },
    {
      "cell_type": "code",
      "execution_count": null,
      "id": "491d6533",
      "metadata": {
        "ExecuteTime": {
          "end_time": "2023-03-08T15:36:37.261640Z",
          "start_time": "2023-03-08T15:36:36.597844Z"
        },
        "id": "491d6533"
      },
      "outputs": [],
      "source": [
        "from scipy.stats import binom\n",
        "\n",
        "n = 10\n",
        "p = 0.8\n",
        "k = 7\n",
        "\n",
        "prob = binom.pmf(k, n, p)\n",
        "print(\"La probabilidad de que exactamente 7 pasen el examen es:\", prob)"
      ]
    },
    {
      "cell_type": "markdown",
      "id": "90a451f2",
      "metadata": {
        "id": "90a451f2"
      },
      "source": [
        "Por lo tanto, la probabilidad de que exactamente 7 estudiantes pasen el examen de matemáticas es del 20.13%."
      ]
    },
    {
      "cell_type": "markdown",
      "id": "b5a2df0d",
      "metadata": {
        "id": "b5a2df0d"
      },
      "source": [
        "También, podemos utilizar la función `np.random.binomial` para simular esta distribución binomial y calcular la probabilidad. Para ello, podemos hacer lo siguiente:"
      ]
    },
    {
      "cell_type": "code",
      "execution_count": null,
      "id": "542cb25a",
      "metadata": {
        "ExecuteTime": {
          "end_time": "2023-03-08T15:43:03.401709Z",
          "start_time": "2023-03-08T15:43:03.356545Z"
        },
        "id": "542cb25a"
      },
      "outputs": [],
      "source": [
        "# Definimos los parámetros de la distribución binomial\n",
        "n = 10\n",
        "p = 0.8\n",
        "\n",
        "# Simulamos la distribución binomial 10000 veces\n",
        "simulaciones = np.random.binomial(n, p, size=10000)\n",
        "\n",
        "# Calculamos la probabilidad de que exactamente 7 estudiantes pasen el examen\n",
        "probabilidad = sum(simulaciones == 7) / len(simulaciones)\n",
        "\n",
        "print(\"La probabilidad de que exactamente 7 estudiantes pasen el examen es:\", probabilidad)"
      ]
    },
    {
      "cell_type": "code",
      "execution_count": null,
      "id": "f76d23bc",
      "metadata": {
        "ExecuteTime": {
          "end_time": "2023-03-08T15:43:49.487070Z",
          "start_time": "2023-03-08T15:43:49.455006Z"
        },
        "id": "f76d23bc"
      },
      "outputs": [],
      "source": [
        "# Parámetros de la distribución binomial\n",
        "p = 0.8\n",
        "n = 10\n",
        "\n",
        "# Generamos una lista de valores para el eje x (número de estudiantes que pasaron el examen)\n",
        "x = np.arange(n + 1)\n",
        "\n",
        "# Generamos una lista de valores para el eje y (probabilidad de que un número dado de estudiantes pasen el examen)\n",
        "pmf = binom.pmf(x, n, p)\n",
        "\n",
        "# Creamos la figura y la barra\n",
        "plt.bar(x, pmf, alpha=0.7, edgecolor='black')\n",
        "\n",
        "# Configuramos el diseño de la figura\n",
        "plt.title(\"Función de masa de probabilidad de la distribución binomial\")\n",
        "plt.xlabel(\"Número de estudiantes que pasaron el examen\")\n",
        "plt.ylabel(\"Probabilidad\")\n",
        "plt.grid(True)\n",
        "\n",
        "# Mostramos la figura\n",
        "plt.show()"
      ]
    },
    {
      "cell_type": "markdown",
      "id": "4680cc4d",
      "metadata": {
        "id": "4680cc4d"
      },
      "source": [
        "También podemos utilizar la función `scipy.stats.binom.cdf` para calcular la probabilidad acumulada de que $X <= k$:"
      ]
    },
    {
      "cell_type": "code",
      "execution_count": null,
      "id": "6dc9291e",
      "metadata": {
        "ExecuteTime": {
          "end_time": "2023-03-08T15:38:54.001687Z",
          "start_time": "2023-03-08T15:38:53.985396Z"
        },
        "id": "6dc9291e"
      },
      "outputs": [],
      "source": [
        "n = 10\n",
        "p = 0.8\n",
        "k = 7\n",
        "\n",
        "prob_acumulada = binom.cdf(k, n, p)\n",
        "print(\"La probabilidad acumulada de que como máximo 7 pasen el examen es:\", prob_acumulada)"
      ]
    },
    {
      "cell_type": "code",
      "execution_count": null,
      "id": "4081a6ea",
      "metadata": {
        "ExecuteTime": {
          "end_time": "2023-03-08T15:50:41.507288Z",
          "start_time": "2023-03-08T15:50:41.463347Z"
        },
        "id": "4081a6ea"
      },
      "outputs": [],
      "source": [
        "# Parámetros de la distribución binomial\n",
        "p = 0.8\n",
        "n = 10\n",
        "\n",
        "# Valores de la variable aleatoria\n",
        "k = np.arange(n + 1)\n",
        "\n",
        "# Probabilidades de la CDF\n",
        "prob_cdf = binom.cdf(k, n, p)\n",
        "\n",
        "# Creamos la figura y la línea de la CDF\n",
        "plt.plot(k, prob_cdf, marker='o', linestyle='-', color='b')\n",
        "\n",
        "# Configuramos el título y los ejes\n",
        "plt.title('Función de distribución acumulada de una distribución binomial')\n",
        "plt.xlabel('Valores de k')\n",
        "plt.ylabel('Probabilidad acumulada')\n",
        "plt.grid(True)\n",
        "\n",
        "# Mostramos la figura\n",
        "plt.show()"
      ]
    },
    {
      "cell_type": "markdown",
      "id": "89886700",
      "metadata": {
        "id": "89886700"
      },
      "source": [
        "## Distribución de Poisson\n",
        "\n",
        "La distribución de Poisson es una distribución de probabilidad discreta que se utiliza para modelar la ocurrencia de eventos raros en un intervalo de tiempo o espacio. Esta distribución se aplica comúnmente en áreas como la física, la ingeniería, la biología, la economía, entre otras.\n",
        "\n",
        "La distribución de Poisson se define por un solo parámetro, lambda ($λ$), que representa el número esperado de eventos que ocurren en un intervalo de tiempo o espacio. La función de probabilidad de masa ($PMF$) de la distribución de Poisson se define como:\n",
        "\n",
        "$$P(X = k) = \\frac{e^{-\\lambda} \\lambda^k}{k!}$$\n",
        "\n",
        "donde $k$ es el número de eventos que ocurren en el intervalo de tiempo o espacio, $e$ es la constante matemática $e$ (aproximadamente 2.71828), $λ$ es el número esperado de eventos en el intervalo, y $k!$ es el factorial de $k$.\n",
        "\n",
        "La distribución de Poisson también tiene una función de distribución acumulada (CDF), que se define como:\n",
        "\n",
        "$$F(k) = P(X \\leq k) = \\sum_{i=0}^k \\frac{e^{-\\lambda} \\lambda^i}{i!}$$\n",
        "\n",
        "donde $k$ es el número de eventos que ocurren en el intervalo de tiempo o espacio.\n",
        "\n",
        "### Aplicaciones Comunes\n",
        "La distribución de Poisson se utiliza comúnmente para modelar eventos raros o infrecuentes, como el número de accidentes de tráfico en una ciudad en un día determinado, el número de errores de software en un programa, el número de llamadas de servicio al cliente en una hora, entre otros.\n",
        "\n",
        "### Ejemplo de Cálculo\n",
        "Un ejemplo clásico de la distribución de Poisson es el número de llegadas de clientes a una tienda en un día determinado, suponiendo que la tasa promedio de llegadas es conocida. Supongamos que la tasa promedio de llegadas a una tienda es de 4 clientes por hora. Queremos saber cuál es la probabilidad de que lleguen 6 clientes en una hora determinada.\n",
        "\n",
        "Para resolver este problema, podemos utilizar la distribución de Poisson con un parámetro $\\lambda$ de 4, ya que estamos interesados en el número de llegadas en una hora (un subintervalo de tiempo de una hora). La fórmula para la PMF de la distribución de Poisson es:\n",
        "\n",
        "$$ P(X=k) = \\frac{e^{-\\lambda} \\lambda^k}{k!} $$\n",
        "\n",
        "donde $X$ es el número de llegadas, $λ$ es la tasa promedio de llegadas y $k$ es el número de llegadas que estamos interesados en evaluar.\n",
        "\n",
        "Para este ejemplo, queremos calcular la probabilidad de que lleguen exactamente 6 clientes, por lo que $k = 6$ y $λ = 4$. Entonces, la probabilidad de que lleguen exactamente 6 clientes en una hora es:\n",
        "\n",
        "$$ P(X=6) = \\frac{e^{-4} 4^6}{6!} \\approx 0.1042 $$\n",
        "\n",
        "Para obtener esta probabilidad en Python, podemos utilizar la función `poisson.pmf(k, mu)` del módulo `scipy.stats`. El parámetro `k` es el número de llegadas que estamos interesados en evaluar y `mu` es la tasa promedio de llegadas:"
      ]
    },
    {
      "cell_type": "code",
      "execution_count": null,
      "id": "e026a137",
      "metadata": {
        "id": "e026a137"
      },
      "outputs": [],
      "source": [
        "from scipy.stats import poisson\n",
        "\n",
        "k = 6\n",
        "mu = 4\n",
        "\n",
        "prob = poisson.pmf(k, mu)\n",
        "print(\"La probabilidad de que lleguen exactamente 6 clientes en una hora es:\", prob)"
      ]
    },
    {
      "cell_type": "markdown",
      "id": "d50fafaa",
      "metadata": {
        "id": "d50fafaa"
      },
      "source": [
        "### Visualización de la Distribución de Poisson\n",
        "Para entender mejor cómo funcionan la PMF, es útil visualizar la distribución."
      ]
    },
    {
      "cell_type": "code",
      "execution_count": null,
      "id": "394fa55a",
      "metadata": {
        "ExecuteTime": {
          "end_time": "2023-03-08T16:25:17.171993Z",
          "start_time": "2023-03-08T16:25:17.145273Z"
        },
        "id": "394fa55a"
      },
      "outputs": [],
      "source": [
        "# Parámetro de la distribución de Poisson\n",
        "lambda_poisson = 4\n",
        "\n",
        "# Valores posibles de la variable aleatoria\n",
        "k_values = np.arange(0, 15)\n",
        "\n",
        "# Calculamos la PMF para cada valor de k\n",
        "pmf_values = poisson.pmf(k_values, lambda_poisson)\n",
        "\n",
        "# Graficamos la PMF\n",
        "plt.bar(k_values, pmf_values, alpha=0.7, edgecolor='black')\n",
        "plt.title('Función de Masa de Probabilidad de la Distribución de Poisson')\n",
        "plt.xlabel('Número de eventos (k)')\n",
        "plt.ylabel('Probabilidad')\n",
        "plt.grid(True)\n",
        "plt.show()"
      ]
    },
    {
      "cell_type": "markdown",
      "id": "18e124ac",
      "metadata": {
        "id": "18e124ac"
      },
      "source": [
        "## Cálculo de Probabilidades Acumuladas con la Distribución de Poisson\n",
        "\n",
        "La **distribución de Poisson** no solo se utiliza para calcular la probabilidad de que ocurra un número exacto de eventos, sino también para calcular la probabilidad acumulada de que ocurra hasta cierto número de eventos en un intervalo de tiempo o espacio. Esta probabilidad acumulada se obtiene utilizando la **función de distribución acumulada (CDF)**.\n",
        "\n",
        "La CDF de la distribución de Poisson se define como:\n",
        "\n",
        "$$\n",
        "F(k) = P(X \\leq k) = \\sum_{i=0}^k \\frac{e^{-\\lambda} \\lambda^i}{i!}\n",
        "$$\n",
        "\n",
        "donde $k$ es el número de eventos que ocurren en el intervalo de tiempo o espacio.\n",
        "\n",
        "### Ejemplo: Probabilidad Acumulada del Número de Clientes\n",
        "\n",
        "Supongamos que la tasa promedio de llegadas de clientes a una tienda es de 4 clientes por hora. Queremos saber cuál es la probabilidad de que lleguen hasta 6 clientes en una hora determinada. Este problema se puede modelar usando la distribución de Poisson acumulada.\n",
        "\n",
        "Para resolver este problema, usamos el parámetro $\\lambda = 4$, y calculamos la probabilidad acumulada hasta $k = 6$.\n",
        "\n",
        "Podemos calcular esta probabilidad en Python usando la función `poisson.cdf` del módulo `scipy.stats`."
      ]
    },
    {
      "cell_type": "code",
      "execution_count": null,
      "id": "62c15b06",
      "metadata": {
        "id": "62c15b06"
      },
      "outputs": [],
      "source": [
        "# Parámetro de la distribución de Poisson\n",
        "lambda_poisson = 4\n",
        "\n",
        "# Valor de interés\n",
        "k = 6\n",
        "\n",
        "# Calculamos la CDF para el valor k\n",
        "prob_acumulada = poisson.cdf(k, lambda_poisson)\n",
        "print(\"La probabilidad de que lleguen hasta 6 clientes en una hora es:\", prob_acumulada)\n",
        "\n",
        "# Valores posibles de la variable aleatoria\n",
        "k_values = np.arange(0, 15)\n",
        "\n",
        "# Calculamos la CDF para cada valor de k\n",
        "cdf_values = poisson.cdf(k_values, lambda_poisson)\n",
        "\n",
        "# Graficamos la CDF\n",
        "plt.plot(k_values, cdf_values, marker='o', linestyle='-', color='b')\n",
        "plt.title('Función de Distribución Acumulada de la Distribución de Poisson')\n",
        "plt.xlabel('Número de eventos (k)')\n",
        "plt.ylabel('Probabilidad acumulada')\n",
        "plt.grid(True)\n",
        "plt.show()"
      ]
    },
    {
      "cell_type": "markdown",
      "id": "dea5c2b2",
      "metadata": {
        "id": "dea5c2b2"
      },
      "source": [
        "## Distribuciones Continuas\n",
        "\n",
        "En estadística, una distribución continua es aquella en la que la variable aleatoria puede tomar cualquier valor en un rango continuo. Estas distribuciones se caracterizan por su función de densidad de probabilidad (PDF por sus siglas en inglés), que describe la probabilidad de que la variable aleatoria caiga dentro de un determinado intervalo.\n",
        "\n",
        "En la mayoría de los casos, la PDF se puede expresar de forma analítica utilizando una fórmula matemática, pero en algunos casos, la PDF solo se puede calcular numéricamente o mediante simulaciones.\n",
        "\n",
        "Las distribuciones continuas más comunes incluyen la distribución normal, la distribución uniforme, la distribución exponencial y la distribución gamma, entre otras. Cada una de estas distribuciones tiene una función de densidad de probabilidad específica, que se puede expresar en términos de una fórmula matemática."
      ]
    },
    {
      "cell_type": "markdown",
      "id": "2e81330f",
      "metadata": {
        "id": "2e81330f"
      },
      "source": [
        "## Distribución Uniforme\n",
        "\n",
        "La distribución uniforme es una distribución continua en la que todos los valores dentro de un rango tienen la misma probabilidad de ocurrir. Se utiliza comúnmente en simulaciones y experimentos aleatorios.\n",
        "\n",
        "### Función de Densidad de Probabilidad (PDF)\n",
        "\n",
        "La función de densidad de probabilidad (PDF) de la distribución uniforme está dada por:\n",
        "\n",
        "$f(x) = \\begin{cases} \\frac{1}{b-a} & \\text{si } a \\leq x \\leq b \\\\ 0 & \\text{en otro caso} \\end{cases}$\n",
        "\n",
        "donde $a$ y $b$ son los límites inferior y superior de la distribución, respectivamente.\n",
        "\n",
        "La PDF de la distribución uniforme es una función constante dentro del rango de valores permitidos y cero fuera de ese rango."
      ]
    },
    {
      "cell_type": "code",
      "execution_count": null,
      "id": "b5be2508",
      "metadata": {
        "ExecuteTime": {
          "end_time": "2023-03-08T16:31:51.088328Z",
          "start_time": "2023-03-08T16:31:51.059569Z"
        },
        "id": "b5be2508"
      },
      "outputs": [],
      "source": [
        "import numpy as np\n",
        "import matplotlib.pyplot as plt\n",
        "from scipy.stats import uniform\n",
        "\n",
        "# Parámetros de la distribución uniforme\n",
        "a = 0  # Límite inferior\n",
        "b = 10  # Límite superior\n",
        "\n",
        "# Valores de x para graficar\n",
        "x = np.linspace(-0.5, 11.5, 1000)\n",
        "\n",
        "# Función de densidad de probabilidad (PDF) de la distribución uniforme\n",
        "pdf = uniform.pdf(x, loc=a, scale=b-a)\n",
        "\n",
        "# Crear la figura con matplotlib\n",
        "plt.plot(x, pdf, linestyle='-', color='b')\n",
        "\n",
        "# Configurar el título y los ejes\n",
        "plt.title(\"Distribución uniforme\")\n",
        "plt.xlabel(\"Valores\")\n",
        "plt.ylabel(\"Probabilidad\")\n",
        "plt.grid(True)\n",
        "\n",
        "# Mostrar la figura\n",
        "plt.show()"
      ]
    },
    {
      "cell_type": "markdown",
      "id": "d231ca80",
      "metadata": {
        "id": "d231ca80"
      },
      "source": [
        "### Cálculo de Probabilidades en Distribuciones Continuas\n",
        "\n",
        "Para calcular la probabilidad de que la variable aleatoria continua caiga dentro de un intervalo específico, multiplicamos la densidad de probabilidad por el ancho del intervalo.\n",
        "\n",
        "#### Ejemplo de Cálculo\n",
        "\n",
        "En el caso de una distribución uniforme con límites $a = 0$ y $b = 10$, la densidad de probabilidad es:\n",
        "\n",
        "$$\n",
        "f(x) = \\frac{1}{b-a} = \\frac{1}{10-0} = 0.1\n",
        "$$\n",
        "\n",
        "Si queremos calcular la probabilidad de que la variable aleatoria $X$ caiga dentro del intervalo [3, 5], realizamos el siguiente cálculo:\n",
        "\n",
        "$$\n",
        "P(3 \\leq X \\leq 5) = \\int_3^5 0.1 \\, dx = 0.1 \\times (5 - 3) = 0.2\n",
        "$$\n",
        "\n",
        "Esto significa que la probabilidad de que $X$ esté entre 3 y 45 es 0.2.\n",
        "\n",
        "### Interpretación\n",
        "\n",
        "La densidad de probabilidad constante de 0.1 significa que la probabilidad de que la variable aleatoria caiga dentro de cualquier intervalo de longitud 1 dentro del rango [0, 10] es 0.1.\n",
        "\n",
        "Este concepto es crucial para entender cómo funcionan las distribuciones continuas y cómo se diferencian de las distribuciones discretas, donde cada valor específico tiene una probabilidad distinta de cero."
      ]
    },
    {
      "cell_type": "markdown",
      "id": "98105530",
      "metadata": {
        "ExecuteTime": {
          "end_time": "2023-03-08T06:46:13.974370Z",
          "start_time": "2023-03-08T06:46:13.965207Z"
        },
        "id": "98105530"
      },
      "source": [
        "## Función de distribución acumulativa (CDF)\n",
        "\n",
        "La función de distribución acumulativa (CDF) de la distribución uniforme está dada por:\n",
        "\n",
        "$F(x) = \\begin{cases} 0 & \\text{si } x < a \\\\ \\frac{x-a}{b-a} & \\text{si } a \\leq x \\leq b \\\\ 1 & \\text{si } x > b \\end{cases}$\n",
        "\n",
        "La CDF de la distribución uniforme es una función lineal que aumenta uniformemente desde cero en $x=a$ hasta uno en $x=b$."
      ]
    },
    {
      "cell_type": "code",
      "execution_count": null,
      "id": "a25481fa",
      "metadata": {
        "ExecuteTime": {
          "end_time": "2023-03-08T16:33:04.230159Z",
          "start_time": "2023-03-08T16:33:04.214980Z"
        },
        "id": "a25481fa"
      },
      "outputs": [],
      "source": [
        "# Parámetros de la distribución uniforme\n",
        "a = 0  # Límite inferior\n",
        "b = 10  # Límite superior\n",
        "\n",
        "# Valores de x para graficar\n",
        "x = np.linspace(-0.5, 11.5, 1000)\n",
        "\n",
        "# Función de distribución acumulativa (CDF) de la distribución uniforme\n",
        "cdf = uniform.cdf(x, loc=a, scale=b-a)\n",
        "\n",
        "# Crear la figura con matplotlib\n",
        "plt.plot(x, cdf, linestyle='-', color='b')\n",
        "\n",
        "# Configurar el título y los ejes\n",
        "plt.title(\"Función de distribución acumulativa (CDF) de la distribución uniforme\")\n",
        "plt.xlabel(\"Valores\")\n",
        "plt.ylabel(\"Probabilidad acumulada\")\n",
        "plt.grid(True)\n",
        "\n",
        "# Mostrar la figura\n",
        "plt.show()"
      ]
    },
    {
      "cell_type": "markdown",
      "id": "6d6c497f",
      "metadata": {
        "id": "6d6c497f"
      },
      "source": [
        "## Generación de números aleatorios\n",
        "\n",
        "La distribución uniforme es fácil de generar mediante un generador de números aleatorios uniformemente distribuidos entre 0 y 1. Si se quiere generar números aleatorios uniformemente distribuidos entre $a$ y $b$, se puede utilizar la siguiente fórmula:\n",
        "\n",
        "$X = a + (b - a)U$\n",
        "\n",
        "donde $U$ es un número aleatorio uniformemente distribuido entre 0 y 1."
      ]
    },
    {
      "cell_type": "code",
      "execution_count": null,
      "id": "d6da9a1e",
      "metadata": {
        "ExecuteTime": {
          "end_time": "2023-03-08T16:37:17.195122Z",
          "start_time": "2023-03-08T16:37:17.078873Z"
        },
        "id": "d6da9a1e"
      },
      "outputs": [],
      "source": [
        "# Parámetros de la distribución uniforme\n",
        "a = 0  # Límite inferior\n",
        "b = 10  # Límite superior\n",
        "n = 10000  # Número de muestras\n",
        "\n",
        "# Generar números aleatorios\n",
        "uniform_rvs = uniform.rvs(loc=a, scale=b-a, size=n)\n",
        "\n",
        "# Crear la figura con matplotlib\n",
        "plt.hist(uniform_rvs, bins=100, density=True, edgecolor='black', alpha=0.7)\n",
        "\n",
        "# Configurar el título y los ejes\n",
        "plt.title(\"Histograma de números aleatorios con la distribución uniforme\")\n",
        "plt.xlabel(\"Valores\")\n",
        "plt.ylabel(\"Densidad de probabilidad\")\n",
        "plt.grid(True)\n",
        "\n",
        "# Mostrar la figura\n",
        "plt.show()"
      ]
    },
    {
      "cell_type": "markdown",
      "id": "90f9538c",
      "metadata": {
        "id": "90f9538c"
      },
      "source": [
        "El resultado será un conjunto de números aleatorios uniformemente distribuidos en el rango de $a$ a $b$.\n",
        "\n",
        "## Distribución Normal\n",
        "\n",
        "La **distribución normal** es una de las distribuciones de probabilidad más importantes y utilizadas en estadística. Es una distribución continua caracterizada por su forma de campana simétrica y por tener dos parámetros: la media $\\mu$ y la desviación estándar $\\sigma$.\n",
        "\n",
        "### Función de Densidad de Probabilidad (PDF)\n",
        "\n",
        "La función de densidad de probabilidad (PDF) de la distribución normal está dada por la ecuación:\n",
        "\n",
        "$$\n",
        "f(x) = \\frac{1}{\\sigma \\sqrt{2\\pi}} e^{-\\frac{1}{2}\\left(\\frac{x-\\mu}{\\sigma}\\right)^2}\n",
        "$$\n",
        "\n",
        "donde $x$ es la variable aleatoria, $\\mu$ es la media y $\\sigma$ es la desviación estándar.\n",
        "\n",
        "### Función de Distribución Acumulativa (CDF)\n",
        "\n",
        "La función de distribución acumulativa (CDF) de la distribución normal no tiene una forma analítica cerrada, pero se puede calcular de manera numérica o utilizando tablas.\n",
        "\n",
        "### Distribución Normal Estándar\n",
        "\n",
        "La **distribución normal estándar** es una distribución normal con media $\\mu=0$ y desviación estándar $\\sigma=1$, y se denota como $N(0,1)$. Todas las demás distribuciones normales se pueden obtener mediante una transformación lineal de la variable aleatoria de la distribución normal estándar.\n",
        "\n",
        "### Importancia y Aplicaciones\n",
        "\n",
        "La distribución normal es fundamental porque muchos fenómenos naturales y sociales se distribuyen aproximadamente de manera normal. Ejemplos incluyen la altura de una población, el tiempo de reacción de una persona, y el puntaje de un examen estandarizado.\n",
        "\n",
        "### Propiedades Importantes\n",
        "\n",
        "1. **Simetría:** La distribución normal es simétrica respecto a su media $\\mu$. Esto significa que la mitad de la probabilidad está a la izquierda de la media y la otra mitad está a la derecha.\n",
        "2. **Área Bajo la Curva:** El área bajo la curva de la PDF de la distribución normal es igual a 1, lo que significa que la suma de todas las probabilidades de los posibles valores de la variable aleatoria es igual a 1.\n",
        "3. **Distribución Normal Estándar:** La distribución normal estándar, con media $\\mu=0$ y desviación estándar $\\sigma=1$, es la más importante y ampliamente utilizada. Muchos procedimientos estadísticos, como las pruebas de hipótesis y los intervalos de confianza, se basan en la distribución normal estándar.\n",
        "4. **Colas Largas:** La distribución normal tiene colas largas, lo que significa que la probabilidad de obtener valores muy alejados de la media es muy baja, pero no es nula.\n",
        "\n",
        "### Uso en Python\n",
        "\n",
        "En Python, se puede utilizar la función `scipy.stats.norm` para generar muestras aleatorias de la distribución normal, calcular probabilidades, y realizar operaciones estadísticas como el cálculo de la media y la desviación estándar. Además, la función `numpy.random.normal` permite generar muestras aleatorias de la distribución normal con diferentes parámetros de media y desviación estándar.\n",
        "\n",
        "### Ejemplo en Python\n",
        "\n",
        "Vamos a ver un ejemplo de cómo generar una distribución normal utilizando la función `scipy.stats.norm`:"
      ]
    },
    {
      "cell_type": "code",
      "execution_count": null,
      "id": "c285653c",
      "metadata": {
        "ExecuteTime": {
          "end_time": "2023-03-08T17:10:12.064113Z",
          "start_time": "2023-03-08T17:10:11.987869Z"
        },
        "id": "c285653c"
      },
      "outputs": [],
      "source": [
        "import numpy as np\n",
        "import matplotlib.pyplot as plt\n",
        "from scipy.stats import norm\n",
        "\n",
        "# Parámetros de la distribución normal\n",
        "mu = 0  # Media\n",
        "sigma = 1  # Desviación estándar\n",
        "n = 10000  # Tamaño de la muestra\n",
        "\n",
        "# Generar una muestra aleatoria de la distribución normal\n",
        "normal_rvs = norm.rvs(loc=mu, scale=sigma, size=n)\n",
        "\n",
        "# Crear el histograma de la muestra aleatoria\n",
        "plt.hist(normal_rvs, bins=30, density=True, alpha=0.5, color='g', edgecolor='black')\n",
        "\n",
        "# Crear la PDF de la distribución normal para graficarla\n",
        "x = np.linspace(mu - 3*sigma, mu + 3*sigma, 100)\n",
        "pdf = norm.pdf(x, loc=mu, scale=sigma)\n",
        "plt.plot(x, pdf, 'k', linewidth=2, label='PDF')\n",
        "\n",
        "# Configurar el título y los ejes\n",
        "plt.title('Distribución Normal')\n",
        "plt.xlabel('Valores')\n",
        "plt.ylabel('Densidad de Probabilidad')\n",
        "plt.legend()\n",
        "plt.grid(True)\n",
        "\n",
        "# Mostrar la figura\n",
        "plt.show()"
      ]
    },
    {
      "cell_type": "markdown",
      "id": "63812eec",
      "metadata": {
        "id": "63812eec"
      },
      "source": [
        "### Función de Distribución Acumulativa\n",
        "\n",
        "Para calcular la función de distribución acumulativa (CDF) de una distribución normal, se utiliza la función `norm.cdf` de la biblioteca `scipy.stats`. Esta función devuelve la probabilidad acumulada desde menos infinito hasta un valor dado de la variable aleatoria.\n",
        "\n",
        "Aquí tienes un ejemplo de cómo calcular la CDF de una distribución normal con Plotly:"
      ]
    },
    {
      "cell_type": "code",
      "execution_count": null,
      "id": "52cb04b4",
      "metadata": {
        "ExecuteTime": {
          "end_time": "2023-03-08T17:13:01.527783Z",
          "start_time": "2023-03-08T17:13:01.497177Z"
        },
        "id": "52cb04b4"
      },
      "outputs": [],
      "source": [
        "import numpy as np\n",
        "import matplotlib.pyplot as plt\n",
        "from scipy.stats import norm\n",
        "\n",
        "# Parámetros de la distribución normal\n",
        "mu = 0  # Media\n",
        "sigma = 1  # Desviación estándar\n",
        "\n",
        "# Crear el rango de valores para la variable aleatoria\n",
        "x = np.linspace(mu - 3*sigma, mu + 3*sigma, 100)\n",
        "\n",
        "# Calcular la CDF para cada valor de la variable aleatoria\n",
        "cdf = norm.cdf(x, loc=mu, scale=sigma)\n",
        "\n",
        "# Crear la figura con matplotlib\n",
        "plt.plot(x, cdf, linestyle='-', color='b', label='CDF')\n",
        "\n",
        "# Configurar el título y los ejes\n",
        "plt.title('Función de distribución acumulativa (CDF) de la distribución normal')\n",
        "plt.xlabel('Valores')\n",
        "plt.ylabel('Probabilidad acumulada')\n",
        "plt.legend()\n",
        "plt.grid(True)\n",
        "\n",
        "# Mostrar la figura\n",
        "plt.show()"
      ]
    },
    {
      "cell_type": "markdown",
      "id": "2216cf3f",
      "metadata": {
        "id": "2216cf3f"
      },
      "source": [
        "Un problema clásico que se puede resolver utilizando la distribución normal es el cálculo de probabilidades asociadas a una variable aleatoria continua que sigue una distribución normal. Aquí te muestro un ejemplo:\n",
        "\n",
        "Supongamos que el tiempo que tarda un usuario en completar un formulario en línea sigue una distribución normal con media de 5 minutos y una desviación estándar de 1 minuto. ¿Cuál es la probabilidad de que un usuario tarde más de 7 minutos en completar el formulario?"
      ]
    },
    {
      "cell_type": "code",
      "execution_count": null,
      "id": "9c6c0600",
      "metadata": {
        "ExecuteTime": {
          "end_time": "2023-03-08T17:17:19.946100Z",
          "start_time": "2023-03-08T17:17:19.938657Z"
        },
        "id": "9c6c0600"
      },
      "outputs": [],
      "source": [
        "import numpy as np\n",
        "import matplotlib.pyplot as plt\n",
        "from scipy.stats import norm\n",
        "\n",
        "# Definir los parámetros de la distribución normal\n",
        "mu = 5  # media\n",
        "sigma = 1  # desviación estándar\n",
        "\n",
        "# Calcular la probabilidad de tardar más de 7 minutos\n",
        "p = 1 - norm.cdf(7, loc=mu, scale=sigma)\n",
        "\n",
        "# Imprimir el resultado\n",
        "print(\"La probabilidad de tardar más de 7 minutos en completar el formulario es:\", p)\n",
        "\n",
        "# Crear el rango de valores para la variable aleatoria\n",
        "x = np.linspace(mu - 4*sigma, mu + 4*sigma, 1000)\n",
        "\n",
        "# Calcular la PDF para cada valor de la variable aleatoria\n",
        "pdf = norm.pdf(x, loc=mu, scale=sigma)\n",
        "\n",
        "# Crear la figura con matplotlib\n",
        "plt.figure(figsize=(10, 6))\n",
        "\n",
        "# Graficar la PDF de la distribución normal\n",
        "plt.plot(x, pdf, 'b', label='Distribución Normal (PDF)')\n",
        "\n",
        "# Resaltar el área bajo la curva para x > 7\n",
        "x_fill = np.linspace(7, mu + 4*sigma, 1000)\n",
        "y_fill = norm.pdf(x_fill, loc=mu, scale=sigma)\n",
        "plt.fill_between(x_fill, y_fill, alpha=0.5, color='r', label='P(X > 7)')\n",
        "\n",
        "# Configurar el título y los ejes\n",
        "plt.title('Distribución Normal y Probabilidad de Tardar Más de 7 Minutos')\n",
        "plt.xlabel('Tiempo (minutos)')\n",
        "plt.ylabel('Densidad de Probabilidad')\n",
        "plt.legend()\n",
        "plt.grid(True)\n",
        "\n",
        "# Mostrar la figura\n",
        "plt.show()"
      ]
    },
    {
      "cell_type": "markdown",
      "id": "f6286188",
      "metadata": {
        "id": "f6286188"
      },
      "source": [
        "En este código se utiliza la función `norm.cdf` de SciPy para calcular la probabilidad de tardar más de 7 minutos en completar el formulario en línea. Para ello, se utiliza la media de 5 minutos y la desviación estándar de 1 minuto de la distribución normal. La función norm.cdf devuelve la probabilidad acumulada (CDF) de la distribución normal para un valor de la variable aleatoria dado. Como queremos calcular la probabilidad de tardar más de 7 minutos, se utiliza la expresión `1 - norm.cdf(7, loc=mu, scale=sigma)`, que corresponde a la probabilidad acumulada desde $-\\infty$ hasta 7 minutos, y se le resta 1 para obtener la probabilidad acumulada desde 7 minutos hasta $\\infty$."
      ]
    },
    {
      "cell_type": "markdown",
      "id": "e0352d7f",
      "metadata": {
        "id": "e0352d7f"
      },
      "source": [
        "## Distribución Exponencial\n",
        "\n",
        "La **distribución exponencial** es una distribución de probabilidad continua que se utiliza para modelar el tiempo de espera entre eventos en un proceso de Poisson. Por ejemplo, el tiempo que transcurre entre dos llegadas sucesivas de clientes a un negocio podría seguir una distribución exponencial.\n",
        "\n",
        "### Parámetro $\\lambda$\n",
        "\n",
        "El parámetro $\\lambda$ es un parámetro de forma que representa la tasa de ocurrencia de los eventos. En otras palabras, $\\lambda$ es el número esperado de eventos por unidad de tiempo. Un valor alto de $\\lambda$ indica que los eventos ocurren con frecuencia, mientras que un valor bajo de $\\lambda$ indica que los eventos son menos frecuentes.\n",
        "\n",
        "- Si $\\lambda = 0.5$, esto significa que, en promedio, ocurren 0.5 eventos por unidad de tiempo. Otra forma de interpretarlo es que el tiempo medio entre eventos es $1 / \\lambda$.\n",
        "\n",
        "### Función de Densidad de Probabilidad\n",
        "\n",
        "La función de densidad de probabilidad (PDF) de la distribución exponencial está dada por la ecuación:\n",
        "\n",
        "$$\n",
        "f(x) =\n",
        "\\begin{cases}\n",
        "\\lambda e^{-\\lambda x} & x \\geq 0 \\\\\n",
        "0 & x < 0\n",
        "\\end{cases}\n",
        "$$\n",
        "\n",
        "donde $\\lambda$ es la tasa de ocurrencia de los eventos.\n",
        "\n",
        "### Función de Distribución Acumulativa\n",
        "\n",
        "La función de distribución acumulativa (CDF) de la distribución exponencial está dada por la ecuación:\n",
        "\n",
        "$$\n",
        "F(x) =\n",
        "\\begin{cases}\n",
        "1 - e^{-\\lambda x} & x \\geq 0 \\\\\n",
        "0 & x < 0\n",
        "\\end{cases}\n",
        "$$\n",
        "\n",
        "### Media y Varianza\n",
        "\n",
        "La media y la varianza de la distribución exponencial están dadas por:\n",
        "\n",
        "$$\n",
        "\\text{Media} = \\frac{1}{\\lambda}\n",
        "$$\n",
        "\n",
        "$$\n",
        "\\text{Varianza} = \\frac{1}{\\lambda^2}\n",
        "$$\n",
        "\n",
        "### Generación y Visualización\n",
        "\n",
        "La distribución exponencial se puede generar utilizando la función `scipy.stats.expon` de la biblioteca `scipy.stats`. Esta función tiene como parámetro `scale` a la inversa de la tasa de ocurrencia $\\lambda$.\n",
        "\n",
        "A continuación, te muestro un ejemplo de cómo generar una distribución exponencial utilizando la función `scipy.stats.expon`, y graficar su PDF y su CDF. En este ejemplo, utilizaremos $\\lambda = 0.5$, lo que implica que, en promedio, ocurre un evento cada 2 unidades de tiempo."
      ]
    },
    {
      "cell_type": "code",
      "execution_count": null,
      "id": "2f11311f",
      "metadata": {
        "id": "2f11311f"
      },
      "outputs": [],
      "source": [
        "import numpy as np\n",
        "import matplotlib.pyplot as plt\n",
        "from scipy.stats import expon\n",
        "\n",
        "# Parámetro de la distribución exponencial\n",
        "lambda_param = 0.5  # Tasa de ocurrencia (lambda)\n",
        "scale_param = 1 / lambda_param  # Parámetro de escala para scipy\n",
        "\n",
        "# Valores de x para graficar\n",
        "x = np.linspace(0, 15, 1000)\n",
        "\n",
        "# Función de densidad de probabilidad (PDF) de la distribución exponencial\n",
        "pdf = expon.pdf(x, scale=scale_param)\n",
        "\n",
        "# Crear la figura con matplotlib\n",
        "plt.figure(figsize=(10, 6))\n",
        "plt.plot(x, pdf, 'b', label='PDF')\n",
        "plt.fill_between(x, pdf, alpha=0.5, color='b')\n",
        "\n",
        "# Configurar el título y los ejes\n",
        "plt.title('Función de Densidad de Probabilidad (PDF) de la Distribución Exponencial')\n",
        "plt.xlabel('Tiempo (unidades)')\n",
        "plt.ylabel('Densidad de Probabilidad')\n",
        "plt.legend()\n",
        "plt.grid(True)\n",
        "\n",
        "# Mostrar la figura\n",
        "plt.show()"
      ]
    },
    {
      "cell_type": "markdown",
      "id": "249c43fa",
      "metadata": {
        "id": "249c43fa"
      },
      "source": [
        "### Interpretación de la Función de Densidad de Probabilidad (PDF) de la Distribución Exponencial\n",
        "\n",
        "La gráfica mostrada representa la **Función de Densidad de Probabilidad (PDF)** de una distribución exponencial con un parámetro $\\lambda = 0.5$. Esta curva nos proporciona información sobre la probabilidad relativa de que un evento ocurra en un intervalo de tiempo específico.\n",
        "\n",
        "#### Conceptos Clave:\n",
        "\n",
        "1. **Forma Descendente:** La curva comienza en su punto más alto cuando $x = 0$ y desciende exponencialmente hacia la derecha. Esto indica que la probabilidad de que el tiempo entre eventos sea muy corto es alta, y disminuye a medida que el tiempo entre eventos aumenta.\n",
        "\n",
        "2. **Área Bajo la Curva:** La integral (o área) bajo la PDF en cualquier intervalo específico nos da la probabilidad de que el tiempo entre eventos caiga dentro de ese intervalo. La área total bajo la curva para todo el rango de $x$ (de 0 a infinito) es igual a 1, lo que significa que la suma de todas las probabilidades es 1.\n",
        "\n",
        "3. **$\\lambda = 0.5$:** En este ejemplo, $\\lambda = 0.5$ significa que, en promedio, ocurre 0.5 eventos por unidad de tiempo. Esto implica que el tiempo medio entre eventos es $\\frac{1}{\\lambda} = 2$ unidades de tiempo.\n",
        "\n",
        "4. **Decaimiento Rápido:** El rápido decaimiento de la curva muestra que es mucho más probable que los eventos ocurran en intervalos de tiempo cortos. A medida que el intervalo de tiempo aumenta, la probabilidad de que ocurra un evento disminuye exponencialmente."
      ]
    },
    {
      "cell_type": "code",
      "execution_count": null,
      "id": "456420ca",
      "metadata": {
        "id": "456420ca"
      },
      "outputs": [],
      "source": [
        "# Función de distribución acumulativa (CDF) de la distribución exponencial\n",
        "cdf = expon.cdf(x, scale=scale_param)\n",
        "\n",
        "# Crear la figura con matplotlib\n",
        "plt.figure(figsize=(10, 6))\n",
        "plt.plot(x, cdf, 'r', label='CDF')\n",
        "\n",
        "# Configurar el título y los ejes\n",
        "plt.title('Función de Distribución Acumulativa (CDF) de la Distribución Exponencial')\n",
        "plt.xlabel('Valores')\n",
        "plt.ylabel('Probabilidad Acumulada')\n",
        "plt.legend()\n",
        "plt.grid(True)\n",
        "\n",
        "# Mostrar la figura\n",
        "plt.show()"
      ]
    },
    {
      "cell_type": "markdown",
      "id": "0f97e98e",
      "metadata": {
        "id": "0f97e98e"
      },
      "source": [
        "### Interpretación de la Función de Distribución Acumulativa (CDF) de la Distribución Exponencial\n",
        "\n",
        "La gráfica mostrada representa la **Función de Distribución Acumulativa (CDF)** de una distribución exponencial con un parámetro $\\lambda = 0.5$. Esta curva nos proporciona información sobre la probabilidad acumulada de que un evento ocurra antes de cierto tiempo.\n",
        "\n",
        "#### Conceptos Clave:\n",
        "\n",
        "1. **Curva Creciente:** La CDF comienza en 0 cuando $x = 0$ y aumenta monotonamente hacia 1 a medida que $x$ se incrementa. Esto indica que la probabilidad acumulada de que el tiempo entre eventos sea menor o igual a un valor específico aumenta conforme incrementa dicho valor.\n",
        "\n",
        "2. **Valor en el Eje Y:** El valor de la CDF en un punto específico del eje x representa la probabilidad de que el tiempo entre eventos sea menor o igual a ese valor. Por ejemplo, si la CDF a $x = 5$ es 0.9, esto significa que hay un 90% de probabilidad de que el evento ocurra antes de 5 unidades de tiempo.\n",
        "\n",
        "3. **Asintótica a 1:** La CDF se aproxima asintóticamente a 1, lo que significa que conforme el valor de $x$ tiende a infinito, la probabilidad acumulada tiende a 1. Esto refleja que, a largo plazo, la certeza de que el evento ocurra es del 100%.\n",
        "\n",
        "4. **$\\lambda = 0.5$:** En este ejemplo, $\\lambda = 0.5$ significa que, en promedio, ocurren 0.5 eventos por unidad de tiempo. Esto implica que el tiempo medio entre eventos es $\\frac{1}{\\lambda} = 2$ unidades de tiempo."
      ]
    },
    {
      "cell_type": "markdown",
      "id": "98e0e3a8",
      "metadata": {
        "id": "98e0e3a8"
      },
      "source": [
        "## Ejemplo de Problema con Distribución Exponencial\n",
        "\n",
        "Un problema clásico que se puede resolver utilizando la distribución exponencial es el cálculo de la probabilidad de que un dispositivo falle antes de cierto tiempo.\n",
        "\n",
        "### Explicación del Problema\n",
        "\n",
        "Imagina que tienes un dispositivo electrónico y quieres saber la probabilidad de que falle antes de un tiempo determinado. Sabemos que la vida útil del dispositivo sigue una distribución exponencial. Esto significa que el tiempo entre fallos sigue un patrón específico, donde la tasa de fallos es constante.\n",
        "\n",
        "Supongamos que la tasa de fallos del dispositivo es $\\lambda=0.01$ por hora. Esto significa que, en promedio, el dispositivo falla 0.01 veces por hora. Queremos calcular la probabilidad de que el dispositivo falle antes de que hayan pasado 50 horas de uso.\n",
        "\n",
        "### Solución del Problema en Python\n",
        "\n",
        "Podemos utilizar la función `scipy.stats.expon.cdf` para calcular esta probabilidad. La función de distribución acumulativa (CDF) nos dará la probabilidad de que el dispositivo falle antes de un tiempo específico."
      ]
    },
    {
      "cell_type": "code",
      "execution_count": null,
      "id": "28d82878",
      "metadata": {
        "id": "28d82878"
      },
      "outputs": [],
      "source": [
        "import numpy as np\n",
        "import matplotlib.pyplot as plt\n",
        "from scipy.stats import expon\n",
        "\n",
        "# Parámetro de la distribución exponencial\n",
        "lambda_param = 0.01  # Tasa de fallos por hora\n",
        "scale_param = 1 / lambda_param  # Parámetro de escala para scipy\n",
        "\n",
        "# Tiempo específico para calcular la probabilidad de fallo\n",
        "time_to_fail = 50  # horas\n",
        "\n",
        "# Calcular la probabilidad de que el dispositivo falle antes de las 50 horas\n",
        "prob_fallo_antes_de_50_horas = expon.cdf(time_to_fail, scale=scale_param)\n",
        "\n",
        "# Imprimir el resultado\n",
        "print(\"La probabilidad de que el dispositivo falle antes de las 50 horas de uso es:\", prob_fallo_antes_de_50_horas)"
      ]
    },
    {
      "cell_type": "code",
      "execution_count": null,
      "id": "be837217",
      "metadata": {
        "id": "be837217"
      },
      "outputs": [],
      "source": [
        "# Visualización de la distribución exponencial y la probabilidad calculada\n",
        "\n",
        "# Valores de x para graficar\n",
        "x = np.linspace(0, 200, 1000)\n",
        "\n",
        "# Función de distribución acumulativa (CDF) de la distribución exponencial\n",
        "cdf = expon.cdf(x, scale=scale_param)\n",
        "\n",
        "# Crear la figura con matplotlib\n",
        "plt.figure(figsize=(10, 6))\n",
        "plt.plot(x, cdf, 'r', label='CDF')\n",
        "\n",
        "# Resaltar el área bajo la curva para x <= 50\n",
        "x_fill = np.linspace(0, time_to_fail, 1000)\n",
        "y_fill = expon.cdf(x_fill, scale=scale_param)\n",
        "plt.fill_between(x_fill, y_fill, alpha=0.5, color='r', label='P(X <= 50 horas)')\n",
        "\n",
        "# Configurar el título y los ejes\n",
        "plt.title('Función de Distribución Acumulativa (CDF) de la Distribución Exponencial')\n",
        "plt.xlabel('Horas de uso')\n",
        "plt.ylabel('Probabilidad acumulada')\n",
        "plt.legend()\n",
        "plt.grid(True)\n",
        "\n",
        "# Mostrar la figura\n",
        "plt.show()"
      ]
    },
    {
      "cell_type": "markdown",
      "id": "e1025cef",
      "metadata": {
        "id": "e1025cef"
      },
      "source": [
        "## Conclusiones\n",
        "\n",
        "En esta libreta, hemos explorado varias distribuciones de probabilidad fundamentales, incluyendo las distribuciones de probabilidad discretas y continuas. Específicamente, hemos cubierto:\n",
        "\n",
        "1. **Distribuciones de Probabilidad Discretas**:\n",
        "   - Distribución Binomial\n",
        "   - Distribución de Poisson\n",
        "\n",
        "2. **Distribuciones de Probabilidad Continuas**:\n",
        "   - Distribución Uniforme\n",
        "   - Distribución Normal\n",
        "   - Distribución Exponencial\n",
        "\n",
        "### Reflexión Final\n",
        "\n",
        "Entender las distribuciones de probabilidad y su aplicación en la vida real es un paso fundamental para cualquier estudiante que aspire a trabajar en campos que involucran análisis de datos y toma de decisiones basadas en datos. Estas herramientas estadísticas no solo permiten analizar y comprender datos históricos, sino también predecir futuros comportamientos y tomar decisiones informadas. Con un enfoque práctico y contextualizado, los estudiantes pueden desarrollar una apreciación más profunda y reducir el estrés asociado con el aprendizaje de estos conceptos."
      ]
    }
  ],
  "metadata": {
    "kernelspec": {
      "display_name": "Python 3 (ipykernel)",
      "language": "python",
      "name": "python3"
    },
    "language_info": {
      "codemirror_mode": {
        "name": "ipython",
        "version": 3
      },
      "file_extension": ".py",
      "mimetype": "text/x-python",
      "name": "python",
      "nbconvert_exporter": "python",
      "pygments_lexer": "ipython3",
      "version": "3.10.13"
    },
    "varInspector": {
      "cols": {
        "lenName": 16,
        "lenType": 16,
        "lenVar": 40
      },
      "kernels_config": {
        "python": {
          "delete_cmd_postfix": "",
          "delete_cmd_prefix": "del ",
          "library": "var_list.py",
          "varRefreshCmd": "print(var_dic_list())"
        },
        "r": {
          "delete_cmd_postfix": ") ",
          "delete_cmd_prefix": "rm(",
          "library": "var_list.r",
          "varRefreshCmd": "cat(var_dic_list()) "
        }
      },
      "types_to_exclude": [
        "module",
        "function",
        "builtin_function_or_method",
        "instance",
        "_Feature"
      ],
      "window_display": false
    },
    "colab": {
      "provenance": []
    }
  },
  "nbformat": 4,
  "nbformat_minor": 5
}