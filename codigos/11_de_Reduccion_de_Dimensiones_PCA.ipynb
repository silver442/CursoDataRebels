{
  "cells": [
    {
      "cell_type": "markdown",
      "id": "79546cd9",
      "metadata": {
        "ExecuteTime": {
          "end_time": "2023-03-31T19:07:15.140799Z",
          "start_time": "2023-03-31T19:07:15.128768Z"
        },
        "id": "79546cd9"
      },
      "source": [
        "# Reducción de Dimensiones\n",
        "\n",
        "La reducción de dimensiones es una técnica utilizada en el análisis de datos y aprendizaje automático para simplificar conjuntos de datos de alta dimensionalidad. La idea principal es transformar los datos de alta dimensionalidad en una representación de menor dimensionalidad, manteniendo la mayor cantidad de información posible.\n",
        "\n",
        "## ¿Por qué es importante la reducción de dimensiones?\n",
        "\n",
        "1. **Visualización**: Facilita la visualización de datos en 2D o 3D, lo que permite una mejor comprensión e interpretación de los datos.\n",
        "\n",
        "2. **Eficiencia computacional**: Al reducir la dimensionalidad, se disminuye la cantidad de datos a procesar, lo que puede resultar en una mejora en la eficiencia computacional de los algoritmos de aprendizaje automático.\n",
        "\n",
        "3. **Eliminar ruido**: La reducción de dimensiones puede ayudar a eliminar el ruido presente en los datos, ya que las dimensiones irrelevantes o redundantes pueden ser eliminadas en el proceso de transformación.\n",
        "\n",
        "4. **Combatir la maldición de la dimensionalidad**: Con conjuntos de datos de alta dimensionalidad, la cantidad de datos necesarios para entrenar un modelo aumenta exponencialmente. Reducir la dimensionalidad puede ayudar a combatir este problema, haciendo que los modelos sean más eficientes y precisos.\n",
        "\n",
        "## Técnicas de reducción de dimensiones\n",
        "\n",
        "Hay varias técnicas de reducción de dimensiones, y cada una tiene sus propias ventajas y desventajas. Algunas de las técnicas más comunes son:\n",
        "\n",
        "1. **Análisis de Componentes Principales (PCA)**: PCA es una técnica lineal que busca encontrar las direcciones en las que los datos tienen la mayor varianza y proyecta los datos en un espacio de menor dimensionalidad formado por estas direcciones.\n",
        "\n",
        "2. **Análisis Discriminante Lineal (LDA)**: LDA es una técnica supervisada que busca encontrar un espacio de menor dimensionalidad en el que se maximice la separación entre diferentes clases.\n",
        "\n",
        "3. **t-Distributed Stochastic Neighbor Embedding (t-SNE)**: t-SNE es una técnica no lineal que busca encontrar una representación de menor dimensionalidad de los datos de tal manera que se conserven las relaciones de proximidad entre puntos en el espacio original.\n",
        "\n",
        "4. **Autoencoders**: Los autoencoders son redes neuronales artificiales que aprenden a comprimir y descomprimir datos en un espacio de menor dimensionalidad.\n",
        "\n",
        "En la siguiente sección, exploraremos el Análisis de Componentes Principales (PCA) en detalle y veremos cómo implementarlo en Python.\n"
      ]
    },
    {
      "cell_type": "markdown",
      "id": "f23dc1fd",
      "metadata": {
        "id": "f23dc1fd"
      },
      "source": [
        "# Análisis de Componentes Principales (PCA)\n",
        "\n",
        "El Análisis de Componentes Principales (PCA, por sus siglas en inglés) es una técnica de reducción de dimensiones que busca transformar un conjunto de datos de alta dimensionalidad en uno de menor dimensionalidad, manteniendo la mayor cantidad de información posible. PCA es una técnica lineal y no supervisada.\n",
        "\n",
        "## ¿Cómo funciona PCA?\n",
        "\n",
        "PCA sigue los siguientes pasos para transformar los datos:\n",
        "\n",
        "1. **Estandarización**: Los datos se estandarizan para que cada característica tenga media 0 y desviación estándar 1. Esto es necesario porque PCA es sensible a las escalas de las variables.\n",
        "\n",
        "2. **Cálculo de la matriz de covarianza**: Se calcula la matriz de covarianza de los datos estandarizados. La matriz de covarianza contiene información sobre las correlaciones entre las diferentes características.\n",
        "\n",
        "3. **Cálculo de los eigenvectores y eigenvalores**: Se calculan los eigenvectores y eigenvalores de la matriz de covarianza. Los eigenvectores representan las direcciones en las que los datos tienen la mayor varianza, mientras que los eigenvalores representan la magnitud de la varianza en esas direcciones.\n",
        "\n",
        "4. **Selección de componentes principales**: Se seleccionan los k eigenvectores con los k eigenvalores más grandes para formar una matriz de proyección de k dimensiones.\n",
        "\n",
        "5. **Proyección de los datos**: Se proyectan los datos estandarizados en el espacio de menor dimensionalidad formado por los k componentes principales.\n",
        "\n",
        "## Interpretación de los resultados\n",
        "\n",
        "Los componentes principales resultantes son combinaciones lineales de las características originales y son ortogonales entre sí. Estos componentes principales capturan la mayor cantidad de varianza de los datos en el espacio de menor dimensionalidad.\n",
        "\n",
        "El primer componente principal es la dirección que captura la mayor cantidad de varianza en los datos, el segundo componente principal es la dirección ortogonal al primer componente principal que captura la segunda mayor cantidad de varianza, y así sucesivamente.\n",
        "\n",
        "La cantidad de varianza explicada por cada componente principal se puede calcular como la proporción del eigenvalor correspondiente al total de los eigenvalores. Se puede utilizar la suma acumulada de las proporciones de varianza explicada para determinar cuántos componentes principales se deben conservar en la transformación.\n",
        "\n",
        "En la siguiente sección, veremos cómo implementar PCA en Python utilizando la biblioteca de scikit-learn y cómo interpretar los resultados.\n"
      ]
    },
    {
      "cell_type": "markdown",
      "id": "abcd53e6",
      "metadata": {
        "id": "abcd53e6"
      },
      "source": [
        "# Ejemplo: PCA con el conjunto de datos Breast Cancer Wisconsin\n",
        "\n",
        "En este ejemplo, aplicaremos PCA al conjunto de datos Breast Cancer Wisconsin para reducir su dimensionalidad y visualizar la separación entre clases en un espacio de menor dimensionalidad. Este conjunto de datos contiene 569 instancias y 30 características numéricas calculadas a partir de imágenes digitalizadas de aspiración con aguja fina de masas mamarias. El objetivo es clasificar si los tumores son benignos o malignos.\n",
        "\n",
        "## Cargando y explorando el conjunto de datos\n",
        "\n",
        "Comencemos cargando el conjunto de datos y realizando una exploración básica de sus características y etiquetas."
      ]
    },
    {
      "cell_type": "code",
      "execution_count": 1,
      "id": "92aa9eac",
      "metadata": {
        "ExecuteTime": {
          "end_time": "2023-03-31T22:07:15.859153Z",
          "start_time": "2023-03-31T22:07:14.708521Z"
        },
        "id": "92aa9eac",
        "outputId": "b5ced416-0765-417a-80c8-70d1f3b512f3"
      },
      "outputs": [
        {
          "data": {
            "text/html": [
              "<div>\n",
              "<style scoped>\n",
              "    .dataframe tbody tr th:only-of-type {\n",
              "        vertical-align: middle;\n",
              "    }\n",
              "\n",
              "    .dataframe tbody tr th {\n",
              "        vertical-align: top;\n",
              "    }\n",
              "\n",
              "    .dataframe thead th {\n",
              "        text-align: right;\n",
              "    }\n",
              "</style>\n",
              "<table border=\"1\" class=\"dataframe\">\n",
              "  <thead>\n",
              "    <tr style=\"text-align: right;\">\n",
              "      <th></th>\n",
              "      <th>mean radius</th>\n",
              "      <th>mean texture</th>\n",
              "      <th>mean perimeter</th>\n",
              "      <th>mean area</th>\n",
              "      <th>mean smoothness</th>\n",
              "      <th>mean compactness</th>\n",
              "      <th>mean concavity</th>\n",
              "      <th>mean concave points</th>\n",
              "      <th>mean symmetry</th>\n",
              "      <th>mean fractal dimension</th>\n",
              "      <th>...</th>\n",
              "      <th>worst texture</th>\n",
              "      <th>worst perimeter</th>\n",
              "      <th>worst area</th>\n",
              "      <th>worst smoothness</th>\n",
              "      <th>worst compactness</th>\n",
              "      <th>worst concavity</th>\n",
              "      <th>worst concave points</th>\n",
              "      <th>worst symmetry</th>\n",
              "      <th>worst fractal dimension</th>\n",
              "      <th>target</th>\n",
              "    </tr>\n",
              "  </thead>\n",
              "  <tbody>\n",
              "    <tr>\n",
              "      <th>0</th>\n",
              "      <td>17.99</td>\n",
              "      <td>10.38</td>\n",
              "      <td>122.80</td>\n",
              "      <td>1001.0</td>\n",
              "      <td>0.11840</td>\n",
              "      <td>0.27760</td>\n",
              "      <td>0.3001</td>\n",
              "      <td>0.14710</td>\n",
              "      <td>0.2419</td>\n",
              "      <td>0.07871</td>\n",
              "      <td>...</td>\n",
              "      <td>17.33</td>\n",
              "      <td>184.60</td>\n",
              "      <td>2019.0</td>\n",
              "      <td>0.1622</td>\n",
              "      <td>0.6656</td>\n",
              "      <td>0.7119</td>\n",
              "      <td>0.2654</td>\n",
              "      <td>0.4601</td>\n",
              "      <td>0.11890</td>\n",
              "      <td>0</td>\n",
              "    </tr>\n",
              "    <tr>\n",
              "      <th>1</th>\n",
              "      <td>20.57</td>\n",
              "      <td>17.77</td>\n",
              "      <td>132.90</td>\n",
              "      <td>1326.0</td>\n",
              "      <td>0.08474</td>\n",
              "      <td>0.07864</td>\n",
              "      <td>0.0869</td>\n",
              "      <td>0.07017</td>\n",
              "      <td>0.1812</td>\n",
              "      <td>0.05667</td>\n",
              "      <td>...</td>\n",
              "      <td>23.41</td>\n",
              "      <td>158.80</td>\n",
              "      <td>1956.0</td>\n",
              "      <td>0.1238</td>\n",
              "      <td>0.1866</td>\n",
              "      <td>0.2416</td>\n",
              "      <td>0.1860</td>\n",
              "      <td>0.2750</td>\n",
              "      <td>0.08902</td>\n",
              "      <td>0</td>\n",
              "    </tr>\n",
              "    <tr>\n",
              "      <th>2</th>\n",
              "      <td>19.69</td>\n",
              "      <td>21.25</td>\n",
              "      <td>130.00</td>\n",
              "      <td>1203.0</td>\n",
              "      <td>0.10960</td>\n",
              "      <td>0.15990</td>\n",
              "      <td>0.1974</td>\n",
              "      <td>0.12790</td>\n",
              "      <td>0.2069</td>\n",
              "      <td>0.05999</td>\n",
              "      <td>...</td>\n",
              "      <td>25.53</td>\n",
              "      <td>152.50</td>\n",
              "      <td>1709.0</td>\n",
              "      <td>0.1444</td>\n",
              "      <td>0.4245</td>\n",
              "      <td>0.4504</td>\n",
              "      <td>0.2430</td>\n",
              "      <td>0.3613</td>\n",
              "      <td>0.08758</td>\n",
              "      <td>0</td>\n",
              "    </tr>\n",
              "    <tr>\n",
              "      <th>3</th>\n",
              "      <td>11.42</td>\n",
              "      <td>20.38</td>\n",
              "      <td>77.58</td>\n",
              "      <td>386.1</td>\n",
              "      <td>0.14250</td>\n",
              "      <td>0.28390</td>\n",
              "      <td>0.2414</td>\n",
              "      <td>0.10520</td>\n",
              "      <td>0.2597</td>\n",
              "      <td>0.09744</td>\n",
              "      <td>...</td>\n",
              "      <td>26.50</td>\n",
              "      <td>98.87</td>\n",
              "      <td>567.7</td>\n",
              "      <td>0.2098</td>\n",
              "      <td>0.8663</td>\n",
              "      <td>0.6869</td>\n",
              "      <td>0.2575</td>\n",
              "      <td>0.6638</td>\n",
              "      <td>0.17300</td>\n",
              "      <td>0</td>\n",
              "    </tr>\n",
              "    <tr>\n",
              "      <th>4</th>\n",
              "      <td>20.29</td>\n",
              "      <td>14.34</td>\n",
              "      <td>135.10</td>\n",
              "      <td>1297.0</td>\n",
              "      <td>0.10030</td>\n",
              "      <td>0.13280</td>\n",
              "      <td>0.1980</td>\n",
              "      <td>0.10430</td>\n",
              "      <td>0.1809</td>\n",
              "      <td>0.05883</td>\n",
              "      <td>...</td>\n",
              "      <td>16.67</td>\n",
              "      <td>152.20</td>\n",
              "      <td>1575.0</td>\n",
              "      <td>0.1374</td>\n",
              "      <td>0.2050</td>\n",
              "      <td>0.4000</td>\n",
              "      <td>0.1625</td>\n",
              "      <td>0.2364</td>\n",
              "      <td>0.07678</td>\n",
              "      <td>0</td>\n",
              "    </tr>\n",
              "  </tbody>\n",
              "</table>\n",
              "<p>5 rows × 31 columns</p>\n",
              "</div>"
            ],
            "text/plain": [
              "   mean radius  mean texture  mean perimeter  mean area  mean smoothness  \\\n",
              "0        17.99         10.38          122.80     1001.0          0.11840   \n",
              "1        20.57         17.77          132.90     1326.0          0.08474   \n",
              "2        19.69         21.25          130.00     1203.0          0.10960   \n",
              "3        11.42         20.38           77.58      386.1          0.14250   \n",
              "4        20.29         14.34          135.10     1297.0          0.10030   \n",
              "\n",
              "   mean compactness  mean concavity  mean concave points  mean symmetry  \\\n",
              "0           0.27760          0.3001              0.14710         0.2419   \n",
              "1           0.07864          0.0869              0.07017         0.1812   \n",
              "2           0.15990          0.1974              0.12790         0.2069   \n",
              "3           0.28390          0.2414              0.10520         0.2597   \n",
              "4           0.13280          0.1980              0.10430         0.1809   \n",
              "\n",
              "   mean fractal dimension  ...  worst texture  worst perimeter  worst area  \\\n",
              "0                 0.07871  ...          17.33           184.60      2019.0   \n",
              "1                 0.05667  ...          23.41           158.80      1956.0   \n",
              "2                 0.05999  ...          25.53           152.50      1709.0   \n",
              "3                 0.09744  ...          26.50            98.87       567.7   \n",
              "4                 0.05883  ...          16.67           152.20      1575.0   \n",
              "\n",
              "   worst smoothness  worst compactness  worst concavity  worst concave points  \\\n",
              "0            0.1622             0.6656           0.7119                0.2654   \n",
              "1            0.1238             0.1866           0.2416                0.1860   \n",
              "2            0.1444             0.4245           0.4504                0.2430   \n",
              "3            0.2098             0.8663           0.6869                0.2575   \n",
              "4            0.1374             0.2050           0.4000                0.1625   \n",
              "\n",
              "   worst symmetry  worst fractal dimension  target  \n",
              "0          0.4601                  0.11890       0  \n",
              "1          0.2750                  0.08902       0  \n",
              "2          0.3613                  0.08758       0  \n",
              "3          0.6638                  0.17300       0  \n",
              "4          0.2364                  0.07678       0  \n",
              "\n",
              "[5 rows x 31 columns]"
            ]
          },
          "execution_count": 1,
          "metadata": {},
          "output_type": "execute_result"
        }
      ],
      "source": [
        "import pandas as pd\n",
        "import numpy as np\n",
        "from sklearn.datasets import load_breast_cancer\n",
        "import plotly.express as px\n",
        "import warnings\n",
        "warnings.filterwarnings('ignore')\n",
        "\n",
        "# Cargar el conjunto de datos\n",
        "data = load_breast_cancer()\n",
        "df = pd.DataFrame(data.data, columns=data.feature_names)\n",
        "df['target'] = data.target\n",
        "\n",
        "# Ver las primeras filas del conjunto de datos\n",
        "df.head()"
      ]
    },
    {
      "cell_type": "code",
      "execution_count": 2,
      "id": "da213ad8",
      "metadata": {
        "id": "da213ad8",
        "outputId": "e346e151-7457-44e2-f3b9-4cd6e441d26e"
      },
      "outputs": [
        {
          "data": {
            "text/plain": [
              "Index(['mean radius', 'mean texture', 'mean perimeter', 'mean area',\n",
              "       'mean smoothness', 'mean compactness', 'mean concavity',\n",
              "       'mean concave points', 'mean symmetry', 'mean fractal dimension',\n",
              "       'radius error', 'texture error', 'perimeter error', 'area error',\n",
              "       'smoothness error', 'compactness error', 'concavity error',\n",
              "       'concave points error', 'symmetry error', 'fractal dimension error',\n",
              "       'worst radius', 'worst texture', 'worst perimeter', 'worst area',\n",
              "       'worst smoothness', 'worst compactness', 'worst concavity',\n",
              "       'worst concave points', 'worst symmetry', 'worst fractal dimension',\n",
              "       'target'],\n",
              "      dtype='object')"
            ]
          },
          "execution_count": 2,
          "metadata": {},
          "output_type": "execute_result"
        }
      ],
      "source": [
        "df.columns"
      ]
    },
    {
      "cell_type": "code",
      "execution_count": 3,
      "id": "ec348957",
      "metadata": {
        "ExecuteTime": {
          "end_time": "2023-03-31T22:19:39.857049Z",
          "start_time": "2023-03-31T22:19:39.840062Z"
        },
        "id": "ec348957",
        "outputId": "349b4b97-7af7-431b-bfd0-5ca9c3635b18"
      },
      "outputs": [
        {
          "data": {
            "text/plain": [
              "sklearn.utils._bunch.Bunch"
            ]
          },
          "execution_count": 3,
          "metadata": {},
          "output_type": "execute_result"
        }
      ],
      "source": [
        "type(data)"
      ]
    },
    {
      "cell_type": "markdown",
      "id": "96ff3fc8",
      "metadata": {
        "id": "96ff3fc8"
      },
      "source": [
        "## Preprocesamiento de los datos\n",
        "Antes de aplicar PCA, es necesario estandarizar los datos para que cada característica tenga media 0 y desviación estándar 1."
      ]
    },
    {
      "cell_type": "code",
      "execution_count": 4,
      "id": "59125c2b",
      "metadata": {
        "ExecuteTime": {
          "end_time": "2023-03-31T22:12:35.997728Z",
          "start_time": "2023-03-31T22:12:35.988309Z"
        },
        "id": "59125c2b"
      },
      "outputs": [],
      "source": [
        "from sklearn.preprocessing import StandardScaler\n",
        "\n",
        "# Estandarizar los datos\n",
        "scaler = StandardScaler()\n",
        "X_scaled = scaler.fit_transform(data.data)"
      ]
    },
    {
      "cell_type": "code",
      "execution_count": 5,
      "id": "07c339e2",
      "metadata": {
        "ExecuteTime": {
          "end_time": "2023-03-31T22:15:18.252561Z",
          "start_time": "2023-03-31T22:15:18.235077Z"
        },
        "id": "07c339e2",
        "outputId": "8450f75a-227f-4e57-f076-59f498c4982c"
      },
      "outputs": [
        {
          "data": {
            "text/plain": [
              "(569, 30)"
            ]
          },
          "execution_count": 5,
          "metadata": {},
          "output_type": "execute_result"
        }
      ],
      "source": [
        "X_scaled.shape"
      ]
    },
    {
      "cell_type": "markdown",
      "id": "69517c18",
      "metadata": {
        "id": "69517c18"
      },
      "source": [
        "## Aplicando PCA\n",
        "Ahora, vamos a aplicar PCA utilizando scikit-learn y proyectar los datos en 2 dimensiones para facilitar la visualización."
      ]
    },
    {
      "cell_type": "code",
      "execution_count": 6,
      "id": "55132a42",
      "metadata": {
        "ExecuteTime": {
          "end_time": "2023-03-31T22:18:05.906673Z",
          "start_time": "2023-03-31T22:18:05.881670Z"
        },
        "id": "55132a42"
      },
      "outputs": [],
      "source": [
        "from sklearn.decomposition import PCA\n",
        "\n",
        "# Aplicar PCA y reducir la dimensionalidad a 2\n",
        "pca = PCA(n_components=2)\n",
        "X_pca = pca.fit_transform(X_scaled)\n",
        "\n",
        "# Crear un DataFrame con los datos transformados y las etiquetas\n",
        "df_pca = pd.DataFrame(X_pca, columns=['PC1', 'PC2'])\n",
        "df_pca['target'] = data.target"
      ]
    },
    {
      "cell_type": "markdown",
      "id": "5c769b0b",
      "metadata": {
        "id": "5c769b0b"
      },
      "source": [
        "# Cómo decidir cuáles componentes principales escoger\n",
        "\n",
        "Al aplicar PCA, es importante determinar cuántas componentes principales seleccionar para lograr un equilibrio entre la reducción de dimensionalidad y la conservación de la información relevante de los datos originales. Una forma común de decidir esto es utilizando la proporción de varianza explicada por cada componente principal.\n",
        "\n",
        "## Proporción de varianza explicada\n",
        "\n",
        "La proporción de varianza explicada nos indica cuánta varianza de los datos originales es capturada por cada componente principal. Podemos calcularla utilizando la propiedad `explained_variance_ratio_` del objeto PCA de scikit-learn."
      ]
    },
    {
      "cell_type": "code",
      "execution_count": 7,
      "id": "c1f35cf0",
      "metadata": {
        "ExecuteTime": {
          "end_time": "2023-03-31T22:24:45.881091Z",
          "start_time": "2023-03-31T22:24:45.845620Z"
        },
        "id": "c1f35cf0",
        "outputId": "68b99e72-18f1-4e18-a43b-4bb9d74b7b91"
      },
      "outputs": [
        {
          "name": "stdout",
          "output_type": "stream",
          "text": [
            "Proporción de varianza explicada por cada componente principal:\n",
            " [4.42720256e-01 1.89711820e-01 9.39316326e-02 6.60213492e-02\n",
            " 5.49576849e-02 4.02452204e-02 2.25073371e-02 1.58872380e-02\n",
            " 1.38964937e-02 1.16897819e-02 9.79718988e-03 8.70537901e-03\n",
            " 8.04524987e-03 5.23365745e-03 3.13783217e-03 2.66209337e-03\n",
            " 1.97996793e-03 1.75395945e-03 1.64925306e-03 1.03864675e-03\n",
            " 9.99096464e-04 9.14646751e-04 8.11361259e-04 6.01833567e-04\n",
            " 5.16042379e-04 2.72587995e-04 2.30015463e-04 5.29779290e-05\n",
            " 2.49601032e-05 4.43482743e-06]\n"
          ]
        }
      ],
      "source": [
        "# Aplicar PCA sin reducir el número de componentes\n",
        "pca_full = PCA()\n",
        "X_pca_full = pca_full.fit_transform(X_scaled)\n",
        "\n",
        "# Calcular la proporción de varianza explicada por cada componente principal\n",
        "explained_variance_ratio_full = pca_full.explained_variance_ratio_\n",
        "print(\"Proporción de varianza explicada por cada componente principal:\\n\", explained_variance_ratio_full)"
      ]
    },
    {
      "cell_type": "markdown",
      "id": "22ecb2f1",
      "metadata": {
        "id": "22ecb2f1"
      },
      "source": [
        "## Gráfica de la proporción acumulada de varianza explicada\n",
        "Una forma visual de decidir cuántas componentes principales seleccionar es trazar la proporción acumulada de varianza explicada en función del número de componentes principales. Esta gráfica también se conoce como \"gráfica de codo\" o \"gráfica de Scree\"."
      ]
    },
    {
      "cell_type": "code",
      "execution_count": 8,
      "id": "c7fe4232",
      "metadata": {
        "ExecuteTime": {
          "end_time": "2023-03-31T22:29:24.104174Z",
          "start_time": "2023-03-31T22:29:22.597133Z"
        },
        "id": "c7fe4232",
        "outputId": "5b7048ff-fe4a-4a6c-ad55-cc1e456f910a"
      },
      "outputs": [
        {
          "data": {
            "application/vnd.plotly.v1+json": {
              "config": {
                "plotlyServerURL": "https://plot.ly"
              },
              "data": [
                {
                  "hovertemplate": "x=%{x}<br>y=%{y}<extra></extra>",
                  "legendgroup": "",
                  "line": {
                    "color": "#636efa",
                    "dash": "solid"
                  },
                  "marker": {
                    "symbol": "circle"
                  },
                  "mode": "lines+markers",
                  "name": "",
                  "orientation": "v",
                  "showlegend": false,
                  "type": "scatter",
                  "x": [
                    1,
                    2,
                    3,
                    4,
                    5,
                    6,
                    7,
                    8,
                    9,
                    10,
                    11,
                    12,
                    13,
                    14,
                    15,
                    16,
                    17,
                    18,
                    19,
                    20,
                    21,
                    22,
                    23,
                    24,
                    25,
                    26,
                    27,
                    28,
                    29,
                    30
                  ],
                  "xaxis": "x",
                  "y": [
                    0.4427202560752634,
                    0.6324320765155943,
                    0.7263637090899082,
                    0.7923850582446098,
                    0.8473427431680725,
                    0.8875879635669058,
                    0.910095300696731,
                    0.9259825386969442,
                    0.9398790324425353,
                    0.9515688143366668,
                    0.9613660042126471,
                    0.9700713832200258,
                    0.9781166330919931,
                    0.9833502905469195,
                    0.9864881227145469,
                    0.9891502160796992,
                    0.9911301840050235,
                    0.9928841434552499,
                    0.994533396514475,
                    0.9955720432628138,
                    0.996571139726514,
                    0.9974857864775684,
                    0.9982971477364675,
                    0.9988989813031391,
                    0.9994150236823043,
                    0.9996876116777818,
                    0.9999176271402878,
                    0.9999706050693259,
                    0.9999955651725728,
                    1.0000000000000002
                  ],
                  "yaxis": "y"
                }
              ],
              "layout": {
                "legend": {
                  "tracegroupgap": 0
                },
                "margin": {
                  "t": 60
                },
                "template": {
                  "data": {
                    "bar": [
                      {
                        "error_x": {
                          "color": "#2a3f5f"
                        },
                        "error_y": {
                          "color": "#2a3f5f"
                        },
                        "marker": {
                          "line": {
                            "color": "#E5ECF6",
                            "width": 0.5
                          },
                          "pattern": {
                            "fillmode": "overlay",
                            "size": 10,
                            "solidity": 0.2
                          }
                        },
                        "type": "bar"
                      }
                    ],
                    "barpolar": [
                      {
                        "marker": {
                          "line": {
                            "color": "#E5ECF6",
                            "width": 0.5
                          },
                          "pattern": {
                            "fillmode": "overlay",
                            "size": 10,
                            "solidity": 0.2
                          }
                        },
                        "type": "barpolar"
                      }
                    ],
                    "carpet": [
                      {
                        "aaxis": {
                          "endlinecolor": "#2a3f5f",
                          "gridcolor": "white",
                          "linecolor": "white",
                          "minorgridcolor": "white",
                          "startlinecolor": "#2a3f5f"
                        },
                        "baxis": {
                          "endlinecolor": "#2a3f5f",
                          "gridcolor": "white",
                          "linecolor": "white",
                          "minorgridcolor": "white",
                          "startlinecolor": "#2a3f5f"
                        },
                        "type": "carpet"
                      }
                    ],
                    "choropleth": [
                      {
                        "colorbar": {
                          "outlinewidth": 0,
                          "ticks": ""
                        },
                        "type": "choropleth"
                      }
                    ],
                    "contour": [
                      {
                        "colorbar": {
                          "outlinewidth": 0,
                          "ticks": ""
                        },
                        "colorscale": [
                          [
                            0,
                            "#0d0887"
                          ],
                          [
                            0.1111111111111111,
                            "#46039f"
                          ],
                          [
                            0.2222222222222222,
                            "#7201a8"
                          ],
                          [
                            0.3333333333333333,
                            "#9c179e"
                          ],
                          [
                            0.4444444444444444,
                            "#bd3786"
                          ],
                          [
                            0.5555555555555556,
                            "#d8576b"
                          ],
                          [
                            0.6666666666666666,
                            "#ed7953"
                          ],
                          [
                            0.7777777777777778,
                            "#fb9f3a"
                          ],
                          [
                            0.8888888888888888,
                            "#fdca26"
                          ],
                          [
                            1,
                            "#f0f921"
                          ]
                        ],
                        "type": "contour"
                      }
                    ],
                    "contourcarpet": [
                      {
                        "colorbar": {
                          "outlinewidth": 0,
                          "ticks": ""
                        },
                        "type": "contourcarpet"
                      }
                    ],
                    "heatmap": [
                      {
                        "colorbar": {
                          "outlinewidth": 0,
                          "ticks": ""
                        },
                        "colorscale": [
                          [
                            0,
                            "#0d0887"
                          ],
                          [
                            0.1111111111111111,
                            "#46039f"
                          ],
                          [
                            0.2222222222222222,
                            "#7201a8"
                          ],
                          [
                            0.3333333333333333,
                            "#9c179e"
                          ],
                          [
                            0.4444444444444444,
                            "#bd3786"
                          ],
                          [
                            0.5555555555555556,
                            "#d8576b"
                          ],
                          [
                            0.6666666666666666,
                            "#ed7953"
                          ],
                          [
                            0.7777777777777778,
                            "#fb9f3a"
                          ],
                          [
                            0.8888888888888888,
                            "#fdca26"
                          ],
                          [
                            1,
                            "#f0f921"
                          ]
                        ],
                        "type": "heatmap"
                      }
                    ],
                    "heatmapgl": [
                      {
                        "colorbar": {
                          "outlinewidth": 0,
                          "ticks": ""
                        },
                        "colorscale": [
                          [
                            0,
                            "#0d0887"
                          ],
                          [
                            0.1111111111111111,
                            "#46039f"
                          ],
                          [
                            0.2222222222222222,
                            "#7201a8"
                          ],
                          [
                            0.3333333333333333,
                            "#9c179e"
                          ],
                          [
                            0.4444444444444444,
                            "#bd3786"
                          ],
                          [
                            0.5555555555555556,
                            "#d8576b"
                          ],
                          [
                            0.6666666666666666,
                            "#ed7953"
                          ],
                          [
                            0.7777777777777778,
                            "#fb9f3a"
                          ],
                          [
                            0.8888888888888888,
                            "#fdca26"
                          ],
                          [
                            1,
                            "#f0f921"
                          ]
                        ],
                        "type": "heatmapgl"
                      }
                    ],
                    "histogram": [
                      {
                        "marker": {
                          "pattern": {
                            "fillmode": "overlay",
                            "size": 10,
                            "solidity": 0.2
                          }
                        },
                        "type": "histogram"
                      }
                    ],
                    "histogram2d": [
                      {
                        "colorbar": {
                          "outlinewidth": 0,
                          "ticks": ""
                        },
                        "colorscale": [
                          [
                            0,
                            "#0d0887"
                          ],
                          [
                            0.1111111111111111,
                            "#46039f"
                          ],
                          [
                            0.2222222222222222,
                            "#7201a8"
                          ],
                          [
                            0.3333333333333333,
                            "#9c179e"
                          ],
                          [
                            0.4444444444444444,
                            "#bd3786"
                          ],
                          [
                            0.5555555555555556,
                            "#d8576b"
                          ],
                          [
                            0.6666666666666666,
                            "#ed7953"
                          ],
                          [
                            0.7777777777777778,
                            "#fb9f3a"
                          ],
                          [
                            0.8888888888888888,
                            "#fdca26"
                          ],
                          [
                            1,
                            "#f0f921"
                          ]
                        ],
                        "type": "histogram2d"
                      }
                    ],
                    "histogram2dcontour": [
                      {
                        "colorbar": {
                          "outlinewidth": 0,
                          "ticks": ""
                        },
                        "colorscale": [
                          [
                            0,
                            "#0d0887"
                          ],
                          [
                            0.1111111111111111,
                            "#46039f"
                          ],
                          [
                            0.2222222222222222,
                            "#7201a8"
                          ],
                          [
                            0.3333333333333333,
                            "#9c179e"
                          ],
                          [
                            0.4444444444444444,
                            "#bd3786"
                          ],
                          [
                            0.5555555555555556,
                            "#d8576b"
                          ],
                          [
                            0.6666666666666666,
                            "#ed7953"
                          ],
                          [
                            0.7777777777777778,
                            "#fb9f3a"
                          ],
                          [
                            0.8888888888888888,
                            "#fdca26"
                          ],
                          [
                            1,
                            "#f0f921"
                          ]
                        ],
                        "type": "histogram2dcontour"
                      }
                    ],
                    "mesh3d": [
                      {
                        "colorbar": {
                          "outlinewidth": 0,
                          "ticks": ""
                        },
                        "type": "mesh3d"
                      }
                    ],
                    "parcoords": [
                      {
                        "line": {
                          "colorbar": {
                            "outlinewidth": 0,
                            "ticks": ""
                          }
                        },
                        "type": "parcoords"
                      }
                    ],
                    "pie": [
                      {
                        "automargin": true,
                        "type": "pie"
                      }
                    ],
                    "scatter": [
                      {
                        "fillpattern": {
                          "fillmode": "overlay",
                          "size": 10,
                          "solidity": 0.2
                        },
                        "type": "scatter"
                      }
                    ],
                    "scatter3d": [
                      {
                        "line": {
                          "colorbar": {
                            "outlinewidth": 0,
                            "ticks": ""
                          }
                        },
                        "marker": {
                          "colorbar": {
                            "outlinewidth": 0,
                            "ticks": ""
                          }
                        },
                        "type": "scatter3d"
                      }
                    ],
                    "scattercarpet": [
                      {
                        "marker": {
                          "colorbar": {
                            "outlinewidth": 0,
                            "ticks": ""
                          }
                        },
                        "type": "scattercarpet"
                      }
                    ],
                    "scattergeo": [
                      {
                        "marker": {
                          "colorbar": {
                            "outlinewidth": 0,
                            "ticks": ""
                          }
                        },
                        "type": "scattergeo"
                      }
                    ],
                    "scattergl": [
                      {
                        "marker": {
                          "colorbar": {
                            "outlinewidth": 0,
                            "ticks": ""
                          }
                        },
                        "type": "scattergl"
                      }
                    ],
                    "scattermapbox": [
                      {
                        "marker": {
                          "colorbar": {
                            "outlinewidth": 0,
                            "ticks": ""
                          }
                        },
                        "type": "scattermapbox"
                      }
                    ],
                    "scatterpolar": [
                      {
                        "marker": {
                          "colorbar": {
                            "outlinewidth": 0,
                            "ticks": ""
                          }
                        },
                        "type": "scatterpolar"
                      }
                    ],
                    "scatterpolargl": [
                      {
                        "marker": {
                          "colorbar": {
                            "outlinewidth": 0,
                            "ticks": ""
                          }
                        },
                        "type": "scatterpolargl"
                      }
                    ],
                    "scatterternary": [
                      {
                        "marker": {
                          "colorbar": {
                            "outlinewidth": 0,
                            "ticks": ""
                          }
                        },
                        "type": "scatterternary"
                      }
                    ],
                    "surface": [
                      {
                        "colorbar": {
                          "outlinewidth": 0,
                          "ticks": ""
                        },
                        "colorscale": [
                          [
                            0,
                            "#0d0887"
                          ],
                          [
                            0.1111111111111111,
                            "#46039f"
                          ],
                          [
                            0.2222222222222222,
                            "#7201a8"
                          ],
                          [
                            0.3333333333333333,
                            "#9c179e"
                          ],
                          [
                            0.4444444444444444,
                            "#bd3786"
                          ],
                          [
                            0.5555555555555556,
                            "#d8576b"
                          ],
                          [
                            0.6666666666666666,
                            "#ed7953"
                          ],
                          [
                            0.7777777777777778,
                            "#fb9f3a"
                          ],
                          [
                            0.8888888888888888,
                            "#fdca26"
                          ],
                          [
                            1,
                            "#f0f921"
                          ]
                        ],
                        "type": "surface"
                      }
                    ],
                    "table": [
                      {
                        "cells": {
                          "fill": {
                            "color": "#EBF0F8"
                          },
                          "line": {
                            "color": "white"
                          }
                        },
                        "header": {
                          "fill": {
                            "color": "#C8D4E3"
                          },
                          "line": {
                            "color": "white"
                          }
                        },
                        "type": "table"
                      }
                    ]
                  },
                  "layout": {
                    "annotationdefaults": {
                      "arrowcolor": "#2a3f5f",
                      "arrowhead": 0,
                      "arrowwidth": 1
                    },
                    "autotypenumbers": "strict",
                    "coloraxis": {
                      "colorbar": {
                        "outlinewidth": 0,
                        "ticks": ""
                      }
                    },
                    "colorscale": {
                      "diverging": [
                        [
                          0,
                          "#8e0152"
                        ],
                        [
                          0.1,
                          "#c51b7d"
                        ],
                        [
                          0.2,
                          "#de77ae"
                        ],
                        [
                          0.3,
                          "#f1b6da"
                        ],
                        [
                          0.4,
                          "#fde0ef"
                        ],
                        [
                          0.5,
                          "#f7f7f7"
                        ],
                        [
                          0.6,
                          "#e6f5d0"
                        ],
                        [
                          0.7,
                          "#b8e186"
                        ],
                        [
                          0.8,
                          "#7fbc41"
                        ],
                        [
                          0.9,
                          "#4d9221"
                        ],
                        [
                          1,
                          "#276419"
                        ]
                      ],
                      "sequential": [
                        [
                          0,
                          "#0d0887"
                        ],
                        [
                          0.1111111111111111,
                          "#46039f"
                        ],
                        [
                          0.2222222222222222,
                          "#7201a8"
                        ],
                        [
                          0.3333333333333333,
                          "#9c179e"
                        ],
                        [
                          0.4444444444444444,
                          "#bd3786"
                        ],
                        [
                          0.5555555555555556,
                          "#d8576b"
                        ],
                        [
                          0.6666666666666666,
                          "#ed7953"
                        ],
                        [
                          0.7777777777777778,
                          "#fb9f3a"
                        ],
                        [
                          0.8888888888888888,
                          "#fdca26"
                        ],
                        [
                          1,
                          "#f0f921"
                        ]
                      ],
                      "sequentialminus": [
                        [
                          0,
                          "#0d0887"
                        ],
                        [
                          0.1111111111111111,
                          "#46039f"
                        ],
                        [
                          0.2222222222222222,
                          "#7201a8"
                        ],
                        [
                          0.3333333333333333,
                          "#9c179e"
                        ],
                        [
                          0.4444444444444444,
                          "#bd3786"
                        ],
                        [
                          0.5555555555555556,
                          "#d8576b"
                        ],
                        [
                          0.6666666666666666,
                          "#ed7953"
                        ],
                        [
                          0.7777777777777778,
                          "#fb9f3a"
                        ],
                        [
                          0.8888888888888888,
                          "#fdca26"
                        ],
                        [
                          1,
                          "#f0f921"
                        ]
                      ]
                    },
                    "colorway": [
                      "#636efa",
                      "#EF553B",
                      "#00cc96",
                      "#ab63fa",
                      "#FFA15A",
                      "#19d3f3",
                      "#FF6692",
                      "#B6E880",
                      "#FF97FF",
                      "#FECB52"
                    ],
                    "font": {
                      "color": "#2a3f5f"
                    },
                    "geo": {
                      "bgcolor": "white",
                      "lakecolor": "white",
                      "landcolor": "#E5ECF6",
                      "showlakes": true,
                      "showland": true,
                      "subunitcolor": "white"
                    },
                    "hoverlabel": {
                      "align": "left"
                    },
                    "hovermode": "closest",
                    "mapbox": {
                      "style": "light"
                    },
                    "paper_bgcolor": "white",
                    "plot_bgcolor": "#E5ECF6",
                    "polar": {
                      "angularaxis": {
                        "gridcolor": "white",
                        "linecolor": "white",
                        "ticks": ""
                      },
                      "bgcolor": "#E5ECF6",
                      "radialaxis": {
                        "gridcolor": "white",
                        "linecolor": "white",
                        "ticks": ""
                      }
                    },
                    "scene": {
                      "xaxis": {
                        "backgroundcolor": "#E5ECF6",
                        "gridcolor": "white",
                        "gridwidth": 2,
                        "linecolor": "white",
                        "showbackground": true,
                        "ticks": "",
                        "zerolinecolor": "white"
                      },
                      "yaxis": {
                        "backgroundcolor": "#E5ECF6",
                        "gridcolor": "white",
                        "gridwidth": 2,
                        "linecolor": "white",
                        "showbackground": true,
                        "ticks": "",
                        "zerolinecolor": "white"
                      },
                      "zaxis": {
                        "backgroundcolor": "#E5ECF6",
                        "gridcolor": "white",
                        "gridwidth": 2,
                        "linecolor": "white",
                        "showbackground": true,
                        "ticks": "",
                        "zerolinecolor": "white"
                      }
                    },
                    "shapedefaults": {
                      "line": {
                        "color": "#2a3f5f"
                      }
                    },
                    "ternary": {
                      "aaxis": {
                        "gridcolor": "white",
                        "linecolor": "white",
                        "ticks": ""
                      },
                      "baxis": {
                        "gridcolor": "white",
                        "linecolor": "white",
                        "ticks": ""
                      },
                      "bgcolor": "#E5ECF6",
                      "caxis": {
                        "gridcolor": "white",
                        "linecolor": "white",
                        "ticks": ""
                      }
                    },
                    "title": {
                      "x": 0.05
                    },
                    "xaxis": {
                      "automargin": true,
                      "gridcolor": "white",
                      "linecolor": "white",
                      "ticks": "",
                      "title": {
                        "standoff": 15
                      },
                      "zerolinecolor": "white",
                      "zerolinewidth": 2
                    },
                    "yaxis": {
                      "automargin": true,
                      "gridcolor": "white",
                      "linecolor": "white",
                      "ticks": "",
                      "title": {
                        "standoff": 15
                      },
                      "zerolinecolor": "white",
                      "zerolinewidth": 2
                    }
                  }
                },
                "title": {
                  "text": "Gráfica de la proporción acumulada de varianza explicada"
                },
                "xaxis": {
                  "anchor": "y",
                  "domain": [
                    0,
                    1
                  ],
                  "title": {
                    "text": "Número de componentes principales"
                  }
                },
                "yaxis": {
                  "anchor": "x",
                  "domain": [
                    0,
                    1
                  ],
                  "title": {
                    "text": "Proporción acumulada de varianza explicada"
                  }
                }
              }
            }
          },
          "metadata": {},
          "output_type": "display_data"
        }
      ],
      "source": [
        "# Calcular la proporción acumulada de varianza explicada\n",
        "cumulative_explained_variance_ratio = np.cumsum(explained_variance_ratio_full)\n",
        "\n",
        "# Crear un gráfico de la proporción acumulada de varianza explicada\n",
        "fig = px.line(x=range(1, len(cumulative_explained_variance_ratio) + 1), y=cumulative_explained_variance_ratio, markers=True)\n",
        "fig.update_xaxes(title_text='Número de componentes principales')\n",
        "fig.update_yaxes(title_text='Proporción acumulada de varianza explicada')\n",
        "fig.update_layout(title='Gráfica de la proporción acumulada de varianza explicada')\n",
        "fig.show()"
      ]
    },
    {
      "cell_type": "markdown",
      "id": "43ba9076",
      "metadata": {
        "id": "43ba9076"
      },
      "source": [
        "Al observar la gráfica, podemos buscar un \"codo\" o un punto de inflexión donde la proporción acumulada de varianza explicada deja de aumentar significativamente con la adición de más componentes principales. Este punto puede ser un buen indicador de cuántas componentes principales seleccionar.\n",
        "\n",
        "Sin embargo, es importante tener en cuenta que no siempre hay un \"codo\" claramente definido y que la elección del número de componentes principales puede depender del contexto y de los objetivos específicos del análisis. En algunos casos, también puede ser útil utilizar técnicas de validación cruzada o pruebas de rendimiento en algoritmos de aprendizaje automático para determinar el número óptimo de componentes principales."
      ]
    },
    {
      "cell_type": "markdown",
      "id": "e5e24ffb",
      "metadata": {
        "id": "e5e24ffb"
      },
      "source": [
        "## Visualización de los resultados\n",
        "Utilizaremos plotly para visualizar la proyección de los datos en las dos primeras componentes principales y observar la separación entre clases."
      ]
    },
    {
      "cell_type": "code",
      "execution_count": 9,
      "id": "d4c98a14",
      "metadata": {
        "ExecuteTime": {
          "end_time": "2023-03-31T22:32:38.985330Z",
          "start_time": "2023-03-31T22:32:38.869255Z"
        },
        "id": "d4c98a14",
        "outputId": "f51c98b1-b330-4792-a858-70f6e610b14d"
      },
      "outputs": [
        {
          "data": {
            "application/vnd.plotly.v1+json": {
              "config": {
                "plotlyServerURL": "https://plot.ly"
              },
              "data": [
                {
                  "hovertemplate": "Target=0<br>PC1=%{x}<br>PC2=%{y}<extra></extra>",
                  "legendgroup": "0",
                  "marker": {
                    "color": "#636efa",
                    "symbol": "circle"
                  },
                  "mode": "markers",
                  "name": "0",
                  "orientation": "v",
                  "showlegend": true,
                  "type": "scatter",
                  "x": [
                    9.19283682621269,
                    2.387801795801728,
                    5.733896279732532,
                    7.122953197711046,
                    3.935302073677113,
                    2.3802471503459333,
                    2.2388833080522352,
                    2.143298500377745,
                    3.174924293084108,
                    6.351746789525424,
                    -0.8104137708450722,
                    2.651100477242752,
                    8.185034458150085,
                    0.34212591399090947,
                    4.342379194648223,
                    4.075656175345722,
                    0.2300550157103661,
                    4.418010915982942,
                    4.948703550565221,
                    4.733210788210254,
                    4.20852420904938,
                    4.949632073983599,
                    7.0985628549118545,
                    3.5102626039721256,
                    3.064053886062769,
                    4.0072641436561955,
                    1.7153097265435067,
                    6.059445513504034,
                    2.9022361049991994,
                    4.554782688814693,
                    4.990602722475812,
                    2.985340788970524,
                    2.7663691577779255,
                    1.296198765020634,
                    -0.9980689008790129,
                    0.7652641153970615,
                    -2.1509534707303337,
                    -0.093331386567121,
                    9.087999677262927,
                    0.9904537655033249,
                    -0.29354655092767906,
                    5.38094040693728,
                    1.700006886837151,
                    3.3025509513786355,
                    -0.6746192855714594,
                    4.648738872436591,
                    2.1768628822297638,
                    4.759112153866157,
                    1.6916079231695613,
                    1.8123054050075784,
                    2.7045961726310734,
                    5.503705315293395,
                    -0.3617091926932085,
                    1.4281675928954303,
                    6.230896511903543,
                    11.668714648330873,
                    10.769242819273888,
                    5.034811085484096,
                    3.2882353847179124,
                    0.6076079451769527,
                    3.5835636260634196,
                    0.2524975675276307,
                    2.7758655690028533,
                    4.39622795470184,
                    0.61628086982461,
                    -0.4328602208161829,
                    3.213916765177225,
                    13.056121858662898,
                    3.110527693351822,
                    4.956725570001443,
                    0.8510142626650268,
                    3.3341331980197073,
                    12.894612133965495,
                    -0.6388804999701643,
                    1.9191334226478083,
                    4.6436913165858735,
                    1.432069426797185,
                    1.3526270253936652,
                    2.171416018303336,
                    -1.9768403553186704,
                    3.782026455582932,
                    1.3450204377372872,
                    2.399997843155079,
                    4.100787726595221,
                    3.38733076464289,
                    6.149886189965109,
                    5.494152797674733,
                    1.2136346121480226,
                    5.069661081475847,
                    -0.9474878917478883,
                    2.8193683434656704,
                    2.9563018671442483,
                    9.512669844165195,
                    9.007165526292589,
                    0.758878484761412,
                    -0.39001898105884797,
                    0.3648761518404466,
                    6.5231166202926145,
                    1.7796614892323832,
                    2.611484893162003,
                    2.498438877724619,
                    1.2770271752988929,
                    3.473197342849964,
                    1.2566751119850608,
                    1.6494606959346982,
                    9.036589480304256,
                    4.554590064788087,
                    -0.22309260678400386,
                    0.4465443964173636,
                    4.808969244733264,
                    12.285019759541534,
                    3.372196590643408,
                    2.508766311623031,
                    1.3180684765424613,
                    4.943581014506426,
                    4.298077329828336,
                    1.803247020466468,
                    2.7555680011537227,
                    3.257254673478642,
                    3.3163241134467554,
                    8.403847113457443,
                    2.6475686330836488,
                    3.350295790637189,
                    3.795565641824171,
                    7.143842039052064,
                    7.085010648787167,
                    1.3140990035986402,
                    3.711649514779684,
                    0.46047909084832095,
                    6.3926499205356535,
                    5.255544949778335,
                    8.73386150295413,
                    3.6913178802285587,
                    3.378250872695398,
                    -0.8402096538370419,
                    3.284372619973927,
                    -1.908768928136867,
                    1.6147819253558557,
                    6.619726346836488,
                    7.676149471669291,
                    0.3373454926437364,
                    0.01743079148765895,
                    4.960268117827532,
                    3.785060102923339,
                    2.637255777272039,
                    -2.385882758419937,
                    6.590235943344425,
                    7.182933102085909,
                    1.8953162763187015,
                    1.8348404671473255,
                    7.236485314391366,
                    2.2505103740996946,
                    2.1078012278782805,
                    1.7859499803192374,
                    3.319673971520142,
                    4.680166262400105,
                    7.353218575027169,
                    4.9751623584150915,
                    6.182283741693116,
                    10.934298158426083,
                    2.1184969319280578,
                    2.7350117716759006,
                    6.227025988691083,
                    5.307140022000338,
                    7.248001061274205,
                    4.207220618955578,
                    3.6350149466818973,
                    3.5192482750132585,
                    3.7659321541051187,
                    -0.5429013641685531,
                    4.70350073169908,
                    4.1490973424489415,
                    7.672141552625423,
                    6.28967346953364,
                    2.763370786290162,
                    -0.9340908103731156,
                    6.003616591374218,
                    4.949858461550175,
                    4.549111146628123,
                    4.442342818130719,
                    0.6644409146915057,
                    2.4723569167738675,
                    0.9817275418948267,
                    3.245413648903216,
                    4.331653344535742,
                    2.511753102260039,
                    3.475493748131658,
                    16.319233231031493,
                    5.930964859584542,
                    3.8244330429410365,
                    4.754614870667818,
                    -0.7417817670635369,
                    3.1035197039280455,
                    3.715705103463058,
                    5.09484184379602,
                    2.7903998294340293,
                    7.259178840794395,
                    4.094142557240873,
                    2.2269944892062226,
                    -0.7337724522412391,
                    2.6972237543991002,
                    3.3790146677219357,
                    8.630755859095927,
                    4.028435261073856,
                    5.165410948304889,
                    0.5359319494267375,
                    5.917612589142453,
                    8.74133807726843,
                    6.43931548395419,
                    3.793382370032684,
                    1.256179276151027,
                    10.374794059769126
                  ],
                  "xaxis": "x",
                  "y": [
                    1.9485830706617424,
                    -3.7681717421762047,
                    -1.0751737964947938,
                    10.275589122116203,
                    -1.9480715679813994,
                    3.949928895550296,
                    -2.6900312773362987,
                    2.3402440069771195,
                    3.391812951908772,
                    7.727174066767998,
                    -2.6592754976611483,
                    0.06656792664869832,
                    2.7009764929286417,
                    -0.9682792607504966,
                    4.861083312551233,
                    2.977061180341422,
                    -1.5647577252283447,
                    1.418670333381774,
                    -4.114333524955809,
                    3.3049637283515745,
                    -5.128366514006681,
                    -1.5437522881504562,
                    2.018610337030167,
                    2.171625115656622,
                    -1.876552347755021,
                    0.5372421605961806,
                    -1.52370502290518,
                    -0.7571774510328537,
                    4.00529551227327,
                    0.3375361537466544,
                    -1.1325889057126348,
                    0.7584232424558704,
                    -0.3543559424340169,
                    0.9131962762194884,
                    -3.351292923000526,
                    0.8862439529780815,
                    -1.9239916158228616,
                    2.2607520062186,
                    2.0186730996419215,
                    0.9849300204141331,
                    -0.13709909076217452,
                    -0.1348769776388379,
                    2.3522717936439674,
                    -1.1309378049711245,
                    -2.1164097168102547,
                    -2.310332570255225,
                    0.9721160461031753,
                    3.0116805064061887,
                    1.540676557199659,
                    0.7227401912839948,
                    -4.437141769518102,
                    0.9383254151192701,
                    0.11973908639812232,
                    -1.96710141189235,
                    0.9200695428327507,
                    4.748617202559411,
                    -2.2579828982045447,
                    0.7744091565770428,
                    -1.6682370621774734,
                    0.1622145248375697,
                    -2.20666183921601,
                    -0.5313515471652159,
                    0.5580005267992092,
                    -2.1235077122590886,
                    0.6389116689257819,
                    -1.3920442987211064,
                    4.04675622260987,
                    0.9815132263653168,
                    1.5693895561413722,
                    2.3848462185715116,
                    -2.306735367481843,
                    -1.3255573542328347,
                    2.3166224639364863,
                    -0.9113660287676514,
                    -3.5380823684659415,
                    -1.4820171696246758,
                    -1.0496039491215474,
                    -1.1541414717938114,
                    -2.8262607262167445,
                    -0.41938744693296326,
                    0.8603815979139984,
                    -1.2747709560995952,
                    4.837988819852654,
                    -0.37880382012908337,
                    -2.911037106931626,
                    -2.017652754948643,
                    -4.165829305505958,
                    -2.039038957362821,
                    -1.785152334186988,
                    -1.6847535464146903,
                    1.2651031320857968,
                    0.7064218520876024,
                    -5.603484192922555,
                    0.5810310773018132,
                    -1.6085325755586417,
                    -0.9892423529245947,
                    -3.5744612259787836,
                    8.011169611717001,
                    2.776587169690612,
                    1.561421709375816,
                    2.278482852184419,
                    -2.443258964301823,
                    -2.277848910027019,
                    0.38239326431464504,
                    -2.1022910705446924,
                    -0.6551728252637771,
                    3.0866391559263775,
                    -0.701821490232409,
                    -2.787707740765416,
                    -3.0291029671756897,
                    -7.543410169291352,
                    2.5878254279543396,
                    2.614648477588601,
                    2.1544795010901727,
                    -2.8483244577494227,
                    -4.666275179027035,
                    0.1664609572167523,
                    3.4657736038223237,
                    -0.12520049208251066,
                    -3.939152259263682,
                    -4.153904776656566,
                    -3.9511729514669947,
                    -2.15457002640322,
                    -1.0262326420592742,
                    -2.0748422327583285,
                    0.5282231716046655,
                    -1.7754258312886757,
                    -2.8074771106126097,
                    0.39416628863842285,
                    -1.8230941632125914,
                    3.8945309898254403,
                    3.279877374900064,
                    1.0656460674294377,
                    -3.3712278921059067,
                    -3.5000850321735273,
                    -0.9906732007729373,
                    -3.121945805541457,
                    -2.474573347878479,
                    -6.003276417597753,
                    -3.075306304030733,
                    -3.14437345765432,
                    -3.4593432911673223,
                    -1.3411230474673446,
                    -1.90190741628411,
                    0.5771549958037363,
                    -0.824115570816097,
                    -1.4848624499149916,
                    0.05514606010038886,
                    -2.392238003073638,
                    -4.321522964540999,
                    -0.035701797260714756,
                    -0.34853594037163305,
                    1.1219739434581542,
                    -0.26922163566789253,
                    -1.5770528423589296,
                    -0.968592953934879,
                    -5.2426231426846215,
                    -1.3325721796072396,
                    5.108005449580279,
                    -3.703254080605461,
                    0.29662906965796687,
                    -3.9451682304399966,
                    -1.390109690804628,
                    -6.723414983645962,
                    -3.655469129522887,
                    1.176242881833937,
                    -1.9564409105941014,
                    -3.858607120192693,
                    5.9852953484725955,
                    -1.3170679101497182,
                    -0.19595575483461253,
                    0.7674888443515716,
                    -0.8604841507844897,
                    2.036547396917395,
                    -1.0786335090149226,
                    -2.105945591106674,
                    -0.0910292220025495,
                    3.006064129188205,
                    -0.8160005055426236,
                    -0.9924388979240364,
                    0.4368608556768175,
                    -1.499824751615697,
                    -2.2104299472091338,
                    -1.77835863229757,
                    -4.049332418374838,
                    -2.52880758350748,
                    -1.672884391114412,
                    -7.775852804285629,
                    1.228296682345025,
                    2.305236316355172,
                    -1.4894235605247585,
                    -2.4520349661496335,
                    -1.236153211309885,
                    -1.0586862195850204,
                    -2.0192078341608086,
                    3.385560771864686,
                    -5.495735719082926,
                    2.8029272496894335,
                    1.941634759010169,
                    -1.9436971834368155,
                    -1.943709945833865,
                    -2.3334289450313173,
                    -3.459451915135217,
                    -2.9414300980598003,
                    -2.3822032315921264,
                    0.38071514553677627,
                    3.4826366589936844,
                    -0.5738546723654728,
                    -3.5768174440178337,
                    -3.5840478639495448,
                    -1.902296712943192,
                    1.6720101052391156
                  ],
                  "yaxis": "y"
                },
                {
                  "hovertemplate": "Target=1<br>PC1=%{x}<br>PC2=%{y}<extra></extra>",
                  "legendgroup": "1",
                  "marker": {
                    "color": "#EF553B",
                    "symbol": "circle"
                  },
                  "mode": "markers",
                  "name": "1",
                  "orientation": "v",
                  "showlegend": true,
                  "type": "scatter",
                  "x": [
                    -1.2370633569553164,
                    -1.5781612348121614,
                    -3.5573363735496906,
                    -3.749313395938107,
                    -4.581936672186542,
                    -2.1364452772844946,
                    -1.5674789972078191,
                    -3.5429055574628943,
                    -3.157814050181081,
                    -3.450488543516062,
                    -2.8581584400461564,
                    -3.7214589928328365,
                    -4.135962943790249,
                    -2.385835663134887,
                    -2.5788832519679383,
                    -2.314132249372335,
                    -2.7859247566663443,
                    -3.518648339647485,
                    4.330002649082826,
                    -3.261279472772151,
                    -0.30785577047711693,
                    -2.6299766385632815,
                    -0.8345178814922276,
                    -2.02157765843535,
                    -1.6383849373657968,
                    1.1674616110728024,
                    -2.174464309547116,
                    -0.9341581043943834,
                    1.259604647350211,
                    -1.588263972177817,
                    -2.847431586695962,
                    -1.9649501129375648,
                    -2.5920828278044654,
                    -3.904338150153009,
                    -2.8182312131424228,
                    -4.555028840448837,
                    -3.4481835412180244,
                    -2.1159602640307544,
                    -2.6913522049625698,
                    -0.7492713563493859,
                    -3.1590060374146165,
                    -2.228679813442408,
                    -2.4928310356111707,
                    -0.10335042641343417,
                    3.591294118689978,
                    -1.3489486828721646,
                    -2.5101176755577774,
                    -2.046029572451671,
                    -2.0970691694478942,
                    -2.965999206622923,
                    -0.7707436775319444,
                    -2.202515523783195,
                    -3.1434122456029483,
                    1.4088683633941235,
                    -1.8774673636136188,
                    -0.7091148317235181,
                    -2.6007895040206783,
                    -3.2580073594687766,
                    -1.9920347221446517,
                    -5.0150086899765585,
                    -2.4559688106875024,
                    -1.8372816695173624,
                    -4.346489712228986,
                    -0.7328129161430248,
                    0.39309866393171694,
                    -0.41232781279511704,
                    -3.0499249404513735,
                    -1.4425637316071382,
                    0.08318610261038606,
                    7.093306714186209,
                    -3.74340454299632,
                    -0.9691728143627177,
                    -2.4187199081234447,
                    -0.7516030055363849,
                    -3.654646528253653,
                    -4.680211576013137,
                    -0.597781766613488,
                    -1.3250313470424802,
                    -2.997403207131194,
                    -4.386732721106747,
                    -1.9777014396332222,
                    -2.514876418889983,
                    -3.4839862980197958,
                    -4.658729577967378,
                    -5.351618114937078,
                    1.1708977789056159,
                    -4.975702062160004,
                    -4.064025658740728,
                    -2.659359615352123,
                    -3.8890655271877854,
                    -2.835890918155514,
                    -3.3102836207398836,
                    -3.357304402555427,
                    -1.717735176106093,
                    -5.56573589898295,
                    -2.8190385096124264,
                    -1.4734313692164047,
                    -0.7811899668986064,
                    -3.4548953860959357,
                    0.31443822596218746,
                    -2.059191942545698,
                    -2.9987105282378685,
                    -0.38875629875540085,
                    -2.756932991257912,
                    -2.373501801974503,
                    -0.9671903116028633,
                    -2.975798787940548,
                    -2.478359512372171,
                    -0.8260392924375877,
                    -3.8946973283395745,
                    -0.3895780902175687,
                    -1.4573213567983307,
                    -4.019140240564514,
                    -3.6764132931670823,
                    -4.036607361757773,
                    -2.334233350229967,
                    -0.6817688659206675,
                    -2.227720518819361,
                    -4.477584655730607,
                    1.322621418837339,
                    -1.850089860139924,
                    -2.2813180992399347,
                    -3.228770118278518,
                    1.0259007876481168,
                    -2.5825558372815256,
                    -2.4858832255065053,
                    -3.0324811407719965,
                    -1.4646759334575956,
                    -2.0121524285188754,
                    -2.28434025207133,
                    -0.7397430856440178,
                    -4.506562510682075,
                    -3.158754301407255,
                    -3.6391359671608194,
                    -1.276583379151268,
                    -4.346014054231513,
                    -3.492426037287309,
                    -1.8665488536845372,
                    -2.4707226852229907,
                    -1.3726850236666703,
                    -4.138882573259437,
                    -0.6869402913899195,
                    -4.3121295827430375,
                    0.4033094213765916,
                    -3.0036057953215303,
                    3.134008205441478,
                    -0.41783686688153915,
                    -1.420223135081802,
                    -2.870588347786661,
                    -3.3658457040711003,
                    -3.315000154835646,
                    -4.76971015969914,
                    -2.7870960094316035,
                    -3.3938417715167692,
                    -1.4553305178960108,
                    -3.578835403446675,
                    -3.0570326418729223,
                    -3.074435831560824,
                    -3.8535397332560057,
                    -5.390256393774954,
                    -4.657682334495062,
                    -4.027542388108111,
                    -3.347821941610462,
                    -3.299842011468754,
                    -2.1364041423510125,
                    -4.038017141737297,
                    -3.7654145532601278,
                    -4.871239383480488,
                    -4.747248516354987,
                    1.5729311406090989,
                    -4.026620252659106,
                    -1.2948661700944566,
                    -1.810380558890839,
                    -3.145650188521373,
                    -2.8872680582393677,
                    -3.1496539838211075,
                    -4.628379483049911,
                    -0.5276966174009652,
                    -3.213500980501025,
                    -4.386422966518693,
                    -3.8100178698309293,
                    -2.3932759643302677,
                    -3.0676951406052657,
                    0.29531318324796413,
                    -1.9389694969477886,
                    -2.077178921430607,
                    -2.1769168795840765,
                    -2.4315514550094957,
                    -3.3679657788780624,
                    -1.2065977905118475,
                    -3.3260792487092683,
                    -1.928795402234972,
                    -4.04183508995445,
                    -3.0121949701577764,
                    -0.982648581268786,
                    0.35789386251885985,
                    -3.1939178655058122,
                    -2.9932333012442403,
                    -3.193914150468067,
                    -4.591961853505563,
                    -2.485916154412639,
                    -2.398665346210946,
                    -0.7796151997479002,
                    -3.13998842575315,
                    -2.2237757455791556,
                    -2.4996363741123906,
                    -2.61494830724038,
                    -0.09610811657629863,
                    2.044856934566149,
                    -3.0667495275567944,
                    -1.6035864433865323,
                    -0.9255666032074142,
                    -3.288349594101786,
                    -1.5548521496507846,
                    -0.398779917581239,
                    -2.3005678213338023,
                    -2.0588194558299335,
                    -3.4245180552311427,
                    -0.4724065518539919,
                    -3.6433802386138505,
                    -3.5946893435917726,
                    -2.0103794137582125,
                    -2.920833494837285,
                    -0.5007378002659543,
                    -1.9114985749227327,
                    -3.7850992277962043,
                    -2.708393968214137,
                    -3.430770691239716,
                    -2.0013884663891823,
                    -2.473293094286804,
                    -3.647257746393503,
                    -2.3461868509418555,
                    -1.1429969265478155,
                    -1.3508573033318412,
                    -1.9693236050368275,
                    -2.9311870554403607,
                    -2.9263743861502007,
                    -3.996188277410067,
                    0.1551380594683944,
                    -1.9296217302551268,
                    -2.622338601705017,
                    -2.921877804574738,
                    -3.3419448039485875,
                    -2.014915033413065,
                    1.9884621055508755,
                    -1.669603930599822,
                    -0.37117811351837776,
                    -1.8489599298376567,
                    -4.703042202111471,
                    -1.2831871507863637,
                    -2.3142468193054215,
                    -4.659085176410858,
                    -3.9434733817346963,
                    -0.9158035193316932,
                    -2.1949843010203884,
                    -2.2408760536427055,
                    -2.125180436920464,
                    -2.6153174112221462,
                    -3.210967975661914,
                    -0.30675039870750764,
                    -3.4547183721126618,
                    -3.9005268480610145,
                    -1.2572515710215866,
                    -1.5572194125371115,
                    -1.249258096698668,
                    -1.0774513298929531,
                    -2.2170923054476623,
                    -1.1738306467780055,
                    -2.836301444333525,
                    -1.8570858988735661,
                    -1.3286143729585367,
                    -2.8027713567762067,
                    -3.1745687967636167,
                    -4.0870773609311755,
                    -2.5601150180170844,
                    -2.9688887959166954,
                    -2.757430451020079,
                    1.3703398754405762,
                    -0.4176644925527092,
                    -3.838398622981708,
                    0.6454786474864496,
                    -2.6838464009800083,
                    -2.041664052105437,
                    -1.399296350112351,
                    -3.536415295418928,
                    -1.990529446591107,
                    -1.9981853671293675,
                    -0.5206581123157654,
                    -3.172370488249011,
                    -2.2027101890571084,
                    -2.985484690326216,
                    -2.4810551072779345,
                    -1.2721114612777196,
                    -2.2351568880778045,
                    -0.05618310431233326,
                    2.317390606281374,
                    -2.2843312608520514,
                    -1.7263109176875957,
                    -2.894310661011832,
                    -1.6545218459209954,
                    -4.064270597766228,
                    -2.7933306574636068,
                    -1.4749199376082387,
                    -0.22939463704238683,
                    -2.5532584076129616,
                    -0.6006161135556942,
                    -1.4087712143987592,
                    1.298866548787795,
                    1.076693275632389,
                    -1.249760524772614,
                    -1.2569284056187846,
                    -1.1665352144775556,
                    -1.8876392413587804,
                    -2.767435702846178,
                    -1.1315768907453423,
                    -2.333670736810947,
                    -0.19987058013980016,
                    -1.176025913235529,
                    -1.292636539280533,
                    -4.429456371065808,
                    -0.6198387404453904,
                    -3.252315768611571,
                    -3.3529270535364906,
                    -0.8598029860018964,
                    -3.1566219686830497,
                    0.3465281132085469,
                    -2.461406650924054,
                    -1.530100721586606,
                    -1.7735850660606811,
                    -2.68044162396577,
                    -2.1363512285990183,
                    0.34312338294350475,
                    -4.1970799863466155,
                    -1.1428318645978301,
                    -1.66547515321799,
                    1.0117124957301549,
                    -1.3009297119679106,
                    -2.373428725008859,
                    -1.6658710117950826,
                    -1.9276781923704407,
                    -4.237216617941448,
                    -2.6778707208422596,
                    -3.8364978517956025,
                    -2.5514402959506053,
                    -4.694923445157151,
                    -2.0250371641265246,
                    -2.8959482055180903,
                    -3.5022010405432864,
                    -2.1539036673961527,
                    -2.0550840679910425,
                    -3.8772895793982483,
                    -4.063862114729033,
                    -0.09866733268758832,
                    -1.0893761900707777,
                    -0.4817709648456378,
                    -4.870309518087818,
                    -5.475243302544617
                  ],
                  "xaxis": "x",
                  "y": [
                    -0.188214953776165,
                    0.5728081925389371,
                    1.6629499036453308,
                    -1.4134731176051105,
                    1.484220317746007,
                    0.09582960945886401,
                    -1.2084332137491443,
                    -1.2824955783475982,
                    -1.688958595516517,
                    -0.4982187142020204,
                    0.1527231362840882,
                    -1.787641650550405,
                    2.403792485378174,
                    2.7576581296757787,
                    3.1386719228937365,
                    3.267989679072812,
                    2.3106487123193724,
                    -0.6583094692623358,
                    9.202525685482374,
                    -0.9378381203156654,
                    7.387812177113129,
                    -0.6973093686131553,
                    1.965604864201445,
                    -0.25489983391375504,
                    1.7159491137621898,
                    2.5145158500349236,
                    0.4968779847136771,
                    0.9277014809127234,
                    1.015577070414274,
                    -1.6196568282862496,
                    -2.8936475984337595,
                    -0.9651569879854252,
                    0.21363393003117864,
                    1.1900666337673356,
                    0.3678839812414116,
                    3.5287860177794106,
                    -1.4246224558022873,
                    1.849373604984792,
                    1.420061739898075,
                    1.797638517183864,
                    -1.035749426813547,
                    0.6674106363354765,
                    2.598686268052462,
                    2.2801435369024836,
                    3.926333155072842,
                    3.5562251004726417,
                    3.2513195036180034,
                    0.3048848668068428,
                    3.6670958836685354,
                    0.37150648221175087,
                    -0.06410921998298148,
                    -0.7356052303193366,
                    -1.8774090266916597,
                    1.3049294065716222,
                    1.4232306441335874,
                    -1.5682323234965276,
                    -0.4823354674414314,
                    -0.4183214056624113,
                    1.3293551726634782,
                    0.5746999789445366,
                    0.898455292475086,
                    -0.0910267654584745,
                    -0.8935722662389732,
                    3.702182382938049,
                    1.0830680630488614,
                    -0.38963131702447507,
                    -2.2377845222424337,
                    0.3058704494945912,
                    7.1503597996192,
                    12.573194228196456,
                    0.2505015267426712,
                    0.9449443022850809,
                    0.0055524128987408106,
                    -3.0706486586029165,
                    -0.6746487418598583,
                    -1.1038572476539952,
                    1.7856508751651576,
                    1.4692940245682777,
                    -2.738861051796377,
                    0.006872281254287165,
                    -1.8427794206066923,
                    0.11425229888925444,
                    1.6196919825557992,
                    -0.22291481521385403,
                    1.0267578585163657,
                    7.0144865787467445,
                    -3.3862048674441123,
                    -1.2461661743054209,
                    0.5399358010874142,
                    0.8160717106299742,
                    -0.39872969388055585,
                    0.15574119497323424,
                    -1.1037324235810577,
                    -0.5431655270285792,
                    -0.4778475791292589,
                    -0.9701105670472695,
                    0.1168902565178521,
                    0.6528492587268124,
                    1.3069387228390181,
                    2.077560728019077,
                    -2.4727877878546027,
                    -0.3967780281867187,
                    2.276797894795925,
                    1.0868346853505957,
                    -0.7334025638869573,
                    0.4384381816091041,
                    1.810973775774418,
                    -1.4185764468657758,
                    -1.2502474730541928,
                    0.5385707445138923,
                    -0.6144154700330557,
                    -0.20172675699840412,
                    -1.35424738102973,
                    -1.2916290602963652,
                    1.1625461079361166,
                    -1.3489797321374029,
                    -1.1359911306637913,
                    -1.2149996867571444,
                    -1.7411293625002766,
                    4.789476583632963,
                    -1.5841281495441446,
                    2.0776859795832623,
                    -1.1720734788724507,
                    2.361261944247615,
                    0.7292131141080189,
                    0.4605964026623765,
                    -0.649468799768157,
                    1.6866318143468146,
                    -1.1034865581537827,
                    0.009493639135292263,
                    3.1525206052520183,
                    -3.169272587975872,
                    0.4103017949871255,
                    1.5895870637933356,
                    0.8490529835000875,
                    -0.32197805693150455,
                    -2.6340824008285146,
                    -0.9020642097182521,
                    -0.13802626433416879,
                    0.005805461412037455,
                    -1.3765082403480942,
                    1.6950096247522006,
                    -1.9784861331035544,
                    3.723434003661873,
                    0.35416022743150966,
                    4.273459558744127,
                    -0.8085765710050895,
                    1.3939781131919518,
                    -0.26864450921924415,
                    -0.8076006152981031,
                    -1.4421762293756817,
                    -0.54296185950919,
                    -2.533034003025585,
                    0.7539639572067266,
                    0.5919428678322489,
                    0.8915829916782047,
                    -0.17921338616700178,
                    -0.30605843546275924,
                    -1.5247264226135253,
                    0.5562555044174684,
                    -3.06538743370435,
                    -2.54290704344171,
                    -0.06856304786162043,
                    -3.1387093942795334,
                    -0.004392848609955509,
                    -0.24069805440648998,
                    4.398200493024998,
                    -2.33921478735993,
                    -1.7984019756100256,
                    6.5090993067556004,
                    -1.402206462155352,
                    3.4708086393938604,
                    0.39620730235123297,
                    -0.7425265420581342,
                    -0.46473162449649236,
                    -1.7712483965536447,
                    -1.8356183618826627,
                    1.265871623370489,
                    1.1034431417844177,
                    -0.7611037297150762,
                    -0.9099185549522874,
                    0.9900307776461292,
                    1.1358375683543545,
                    0.22693503619999192,
                    2.5449881122815903,
                    1.806519488874234,
                    0.9589112594126189,
                    3.4472038667106917,
                    -0.5629288977192418,
                    -1.3170443380769286,
                    0.47517158147287875,
                    1.4614697976667188,
                    -1.3569174567096687,
                    0.24375997582096834,
                    0.7972523939842318,
                    2.1278386321159926,
                    -1.849152073286443,
                    1.6313922058935786,
                    0.5793394421592044,
                    -2.7611270972558852,
                    -1.188939404478034,
                    -0.25074479024678137,
                    -2.124343427391052,
                    -1.4880221620359684,
                    -0.35716071075864575,
                    -2.0185356268516483,
                    -1.1024744593997906,
                    -0.12984758281806344,
                    6.426819839022434,
                    -2.1820956997182557,
                    0.2925962223958366,
                    2.3024814304157872,
                    0.2013113362915144,
                    0.9798577295704319,
                    2.161212691894534,
                    -0.9320775840482854,
                    0.32043514578406324,
                    -2.4455184118924493,
                    3.702829438497088,
                    0.7868599164429354,
                    2.6050872163966217,
                    0.4296895604505679,
                    -1.7004724750621127,
                    0.10673146472480256,
                    -0.6513938798134878,
                    -0.3261463676040981,
                    -0.21966574172807105,
                    -0.9926100349451444,
                    -0.2933264633570427,
                    -0.3350470264249103,
                    -1.2413651250943152,
                    0.6827413169639882,
                    -1.9621714940410702,
                    0.3695739020712298,
                    -0.17584850843480027,
                    -0.4948562291843761,
                    0.3773322571820984,
                    0.9598560898096651,
                    -0.4380082282439421,
                    0.892466690112749,
                    2.5021016178056046,
                    -0.009212681120296502,
                    -0.022224730340742266,
                    0.7784521311400163,
                    2.3160480539476738,
                    0.862318852764944,
                    0.11361265871238495,
                    2.541229649096123,
                    -0.4323024308013113,
                    2.550909310245354,
                    0.4020314772477605,
                    -0.7822987564785719,
                    -2.0300162870442353,
                    2.4790131286344166,
                    -1.8053532376991057,
                    -0.45458951138597187,
                    -1.1947969118708262,
                    -1.8320604325706338,
                    -2.2351427041472682,
                    2.184998833415954,
                    -2.1364615481269738,
                    0.7307759698738526,
                    1.067691515123029,
                    -1.0379271063982214,
                    -1.5888387894001486,
                    1.8036181632039192,
                    0.02989128812619276,
                    -0.4748395049104324,
                    -1.0181258063441232,
                    -1.5713931189310673,
                    0.7770956605066212,
                    -1.6663016342460863,
                    -2.0757336193611517,
                    -0.484710079345268,
                    -2.4940454475805436,
                    -0.06884713563190001,
                    -1.7939187681338546,
                    2.1100113491541155,
                    0.11651969705784707,
                    0.8991786484573052,
                    3.4260114209107937,
                    1.4435555288447173,
                    -0.9032559294319714,
                    -1.7722262454326634,
                    -1.24685415364552,
                    1.8994625506797689,
                    -0.20637113654346334,
                    -0.9733678104584442,
                    -2.0890522981607558,
                    1.2860393186350079,
                    -0.6733392441893692,
                    -2.3639587605629853,
                    0.509833848365509,
                    -1.2987044936572603,
                    -0.22738339304530217,
                    4.389134335047768,
                    -2.466840756411177,
                    0.998177835470439,
                    -0.9779443191868344,
                    -4.555664122479799,
                    -0.5609542218856559,
                    -1.0778881332156953,
                    -1.591094201306153,
                    1.5159034181440134,
                    -0.7639004850931028,
                    -0.8384546629923229,
                    1.5057705922051912,
                    7.7298528018393124,
                    8.294775448547554,
                    1.5956838544424667,
                    4.117186681522088,
                    -1.6656937357129458,
                    1.6721917388084238,
                    -2.1610487950394917,
                    -1.4110019654425685,
                    0.790146607368511,
                    1.0763600034103176,
                    1.0113701777237722,
                    4.964224702304294,
                    -0.7860360357175143,
                    0.6363492702014687,
                    1.285925161316199,
                    2.6733005977258326,
                    0.09684852273674009,
                    -0.871542623665753,
                    1.5412252758478722,
                    0.6008479693023333,
                    0.40521778941692776,
                    0.8042100123976826,
                    -1.4847089005102898,
                    1.5185806390151526,
                    3.5344810521050603,
                    2.367392282852653,
                    5.599458470077282,
                    2.3896181246843082,
                    1.0923896495811092,
                    -1.8214153017671808,
                    -1.6815762380764394,
                    -0.21396274003607402,
                    -1.1377399159349424,
                    0.184272496887399,
                    2.3157928229650513,
                    0.49624992856478123,
                    0.22832995737009065,
                    -0.7674779441546471,
                    1.2612419003416868,
                    -1.4516357643062134,
                    1.8008324922677275,
                    -0.8300688185022315,
                    1.6164592680116658,
                    1.0842547444428048,
                    0.12216843505684152,
                    -0.21355983818208019,
                    1.2928478981529479,
                    -0.1780196908335631,
                    -2.1311061076055426,
                    -0.6706367908630049
                  ],
                  "yaxis": "y"
                }
              ],
              "layout": {
                "height": 600,
                "legend": {
                  "title": {
                    "text": "Target"
                  },
                  "tracegroupgap": 0
                },
                "margin": {
                  "t": 60
                },
                "template": {
                  "data": {
                    "bar": [
                      {
                        "error_x": {
                          "color": "#2a3f5f"
                        },
                        "error_y": {
                          "color": "#2a3f5f"
                        },
                        "marker": {
                          "line": {
                            "color": "#E5ECF6",
                            "width": 0.5
                          },
                          "pattern": {
                            "fillmode": "overlay",
                            "size": 10,
                            "solidity": 0.2
                          }
                        },
                        "type": "bar"
                      }
                    ],
                    "barpolar": [
                      {
                        "marker": {
                          "line": {
                            "color": "#E5ECF6",
                            "width": 0.5
                          },
                          "pattern": {
                            "fillmode": "overlay",
                            "size": 10,
                            "solidity": 0.2
                          }
                        },
                        "type": "barpolar"
                      }
                    ],
                    "carpet": [
                      {
                        "aaxis": {
                          "endlinecolor": "#2a3f5f",
                          "gridcolor": "white",
                          "linecolor": "white",
                          "minorgridcolor": "white",
                          "startlinecolor": "#2a3f5f"
                        },
                        "baxis": {
                          "endlinecolor": "#2a3f5f",
                          "gridcolor": "white",
                          "linecolor": "white",
                          "minorgridcolor": "white",
                          "startlinecolor": "#2a3f5f"
                        },
                        "type": "carpet"
                      }
                    ],
                    "choropleth": [
                      {
                        "colorbar": {
                          "outlinewidth": 0,
                          "ticks": ""
                        },
                        "type": "choropleth"
                      }
                    ],
                    "contour": [
                      {
                        "colorbar": {
                          "outlinewidth": 0,
                          "ticks": ""
                        },
                        "colorscale": [
                          [
                            0,
                            "#0d0887"
                          ],
                          [
                            0.1111111111111111,
                            "#46039f"
                          ],
                          [
                            0.2222222222222222,
                            "#7201a8"
                          ],
                          [
                            0.3333333333333333,
                            "#9c179e"
                          ],
                          [
                            0.4444444444444444,
                            "#bd3786"
                          ],
                          [
                            0.5555555555555556,
                            "#d8576b"
                          ],
                          [
                            0.6666666666666666,
                            "#ed7953"
                          ],
                          [
                            0.7777777777777778,
                            "#fb9f3a"
                          ],
                          [
                            0.8888888888888888,
                            "#fdca26"
                          ],
                          [
                            1,
                            "#f0f921"
                          ]
                        ],
                        "type": "contour"
                      }
                    ],
                    "contourcarpet": [
                      {
                        "colorbar": {
                          "outlinewidth": 0,
                          "ticks": ""
                        },
                        "type": "contourcarpet"
                      }
                    ],
                    "heatmap": [
                      {
                        "colorbar": {
                          "outlinewidth": 0,
                          "ticks": ""
                        },
                        "colorscale": [
                          [
                            0,
                            "#0d0887"
                          ],
                          [
                            0.1111111111111111,
                            "#46039f"
                          ],
                          [
                            0.2222222222222222,
                            "#7201a8"
                          ],
                          [
                            0.3333333333333333,
                            "#9c179e"
                          ],
                          [
                            0.4444444444444444,
                            "#bd3786"
                          ],
                          [
                            0.5555555555555556,
                            "#d8576b"
                          ],
                          [
                            0.6666666666666666,
                            "#ed7953"
                          ],
                          [
                            0.7777777777777778,
                            "#fb9f3a"
                          ],
                          [
                            0.8888888888888888,
                            "#fdca26"
                          ],
                          [
                            1,
                            "#f0f921"
                          ]
                        ],
                        "type": "heatmap"
                      }
                    ],
                    "heatmapgl": [
                      {
                        "colorbar": {
                          "outlinewidth": 0,
                          "ticks": ""
                        },
                        "colorscale": [
                          [
                            0,
                            "#0d0887"
                          ],
                          [
                            0.1111111111111111,
                            "#46039f"
                          ],
                          [
                            0.2222222222222222,
                            "#7201a8"
                          ],
                          [
                            0.3333333333333333,
                            "#9c179e"
                          ],
                          [
                            0.4444444444444444,
                            "#bd3786"
                          ],
                          [
                            0.5555555555555556,
                            "#d8576b"
                          ],
                          [
                            0.6666666666666666,
                            "#ed7953"
                          ],
                          [
                            0.7777777777777778,
                            "#fb9f3a"
                          ],
                          [
                            0.8888888888888888,
                            "#fdca26"
                          ],
                          [
                            1,
                            "#f0f921"
                          ]
                        ],
                        "type": "heatmapgl"
                      }
                    ],
                    "histogram": [
                      {
                        "marker": {
                          "pattern": {
                            "fillmode": "overlay",
                            "size": 10,
                            "solidity": 0.2
                          }
                        },
                        "type": "histogram"
                      }
                    ],
                    "histogram2d": [
                      {
                        "colorbar": {
                          "outlinewidth": 0,
                          "ticks": ""
                        },
                        "colorscale": [
                          [
                            0,
                            "#0d0887"
                          ],
                          [
                            0.1111111111111111,
                            "#46039f"
                          ],
                          [
                            0.2222222222222222,
                            "#7201a8"
                          ],
                          [
                            0.3333333333333333,
                            "#9c179e"
                          ],
                          [
                            0.4444444444444444,
                            "#bd3786"
                          ],
                          [
                            0.5555555555555556,
                            "#d8576b"
                          ],
                          [
                            0.6666666666666666,
                            "#ed7953"
                          ],
                          [
                            0.7777777777777778,
                            "#fb9f3a"
                          ],
                          [
                            0.8888888888888888,
                            "#fdca26"
                          ],
                          [
                            1,
                            "#f0f921"
                          ]
                        ],
                        "type": "histogram2d"
                      }
                    ],
                    "histogram2dcontour": [
                      {
                        "colorbar": {
                          "outlinewidth": 0,
                          "ticks": ""
                        },
                        "colorscale": [
                          [
                            0,
                            "#0d0887"
                          ],
                          [
                            0.1111111111111111,
                            "#46039f"
                          ],
                          [
                            0.2222222222222222,
                            "#7201a8"
                          ],
                          [
                            0.3333333333333333,
                            "#9c179e"
                          ],
                          [
                            0.4444444444444444,
                            "#bd3786"
                          ],
                          [
                            0.5555555555555556,
                            "#d8576b"
                          ],
                          [
                            0.6666666666666666,
                            "#ed7953"
                          ],
                          [
                            0.7777777777777778,
                            "#fb9f3a"
                          ],
                          [
                            0.8888888888888888,
                            "#fdca26"
                          ],
                          [
                            1,
                            "#f0f921"
                          ]
                        ],
                        "type": "histogram2dcontour"
                      }
                    ],
                    "mesh3d": [
                      {
                        "colorbar": {
                          "outlinewidth": 0,
                          "ticks": ""
                        },
                        "type": "mesh3d"
                      }
                    ],
                    "parcoords": [
                      {
                        "line": {
                          "colorbar": {
                            "outlinewidth": 0,
                            "ticks": ""
                          }
                        },
                        "type": "parcoords"
                      }
                    ],
                    "pie": [
                      {
                        "automargin": true,
                        "type": "pie"
                      }
                    ],
                    "scatter": [
                      {
                        "fillpattern": {
                          "fillmode": "overlay",
                          "size": 10,
                          "solidity": 0.2
                        },
                        "type": "scatter"
                      }
                    ],
                    "scatter3d": [
                      {
                        "line": {
                          "colorbar": {
                            "outlinewidth": 0,
                            "ticks": ""
                          }
                        },
                        "marker": {
                          "colorbar": {
                            "outlinewidth": 0,
                            "ticks": ""
                          }
                        },
                        "type": "scatter3d"
                      }
                    ],
                    "scattercarpet": [
                      {
                        "marker": {
                          "colorbar": {
                            "outlinewidth": 0,
                            "ticks": ""
                          }
                        },
                        "type": "scattercarpet"
                      }
                    ],
                    "scattergeo": [
                      {
                        "marker": {
                          "colorbar": {
                            "outlinewidth": 0,
                            "ticks": ""
                          }
                        },
                        "type": "scattergeo"
                      }
                    ],
                    "scattergl": [
                      {
                        "marker": {
                          "colorbar": {
                            "outlinewidth": 0,
                            "ticks": ""
                          }
                        },
                        "type": "scattergl"
                      }
                    ],
                    "scattermapbox": [
                      {
                        "marker": {
                          "colorbar": {
                            "outlinewidth": 0,
                            "ticks": ""
                          }
                        },
                        "type": "scattermapbox"
                      }
                    ],
                    "scatterpolar": [
                      {
                        "marker": {
                          "colorbar": {
                            "outlinewidth": 0,
                            "ticks": ""
                          }
                        },
                        "type": "scatterpolar"
                      }
                    ],
                    "scatterpolargl": [
                      {
                        "marker": {
                          "colorbar": {
                            "outlinewidth": 0,
                            "ticks": ""
                          }
                        },
                        "type": "scatterpolargl"
                      }
                    ],
                    "scatterternary": [
                      {
                        "marker": {
                          "colorbar": {
                            "outlinewidth": 0,
                            "ticks": ""
                          }
                        },
                        "type": "scatterternary"
                      }
                    ],
                    "surface": [
                      {
                        "colorbar": {
                          "outlinewidth": 0,
                          "ticks": ""
                        },
                        "colorscale": [
                          [
                            0,
                            "#0d0887"
                          ],
                          [
                            0.1111111111111111,
                            "#46039f"
                          ],
                          [
                            0.2222222222222222,
                            "#7201a8"
                          ],
                          [
                            0.3333333333333333,
                            "#9c179e"
                          ],
                          [
                            0.4444444444444444,
                            "#bd3786"
                          ],
                          [
                            0.5555555555555556,
                            "#d8576b"
                          ],
                          [
                            0.6666666666666666,
                            "#ed7953"
                          ],
                          [
                            0.7777777777777778,
                            "#fb9f3a"
                          ],
                          [
                            0.8888888888888888,
                            "#fdca26"
                          ],
                          [
                            1,
                            "#f0f921"
                          ]
                        ],
                        "type": "surface"
                      }
                    ],
                    "table": [
                      {
                        "cells": {
                          "fill": {
                            "color": "#EBF0F8"
                          },
                          "line": {
                            "color": "white"
                          }
                        },
                        "header": {
                          "fill": {
                            "color": "#C8D4E3"
                          },
                          "line": {
                            "color": "white"
                          }
                        },
                        "type": "table"
                      }
                    ]
                  },
                  "layout": {
                    "annotationdefaults": {
                      "arrowcolor": "#2a3f5f",
                      "arrowhead": 0,
                      "arrowwidth": 1
                    },
                    "autotypenumbers": "strict",
                    "coloraxis": {
                      "colorbar": {
                        "outlinewidth": 0,
                        "ticks": ""
                      }
                    },
                    "colorscale": {
                      "diverging": [
                        [
                          0,
                          "#8e0152"
                        ],
                        [
                          0.1,
                          "#c51b7d"
                        ],
                        [
                          0.2,
                          "#de77ae"
                        ],
                        [
                          0.3,
                          "#f1b6da"
                        ],
                        [
                          0.4,
                          "#fde0ef"
                        ],
                        [
                          0.5,
                          "#f7f7f7"
                        ],
                        [
                          0.6,
                          "#e6f5d0"
                        ],
                        [
                          0.7,
                          "#b8e186"
                        ],
                        [
                          0.8,
                          "#7fbc41"
                        ],
                        [
                          0.9,
                          "#4d9221"
                        ],
                        [
                          1,
                          "#276419"
                        ]
                      ],
                      "sequential": [
                        [
                          0,
                          "#0d0887"
                        ],
                        [
                          0.1111111111111111,
                          "#46039f"
                        ],
                        [
                          0.2222222222222222,
                          "#7201a8"
                        ],
                        [
                          0.3333333333333333,
                          "#9c179e"
                        ],
                        [
                          0.4444444444444444,
                          "#bd3786"
                        ],
                        [
                          0.5555555555555556,
                          "#d8576b"
                        ],
                        [
                          0.6666666666666666,
                          "#ed7953"
                        ],
                        [
                          0.7777777777777778,
                          "#fb9f3a"
                        ],
                        [
                          0.8888888888888888,
                          "#fdca26"
                        ],
                        [
                          1,
                          "#f0f921"
                        ]
                      ],
                      "sequentialminus": [
                        [
                          0,
                          "#0d0887"
                        ],
                        [
                          0.1111111111111111,
                          "#46039f"
                        ],
                        [
                          0.2222222222222222,
                          "#7201a8"
                        ],
                        [
                          0.3333333333333333,
                          "#9c179e"
                        ],
                        [
                          0.4444444444444444,
                          "#bd3786"
                        ],
                        [
                          0.5555555555555556,
                          "#d8576b"
                        ],
                        [
                          0.6666666666666666,
                          "#ed7953"
                        ],
                        [
                          0.7777777777777778,
                          "#fb9f3a"
                        ],
                        [
                          0.8888888888888888,
                          "#fdca26"
                        ],
                        [
                          1,
                          "#f0f921"
                        ]
                      ]
                    },
                    "colorway": [
                      "#636efa",
                      "#EF553B",
                      "#00cc96",
                      "#ab63fa",
                      "#FFA15A",
                      "#19d3f3",
                      "#FF6692",
                      "#B6E880",
                      "#FF97FF",
                      "#FECB52"
                    ],
                    "font": {
                      "color": "#2a3f5f"
                    },
                    "geo": {
                      "bgcolor": "white",
                      "lakecolor": "white",
                      "landcolor": "#E5ECF6",
                      "showlakes": true,
                      "showland": true,
                      "subunitcolor": "white"
                    },
                    "hoverlabel": {
                      "align": "left"
                    },
                    "hovermode": "closest",
                    "mapbox": {
                      "style": "light"
                    },
                    "paper_bgcolor": "white",
                    "plot_bgcolor": "#E5ECF6",
                    "polar": {
                      "angularaxis": {
                        "gridcolor": "white",
                        "linecolor": "white",
                        "ticks": ""
                      },
                      "bgcolor": "#E5ECF6",
                      "radialaxis": {
                        "gridcolor": "white",
                        "linecolor": "white",
                        "ticks": ""
                      }
                    },
                    "scene": {
                      "xaxis": {
                        "backgroundcolor": "#E5ECF6",
                        "gridcolor": "white",
                        "gridwidth": 2,
                        "linecolor": "white",
                        "showbackground": true,
                        "ticks": "",
                        "zerolinecolor": "white"
                      },
                      "yaxis": {
                        "backgroundcolor": "#E5ECF6",
                        "gridcolor": "white",
                        "gridwidth": 2,
                        "linecolor": "white",
                        "showbackground": true,
                        "ticks": "",
                        "zerolinecolor": "white"
                      },
                      "zaxis": {
                        "backgroundcolor": "#E5ECF6",
                        "gridcolor": "white",
                        "gridwidth": 2,
                        "linecolor": "white",
                        "showbackground": true,
                        "ticks": "",
                        "zerolinecolor": "white"
                      }
                    },
                    "shapedefaults": {
                      "line": {
                        "color": "#2a3f5f"
                      }
                    },
                    "ternary": {
                      "aaxis": {
                        "gridcolor": "white",
                        "linecolor": "white",
                        "ticks": ""
                      },
                      "baxis": {
                        "gridcolor": "white",
                        "linecolor": "white",
                        "ticks": ""
                      },
                      "bgcolor": "#E5ECF6",
                      "caxis": {
                        "gridcolor": "white",
                        "linecolor": "white",
                        "ticks": ""
                      }
                    },
                    "title": {
                      "x": 0.05
                    },
                    "xaxis": {
                      "automargin": true,
                      "gridcolor": "white",
                      "linecolor": "white",
                      "ticks": "",
                      "title": {
                        "standoff": 15
                      },
                      "zerolinecolor": "white",
                      "zerolinewidth": 2
                    },
                    "yaxis": {
                      "automargin": true,
                      "gridcolor": "white",
                      "linecolor": "white",
                      "ticks": "",
                      "title": {
                        "standoff": 15
                      },
                      "zerolinecolor": "white",
                      "zerolinewidth": 2
                    }
                  }
                },
                "title": {
                  "text": "Proyección de los datos en las dos primeras componentes principales"
                },
                "width": 800,
                "xaxis": {
                  "anchor": "y",
                  "domain": [
                    0,
                    1
                  ],
                  "scaleanchor": "y",
                  "scaleratio": 1,
                  "title": {
                    "text": "PC1"
                  }
                },
                "yaxis": {
                  "anchor": "x",
                  "domain": [
                    0,
                    1
                  ],
                  "title": {
                    "text": "PC2"
                  }
                }
              }
            }
          },
          "metadata": {},
          "output_type": "display_data"
        }
      ],
      "source": [
        "fig = px.scatter(df_pca, x='PC1', y='PC2', color=df_pca['target'].astype(str),\n",
        "                 labels={'color': 'Target'}, width=800, height=600)  # Ajusta el tamaño del gráfico\n",
        "\n",
        "fig.update_layout(\n",
        "    title='Proyección de los datos en las dos primeras componentes principales',\n",
        "    xaxis=dict(scaleanchor=\"y\", scaleratio=1),  # Esto asegura que los ejes x e y tengan la misma escala\n",
        "    xaxis_title=\"PC1\",  # Etiqueta del eje X\n",
        "    yaxis_title=\"PC2\",  # Etiqueta del eje Y\n",
        "    legend_title=\"Target\"  # Título de la leyenda\n",
        ")\n",
        "\n",
        "fig.show()"
      ]
    },
    {
      "cell_type": "markdown",
      "id": "7666b24a",
      "metadata": {
        "id": "7666b24a"
      },
      "source": [
        "## Interpretación de los resultados\n",
        "La gráfica muestra la proyección de los datos en las dos primeras componentes principales. Podemos observar cierta separación entre las clases (tumores benignos y malignos), lo que sugiere que PCA ha logrado reducir la dimensionalidad mientras mantiene información útil para la clasificación.\n",
        "\n",
        "Para entender cuánta varianza de los datos ha sido capturada por las componentes principales, podemos calcular la proporción de varianza explicada por cada componente."
      ]
    },
    {
      "cell_type": "code",
      "execution_count": 10,
      "id": "e4b3c726",
      "metadata": {
        "ExecuteTime": {
          "end_time": "2023-03-31T22:34:49.725969Z",
          "start_time": "2023-03-31T22:34:49.705940Z"
        },
        "id": "e4b3c726",
        "outputId": "bcd646db-690a-4068-cafb-0c261269f13c"
      },
      "outputs": [
        {
          "name": "stdout",
          "output_type": "stream",
          "text": [
            "Proporción de varianza explicada por las dos primeras componentes principales: [0.44272026 0.18971182]\n"
          ]
        }
      ],
      "source": [
        "# Calcular la proporción de varianza explicada por cada componente principal\n",
        "explained_variance_ratio = pca.explained_variance_ratio_\n",
        "print(\"Proporción de varianza explicada por las dos primeras componentes principales:\", explained_variance_ratio)"
      ]
    },
    {
      "cell_type": "markdown",
      "id": "ae1a88d0",
      "metadata": {
        "id": "ae1a88d0"
      },
      "source": [
        "Esto nos dará una idea de qué tan representativas son las dos primeras componentes principales en términos de la varianza total de los datos originales. Si deseamos aumentar la cantidad de varianza explicada, podríamos considerar aumentar el número de componentes principales en nuestra proyección.\n",
        "\n",
        "## Visualización en 3D\n",
        "Si deseamos visualizar la proyección de los datos en tres dimensiones en lugar de dos, podemos aplicar PCA con n_components=3 y crear un gráfico de dispersión 3D utilizando plotly."
      ]
    },
    {
      "cell_type": "code",
      "execution_count": 11,
      "id": "227e4e4a",
      "metadata": {
        "ExecuteTime": {
          "end_time": "2023-03-31T22:38:07.012810Z",
          "start_time": "2023-03-31T22:38:06.847819Z"
        },
        "id": "227e4e4a",
        "outputId": "7a71f49a-5ff5-47a7-8025-e6712753b9aa"
      },
      "outputs": [
        {
          "data": {
            "application/vnd.plotly.v1+json": {
              "config": {
                "plotlyServerURL": "https://plot.ly"
              },
              "data": [
                {
                  "hovertemplate": "Target=0<br>PC1=%{x}<br>PC2=%{y}<br>PC3=%{z}<extra></extra>",
                  "legendgroup": "0",
                  "marker": {
                    "color": "#636efa",
                    "symbol": "circle"
                  },
                  "mode": "markers",
                  "name": "0",
                  "scene": "scene",
                  "showlegend": true,
                  "type": "scatter3d",
                  "x": [
                    9.192836854305964,
                    2.387801832445054,
                    5.7338962803734415,
                    7.122953263086261,
                    3.935302121892275,
                    2.3802471375093437,
                    2.2388833167104942,
                    2.1432985101130884,
                    3.174924311002276,
                    6.3517467083314925,
                    -0.8104137641514679,
                    2.6511003795782875,
                    8.185034458228477,
                    0.34212596396351197,
                    4.3423791918896,
                    4.075656141217329,
                    0.2300549976743295,
                    4.418010977720504,
                    4.948703526032649,
                    4.733210824605102,
                    4.2085241698465445,
                    4.9496320369856575,
                    7.098562932179843,
                    3.5102626385303433,
                    3.0640538776527007,
                    4.007264124759437,
                    1.7153097129382782,
                    6.059445510730667,
                    2.9022360897873063,
                    4.554782685374101,
                    4.990602720724756,
                    2.9853407615829988,
                    2.7663691035562445,
                    1.2961987316371266,
                    -0.9980689200440672,
                    0.7652641502420864,
                    -2.1509534630711147,
                    -0.09333141442766527,
                    9.08799955245081,
                    0.9904537880581593,
                    -0.2935465458275873,
                    5.380940348461774,
                    1.7000068728497637,
                    3.302550908718982,
                    -0.6746192848713184,
                    4.648738812410826,
                    2.1768628846937097,
                    4.759112123921797,
                    1.691607890715078,
                    1.8123054210773053,
                    2.704596194940427,
                    5.503705197775189,
                    -0.36170917614089915,
                    1.428167576243178,
                    6.230896467630666,
                    11.668714810461223,
                    10.76924290060755,
                    5.03481107182616,
                    3.288235381110925,
                    0.6076078917743817,
                    3.5835636660642063,
                    0.25249770231998764,
                    2.775865584765308,
                    4.396227910385764,
                    0.6162808453152161,
                    -0.4328602036665515,
                    3.213916770978535,
                    13.056121774265177,
                    3.110527663077818,
                    4.956725590827786,
                    0.8510142563692367,
                    3.3341331757053303,
                    12.894612011180563,
                    -0.6388805048074606,
                    1.9191333449844736,
                    4.643691364883541,
                    1.4320694172052213,
                    1.3526269737772652,
                    2.171415997898054,
                    -1.976840346155321,
                    3.782026474389672,
                    1.34502043436945,
                    2.399997909211844,
                    4.100787674944871,
                    3.3873308188626443,
                    6.149886188782807,
                    5.494152826503316,
                    1.2136345850041388,
                    5.069661087266922,
                    -0.9474879234281068,
                    2.819368375305061,
                    2.9563018697519015,
                    9.512669880243267,
                    9.007165632361355,
                    0.7588783856317244,
                    -0.3900189401867109,
                    0.36487615686897856,
                    6.523116333206558,
                    1.7796614463506044,
                    2.6114849603440473,
                    2.498438870204433,
                    1.2770271179542267,
                    3.473197267629282,
                    1.256675125051008,
                    1.6494606809647985,
                    9.03658955538817,
                    4.554589967650644,
                    -0.22309262220259055,
                    0.4465443788820351,
                    4.808969246473727,
                    12.285019789941876,
                    3.372196589415061,
                    2.5087663185165683,
                    1.3180684607050357,
                    4.9435809642760695,
                    4.298077289908349,
                    1.8032469758981653,
                    2.7555680210168587,
                    3.257254715629138,
                    3.3163241558825423,
                    8.40384719844984,
                    2.647568585607176,
                    3.350295898944432,
                    3.7955656544626675,
                    7.1438420864800225,
                    7.0850106277683365,
                    1.3140989937609941,
                    3.711649484574296,
                    0.46047904021475516,
                    6.392649959493331,
                    5.2555449787178645,
                    8.733861652936962,
                    3.6913179126922313,
                    3.3782508751595817,
                    -0.8402096951036487,
                    3.2843725046429686,
                    -1.9087689470785854,
                    1.6147819018210623,
                    6.619726320886237,
                    7.676149436916318,
                    0.3373454718932855,
                    0.017430806392101702,
                    4.960268140993016,
                    3.785060090147029,
                    2.637255813971002,
                    -2.3858827661064197,
                    6.590235923320295,
                    7.182933197235569,
                    1.8953162783163615,
                    1.8348405130284013,
                    7.236485381963287,
                    2.250510356357715,
                    2.1078012369313606,
                    1.7859499467244435,
                    3.3196739378169577,
                    4.680166185605442,
                    7.3532185882121155,
                    4.97516233194285,
                    6.182283809457231,
                    10.934298172319968,
                    2.118496966984914,
                    2.7350117959674733,
                    6.227026030998291,
                    5.307139935983933,
                    7.248001143425985,
                    4.207220629765111,
                    3.635014994180821,
                    3.5192482557985882,
                    3.765932090124783,
                    -0.542901359710572,
                    4.703500735449311,
                    4.149097337776273,
                    7.672141597738435,
                    6.289673511007365,
                    2.76337078641345,
                    -0.934090797867291,
                    6.003616572932509,
                    4.949858522374498,
                    4.549111188511941,
                    4.442342763786143,
                    0.664440924938063,
                    2.4723568353277168,
                    0.9817275670683276,
                    3.2454136921755135,
                    4.331653354300253,
                    2.5117531284565167,
                    3.475493767988799,
                    16.319233168732232,
                    5.930964890988114,
                    3.8244330747647175,
                    4.7546148462866755,
                    -0.7417818018851651,
                    3.1035197169727344,
                    3.71570513179485,
                    5.094841876122392,
                    2.7903998230650027,
                    7.259178831010465,
                    4.094142539566168,
                    2.226994575086856,
                    -0.7337724607897903,
                    2.6972237562264505,
                    3.37901468071216,
                    8.63075596926168,
                    4.028435239604163,
                    5.165411035113549,
                    0.5359319097054711,
                    5.917612657830489,
                    8.741338219885295,
                    6.439315518543486,
                    3.7933823612006576,
                    1.2561792858627816,
                    10.374794057459004
                  ],
                  "y": [
                    1.9485833576745557,
                    -3.7681713092303024,
                    -1.0751737276296012,
                    10.27558988326419,
                    -1.9480709486756673,
                    3.9499287651056045,
                    -2.6900311761626274,
                    2.34024409834122,
                    3.3918131777728107,
                    7.727173213357003,
                    -2.6592754314385014,
                    0.06656676004836556,
                    2.700976400617141,
                    -0.968278636877139,
                    4.861083330985099,
                    2.9770608320695713,
                    -1.5647579398540081,
                    1.4186710381221044,
                    -4.114333822960971,
                    3.3049641492293413,
                    -5.128367043471841,
                    -1.5437527783125264,
                    2.0186113198097235,
                    2.17162557473998,
                    -1.8765524241043992,
                    0.5372419318012395,
                    -1.5237051987146069,
                    -0.7571774262926801,
                    4.005295327791572,
                    0.3375361774846224,
                    -1.1325889315845596,
                    0.7584229394449027,
                    -0.3543565895852288,
                    0.9131959311319856,
                    -3.351293105326843,
                    0.8862444544117813,
                    -1.9239915191784007,
                    2.2607516800764387,
                    2.018671571169102,
                    0.9849302808371537,
                    -0.1370990045830438,
                    -0.13487764604226432,
                    2.352271694905565,
                    -1.13093825584415,
                    -2.1164097046349895,
                    -2.310333366016118,
                    0.9721161197123037,
                    3.0116801331491523,
                    1.5406761923255385,
                    0.7227403871052278,
                    -4.4371415160007075,
                    0.9383240506870091,
                    0.11973929463217331,
                    -1.9671015978959943,
                    0.9200690165495748,
                    4.74861904834895,
                    -2.257981976935672,
                    0.7744090549615902,
                    -1.6682371049701432,
                    0.1622138873382668,
                    -2.2066612888491752,
                    -0.5313499198390347,
                    0.5580007453982654,
                    -2.1235082397764344,
                    0.6389113706946911,
                    -1.392044063405085,
                    4.046756406842509,
                    0.9815121433323016,
                    1.5693892043865338,
                    2.3848465033304347,
                    -2.306735396125962,
                    -1.3255576179083726,
                    2.316620982296135,
                    -0.9113661226048598,
                    -3.5380833012737214,
                    -1.4820165661667135,
                    -1.0496039978054639,
                    -1.1541421250610584,
                    -2.826261002875119,
                    -0.4193873472689755,
                    0.8603818941315523,
                    -1.274771014041236,
                    4.8379896138106755,
                    -0.37880442585549023,
                    -2.911036394198232,
                    -2.0176527313327446,
                    -4.1658289875574255,
                    -2.0390392577065763,
                    -1.785152211352736,
                    -1.684753927301003,
                    1.2651035717446564,
                    0.7064219103156301,
                    -5.603483811363625,
                    0.5810323305952592,
                    -1.6085337776343271,
                    -0.9892418730950683,
                    -3.574461187329285,
                    8.01116609331245,
                    2.7765866649019735,
                    1.5614225046702912,
                    2.278482753719753,
                    -2.4432596611623354,
                    -2.277849853695237,
                    0.3823933956597758,
                    -2.1022912320532767,
                    -0.6551719093412361,
                    3.086637912679475,
                    -0.7018216737616167,
                    -2.7877079052449703,
                    -3.029102941846727,
                    -7.543409665535442,
                    2.5878253933685818,
                    2.6146485877215233,
                    2.154479282527459,
                    -2.8483250619332905,
                    -4.666275739666752,
                    0.1664604211582298,
                    3.4657738863645284,
                    -0.1251999308472785,
                    -3.939151749802671,
                    -4.153903853488648,
                    -3.951173541558138,
                    -2.154568671398642,
                    -1.0262325106947432,
                    -2.074841603391976,
                    0.5282229804695058,
                    -1.7754259088931477,
                    -2.8074774679445285,
                    0.39416568904611643,
                    -1.8230936942638172,
                    3.8945314285594903,
                    3.279879090193075,
                    1.0656464869499207,
                    -3.3712278814719645,
                    -3.5000855725222975,
                    -0.9906745661475479,
                    -3.1219460655827125,
                    -2.4745736193540417,
                    -6.003276857513937,
                    -3.0753068076115935,
                    -3.144373711592284,
                    -3.459343089636766,
                    -1.3411227717805807,
                    -1.9019076159199562,
                    0.5771554686085301,
                    -0.8241156399121002,
                    -1.484862681730869,
                    0.05514713099070343,
                    -2.3922379532763665,
                    -4.321522404150226,
                    -0.03570099201790804,
                    -0.34853615829083273,
                    1.1219741230184481,
                    -0.2692220189748145,
                    -1.5770532115169396,
                    -0.9685939628272088,
                    -5.242622971722742,
                    -1.3325724732685007,
                    5.10800629381875,
                    -3.703253968937615,
                    0.2966295288044438,
                    -3.945167993655172,
                    -1.3901091898228526,
                    -6.723416098628499,
                    -3.6554681009879095,
                    1.176243053696906,
                    -1.9564403225519578,
                    -3.858607375666006,
                    5.985294569456286,
                    -1.3170677945767453,
                    -0.19595570374012816,
                    0.7674888060123101,
                    -0.860483583629258,
                    2.036547947087899,
                    -1.0786334957791521,
                    -2.1059454198852503,
                    -0.09102941670825221,
                    3.0060649354365734,
                    -0.8159999661169802,
                    -0.9924395891815214,
                    0.43686099987847044,
                    -1.4998257326581685,
                    -2.210429646520624,
                    -1.7783580592733355,
                    -4.049332313662146,
                    -2.528807260825224,
                    -1.6728841647013468,
                    -7.775853646224605,
                    1.2282971021671554,
                    2.3052367149345923,
                    -1.489423838119434,
                    -2.4520354320941236,
                    -1.2361530648005394,
                    -1.0586859007263791,
                    -2.0192074419874393,
                    3.3855607179007317,
                    -5.4957358982022555,
                    2.8029270269865876,
                    1.941635816447684,
                    -1.943697319861165,
                    -1.9437099129707012,
                    -2.3334287969747045,
                    -3.459450662045466,
                    -2.9414303600645706,
                    -2.3822021925759853,
                    0.38071470842278654,
                    3.4826376214899972,
                    -0.5738529232490465,
                    -3.5768169462767476,
                    -3.5840479857626395,
                    -1.9022965811510593,
                    1.6720101183976057
                  ],
                  "z": [
                    -1.123163374626391,
                    -0.5292893125652718,
                    -0.5517478421457522,
                    -3.2327832574407287,
                    1.3897710232921852,
                    -2.9348781805619515,
                    -1.639912136011819,
                    -0.8719461428744109,
                    -3.1199842006706713,
                    -4.3419244222004885,
                    -0.4888290887523086,
                    -1.5264645993849375,
                    5.7302311553721985,
                    1.7171763384119134,
                    -2.81611611553995,
                    -3.1252775956743455,
                    -0.802520984987032,
                    -2.2703130152055473,
                    -0.3147514665739866,
                    -1.4665331870746232,
                    -0.7524053737113657,
                    -1.713197119468734,
                    -0.029002637867220155,
                    -3.8945435433994193,
                    2.5817466475180426,
                    -2.761627298412934,
                    0.14618590464665107,
                    -0.3492399481103318,
                    -3.0014639496527056,
                    -0.7543014256101245,
                    -2.5773841282355257,
                    -3.493764494786693,
                    -1.896968180915452,
                    -1.5757721557816415,
                    4.305571885466077,
                    -2.704915573291005,
                    -1.1804834109894196,
                    -1.9047292518235535,
                    2.1412147827027757,
                    -2.3107314277959454,
                    -3.3019316010551707,
                    -1.6788483069226092,
                    -3.0780909847071367,
                    0.8263882703894551,
                    -1.3962197156064102,
                    -0.7288142106001928,
                    -1.9438883281570105,
                    -0.1662434283947278,
                    -1.7998484538152248,
                    -1.466247992581995,
                    0.3073476738377909,
                    -2.2101428750066847,
                    -2.040954278694677,
                    1.111937173847063,
                    0.08982315749845401,
                    2.005895094161399,
                    0.038843744589512536,
                    2.682336334151935,
                    0.14693135030707097,
                    1.6373696830486566,
                    -1.7045321172428256,
                    0.5893406083951407,
                    -0.6057699226464416,
                    0.5795058199894024,
                    -0.19992136681466438,
                    -0.08271793952895322,
                    -2.715384624127099,
                    0.5988050921109803,
                    -2.613939180632258,
                    -1.9351053553279847,
                    0.5674610455977648,
                    0.7280113528831598,
                    6.328685433474174,
                    -2.142724395912283,
                    1.25491718495229,
                    -1.170676039608661,
                    -1.2620125224804297,
                    -1.2097978707205492,
                    -0.5621092771790158,
                    -0.3805743354472228,
                    3.671002164573959,
                    0.5558433161777641,
                    -1.0281509698472908,
                    1.446312704429336,
                    3.007242544599549,
                    -1.5661440914785285,
                    -0.6012579951770617,
                    0.9806933976438469,
                    1.1736474138681838,
                    -0.3511893880731299,
                    -2.1531415921305572,
                    -1.042335479537068,
                    -0.6372358560003827,
                    -3.1347048722898556,
                    -1.5151050659827392,
                    -2.5851652017285924,
                    -2.223977935495585,
                    -0.32645039500762907,
                    -0.9427670455452182,
                    -0.21818031501813467,
                    1.3194778292402722,
                    2.4663117083965784,
                    -1.2386908874403273,
                    -3.838319107218735,
                    -0.9752731565078236,
                    0.2212870471033712,
                    -2.2704131709594964,
                    -2.2707635531003905,
                    0.44438046158581257,
                    2.744018795489749,
                    10.112425529060163,
                    7.092075225496928,
                    0.20638068649587116,
                    -1.786634035100267,
                    0.9138741016085258,
                    -0.006844135792454833,
                    -2.6286037993855875,
                    -2.47404930575745,
                    -2.896093862670279,
                    -0.2054495648576204,
                    0.0469776822466338,
                    1.371877018962231,
                    -1.1089333622146704,
                    0.8986369590274141,
                    1.0883916017332003,
                    -1.279989458802463,
                    -1.6726330389813047,
                    -1.7561964621899735,
                    -1.004703277791228,
                    0.4798536399976114,
                    -0.8338511722801448,
                    2.90371400593433,
                    -3.5155861334314342,
                    -1.7667773361683075,
                    0.18248008593371892,
                    2.554375464168462,
                    -1.0630577524371874,
                    -1.9911370798788908,
                    0.9893761337900717,
                    1.481956661873354,
                    -0.11572341760117272,
                    0.30692211233951616,
                    -1.457051107846483,
                    -1.7442429451663155,
                    -1.9946965013091698,
                    1.98396252094732,
                    0.36133797711684407,
                    2.0129272795270645,
                    -1.6764912425886733,
                    0.3166896465608645,
                    -2.84106029335321,
                    -1.0647524686413494,
                    1.7751588953183133,
                    -1.722518735607946,
                    1.3607249511406654,
                    -0.2912791673957261,
                    0.31695702732265896,
                    0.8709746824090691,
                    0.5211468960356938,
                    -0.8916924588810738,
                    0.8674884585945416,
                    -0.01716682502207503,
                    2.734241275213046,
                    1.4856570198090027,
                    -0.15569433872530636,
                    -1.5900174579700754,
                    -0.8287709230153212,
                    -1.022530839439878,
                    -4.880367377171037,
                    0.9957544756871706,
                    3.7570330432040433,
                    -0.8879752959815707,
                    -2.1536459319764325,
                    -3.1820785325511234,
                    -1.1796239568169085,
                    1.4329182535971985,
                    1.7111998056098083,
                    -1.7540663537907601,
                    -0.5187514042314789,
                    1.442314077197131,
                    -2.680781162890128,
                    0.5914454326034622,
                    -1.699916861886201,
                    -1.7931497965888785,
                    -0.19250468901699458,
                    0.7982048016020727,
                    0.8568288518184216,
                    6.235409882108243,
                    1.7215904907692905,
                    0.027549199029223054,
                    -1.2537536545667691,
                    -1.9977128715839734,
                    1.2873564459303226,
                    0.5219563204147919,
                    -0.7093666891407617,
                    -0.7530770196226612,
                    1.9109253640980923,
                    -0.5074351373857272,
                    -2.285595610290997,
                    -0.27523682937056443,
                    -0.9605642799015777,
                    -1.2019308321734767,
                    -0.17904596884967802,
                    1.6594833278559606,
                    -0.42226900791553895,
                    -0.4431388393551439,
                    -3.2627859197538083,
                    0.8971034613510438,
                    2.459489310962336,
                    2.088475569187542,
                    0.5627315552242119,
                    -1.8770296416560988
                  ]
                },
                {
                  "hovertemplate": "Target=1<br>PC1=%{x}<br>PC2=%{y}<br>PC3=%{z}<extra></extra>",
                  "legendgroup": "1",
                  "marker": {
                    "color": "#EF553B",
                    "symbol": "circle"
                  },
                  "mode": "markers",
                  "name": "1",
                  "scene": "scene",
                  "showlegend": true,
                  "type": "scatter3d",
                  "x": [
                    -1.2370633666338022,
                    -1.5781612408038541,
                    -3.5573363145471952,
                    -3.7493133775475194,
                    -4.581936631298484,
                    -2.136445341850689,
                    -1.567478983965777,
                    -3.542905520678976,
                    -3.157814016768035,
                    -3.4504884684374866,
                    -2.8581584093128254,
                    -3.7214590067805955,
                    -4.135962905863408,
                    -2.3858356837275,
                    -2.5788833489368193,
                    -2.31413221901085,
                    -2.785924765051512,
                    -3.5186482920926334,
                    4.330002646835109,
                    -3.261279466746802,
                    -0.3078557863122993,
                    -2.6299766730217313,
                    -0.8345179486918478,
                    -2.0215777028950366,
                    -1.6383849651107265,
                    1.1674615908840653,
                    -2.17446439687653,
                    -0.9341580799856247,
                    1.2596045840053425,
                    -1.5882639553145101,
                    -2.8474315945147275,
                    -1.9649501848793667,
                    -2.5920827868360754,
                    -3.9043381523688327,
                    -2.818231174560796,
                    -4.555028836249298,
                    -3.4481835356088517,
                    -2.1159602816551604,
                    -2.691352222116142,
                    -0.74927143469791,
                    -3.1590060234857886,
                    -2.2286797885414926,
                    -2.492831005553014,
                    -0.1033503366701816,
                    3.5912942338695495,
                    -1.348948625161082,
                    -2.510117638737445,
                    -2.046029620874383,
                    -2.0970690909746863,
                    -2.9659992626293294,
                    -0.7707436813016076,
                    -2.202515534904344,
                    -3.1434122537880316,
                    1.4088683672146056,
                    -1.8774674246154948,
                    -0.7091148329297132,
                    -2.600789610195415,
                    -3.2580073875395543,
                    -1.992034796058639,
                    -5.015008689586505,
                    -2.455968875312246,
                    -1.8372816500114109,
                    -4.34648974409461,
                    -0.7328129219888061,
                    0.39309861708823346,
                    -0.4123278097554927,
                    -3.049924952933341,
                    -1.4425637503220552,
                    0.08318609904491855,
                    7.0933066452579325,
                    -3.743404533547046,
                    -0.9691728195087286,
                    -2.4187198882056067,
                    -0.7516030809465304,
                    -3.6546465571586206,
                    -4.6802115799344115,
                    -0.5977817919874971,
                    -1.3250313482895455,
                    -2.9974032264471635,
                    -4.386732715072566,
                    -1.977701493200731,
                    -2.5148764318233163,
                    -3.4839862408512405,
                    -4.6587296060437335,
                    -5.351618050812898,
                    1.17089769531376,
                    -4.97570201293694,
                    -4.064025637365468,
                    -2.6593596295553406,
                    -3.889065576739865,
                    -2.8358908671162486,
                    -3.3102836956996047,
                    -3.3573044331024136,
                    -1.7177351334957223,
                    -5.565735940497043,
                    -2.8190385105364335,
                    -1.4734313985414083,
                    -0.781189970191389,
                    -3.4548954129431846,
                    0.31443829252306477,
                    -2.0591919568452055,
                    -2.9987105391038247,
                    -0.38875636197387364,
                    -2.756933028524769,
                    -2.373501814157326,
                    -0.9671903381178725,
                    -2.975798764276227,
                    -2.4783595191943815,
                    -0.82603934308543,
                    -3.8946973383308388,
                    -0.3895781149367903,
                    -1.4573213458536853,
                    -4.019140197016852,
                    -3.676413221860797,
                    -4.036607293360568,
                    -2.3342333720331543,
                    -0.681768841083898,
                    -2.2277205187100146,
                    -4.4775846382215265,
                    1.3226213702902745,
                    -1.8500898648189097,
                    -2.2813181006932326,
                    -3.228770145036594,
                    1.0259007056002782,
                    -2.582555834270897,
                    -2.4858832459835503,
                    -3.0324811126397537,
                    -1.4646759201954167,
                    -2.012152442686991,
                    -2.2843403444299217,
                    -0.7397431320312788,
                    -4.5065624623190805,
                    -3.158754288545152,
                    -3.6391359600011457,
                    -1.2765834093314077,
                    -4.346014110234967,
                    -3.492426046409306,
                    -1.8665488780498976,
                    -2.4707226130520303,
                    -1.3726850213062158,
                    -4.1388825675351555,
                    -0.6869402969828867,
                    -4.312129553589393,
                    0.4033094227892994,
                    -3.003605802321616,
                    3.134008027263852,
                    -0.4178368758587008,
                    -1.4202231244227312,
                    -2.870588380593604,
                    -3.3658457090072336,
                    -3.3150001612711995,
                    -4.769710137897581,
                    -2.78709598737898,
                    -3.3938416446328,
                    -1.4553304809739154,
                    -3.578835390025734,
                    -3.0570326422596077,
                    -3.074435803270891,
                    -3.853539749768368,
                    -5.3902562622228185,
                    -4.6576823449706275,
                    -4.027542415593961,
                    -3.3478219326329026,
                    -3.299842019971647,
                    -2.136404169373774,
                    -4.038017148325754,
                    -3.7654144996140455,
                    -4.87123936421824,
                    -4.747248480860013,
                    1.572931287634635,
                    -4.026620231658547,
                    -1.2948661747009367,
                    -1.8103806354566025,
                    -3.145650203481632,
                    -2.887268078673679,
                    -3.149654040917526,
                    -4.6283794245721435,
                    -0.5276966147256259,
                    -3.2135010142298426,
                    -4.386422973983848,
                    -3.8100178632386648,
                    -2.3932759045667025,
                    -3.0676951973214623,
                    0.2953131645207595,
                    -1.9389694580866375,
                    -2.0771788764669066,
                    -2.176916868925865,
                    -2.4315514938374325,
                    -3.367965775723393,
                    -1.2065977723169377,
                    -3.3260792129993813,
                    -1.928795462084127,
                    -4.041835035508579,
                    -3.012194945056645,
                    -0.9826485418631545,
                    0.35789382858393304,
                    -3.193917878435674,
                    -2.9932332120774974,
                    -3.1939141063584535,
                    -4.591961844007998,
                    -2.4859161925968842,
                    -2.3986653642180342,
                    -0.7796152516182178,
                    -3.1399884354589087,
                    -2.22377577010249,
                    -2.4996363689153265,
                    -2.614948323000998,
                    -0.09610804685195079,
                    2.0448570644352677,
                    -3.0667494738735392,
                    -1.603586504962648,
                    -0.9255666328461325,
                    -3.2883495755580077,
                    -1.5548520664127863,
                    -0.3987799934865659,
                    -2.3005678640301968,
                    -2.0588194631313943,
                    -3.424518036951187,
                    -0.47240658180698825,
                    -3.6433802341231485,
                    -3.594689399574178,
                    -2.010379464561003,
                    -2.920833489483686,
                    -0.5007378287640469,
                    -1.9114985817826224,
                    -3.7850992197824516,
                    -2.7083940291656456,
                    -3.4307707934561726,
                    -2.001388502414402,
                    -2.4732931079579874,
                    -3.6472576977276274,
                    -2.346186836220848,
                    -1.1429969238020947,
                    -1.3508573550281047,
                    -1.969323691438312,
                    -2.9311871200582162,
                    -2.926374424175916,
                    -3.9961882264085857,
                    0.155138044712482,
                    -1.9296217551772739,
                    -2.6223386522436023,
                    -2.921877801769772,
                    -3.341944825200655,
                    -2.014915042653584,
                    1.988462122722253,
                    -1.669603925254209,
                    -0.3711780933661796,
                    -1.8489599123068983,
                    -4.703042132676237,
                    -1.283187185101775,
                    -2.3142468612070233,
                    -4.659085103889867,
                    -3.9434733550348673,
                    -0.9158035221591677,
                    -2.1949843152783,
                    -2.2408760170590236,
                    -2.125180423572009,
                    -2.6153174384850804,
                    -3.2109679377108398,
                    -0.3067504291133426,
                    -3.4547183597342648,
                    -3.9005268835824602,
                    -1.2572514591909518,
                    -1.557219413623218,
                    -1.2492581195170451,
                    -1.0774513277784057,
                    -2.217092293037976,
                    -1.173830639491125,
                    -2.8363014378349583,
                    -1.857085858010858,
                    -1.3286143843672396,
                    -2.802771362230215,
                    -3.174568796826614,
                    -4.087077307582105,
                    -2.560114966027407,
                    -2.968888804012799,
                    -2.7574304323414425,
                    1.370339768433425,
                    -0.4176644894453008,
                    -3.8383985946050343,
                    0.6454786570210205,
                    -2.6838464046883774,
                    -2.041664075815468,
                    -1.3992963528985893,
                    -3.5364153135331,
                    -1.990529484453933,
                    -1.998185385461057,
                    -0.5206581360489427,
                    -3.172370472523836,
                    -2.202710242584946,
                    -2.9854847021794946,
                    -2.481055109420422,
                    -1.272111434532079,
                    -2.2351568766761756,
                    -0.056183103622499446,
                    2.317390583074421,
                    -2.284331319093455,
                    -1.7263109374127734,
                    -2.8943106622572694,
                    -1.6545218559258654,
                    -4.064270554288777,
                    -2.793330657509166,
                    -1.4749199339841963,
                    -0.22939461936278266,
                    -2.5532584123862994,
                    -0.6006160247200267,
                    -1.408771214865296,
                    1.2988665558217645,
                    1.0766934153399106,
                    -1.2497605049413405,
                    -1.2569283297692315,
                    -1.1665351903702628,
                    -1.887639185393979,
                    -2.7674357056612604,
                    -1.1315769418543151,
                    -2.3336707336347886,
                    -0.19987056512807677,
                    -1.1760259425819715,
                    -1.2926365317202306,
                    -4.429456322142842,
                    -0.6198387099396049,
                    -3.2523157480236797,
                    -3.352927050148081,
                    -0.8598030278173632,
                    -3.156622003578099,
                    0.3465280072519742,
                    -2.4614066438384086,
                    -1.530100727190292,
                    -1.773585109873975,
                    -2.6804416117111387,
                    -2.1363512719351965,
                    0.3431233680686899,
                    -4.197079851725988,
                    -1.1428318243620694,
                    -1.6654751994509145,
                    1.0117124676182356,
                    -1.3009296618252486,
                    -2.373428676148091,
                    -1.665870974318892,
                    -1.92767821885834,
                    -4.237216625320672,
                    -2.6778707052038606,
                    -3.8364978207454064,
                    -2.5514402903674447,
                    -4.694923377234525,
                    -2.0250371713623974,
                    -2.895948147902351,
                    -3.502200960054553,
                    -2.1539036321740124,
                    -2.05508404922984,
                    -3.8772895915060395,
                    -4.063862105512379,
                    -0.09866732442560686,
                    -1.0893762112005847,
                    -0.4817709406276361,
                    -4.870309566739642,
                    -5.47524317897034
                  ],
                  "y": [
                    -0.18821503662216368,
                    0.5728080396219816,
                    1.6629505905171198,
                    -1.4134728836540815,
                    1.4842207775035936,
                    0.09582885277736373,
                    -1.20843304783677,
                    -1.2824951199011936,
                    -1.688958214428578,
                    -0.49821779509224473,
                    0.1527235602208091,
                    -1.7876417673944616,
                    2.403792863592181,
                    2.7576579586259338,
                    3.138670713110342,
                    3.2679900238567643,
                    2.310648583357054,
                    -0.65830884898224,
                    9.202525517345507,
                    -0.9378379984910451,
                    7.387812054723028,
                    -0.6973097801360141,
                    1.9656041423107966,
                    -0.25490036899798546,
                    1.7159487157268964,
                    2.5145156254510983,
                    0.49687692965751995,
                    0.9277017953462608,
                    1.015576340267954,
                    -1.6196566180438772,
                    -2.8936476852204165,
                    -0.9651578703979293,
                    0.21363443244072836,
                    1.1900666365930015,
                    0.3678844281627178,
                    3.5287860090892025,
                    -1.424622393016719,
                    1.8493734231453172,
                    1.4200615220153094,
                    1.7976375740784407,
                    -1.0357493023489552,
                    0.6674108995642106,
                    2.598686616633772,
                    2.280144586153656,
                    3.9263345274694155,
                    3.5562257277125955,
                    3.251319895315876,
                    0.3048842973291305,
                    3.667096688999936,
                    0.37150580123941856,
                    -0.06410926401730399,
                    -0.7356053667266527,
                    -1.8774091656899843,
                    1.304929460156952,
                    1.4232299130548356,
                    -1.568232323404194,
                    -0.4823367216573013,
                    -0.41832173483289536,
                    1.3293542959732239,
                    0.5747000037497597,
                    0.8984544773631561,
                    -0.09102657310000105,
                    -0.8935726532953181,
                    3.702182306560817,
                    1.0830675161165604,
                    -0.389631273082635,
                    -2.237784674893326,
                    0.30587023482201203,
                    7.150359788474627,
                    12.573193400022134,
                    0.2505016381151268,
                    0.9449442451078237,
                    0.005552639919734673,
                    -3.070649632452118,
                    -0.6746490670957964,
                    -1.103857271888795,
                    1.7856506081936938,
                    1.469293989214361,
                    -2.7388612841960427,
                    0.006872336031029414,
                    -1.8427800802011105,
                    0.11425216458159837,
                    1.619692689087469,
                    -0.2229151562109112,
                    1.0267586584540376,
                    7.0144856011408505,
                    -3.3862042742878007,
                    -1.2461659088382266,
                    0.5399356095747581,
                    0.816071136061663,
                    -0.3987290630110526,
                    0.15574028557707403,
                    -1.1037327857603665,
                    -0.5431649322864663,
                    -0.4778480924298398,
                    -0.9701105742233593,
                    0.11688993764185115,
                    0.6528492361848169,
                    1.3069384132678068,
                    2.0775614724467593,
                    -2.472787949531361,
                    -0.39677816177989533,
                    2.276797083177539,
                    1.0868342151280366,
                    -0.7334027365038569,
                    0.43843785862000123,
                    1.8109740538468704,
                    -1.4185765089264355,
                    -1.2502480546870873,
                    0.5385706253800046,
                    -0.6144157750957574,
                    -0.20172658066700572,
                    -1.3542468453704433,
                    -1.2916281635917926,
                    1.1625469550168086,
                    -1.3489800134063767,
                    -1.135990858381189,
                    -1.214999654579169,
                    -1.7411291690408366,
                    4.789475997410122,
                    -1.5841281667082665,
                    2.0776859933484584,
                    -1.172073833274287,
                    2.3612610522425728,
                    0.7292131313275314,
                    0.46059618109473754,
                    -0.6494684395634344,
                    1.6866319761770003,
                    -1.1034867656017044,
                    0.009492506582122062,
                    3.1525200357874725,
                    -3.169272018792487,
                    0.4103019732468908,
                    1.589587180763296,
                    0.8490527573850831,
                    -0.3219787336456097,
                    -2.6340825315067513,
                    -0.9020645127477265,
                    -0.13802539449326146,
                    0.005805452793097985,
                    -1.376508174554953,
                    1.6950095762420414,
                    -1.9784857734603538,
                    3.7234339649911288,
                    0.35416017001773337,
                    4.273457559343928,
                    -0.8085766614536052,
                    1.39397827877338,
                    -0.2686449144053997,
                    -0.8076007245145497,
                    -1.442176333032743,
                    -0.5429615551185355,
                    -2.5330337513731735,
                    0.7539654959361063,
                    0.5919433177059688,
                    0.8915831441834093,
                    -0.17921339538120915,
                    -0.30605810754298207,
                    -1.5247266292706183,
                    0.5562570381029297,
                    -3.065387562694764,
                    -2.5429073403747635,
                    -0.0685629895370578,
                    -3.1387095118177095,
                    -0.004393165898094945,
                    -0.24069816245287512,
                    4.398201224431095,
                    -2.3392145542201788,
                    -1.7984015513316862,
                    6.509100944736074,
                    -1.4022061441771778,
                    3.4708086025184537,
                    0.39620635635195833,
                    -0.7425267533965789,
                    -0.464731880132551,
                    -1.7712490856214695,
                    -1.8356176829018707,
                    1.2658716525771596,
                    1.1034427410603764,
                    -0.7611038557652192,
                    -0.9099185095506269,
                    0.9900314509988006,
                    1.1358368662112703,
                    0.2269347932308041,
                    2.5449885512377803,
                    1.8065200023894001,
                    0.9589114170958807,
                    3.447203371044338,
                    -0.562928882781898,
                    -1.3170441039557903,
                    0.47517200879785865,
                    1.461469049828859,
                    -1.3569167532190698,
                    0.24376028877054537,
                    0.7972528544939034,
                    2.1278382338342636,
                    -1.8491522622427659,
                    1.6313933039522113,
                    0.5793399448225257,
                    -2.7611269383725245,
                    -1.1889398785108847,
                    -0.2507450493903787,
                    -2.1243440856612232,
                    -1.4880222919556163,
                    -0.35716100683196234,
                    -2.0185355801266422,
                    -1.102474644134146,
                    -0.12984677639111622,
                    6.426821325336605,
                    -2.1820950889713906,
                    0.29259551869568473,
                    2.3024810940513207,
                    0.201311517818566,
                    0.9798587490986052,
                    2.16121181730404,
                    -0.9320780757025307,
                    0.3204350918453267,
                    -2.445518206093978,
                    3.702829072415181,
                    0.7868599487131335,
                    2.6050865705018325,
                    0.4296889058321894,
                    -1.7004724529192152,
                    0.10673112891053353,
                    -0.6513939322336018,
                    -0.32614625247661816,
                    -0.2196664709834551,
                    -0.9926112632252977,
                    -0.2933269431068093,
                    -0.33504722368250617,
                    -1.2413645006315381,
                    0.6827414709349872,
                    -1.962171486462375,
                    0.3695733039847466,
                    -0.17584955969763333,
                    -0.4948570488802549,
                    0.37733177801556295,
                    0.9598566844133138,
                    -0.43800838112737783,
                    0.8924663451658135,
                    2.5021010284408893,
                    -0.009212615732294642,
                    -0.02222499493073548,
                    0.7784519899431709,
                    2.3160481611695016,
                    0.862318920243776,
                    0.11361294024954215,
                    2.541229881122567,
                    -0.4323016111698341,
                    2.5509088605378123,
                    0.4020309641046174,
                    -0.7822978750486637,
                    -2.0300159560813174,
                    2.4790130386156712,
                    -1.8053534197287993,
                    -0.4545891023292539,
                    -1.194796751606723,
                    -1.8320607683415786,
                    -2.235142235006319,
                    2.1849984431816174,
                    -2.1364614033015616,
                    0.7307755803574628,
                    1.0676928621106416,
                    -1.0379271546284576,
                    -1.588839068080946,
                    1.803618192415285,
                    0.029891448253056573,
                    -0.4748393562715048,
                    -1.0181257236546635,
                    -1.5713926171482353,
                    0.7770954822681087,
                    -1.666301693410412,
                    -2.0757336094462935,
                    -0.48470941972691056,
                    -2.4940448184260346,
                    -0.06884721909197361,
                    -1.7939185353529024,
                    2.110010116380349,
                    0.1165197508393445,
                    0.899178972850369,
                    3.4260114968829973,
                    1.443555499988368,
                    -0.9032561446358097,
                    -1.772226255129107,
                    -1.246854353451235,
                    1.89946212130124,
                    -0.20637134609241664,
                    -0.9733681313166186,
                    -2.089052100132092,
                    1.2860386526135017,
                    -0.6733394394535677,
                    -2.363958768329909,
                    0.5098341630241631,
                    -1.2987043757103436,
                    -0.22738339631334614,
                    4.389134010162439,
                    -2.4668414639744083,
                    0.9981776172706953,
                    -0.9779443562473958,
                    -4.555664266450616,
                    -0.5609536500245271,
                    -1.0778881659167396,
                    -1.591094167349938,
                    1.5159036366153484,
                    -0.763900570440207,
                    -0.838453640194859,
                    1.5057705471957996,
                    7.729852822980909,
                    8.294777045805882,
                    1.595684072787538,
                    4.1171876187540075,
                    -1.6656934234923966,
                    1.6721924386923703,
                    -2.1610488142701936,
                    -1.411002552572512,
                    0.7901466185708347,
                    1.0763601134369538,
                    1.01136980682798,
                    4.964224724838842,
                    -0.7860354775991906,
                    0.6363495855172859,
                    1.2859253730500366,
                    2.6733006223738807,
                    0.09684797774434958,
                    -0.871543043937109,
                    1.5412240030220536,
                    0.6008480266333984,
                    0.40521767881414494,
                    0.8042094621666291,
                    -1.4847087959964704,
                    1.518580060993585,
                    3.5344808234438316,
                    2.367393965402596,
                    5.599458832421001,
                    2.3896174919490325,
                    1.0923893348542524,
                    -1.821414684387314,
                    -1.6815756616821782,
                    -0.21396235226854696,
                    -1.137740242797218,
                    0.18427240392125027,
                    2.3157930269325786,
                    0.49625033255698914,
                    0.22833000084950036,
                    -0.7674770951715879,
                    1.261241819997035,
                    -1.451635062191615,
                    1.8008334937661314,
                    -0.8300683746870886,
                    1.616459525745642,
                    1.084254578919014,
                    0.12216860869726798,
                    -0.2135597892053799,
                    1.2928476181732194,
                    -0.17801935564455665,
                    -2.131106686801475,
                    -0.6706352502452172
                  ],
                  "z": [
                    -0.5932846728780543,
                    -1.8014466463649585,
                    0.45119309594255885,
                    1.7323092704657577,
                    0.04207863337145822,
                    -1.492418070216408,
                    -0.3691579304325227,
                    1.0182144378859825,
                    -0.4962905620758959,
                    -0.15251090275225207,
                    0.4289376297987206,
                    1.2799313553603346,
                    -1.2429545674795432,
                    1.214083424727178,
                    1.400271428953494,
                    2.7962269541982483,
                    0.47272454666790326,
                    0.5913791457125613,
                    1.4929632785761267,
                    0.20513037564924932,
                    3.8190844979137766,
                    -0.58394491423962,
                    0.7904259568111902,
                    -0.6478761295680107,
                    0.43420394293381426,
                    -1.9057208316175578,
                    -0.9491001000321374,
                    -0.040161570392893226,
                    -0.08059881748870258,
                    0.3100009686404902,
                    0.5279879064914749,
                    -0.08121475155535132,
                    1.0356153885555355,
                    1.551980795897911,
                    -1.3514320278400511,
                    -0.21526324627001256,
                    -0.08872360247325992,
                    -0.5566758547668524,
                    0.9691493605993687,
                    -0.5683733167158239,
                    -1.4906826540186862,
                    -1.09155791167249,
                    1.6697285238211386,
                    2.109571424826849,
                    2.047017676627083,
                    1.7321972542120505,
                    -1.6876206646133822,
                    -0.5338432194792522,
                    3.632208901477244,
                    -2.066538568168473,
                    -1.1344092209636323,
                    0.26707892955328216,
                    -0.6703695057586715,
                    0.641429252011674,
                    -1.0708179312155839,
                    -0.6699943335554919,
                    1.87236236569302,
                    -0.6918083397573659,
                    1.1352375854319203,
                    -0.8424381727934112,
                    0.3531275479534885,
                    -1.4452788581232856,
                    0.6392529661351002,
                    0.6585048178664767,
                    2.2476009462349777,
                    -1.0457701958351548,
                    -0.4694540566471591,
                    0.5515462751459179,
                    -0.060010735999394126,
                    7.358701396212748,
                    -0.09738234882689682,
                    -0.8908118554184636,
                    -0.7983784848750193,
                    1.4491748121802601,
                    -0.906988911109181,
                    -0.2573088148197478,
                    1.4817334903433395,
                    0.8484214292506022,
                    -0.161185522803874,
                    -0.9481076277201699,
                    -0.2773646773000242,
                    -0.4966241065113971,
                    2.675474630695595,
                    1.5593559859079986,
                    0.32499190342076023,
                    4.27185389470181,
                    0.4398430814712689,
                    0.5744797578952943,
                    1.7070135070342733,
                    1.0157124639159683,
                    -0.3474403754731959,
                    0.5414718146037653,
                    0.15208695950047396,
                    3.298378912909246,
                    4.127458213461134,
                    -0.38259161864840274,
                    -0.21467087414879935,
                    -0.6436573743704241,
                    -0.02926707799526967,
                    -2.083305168363743,
                    -1.4617202913827785,
                    -0.5964669060804714,
                    0.6273263145010032,
                    1.7072346544576933,
                    -1.5260284511458577,
                    -1.4476986147449666,
                    -0.22343295414601366,
                    -0.31653408670503036,
                    0.2679558313075473,
                    -0.8815595856500406,
                    -1.3528715042995756,
                    -1.098878005502924,
                    -0.36046848106041346,
                    0.4246170202409215,
                    0.1897539813773673,
                    0.2326850581701179,
                    1.2336689171865807,
                    -0.1924139001506712,
                    -0.8882053802021382,
                    -0.6625398659254075,
                    1.263916788370875,
                    2.430648536175715,
                    0.2646617691905193,
                    -1.6168939002620517,
                    -0.5481423692719259,
                    -0.5989224715653718,
                    0.3106853256936899,
                    1.16990725848992,
                    1.338022928733701,
                    -0.45044814385011583,
                    1.4698537104161313,
                    -0.18805697432432023,
                    -1.108816139236308,
                    0.7162801646163481,
                    3.070064533748781,
                    0.3884694421437598,
                    -0.07218841418072182,
                    -0.8711709390826978,
                    1.7948919349740815,
                    1.5492895369595387,
                    0.8780492332417842,
                    1.0262121995740292,
                    -0.2513038519999236,
                    4.586469471819286,
                    1.2340140284223768,
                    5.866262163776799,
                    -1.0932924842441132,
                    -0.8369860942143196,
                    -0.468990453413938,
                    -0.8070795422821486,
                    -0.5836330362286585,
                    0.893869794792015,
                    -0.8840322667163394,
                    1.771805753853944,
                    1.1463439629698955,
                    0.26148869358941806,
                    0.6217735255816121,
                    1.2592564135512074,
                    -1.1445110793456958,
                    0.5600825261862287,
                    -0.07601008111506077,
                    0.3532143787637654,
                    -0.2701922381873298,
                    0.14889163030758584,
                    -0.05514154281507418,
                    -1.3281272055932136,
                    3.9502124563216356,
                    -0.1682929277877388,
                    0.16972360391478186,
                    2.1671735612731813,
                    3.1865013655851793,
                    1.1095274135972248,
                    -1.2303412760767296,
                    -0.862352763596874,
                    -0.47574509902666673,
                    -0.035839134363824715,
                    0.06423664287367632,
                    -0.9204406698977993,
                    1.6119780499855643,
                    -0.40059795792162284,
                    0.4431683955331025,
                    -0.7575039790931731,
                    0.37461714666599627,
                    -1.0894182296540695,
                    -1.001419800314067,
                    -1.1670750871516078,
                    -0.234263885607578,
                    3.4569412063438496,
                    -0.19257326895640903,
                    -0.930739166688349,
                    -0.8982824688419105,
                    -0.10064773791107072,
                    0.5383465944986744,
                    1.9837353784872866,
                    2.3694249775496035,
                    0.7082058368206894,
                    0.09939723495518595,
                    2.556726212068405,
                    0.4897685757448035,
                    0.9805433670795883,
                    0.34877330002489615,
                    -0.32713925493369467,
                    0.3207841785332593,
                    -1.198879347160125,
                    -1.1016846060799963,
                    -0.7312740135076206,
                    -1.2407374573265397,
                    -1.6714572345945757,
                    1.274133902267534,
                    -0.2790572835682513,
                    -1.5862315228956674,
                    -1.5961148200845598,
                    -0.6277544020206833,
                    1.1965674976407321,
                    -0.9456122787726935,
                    -1.1299574229852563,
                    -0.12245937232338946,
                    0.04505062088911651,
                    1.9537821327862352,
                    -1.1621452296104766,
                    1.852024241134541,
                    -0.10409338477561123,
                    0.29572779995556464,
                    -1.0287507430388951,
                    1.450287676807247,
                    -1.0580796494741698,
                    -0.31451052082533837,
                    -0.7317044452279892,
                    0.6192007406531302,
                    -1.4823631059900695,
                    1.3866289620602488,
                    1.132735338227278,
                    -1.2407192679002845,
                    2.4866706651447807,
                    0.42072311387921923,
                    -1.0170770307910582,
                    -0.8867973454916342,
                    0.20440906049148824,
                    -0.46144723445767327,
                    0.04234275586373149,
                    2.434994481097633,
                    -0.9013035493564175,
                    0.5032993152426851,
                    0.12557802876881696,
                    1.236306149390746,
                    -1.0103056010573572,
                    -0.9983618812596401,
                    2.0053492706156937,
                    0.005311687160125691,
                    -0.08386340874166216,
                    0.27461923642582,
                    0.1921286830041727,
                    0.6917382605559915,
                    0.36260679146256974,
                    -0.43511060267527263,
                    -0.4655238151171027,
                    0.49037320635024023,
                    0.7643270025353968,
                    -0.16622092691760634,
                    0.03928330670874578,
                    0.19716408754742284,
                    2.1360673669882324,
                    0.25948593533664377,
                    -1.3012448663059157,
                    -0.32641562628465925,
                    1.7810417361680768,
                    0.6364613079228607,
                    -0.4815705045392912,
                    -1.4866294599150676,
                    0.8264866674273835,
                    1.256757393327245,
                    -0.1940188130671429,
                    0.07490031713650427,
                    0.631368984665517,
                    0.17031765783364033,
                    -0.7784124514934525,
                    -0.7578124903688045,
                    -0.8537306003684687,
                    -0.5361423428071737,
                    0.7005666558910213,
                    0.608286013430133,
                    0.33940301237847126,
                    2.8432388138880635,
                    -1.479561949427307,
                    3.385409191032915,
                    -2.0310017071341973,
                    -1.6413268578515527,
                    -0.3241373299407394,
                    -0.9788042996936819,
                    -0.8874042009788018,
                    -0.5904906988136899,
                    -0.43261485734282706,
                    -2.238989134286708,
                    -0.9014356569965113,
                    -2.255515570584071,
                    1.778409239282895,
                    -0.8211939533628253,
                    -0.08024034954877031,
                    -0.8056442508536622,
                    0.7523221698204983,
                    2.176688510043555,
                    0.8445422503850871,
                    0.31999178655891797,
                    -2.2162813355757516,
                    -1.6094034549808967,
                    -0.6870332295827158,
                    -0.3538957486931077,
                    -0.6889133256450901,
                    0.4342060711539123,
                    -1.3564723904290876,
                    -0.4127227119346453,
                    -0.737875863474829,
                    0.11980269785207352,
                    -0.021096493916029857,
                    -0.5650580151576796,
                    -0.35004288140975626,
                    -0.6731468170350448,
                    -0.7117708347222277,
                    0.34592828588131186,
                    -0.47341428652587353,
                    -0.48884815042791724,
                    -0.21847444787395187,
                    -1.7790868272089586,
                    -2.814048389998344,
                    -2.195718206732257,
                    2.8464438177369926,
                    -1.1714642227371752,
                    0.6044643405381172,
                    -2.0279219935304633,
                    -1.7416919109479247,
                    0.178961340205258,
                    0.06966776653324647,
                    1.3271571699759652,
                    1.3010415496391097,
                    1.5022454495460607,
                    -0.6327010411280208,
                    0.3733122182727094,
                    0.38453293659908316,
                    -0.14806837925494676,
                    0.47819997052622626,
                    -0.3264190348321056,
                    -0.053846935511336735,
                    0.9232424007034259,
                    1.4141787067512048,
                    1.5439711991900507,
                    0.5049254964771074,
                    0.7805515334699636,
                    2.7664641162789114,
                    0.5648000693542599,
                    1.838960971618535,
                    1.8599429365266409,
                    3.2387731752623563,
                    0.3889306805235728,
                    1.4293767546945189,
                    1.0321098358697296,
                    3.414183934545855,
                    1.4904544055507383
                  ]
                }
              ],
              "layout": {
                "height": 600,
                "legend": {
                  "title": {
                    "text": "Target"
                  },
                  "tracegroupgap": 0
                },
                "margin": {
                  "t": 60
                },
                "scene": {
                  "domain": {
                    "x": [
                      0,
                      1
                    ],
                    "y": [
                      0,
                      1
                    ]
                  },
                  "xaxis": {
                    "title": {
                      "text": "PC1"
                    }
                  },
                  "yaxis": {
                    "title": {
                      "text": "PC2"
                    }
                  },
                  "zaxis": {
                    "title": {
                      "text": "PC3"
                    }
                  }
                },
                "template": {
                  "data": {
                    "bar": [
                      {
                        "error_x": {
                          "color": "#2a3f5f"
                        },
                        "error_y": {
                          "color": "#2a3f5f"
                        },
                        "marker": {
                          "line": {
                            "color": "#E5ECF6",
                            "width": 0.5
                          },
                          "pattern": {
                            "fillmode": "overlay",
                            "size": 10,
                            "solidity": 0.2
                          }
                        },
                        "type": "bar"
                      }
                    ],
                    "barpolar": [
                      {
                        "marker": {
                          "line": {
                            "color": "#E5ECF6",
                            "width": 0.5
                          },
                          "pattern": {
                            "fillmode": "overlay",
                            "size": 10,
                            "solidity": 0.2
                          }
                        },
                        "type": "barpolar"
                      }
                    ],
                    "carpet": [
                      {
                        "aaxis": {
                          "endlinecolor": "#2a3f5f",
                          "gridcolor": "white",
                          "linecolor": "white",
                          "minorgridcolor": "white",
                          "startlinecolor": "#2a3f5f"
                        },
                        "baxis": {
                          "endlinecolor": "#2a3f5f",
                          "gridcolor": "white",
                          "linecolor": "white",
                          "minorgridcolor": "white",
                          "startlinecolor": "#2a3f5f"
                        },
                        "type": "carpet"
                      }
                    ],
                    "choropleth": [
                      {
                        "colorbar": {
                          "outlinewidth": 0,
                          "ticks": ""
                        },
                        "type": "choropleth"
                      }
                    ],
                    "contour": [
                      {
                        "colorbar": {
                          "outlinewidth": 0,
                          "ticks": ""
                        },
                        "colorscale": [
                          [
                            0,
                            "#0d0887"
                          ],
                          [
                            0.1111111111111111,
                            "#46039f"
                          ],
                          [
                            0.2222222222222222,
                            "#7201a8"
                          ],
                          [
                            0.3333333333333333,
                            "#9c179e"
                          ],
                          [
                            0.4444444444444444,
                            "#bd3786"
                          ],
                          [
                            0.5555555555555556,
                            "#d8576b"
                          ],
                          [
                            0.6666666666666666,
                            "#ed7953"
                          ],
                          [
                            0.7777777777777778,
                            "#fb9f3a"
                          ],
                          [
                            0.8888888888888888,
                            "#fdca26"
                          ],
                          [
                            1,
                            "#f0f921"
                          ]
                        ],
                        "type": "contour"
                      }
                    ],
                    "contourcarpet": [
                      {
                        "colorbar": {
                          "outlinewidth": 0,
                          "ticks": ""
                        },
                        "type": "contourcarpet"
                      }
                    ],
                    "heatmap": [
                      {
                        "colorbar": {
                          "outlinewidth": 0,
                          "ticks": ""
                        },
                        "colorscale": [
                          [
                            0,
                            "#0d0887"
                          ],
                          [
                            0.1111111111111111,
                            "#46039f"
                          ],
                          [
                            0.2222222222222222,
                            "#7201a8"
                          ],
                          [
                            0.3333333333333333,
                            "#9c179e"
                          ],
                          [
                            0.4444444444444444,
                            "#bd3786"
                          ],
                          [
                            0.5555555555555556,
                            "#d8576b"
                          ],
                          [
                            0.6666666666666666,
                            "#ed7953"
                          ],
                          [
                            0.7777777777777778,
                            "#fb9f3a"
                          ],
                          [
                            0.8888888888888888,
                            "#fdca26"
                          ],
                          [
                            1,
                            "#f0f921"
                          ]
                        ],
                        "type": "heatmap"
                      }
                    ],
                    "heatmapgl": [
                      {
                        "colorbar": {
                          "outlinewidth": 0,
                          "ticks": ""
                        },
                        "colorscale": [
                          [
                            0,
                            "#0d0887"
                          ],
                          [
                            0.1111111111111111,
                            "#46039f"
                          ],
                          [
                            0.2222222222222222,
                            "#7201a8"
                          ],
                          [
                            0.3333333333333333,
                            "#9c179e"
                          ],
                          [
                            0.4444444444444444,
                            "#bd3786"
                          ],
                          [
                            0.5555555555555556,
                            "#d8576b"
                          ],
                          [
                            0.6666666666666666,
                            "#ed7953"
                          ],
                          [
                            0.7777777777777778,
                            "#fb9f3a"
                          ],
                          [
                            0.8888888888888888,
                            "#fdca26"
                          ],
                          [
                            1,
                            "#f0f921"
                          ]
                        ],
                        "type": "heatmapgl"
                      }
                    ],
                    "histogram": [
                      {
                        "marker": {
                          "pattern": {
                            "fillmode": "overlay",
                            "size": 10,
                            "solidity": 0.2
                          }
                        },
                        "type": "histogram"
                      }
                    ],
                    "histogram2d": [
                      {
                        "colorbar": {
                          "outlinewidth": 0,
                          "ticks": ""
                        },
                        "colorscale": [
                          [
                            0,
                            "#0d0887"
                          ],
                          [
                            0.1111111111111111,
                            "#46039f"
                          ],
                          [
                            0.2222222222222222,
                            "#7201a8"
                          ],
                          [
                            0.3333333333333333,
                            "#9c179e"
                          ],
                          [
                            0.4444444444444444,
                            "#bd3786"
                          ],
                          [
                            0.5555555555555556,
                            "#d8576b"
                          ],
                          [
                            0.6666666666666666,
                            "#ed7953"
                          ],
                          [
                            0.7777777777777778,
                            "#fb9f3a"
                          ],
                          [
                            0.8888888888888888,
                            "#fdca26"
                          ],
                          [
                            1,
                            "#f0f921"
                          ]
                        ],
                        "type": "histogram2d"
                      }
                    ],
                    "histogram2dcontour": [
                      {
                        "colorbar": {
                          "outlinewidth": 0,
                          "ticks": ""
                        },
                        "colorscale": [
                          [
                            0,
                            "#0d0887"
                          ],
                          [
                            0.1111111111111111,
                            "#46039f"
                          ],
                          [
                            0.2222222222222222,
                            "#7201a8"
                          ],
                          [
                            0.3333333333333333,
                            "#9c179e"
                          ],
                          [
                            0.4444444444444444,
                            "#bd3786"
                          ],
                          [
                            0.5555555555555556,
                            "#d8576b"
                          ],
                          [
                            0.6666666666666666,
                            "#ed7953"
                          ],
                          [
                            0.7777777777777778,
                            "#fb9f3a"
                          ],
                          [
                            0.8888888888888888,
                            "#fdca26"
                          ],
                          [
                            1,
                            "#f0f921"
                          ]
                        ],
                        "type": "histogram2dcontour"
                      }
                    ],
                    "mesh3d": [
                      {
                        "colorbar": {
                          "outlinewidth": 0,
                          "ticks": ""
                        },
                        "type": "mesh3d"
                      }
                    ],
                    "parcoords": [
                      {
                        "line": {
                          "colorbar": {
                            "outlinewidth": 0,
                            "ticks": ""
                          }
                        },
                        "type": "parcoords"
                      }
                    ],
                    "pie": [
                      {
                        "automargin": true,
                        "type": "pie"
                      }
                    ],
                    "scatter": [
                      {
                        "fillpattern": {
                          "fillmode": "overlay",
                          "size": 10,
                          "solidity": 0.2
                        },
                        "type": "scatter"
                      }
                    ],
                    "scatter3d": [
                      {
                        "line": {
                          "colorbar": {
                            "outlinewidth": 0,
                            "ticks": ""
                          }
                        },
                        "marker": {
                          "colorbar": {
                            "outlinewidth": 0,
                            "ticks": ""
                          }
                        },
                        "type": "scatter3d"
                      }
                    ],
                    "scattercarpet": [
                      {
                        "marker": {
                          "colorbar": {
                            "outlinewidth": 0,
                            "ticks": ""
                          }
                        },
                        "type": "scattercarpet"
                      }
                    ],
                    "scattergeo": [
                      {
                        "marker": {
                          "colorbar": {
                            "outlinewidth": 0,
                            "ticks": ""
                          }
                        },
                        "type": "scattergeo"
                      }
                    ],
                    "scattergl": [
                      {
                        "marker": {
                          "colorbar": {
                            "outlinewidth": 0,
                            "ticks": ""
                          }
                        },
                        "type": "scattergl"
                      }
                    ],
                    "scattermapbox": [
                      {
                        "marker": {
                          "colorbar": {
                            "outlinewidth": 0,
                            "ticks": ""
                          }
                        },
                        "type": "scattermapbox"
                      }
                    ],
                    "scatterpolar": [
                      {
                        "marker": {
                          "colorbar": {
                            "outlinewidth": 0,
                            "ticks": ""
                          }
                        },
                        "type": "scatterpolar"
                      }
                    ],
                    "scatterpolargl": [
                      {
                        "marker": {
                          "colorbar": {
                            "outlinewidth": 0,
                            "ticks": ""
                          }
                        },
                        "type": "scatterpolargl"
                      }
                    ],
                    "scatterternary": [
                      {
                        "marker": {
                          "colorbar": {
                            "outlinewidth": 0,
                            "ticks": ""
                          }
                        },
                        "type": "scatterternary"
                      }
                    ],
                    "surface": [
                      {
                        "colorbar": {
                          "outlinewidth": 0,
                          "ticks": ""
                        },
                        "colorscale": [
                          [
                            0,
                            "#0d0887"
                          ],
                          [
                            0.1111111111111111,
                            "#46039f"
                          ],
                          [
                            0.2222222222222222,
                            "#7201a8"
                          ],
                          [
                            0.3333333333333333,
                            "#9c179e"
                          ],
                          [
                            0.4444444444444444,
                            "#bd3786"
                          ],
                          [
                            0.5555555555555556,
                            "#d8576b"
                          ],
                          [
                            0.6666666666666666,
                            "#ed7953"
                          ],
                          [
                            0.7777777777777778,
                            "#fb9f3a"
                          ],
                          [
                            0.8888888888888888,
                            "#fdca26"
                          ],
                          [
                            1,
                            "#f0f921"
                          ]
                        ],
                        "type": "surface"
                      }
                    ],
                    "table": [
                      {
                        "cells": {
                          "fill": {
                            "color": "#EBF0F8"
                          },
                          "line": {
                            "color": "white"
                          }
                        },
                        "header": {
                          "fill": {
                            "color": "#C8D4E3"
                          },
                          "line": {
                            "color": "white"
                          }
                        },
                        "type": "table"
                      }
                    ]
                  },
                  "layout": {
                    "annotationdefaults": {
                      "arrowcolor": "#2a3f5f",
                      "arrowhead": 0,
                      "arrowwidth": 1
                    },
                    "autotypenumbers": "strict",
                    "coloraxis": {
                      "colorbar": {
                        "outlinewidth": 0,
                        "ticks": ""
                      }
                    },
                    "colorscale": {
                      "diverging": [
                        [
                          0,
                          "#8e0152"
                        ],
                        [
                          0.1,
                          "#c51b7d"
                        ],
                        [
                          0.2,
                          "#de77ae"
                        ],
                        [
                          0.3,
                          "#f1b6da"
                        ],
                        [
                          0.4,
                          "#fde0ef"
                        ],
                        [
                          0.5,
                          "#f7f7f7"
                        ],
                        [
                          0.6,
                          "#e6f5d0"
                        ],
                        [
                          0.7,
                          "#b8e186"
                        ],
                        [
                          0.8,
                          "#7fbc41"
                        ],
                        [
                          0.9,
                          "#4d9221"
                        ],
                        [
                          1,
                          "#276419"
                        ]
                      ],
                      "sequential": [
                        [
                          0,
                          "#0d0887"
                        ],
                        [
                          0.1111111111111111,
                          "#46039f"
                        ],
                        [
                          0.2222222222222222,
                          "#7201a8"
                        ],
                        [
                          0.3333333333333333,
                          "#9c179e"
                        ],
                        [
                          0.4444444444444444,
                          "#bd3786"
                        ],
                        [
                          0.5555555555555556,
                          "#d8576b"
                        ],
                        [
                          0.6666666666666666,
                          "#ed7953"
                        ],
                        [
                          0.7777777777777778,
                          "#fb9f3a"
                        ],
                        [
                          0.8888888888888888,
                          "#fdca26"
                        ],
                        [
                          1,
                          "#f0f921"
                        ]
                      ],
                      "sequentialminus": [
                        [
                          0,
                          "#0d0887"
                        ],
                        [
                          0.1111111111111111,
                          "#46039f"
                        ],
                        [
                          0.2222222222222222,
                          "#7201a8"
                        ],
                        [
                          0.3333333333333333,
                          "#9c179e"
                        ],
                        [
                          0.4444444444444444,
                          "#bd3786"
                        ],
                        [
                          0.5555555555555556,
                          "#d8576b"
                        ],
                        [
                          0.6666666666666666,
                          "#ed7953"
                        ],
                        [
                          0.7777777777777778,
                          "#fb9f3a"
                        ],
                        [
                          0.8888888888888888,
                          "#fdca26"
                        ],
                        [
                          1,
                          "#f0f921"
                        ]
                      ]
                    },
                    "colorway": [
                      "#636efa",
                      "#EF553B",
                      "#00cc96",
                      "#ab63fa",
                      "#FFA15A",
                      "#19d3f3",
                      "#FF6692",
                      "#B6E880",
                      "#FF97FF",
                      "#FECB52"
                    ],
                    "font": {
                      "color": "#2a3f5f"
                    },
                    "geo": {
                      "bgcolor": "white",
                      "lakecolor": "white",
                      "landcolor": "#E5ECF6",
                      "showlakes": true,
                      "showland": true,
                      "subunitcolor": "white"
                    },
                    "hoverlabel": {
                      "align": "left"
                    },
                    "hovermode": "closest",
                    "mapbox": {
                      "style": "light"
                    },
                    "paper_bgcolor": "white",
                    "plot_bgcolor": "#E5ECF6",
                    "polar": {
                      "angularaxis": {
                        "gridcolor": "white",
                        "linecolor": "white",
                        "ticks": ""
                      },
                      "bgcolor": "#E5ECF6",
                      "radialaxis": {
                        "gridcolor": "white",
                        "linecolor": "white",
                        "ticks": ""
                      }
                    },
                    "scene": {
                      "xaxis": {
                        "backgroundcolor": "#E5ECF6",
                        "gridcolor": "white",
                        "gridwidth": 2,
                        "linecolor": "white",
                        "showbackground": true,
                        "ticks": "",
                        "zerolinecolor": "white"
                      },
                      "yaxis": {
                        "backgroundcolor": "#E5ECF6",
                        "gridcolor": "white",
                        "gridwidth": 2,
                        "linecolor": "white",
                        "showbackground": true,
                        "ticks": "",
                        "zerolinecolor": "white"
                      },
                      "zaxis": {
                        "backgroundcolor": "#E5ECF6",
                        "gridcolor": "white",
                        "gridwidth": 2,
                        "linecolor": "white",
                        "showbackground": true,
                        "ticks": "",
                        "zerolinecolor": "white"
                      }
                    },
                    "shapedefaults": {
                      "line": {
                        "color": "#2a3f5f"
                      }
                    },
                    "ternary": {
                      "aaxis": {
                        "gridcolor": "white",
                        "linecolor": "white",
                        "ticks": ""
                      },
                      "baxis": {
                        "gridcolor": "white",
                        "linecolor": "white",
                        "ticks": ""
                      },
                      "bgcolor": "#E5ECF6",
                      "caxis": {
                        "gridcolor": "white",
                        "linecolor": "white",
                        "ticks": ""
                      }
                    },
                    "title": {
                      "x": 0.05
                    },
                    "xaxis": {
                      "automargin": true,
                      "gridcolor": "white",
                      "linecolor": "white",
                      "ticks": "",
                      "title": {
                        "standoff": 15
                      },
                      "zerolinecolor": "white",
                      "zerolinewidth": 2
                    },
                    "yaxis": {
                      "automargin": true,
                      "gridcolor": "white",
                      "linecolor": "white",
                      "ticks": "",
                      "title": {
                        "standoff": 15
                      },
                      "zerolinecolor": "white",
                      "zerolinewidth": 2
                    }
                  }
                },
                "title": {
                  "text": "Proyección de los datos en las tres primeras componentes principales"
                },
                "width": 800
              }
            }
          },
          "metadata": {},
          "output_type": "display_data"
        }
      ],
      "source": [
        "pca_3d = PCA(n_components=3)\n",
        "X_pca_3d = pca_3d.fit_transform(X_scaled)\n",
        "\n",
        "# Crear un DataFrame con los datos transformados y las etiquetas\n",
        "df_pca_3d = pd.DataFrame(X_pca_3d, columns=['PC1', 'PC2', 'PC3'])\n",
        "df_pca_3d['target'] = data.target  # Asegúrate de que 'data.target' sea el vector correcto de etiquetas\n",
        "\n",
        "# Crear un gráfico de dispersión 3D de las componentes principales\n",
        "fig = px.scatter_3d(df_pca_3d, x='PC1', y='PC2', z='PC3', color=df_pca_3d['target'].astype(str),\n",
        "                    labels={'color': 'Target'}, width=800, height=600)  # Ajusta el tamaño del gráfico\n",
        "\n",
        "fig.update_layout(\n",
        "    title='Proyección de los datos en las tres primeras componentes principales',\n",
        "    scene=dict(\n",
        "        xaxis_title='PC1',\n",
        "        yaxis_title='PC2',\n",
        "        zaxis_title='PC3'\n",
        "    ),\n",
        "    legend_title=\"Target\"\n",
        ")\n",
        "\n",
        "fig.show()"
      ]
    },
    {
      "cell_type": "markdown",
      "id": "044bf572",
      "metadata": {
        "id": "044bf572"
      },
      "source": [
        "Esta visualización en 3D puede proporcionar una perspectiva adicional sobre la estructura de los datos y la separación entre clases. De manera similar a la visualización en 2D, también podemos calcular la proporción de varianza explicada por las tres primeras componentes principales."
      ]
    },
    {
      "cell_type": "code",
      "execution_count": 12,
      "id": "de6bce55",
      "metadata": {
        "ExecuteTime": {
          "end_time": "2023-03-31T22:39:31.175967Z",
          "start_time": "2023-03-31T22:39:31.168973Z"
        },
        "id": "de6bce55",
        "outputId": "87dbb1c3-4949-48c1-f4b7-7ef7f6f40576"
      },
      "outputs": [
        {
          "name": "stdout",
          "output_type": "stream",
          "text": [
            "Proporción de varianza explicada por las tres primeras componentes principales: [0.44272026 0.18971182 0.09393163]\n"
          ]
        }
      ],
      "source": [
        "# Calcular la proporción de varianza explicada por las tres primeras componentes principales\n",
        "explained_variance_ratio_3d = pca_3d.explained_variance_ratio_\n",
        "print(\"Proporción de varianza explicada por las tres primeras componentes principales:\", explained_variance_ratio_3d)"
      ]
    },
    {
      "cell_type": "markdown",
      "id": "2712df40",
      "metadata": {
        "id": "2712df40"
      },
      "source": [
        "Hasta este punto hemos aplicado PCA al conjunto de datos Breast Cancer Wisconsin, reduciendo su dimensionalidad y visualizando la proyección de los datos en dos y tres dimensiones. A través de la visualización, hemos observado cierta separación entre clases, lo que sugiere que PCA puede ser útil para simplificar la información contenida en este conjunto de datos antes de aplicar algoritmos de clasificación."
      ]
    },
    {
      "cell_type": "markdown",
      "id": "e518a6db",
      "metadata": {
        "id": "e518a6db"
      },
      "source": [
        "# Aplicando K-means al conjunto de datos Breast Cancer Wisconsin\n",
        "Después de reducir la dimensionalidad del conjunto de datos utilizando PCA, podemos aplicar K-means para realizar un análisis de clustering. K-means es un algoritmo de clustering que intenta dividir el conjunto de datos en K grupos (clusters) disjuntos, minimizando la suma de las distancias al cuadrado entre los puntos y el centroide de su cluster correspondiente.\n",
        "\n",
        "En este caso, utilizaremos el objeto `KMeans` de scikit-learn para aplicar el algoritmo K-means al conjunto de datos Breast Cancer Wisconsin reducido a tres dimensiones con PCA."
      ]
    },
    {
      "cell_type": "code",
      "execution_count": 13,
      "id": "d6c18798",
      "metadata": {
        "ExecuteTime": {
          "end_time": "2023-03-31T22:45:44.858099Z",
          "start_time": "2023-03-31T22:45:44.495666Z"
        },
        "id": "d6c18798",
        "outputId": "7cddf278-df49-4eb7-d12c-6546c4cff27f"
      },
      "outputs": [
        {
          "data": {
            "application/vnd.plotly.v1+json": {
              "config": {
                "plotlyServerURL": "https://plot.ly"
              },
              "data": [
                {
                  "hovertemplate": "Cluster ID=1<br>PC1=%{x}<br>PC2=%{y}<br>PC3=%{z}<extra></extra>",
                  "legendgroup": "1",
                  "marker": {
                    "color": "#636efa",
                    "opacity": 0.5,
                    "size": 5,
                    "symbol": "circle"
                  },
                  "mode": "markers",
                  "name": "1",
                  "scene": "scene",
                  "showlegend": true,
                  "type": "scatter3d",
                  "x": [
                    9.19283681716132,
                    2.3878017882095937,
                    5.733896279042575,
                    7.122953189154443,
                    3.935302066459322,
                    2.3802471502169795,
                    2.238883305654223,
                    2.1432984993952786,
                    3.1749242936145254,
                    6.351746789261942,
                    2.651100483603924,
                    8.185034454155533,
                    4.342379193705466,
                    4.075656180993452,
                    4.4180109084801105,
                    4.948703548920415,
                    4.733210781752197,
                    4.208524213519204,
                    4.949632076560283,
                    7.098562842019499,
                    3.510262593344944,
                    3.064053882249706,
                    4.007264145984791,
                    1.7153097282593341,
                    6.059445514543491,
                    2.9022361019078318,
                    4.554782691903976,
                    4.9906027253628515,
                    2.9853407886543666,
                    2.7663691612682504,
                    1.2961987671943254,
                    9.087999690505246,
                    5.380940411060436,
                    1.7000068830662756,
                    3.302550959758403,
                    4.648738876190602,
                    2.1768628812025796,
                    4.759112157274216,
                    1.691607924949892,
                    1.812305406410659,
                    4.330002654344113,
                    2.7045961698764134,
                    5.503705328886948,
                    1.4281675906541154,
                    6.230896516042716,
                    11.6687146384064,
                    1.1674616105089195,
                    10.769242811450113,
                    5.034811088062925,
                    3.288235380507169,
                    3.583563620321947,
                    1.2596046581537073,
                    2.775865564560472,
                    4.39622796007574,
                    3.213916761625332,
                    13.056121871883494,
                    3.5912941082052505,
                    3.110527693324054,
                    4.95672556679282,
                    3.3341331962679615,
                    12.894612155576862,
                    1.9191334303479777,
                    1.408868366038373,
                    4.643691316479719,
                    1.432069428709053,
                    1.352627034038774,
                    2.1714160207486404,
                    3.7820264488530277,
                    1.345020436839803,
                    2.3999978318280513,
                    7.093306722132986,
                    4.100787735951987,
                    3.3873307537745734,
                    6.149886187126119,
                    5.494152791367663,
                    1.21363461139543,
                    5.069661080036059,
                    2.8193683385575423,
                    2.956301863343875,
                    9.512669841658049,
                    9.007165518320026,
                    6.5231166586068134,
                    1.779661491363546,
                    2.6114848903805656,
                    2.4984388740447514,
                    1.2770271861023599,
                    3.4731973506959575,
                    1.2566751077261884,
                    1.6494606943369556,
                    9.036589475199337,
                    4.55459007408917,
                    4.808969241501051,
                    12.285019758357887,
                    3.372196595784556,
                    2.508766304172492,
                    1.3180684756999166,
                    4.9435810183879525,
                    4.298077338304292,
                    1.803247024437129,
                    2.75556799634369,
                    3.2572546673065377,
                    3.3163241123381515,
                    8.403847105258599,
                    2.64756863824871,
                    3.3502957872381574,
                    1.3226214215698298,
                    3.7955656421351023,
                    7.143842038056517,
                    7.085010646486937,
                    1.314099001748481,
                    3.7116495168516237,
                    6.392649919262394,
                    5.255544945863739,
                    8.733861480566897,
                    3.6913178787381455,
                    3.3782508773240703,
                    3.284372632649481,
                    1.6147819272339208,
                    6.619726353388485,
                    7.676149476838518,
                    4.960268116260472,
                    3.785060102477887,
                    2.6372557742959937,
                    3.1340082301632806,
                    6.590235943807163,
                    7.182933094509356,
                    1.8953162763154396,
                    1.572931126092924,
                    1.8348404632418016,
                    7.236485305111448,
                    2.2505103780241154,
                    2.107801234325972,
                    1.7859499794644005,
                    3.3196739695901596,
                    4.68016626619899,
                    7.353218576609095,
                    4.975162354555338,
                    6.182283738316589,
                    10.934298158256004,
                    2.1184969253241195,
                    2.735011770508173,
                    6.2270259828476915,
                    5.307140029457814,
                    7.24800105351276,
                    4.207220614934137,
                    3.6350149400290723,
                    3.519248275031301,
                    2.0448569234344665,
                    3.7659321552433305,
                    4.703500723951781,
                    4.149097339175853,
                    7.672141550482592,
                    6.2896734690659155,
                    2.763370786361021,
                    6.003616588448273,
                    1.9884621054660037,
                    4.949858452288425,
                    4.549111141888273,
                    4.44234282341302,
                    2.4723569224266972,
                    3.2454136452555016,
                    4.331653339951493,
                    2.5117531027612428,
                    3.475493746594136,
                    16.319233241316255,
                    1.3703398856796076,
                    5.930964854047264,
                    3.8244330418007766,
                    2.3173906098473678,
                    4.754614870923087,
                    3.103519703513136,
                    3.7157050995037992,
                    5.094841841107998,
                    2.7903998308299847,
                    7.259178839835614,
                    1.2988665572674827,
                    4.094142557785264,
                    2.226994476768923,
                    2.697223757000932,
                    3.3790146687305347,
                    8.630755849426405,
                    4.028435263122591,
                    5.165410941634055,
                    5.917612579106197,
                    8.74133806241416,
                    6.439315477418188,
                    3.793382370583323,
                    1.2561792790637851,
                    10.374794062126602
                  ],
                  "y": [
                    1.9485840480703969,
                    -3.768171006918808,
                    -1.0751738642047899,
                    10.275589974968138,
                    -1.9480709607388487,
                    3.9499288592437325,
                    -2.690031035322368,
                    2.3402441566805408,
                    3.3918128750342107,
                    7.727173820552043,
                    0.06656729819678935,
                    2.7009770133968565,
                    4.861083286889599,
                    2.9770605295390666,
                    1.4186711276737083,
                    -4.114333323295566,
                    3.304964384464867,
                    -5.128366788537702,
                    -1.5437523882125528,
                    2.018611465376822,
                    2.1716260211209244,
                    -1.8765520393912252,
                    0.5372419692959488,
                    -1.5237051668044865,
                    -0.757177655574109,
                    4.005295830830119,
                    0.33753573670121173,
                    -1.1325891375678734,
                    0.7584232160880178,
                    -0.3543563106264051,
                    0.9131959507818493,
                    2.0186719067179335,
                    -0.134877434901151,
                    2.3522719861743284,
                    -1.130938740281699,
                    -2.310332778908438,
                    0.9721160542117353,
                    3.011680215061862,
                    1.5406763364553109,
                    0.7227400442461847,
                    9.202525485475185,
                    -4.43714144001707,
                    0.9383240575696529,
                    -1.9671012276914366,
                    0.9200691198001986,
                    4.748618396821691,
                    2.514515859038554,
                    -2.257982052414021,
                    0.7744087396876721,
                    -1.6682366773302653,
                    -2.2066613965763153,
                    1.0155759860365159,
                    0.5580009034418083,
                    -2.1235082405400196,
                    4.046756348123271,
                    0.981512094086329,
                    3.9263341955730007,
                    1.5693895177009711,
                    2.384846469489976,
                    -1.3255572160298326,
                    2.3166203383422155,
                    -3.538083103524031,
                    1.3049291472212965,
                    -1.4820172016026647,
                    -1.049604243143296,
                    -1.154142233492033,
                    -2.8262609033132917,
                    0.8603821590647245,
                    -1.2747708227946537,
                    4.8379898844563956,
                    12.573193460517933,
                    -0.3788047457955723,
                    -2.911036177025852,
                    -2.0176525230214746,
                    -4.165828666186941,
                    -2.039038942780336,
                    -1.7851522669610873,
                    1.2651035099340244,
                    0.7064221370048452,
                    -5.603483869578478,
                    0.5810319157509416,
                    8.011166029537476,
                    2.7765869310097253,
                    1.5614220236163,
                    2.27848321717042,
                    -2.443259995655684,
                    -2.277849577954005,
                    0.38239369283210295,
                    -2.1022909685387288,
                    -0.6551723892677991,
                    3.0866383806917046,
                    -3.0291026707683204,
                    -7.543410486333126,
                    2.5878249999337766,
                    2.614649113113749,
                    2.1544796157526984,
                    -2.848324814632273,
                    -4.666275774947408,
                    0.16646056159762793,
                    3.4657739718854974,
                    -0.12520002112960565,
                    -3.9391521307186523,
                    -4.153903761231138,
                    -3.951173401511062,
                    -2.1545697513344058,
                    4.78947631508996,
                    -1.0262326440540934,
                    -2.0748422248587657,
                    0.5282232947658005,
                    -1.7754257600040757,
                    -2.807477297024659,
                    -1.8230940029377163,
                    3.8945311783048737,
                    3.279879686522181,
                    1.0656461331095408,
                    -3.371228299746965,
                    -0.990674470307809,
                    -2.4745735493168537,
                    -6.003276718532533,
                    -3.0753066068498915,
                    -1.341122886203747,
                    -1.9019073011167769,
                    0.5771552305899925,
                    4.273456900247321,
                    -1.484862473779603,
                    0.055146921666695575,
                    -2.3922380461172943,
                    6.50910097380899,
                    -4.321522606074299,
                    -0.03570092746216722,
                    -0.3485363071270086,
                    1.1219732238120113,
                    -0.2692216050412073,
                    -1.577052736768628,
                    -0.9685931575944845,
                    -5.242623295488925,
                    -1.3325718910810975,
                    5.10800573909117,
                    -3.7032539403228273,
                    0.29662963587099167,
                    -3.9451680029827236,
                    -1.3901091102084329,
                    -6.723415529297746,
                    -3.655468435448334,
                    1.1762431702771547,
                    -1.9564403412364244,
                    -3.8586070801493033,
                    6.426821046477474,
                    5.985295226870941,
                    -0.1959550560672972,
                    0.7674891483255228,
                    -0.860483979215483,
                    2.036547371066048,
                    -1.078633543268177,
                    -0.09102895872971259,
                    2.316048265807039,
                    3.006064888273678,
                    -0.8160001423570737,
                    -0.992439344437848,
                    -1.4998253060685103,
                    -1.7783583578987043,
                    -4.04933196195002,
                    -2.5288076440445817,
                    -1.6728841977229358,
                    -7.7758537122104565,
                    2.110010275896892,
                    1.2282971278720094,
                    2.3052364013026185,
                    4.389134088532891,
                    -1.4894236297472874,
                    -1.236153138887903,
                    -1.0586857927079936,
                    -2.019207584556612,
                    3.38556057661844,
                    -5.495735472280922,
                    7.72985215485737,
                    2.80292719399809,
                    1.941635899365402,
                    -1.943710215420016,
                    -2.333429005928685,
                    -3.459450845312889,
                    -2.9414303051804227,
                    -2.3822025743053006,
                    3.4826373878003882,
                    -0.5738533020080036,
                    -3.5768169989296976,
                    -3.584047897901091,
                    -1.9022970000625374,
                    1.6720098273573933
                  ],
                  "z": [
                    -1.123156082944981,
                    -0.5292884904311884,
                    -0.5517474848263353,
                    -3.232782762678941,
                    1.3897710221040156,
                    -2.934877281496825,
                    -1.6399108595787542,
                    -0.8719470143999923,
                    -3.1199853255282943,
                    -4.341921553312517,
                    -1.5264605276415464,
                    5.730234339747221,
                    -2.8161163931014888,
                    -3.125281319782549,
                    -2.270311934279607,
                    -0.31474743517971654,
                    -1.4665311818902163,
                    -0.7524042535798243,
                    -1.7131935374340004,
                    -0.028999062527803595,
                    -3.8945393800036108,
                    2.5817494201578075,
                    -2.7616261152846877,
                    0.1461861127378176,
                    -0.3492402646660125,
                    -3.0014616358087984,
                    -0.7543026964781853,
                    -2.577387914895581,
                    -3.4937630295289246,
                    -1.8969651873059619,
                    -1.5757718422119005,
                    2.1412168403705176,
                    -1.6788462835377462,
                    -3.078087830878878,
                    0.8263861805825886,
                    -0.7288103170851762,
                    -1.9438885724815407,
                    -0.16624236463930367,
                    -1.7998461716613383,
                    -1.4662495406825107,
                    1.4929585284870102,
                    0.30734847897475914,
                    -2.210144401970188,
                    1.1119409842665593,
                    0.0898242860696867,
                    2.0058888754954154,
                    -1.9057183445547237,
                    0.038843560130276115,
                    2.682337001421553,
                    0.14693487212251954,
                    -1.7045328082332778,
                    -0.08060152342227742,
                    -0.6057671044017149,
                    0.5795052024446332,
                    -2.7153846098728756,
                    0.5988051741346417,
                    2.047016805117444,
                    -2.6139352757709005,
                    -1.9351057882513267,
                    0.7280143703789547,
                    6.328681800682242,
                    1.2549175773484031,
                    0.6414270321660914,
                    -1.1706804116191416,
                    -1.262012870129639,
                    -1.2097988650245586,
                    -0.562108731416089,
                    3.671004756004864,
                    0.5558444079253115,
                    -1.0281477551274576,
                    7.358702403602714,
                    1.4463109511171026,
                    3.007244749639645,
                    -1.5661412429331807,
                    -0.6012573160322263,
                    0.980696403064483,
                    1.1736486167665352,
                    -2.1531411508299945,
                    -1.0423329001395905,
                    -0.6372361481022593,
                    -3.1347091062804386,
                    -0.32645240046961554,
                    -0.9427652675947417,
                    -0.21818354974779408,
                    1.3194811420349304,
                    2.466308851048035,
                    -1.2386901275250932,
                    -3.8383159251331884,
                    -0.9752698836931217,
                    0.22128322908143896,
                    -2.270408269132287,
                    2.7440203706654,
                    10.11241990906153,
                    7.092069770288833,
                    0.20638557513453237,
                    -1.786632115214825,
                    0.9138754314435941,
                    -0.006845566642912495,
                    -2.6286030764334907,
                    -2.4740481567319055,
                    -2.896092804369947,
                    -0.20545360446633068,
                    0.04697669157955961,
                    1.3718764424029535,
                    -1.1089411471744164,
                    -0.6625387949428108,
                    0.8986357420012494,
                    1.088387265841284,
                    -1.2799882639494158,
                    -1.6726305875946597,
                    -1.756195715735815,
                    0.47985130530574965,
                    -0.8338508943321088,
                    2.9037203014033577,
                    -3.5155883676065054,
                    -1.7667807547448706,
                    2.554376821130929,
                    -1.9911358221057822,
                    0.9893752925342629,
                    1.4819569982821446,
                    -1.4570519602575023,
                    -1.7442401185841208,
                    -1.9946982404012872,
                    5.866262924312575,
                    0.3613388132543828,
                    2.012924574413851,
                    -1.6764918150896195,
                    2.1671724458724153,
                    0.3166878973434946,
                    -2.8410581207523724,
                    -1.064753340408337,
                    1.7751521447628829,
                    -1.7225150273930414,
                    1.3607301062115427,
                    -0.29127497396292223,
                    0.3169545360314491,
                    0.8709803436710718,
                    0.5211432518642304,
                    -0.8916917252963715,
                    0.8674894138299172,
                    -0.017168104003310876,
                    2.734242085060958,
                    1.4856603049818935,
                    -0.15569528593955992,
                    -1.5900155385549948,
                    -0.8287707427937141,
                    -1.0225281072905326,
                    1.2741306193749868,
                    -4.880362393488526,
                    3.7570365143104567,
                    -0.8879719064110461,
                    -2.1536485802533956,
                    -3.182082573581127,
                    -1.1796243624599638,
                    1.711203608326881,
                    1.2363056134753854,
                    -1.7540659318971294,
                    -0.5187519556166058,
                    1.4423150639563032,
                    0.5914488778971186,
                    -1.7931518896409582,
                    -0.19250134575358832,
                    0.7982012129268988,
                    0.8568282454105048,
                    6.235407719426657,
                    -0.8537304726055186,
                    1.7215917648954107,
                    0.027546876754242777,
                    1.7784087310656538,
                    -1.2537507224935265,
                    1.2873552134284707,
                    0.521956441175685,
                    -0.7093679796750593,
                    -0.7530782154889529,
                    1.9109270006659373,
                    -0.6889211059217164,
                    -0.5074336782388656,
                    -2.2855940278570217,
                    -0.9605661595791402,
                    -1.2019339827882178,
                    -0.17904865476233847,
                    1.6594836553423626,
                    -0.4222713173819795,
                    -3.2627882692586248,
                    0.8971011863618004,
                    2.459490206243183,
                    2.088475614572918,
                    0.562727646958035,
                    -1.8770317411053632
                  ]
                },
                {
                  "hovertemplate": "Cluster ID=0<br>PC1=%{x}<br>PC2=%{y}<br>PC3=%{z}<extra></extra>",
                  "legendgroup": "0",
                  "marker": {
                    "color": "#EF553B",
                    "opacity": 0.5,
                    "size": 5,
                    "symbol": "circle"
                  },
                  "mode": "markers",
                  "name": "0",
                  "scene": "scene",
                  "showlegend": true,
                  "type": "scatter3d",
                  "x": [
                    -0.8104137719569902,
                    0.34212591093150213,
                    0.23005501331023334,
                    -1.237063359042137,
                    -1.5781612271064884,
                    -3.557336381736308,
                    -3.749313401587172,
                    -0.9980689009057266,
                    0.7652641073614324,
                    -2.1509534707746685,
                    -0.09333138341845076,
                    0.9904537628764629,
                    -0.2935465528484843,
                    -4.581936675735666,
                    -2.136445268715315,
                    -1.5674789996548737,
                    -3.542905559424952,
                    -3.1578140565229456,
                    -3.4504885509365435,
                    -0.6746192862014024,
                    -2.8581584427858404,
                    -3.7214589895708885,
                    -4.135962949097202,
                    -2.3858356579953006,
                    -2.578883235451137,
                    -2.314132259597385,
                    -2.7859247575581607,
                    -3.518648347121669,
                    -3.261279471958913,
                    -0.3078557622611008,
                    -0.36170919547523983,
                    -2.6299766348166456,
                    -0.8345178687799488,
                    -2.021577651248492,
                    -1.6383849333185634,
                    -2.174464300406389,
                    0.6076079476239978,
                    -0.9341581105421207,
                    -1.5882639685456235,
                    0.252497554738628,
                    -2.847431592357244,
                    -1.9649501029288203,
                    -2.5920828312740847,
                    -3.9043381514540227,
                    -2.8182312195642227,
                    0.6162808677027874,
                    -0.4328602217937871,
                    -4.555028837847307,
                    -3.4481835442650444,
                    -2.1159602626803204,
                    -2.691352198444317,
                    -0.7492713502307622,
                    -3.1590060379674396,
                    -2.22867981745012,
                    -2.4928310387143986,
                    -0.10335043783667719,
                    -1.3489486843428462,
                    -2.5101176778367797,
                    -2.0460295635580747,
                    -2.097069172132787,
                    0.8510142619190293,
                    -2.9659992033697535,
                    -0.7707436773882012,
                    -2.2025155249209316,
                    -3.143412241206409,
                    -0.638880498192318,
                    -1.8774673559493726,
                    -0.7091148333344948,
                    -1.9768403573606776,
                    -2.6007894983408915,
                    -3.258007356068153,
                    -1.9920347135928875,
                    -5.015008687599968,
                    -2.455968803169789,
                    -1.83728167296084,
                    -4.346489710836202,
                    -0.7328129073924524,
                    0.3930986679762598,
                    -0.41232781473767993,
                    -3.049924936554801,
                    -1.4425637226744825,
                    0.08318609872200261,
                    -3.743404543846924,
                    -0.9691728159369333,
                    -2.418719910503447,
                    -0.7516029985490639,
                    -3.654646526395542,
                    -4.6802115802821005,
                    -0.5977817621682939,
                    -1.3250313451739213,
                    -2.997403201947839,
                    -4.386732721926407,
                    -1.9777014313276629,
                    -2.5148764180220065,
                    -0.9474878914534258,
                    -3.483986307591132,
                    -4.658729575312231,
                    -5.351618119734821,
                    1.17089778687836,
                    -4.975702065820998,
                    -4.064025663134753,
                    0.7588784934325196,
                    -2.6593596130092583,
                    -0.3900189825256044,
                    -3.889065524172337,
                    0.3648761519849854,
                    -2.835890924775368,
                    -3.310283612848642,
                    -3.3573043971523617,
                    -1.717735182422219,
                    -5.5657359087345055,
                    -2.8190385108878986,
                    -1.4734313682948954,
                    -0.7811899666944686,
                    -0.22309260717779517,
                    -3.4548953817300223,
                    0.4465443994385713,
                    0.3144382225071903,
                    -2.059191943241285,
                    -2.9987105251948014,
                    -0.38875629299199604,
                    -2.756932988469488,
                    -2.3735017986536424,
                    -0.9671903046399116,
                    -2.975798788623117,
                    -2.4783595145247896,
                    -0.8260392880542821,
                    -3.894697324287449,
                    -0.3895780875422578,
                    -1.457321360763703,
                    -4.019140239065569,
                    -3.67641329530665,
                    -4.036607374514523,
                    -2.334233347817852,
                    -0.6817688680113799,
                    -2.227720518308757,
                    -4.477584656893667,
                    -1.8500898543883704,
                    -2.281318105671848,
                    -3.228770118407684,
                    1.025900792648147,
                    -2.582555835151309,
                    -2.485883224540767,
                    -3.0324811419425104,
                    0.46047909827279826,
                    -0.840209645977987,
                    -1.9087689253253348,
                    -1.4646759323497784,
                    -2.012152426775249,
                    -2.2843402397339236,
                    -0.7397430753486568,
                    -4.506562515378682,
                    -3.158754303301238,
                    -3.639135973643678,
                    0.33734549560929034,
                    -1.2765833816018843,
                    -4.346014046698976,
                    0.017430790585575152,
                    -3.492426035836726,
                    -1.8665488500793774,
                    -2.47072270123944,
                    -1.3726850259990733,
                    -4.138882571086536,
                    -0.6869402922948504,
                    -4.312129587622112,
                    0.4033094204336108,
                    -3.0036057981828503,
                    -0.41783686790232066,
                    -1.4202231379954602,
                    -2.870588347455682,
                    -3.365845700618419,
                    -3.315000152302193,
                    -4.769710162993628,
                    -2.385882762588994,
                    -2.7870960128233158,
                    -3.3938417791595628,
                    -1.4553305193134018,
                    -3.5788354043772297,
                    -3.057032639864515,
                    -3.0744358333643595,
                    -3.853539728266552,
                    -5.390256412552156,
                    -4.657682333400018,
                    -4.027542385646451,
                    -3.347821942523254,
                    -3.299842011123563,
                    -2.1364041401823255,
                    -4.038017139938816,
                    -3.7654145612799375,
                    -4.871239382451874,
                    -4.747248518410704,
                    -4.02662026130919,
                    -1.2948661704730073,
                    -1.8103805502387704,
                    -3.1456501867017153,
                    -2.8872680517230553,
                    -3.149653978656559,
                    -4.62837948826401,
                    -0.5276966136681359,
                    -3.2135009745828205,
                    -4.386422965248471,
                    -3.810017871714326,
                    -2.393275966635147,
                    -3.0676951368540717,
                    0.2953131860774361,
                    -1.9389695014616353,
                    -2.077178926857382,
                    -2.176916878225259,
                    -2.43155145521128,
                    -3.367965779830475,
                    -1.206597794654265,
                    -3.326079254434736,
                    -1.9287953878952955,
                    -4.041835097070474,
                    -3.0121949735128,
                    -0.9826485858028435,
                    0.35789386749811086,
                    -3.1939178649328364,
                    -2.9932333143643715,
                    -3.1939141547135184,
                    -4.591961853761384,
                    -2.485916147549367,
                    -2.3986653421843633,
                    -0.7796151927736669,
                    -3.1399884238146734,
                    -2.223775742424687,
                    -2.499636373875026,
                    -2.6149483040238715,
                    -0.09610812040382231,
                    -3.066749529026979,
                    -1.603586438731751,
                    -0.9255666006474439,
                    -3.2883495973130277,
                    -1.5548521614128359,
                    -0.39877990719228684,
                    -2.3005678173854216,
                    -0.542901369452175,
                    -2.0588194577015977,
                    -3.4245180558851427,
                    -0.4724065478362059,
                    -3.643380237651335,
                    -3.594689338614961,
                    -2.010379406902945,
                    -2.920833498469389,
                    -0.5007377975302939,
                    -1.911498574664148,
                    -3.785099231301286,
                    -2.708393960645351,
                    -3.430770684328135,
                    -2.001388461293763,
                    -2.4732930902245767,
                    -3.647257752476544,
                    -2.346186854824479,
                    -1.1429969247532237,
                    -1.3508572976064448,
                    -1.969323599373529,
                    -2.931187052411196,
                    -2.9263743812932375,
                    -3.9961882804637887,
                    0.15513805981498305,
                    -0.9340908076293987,
                    -1.9296217234995796,
                    -2.622338601169431,
                    -2.9218778093085,
                    -3.3419447993101397,
                    -2.0149150329479717,
                    -1.6696039284993547,
                    -0.37117811606385204,
                    -1.8489599320303993,
                    -4.703042209169912,
                    -1.283187147294969,
                    -2.3142468155193887,
                    -4.659085184721095,
                    -3.9434733835243456,
                    -0.9158035154057701,
                    -2.1949842966990207,
                    0.6644409101360192,
                    -2.24087605414827,
                    -2.1251804404416794,
                    -2.6153174089911,
                    -3.210967980725779,
                    -0.30675040147451293,
                    -3.4547183687879204,
                    -3.900526850010876,
                    0.9817275391944683,
                    -1.2572515807338578,
                    -1.5572194084612694,
                    -1.249258095212105,
                    -1.0774513320213546,
                    -2.2170923042477346,
                    -1.1738306468010267,
                    -2.836301445802398,
                    -1.8570859002923117,
                    -1.3286143695427999,
                    -2.8027713527766833,
                    -3.174568793344689,
                    -4.087077364969555,
                    -2.5601150181526835,
                    -2.9688887961381747,
                    -2.7574304552847977,
                    -0.41766449265557337,
                    -3.838398628171051,
                    0.6454786440185127,
                    -2.683846402472096,
                    -2.041664052274954,
                    -1.399296351266536,
                    -3.5364152960560324,
                    -1.9905294396989275,
                    -1.9981853645115277,
                    -0.5206581084381005,
                    -3.172370490184364,
                    -2.202710181983041,
                    -2.985484686866915,
                    -2.4810551074132876,
                    -1.272111463743049,
                    -2.235156886284303,
                    -0.05618310376458825,
                    -2.2843312537254685,
                    -1.7263109157017658,
                    -0.7417817618286016,
                    -2.894310660467826,
                    -1.6545218467235454,
                    -4.064270608702592,
                    -2.793330657857288,
                    -1.4749199378144409,
                    -0.22939463847437533,
                    -2.553258407380035,
                    -0.6006161196542197,
                    -1.408771210432439,
                    1.0766932602471175,
                    -1.2497605191954304,
                    -1.2569284131634968,
                    -1.1665352171667338,
                    -1.88763925035173,
                    -2.767435702302145,
                    -1.1315768833249706,
                    -0.7337724504589095,
                    -2.333670734000608,
                    -0.19987057623514212,
                    -1.176025906194711,
                    -1.292636535942053,
                    -4.4294563735208525,
                    -0.6198387447495154,
                    -3.2523157731940797,
                    -3.3529270562509,
                    -0.8598029788858431,
                    -3.1566219671400275,
                    0.3465281189288429,
                    -2.4614066483806223,
                    -1.5301007236063455,
                    -1.7735850578044117,
                    -2.680441622497315,
                    -2.13635122467269,
                    0.5359319535028598,
                    0.34312338682487137,
                    -4.197080001409831,
                    -1.1428318628674383,
                    -1.66547514773022,
                    1.0117125013383461,
                    -1.3009297167040357,
                    -2.3734287262147493,
                    -1.6658710101952132,
                    -1.9276781853338658,
                    -4.237216614953736,
                    -2.6778707250089924,
                    -3.8364978574834403,
                    -2.551440296752153,
                    -4.694923450429518,
                    -2.025037158313381,
                    -2.895948208210625,
                    -3.5022010489689066,
                    -2.1539036668118268,
                    -2.0550840730721434,
                    -3.8772895765844906,
                    -4.063862118451409,
                    -0.09866732816036401,
                    -1.089376192757508,
                    -0.48177096440376704,
                    -4.870309517722512,
                    -5.4752433200035435
                  ],
                  "y": [
                    -2.6592753725845215,
                    -0.9682789950584144,
                    -1.5647575064226202,
                    -0.18821483027698793,
                    0.5728076283013657,
                    1.6629507396344418,
                    -1.4134726012206364,
                    -3.35129301086313,
                    0.8862445610218942,
                    -1.9239916143294278,
                    2.260751666163779,
                    0.984930300865751,
                    -0.13709897293492726,
                    1.4842207124721365,
                    0.0958287543963185,
                    -1.208433001768725,
                    -1.2824953976066156,
                    -1.6889579678107618,
                    -0.49821802516365965,
                    -2.116409663992731,
                    0.15272330957635605,
                    -1.7876420405913667,
                    2.4037931106352555,
                    2.7576575295508357,
                    3.138670447742121,
                    3.26799068669322,
                    2.3106488285944358,
                    -0.6583088471976842,
                    -0.9378382802761966,
                    7.387811273413815,
                    0.11973934607906765,
                    -0.6973097354201018,
                    1.965603501954634,
                    -0.25490051637160355,
                    1.7159488433875072,
                    0.496877101351815,
                    0.1622142679697336,
                    0.9277020096421047,
                    -1.6196571695806214,
                    -0.531350319441504,
                    -2.8936470724887755,
                    -0.9651579109862038,
                    0.2136342673520951,
                    1.190066707785305,
                    0.36788460979519655,
                    0.6389118478420844,
                    -1.3920442407230722,
                    3.528785890417182,
                    -1.4246221844770932,
                    1.8493734069703804,
                    1.4200611664439122,
                    1.797637909709531,
                    -1.0357493128629423,
                    0.667411066548245,
                    2.598686615778188,
                    2.2801446930817124,
                    3.5562254001325324,
                    3.251319811930315,
                    0.3048839932582121,
                    3.667096448684528,
                    -2.3067353940619624,
                    0.37150614990073616,
                    -0.06410924038102134,
                    -0.7356051323227478,
                    -1.8774093580465938,
                    -0.9113661292461664,
                    1.4232298944694708,
                    -1.5682322074844248,
                    -0.4193872523665486,
                    -0.4823360670293765,
                    -0.41832175705092545,
                    1.329354334379725,
                    0.5746997147304896,
                    0.8984546424786901,
                    -0.09102637338671629,
                    -0.8935724006994581,
                    3.7021815940913254,
                    1.0830676333794995,
                    -0.38963115016799965,
                    -2.237784877088929,
                    0.30586961385830536,
                    7.15036007515093,
                    0.2505016153246159,
                    0.9449444222570256,
                    0.005552652467844244,
                    -3.070649219968277,
                    -0.6746489785481257,
                    -1.1038569103971339,
                    1.785650401008708,
                    1.4692938877907118,
                    -2.73886154738689,
                    0.006872388372714963,
                    -1.8427801901298477,
                    0.11425217357122193,
                    -1.684753565944934,
                    1.6196928830748396,
                    -0.22291504593078804,
                    1.0267582868736291,
                    7.01448574809366,
                    -3.38620451873066,
                    -1.2461657701086843,
                    -1.6085333986637396,
                    0.5399356307159403,
                    -0.9892421737820674,
                    0.8160713775192162,
                    -3.5744612036308485,
                    -0.3987290899934252,
                    0.1557404392916573,
                    -1.1037329418800021,
                    -0.5431650478829476,
                    -0.4778466468092026,
                    -0.9701104706691345,
                    0.11689008946585992,
                    0.6528492134082103,
                    -0.701821471940696,
                    1.3069382766711173,
                    -2.7877081153936163,
                    2.0775611605665243,
                    -2.4727877400809826,
                    -0.39677831312962064,
                    2.2767974210047366,
                    1.086834457423382,
                    -0.733402822834712,
                    0.43843753562155574,
                    1.810973859385177,
                    -1.4185762908849326,
                    -1.2502479355400353,
                    0.5385703616552475,
                    -0.6144157115261082,
                    -0.20172647244265224,
                    -1.3542475405604877,
                    -1.2916289218854293,
                    1.1625472573905362,
                    -1.3489799389317012,
                    -1.135990884697632,
                    -1.2149997917072641,
                    -1.7411292346906684,
                    -1.5841287510532855,
                    2.077686526053692,
                    -1.1720734363129042,
                    2.3612612958491384,
                    0.7292129309289557,
                    0.46059625480432376,
                    -0.6494687078664776,
                    0.39416557514375344,
                    -3.5000856953624555,
                    -3.1219460219066577,
                    1.6866317372295379,
                    -1.1034866548402529,
                    0.00949248454608074,
                    3.152519663012725,
                    -3.1692721229547876,
                    0.4103019249625977,
                    1.589587600312092,
                    -3.144373737995357,
                    0.8490529650308333,
                    -0.3219787694158237,
                    -3.459343256888523,
                    -2.634082496946388,
                    -0.9020645465267801,
                    -0.13802473998693904,
                    0.005805758665676691,
                    -1.3765084248119006,
                    1.6950096587479357,
                    -1.9784856919311915,
                    3.723434190631133,
                    0.35416043712885015,
                    -0.8085765340317012,
                    1.393978298988435,
                    -0.26864455734215026,
                    -0.8076008468809627,
                    -1.4421764240641424,
                    -0.5429616079661556,
                    -0.8241152158952925,
                    -2.533033657118374,
                    0.7539647298004394,
                    0.5919430118632464,
                    0.8915830978224509,
                    -0.17921355539671985,
                    -0.30605824245328334,
                    -1.5247268862900085,
                    0.5562573802649855,
                    -3.0653875286989614,
                    -2.5429073334387446,
                    -0.0685628870636715,
                    -3.1387094027199094,
                    -0.004393073334921287,
                    -0.2406981809532373,
                    4.3982011501018485,
                    -2.3392148751201303,
                    -1.7984017584927445,
                    -1.4022057470042997,
                    3.470808636939458,
                    0.3962065047427045,
                    -0.7425266629905563,
                    -0.4647322177371233,
                    -1.771248898966679,
                    -1.8356178126081342,
                    1.2658712901192848,
                    1.1034425884297199,
                    -0.761103790142476,
                    -0.9099183262060846,
                    0.9900310973407369,
                    1.1358372244830115,
                    0.2269348114502793,
                    2.5449885984568774,
                    1.8065200505644978,
                    0.9589110939147563,
                    3.4472039360652467,
                    -0.5629287779999504,
                    -1.3170439654029715,
                    0.47517210566982504,
                    1.4614685129130633,
                    -1.3569168569606012,
                    0.24376029127947496,
                    0.7972528681714192,
                    2.1278381369439754,
                    -1.8491520795136553,
                    1.6313934396402296,
                    0.5793399290747758,
                    -2.761127140270915,
                    -1.1889400409902207,
                    -0.2507450982892863,
                    -2.124344038045712,
                    -1.4880223368307888,
                    -0.3571610082757843,
                    -2.0185356203913427,
                    -1.1024747830686383,
                    -0.12984714966215097,
                    -2.1820954952401825,
                    0.29259567066731623,
                    2.3024811326079933,
                    0.20131170558730924,
                    0.9798588166580936,
                    2.1612116366577014,
                    -0.9320780093119982,
                    -1.3170675495021147,
                    0.32043525224125563,
                    -2.4455183080340226,
                    3.702829053394141,
                    0.7868598641748014,
                    2.6050866959564263,
                    0.4296889798286321,
                    -1.7004720750658575,
                    0.10673117806311608,
                    -0.6513939599634965,
                    -0.3261460786576638,
                    -0.2196664817666972,
                    -0.9926107280381681,
                    -0.2933268739839972,
                    -0.3350473595290732,
                    -1.2413645901184946,
                    0.6827417355510313,
                    -1.9621716145912602,
                    0.36957330766398366,
                    -0.1758490637331701,
                    -0.4948564937048546,
                    0.3773318196472818,
                    0.9598564190761552,
                    -0.4380083148525322,
                    -2.105945876459456,
                    0.8924661282000982,
                    2.502101523921374,
                    -0.009212321736481194,
                    -0.0222251499927269,
                    0.7784521406171953,
                    0.8623186547454414,
                    0.11361283042703164,
                    2.5412298458284837,
                    -0.43230173150512907,
                    2.5509090491173567,
                    0.4020311229386302,
                    -0.7822979771314718,
                    -2.0300161219468333,
                    2.4790128685313286,
                    -1.8053536295423143,
                    0.4368612319371922,
                    -0.4545893950844782,
                    -1.1947965807023213,
                    -1.8320606339860757,
                    -2.235142248802513,
                    2.1849991241762825,
                    -2.1364618232641317,
                    0.730776064013888,
                    -2.210429681439896,
                    1.0676924563397105,
                    -1.0379274225960573,
                    -1.588838919764909,
                    1.8036183432374158,
                    0.029891148058329257,
                    -0.4748396152591505,
                    -1.0181256894006019,
                    -1.571392996858253,
                    0.7770954194482277,
                    -1.6663020352431852,
                    -2.0757339670410357,
                    -0.4847097289104428,
                    -2.4940454292104564,
                    -0.06884716419296819,
                    -1.7939183917568278,
                    0.11651968808214884,
                    0.8991791693470776,
                    3.4260118244739313,
                    1.4435556307977426,
                    -0.9032560411292629,
                    -1.7722261693734853,
                    -1.2468541252774228,
                    1.8994618579334963,
                    -0.20637140902773599,
                    -0.973368098174786,
                    -2.089052132696252,
                    1.2860386751465425,
                    -0.6733394727701225,
                    -2.3639587749641207,
                    0.5098340826418071,
                    -1.2987046206388,
                    -0.22738342550115595,
                    -2.4668414267656757,
                    0.9981776171324112,
                    -2.4520353945359066,
                    -0.9779443470561193,
                    -4.555664003876555,
                    -0.5609532641650923,
                    -1.0778880449889034,
                    -1.5910941716566607,
                    1.5159035431381207,
                    -0.763900467724736,
                    -0.8384539723563798,
                    1.5057703030836649,
                    8.294777077936498,
                    1.5956833913361816,
                    4.117187353477687,
                    -1.6656935267829027,
                    1.6721925425160422,
                    -2.161048876510999,
                    -1.411002713066017,
                    -1.9436972813222486,
                    0.7901463979966379,
                    1.0763597958815583,
                    1.0113695521858348,
                    4.9642245477755065,
                    -0.7860357483376634,
                    0.636349766619765,
                    1.2859256533494623,
                    2.6733008578301947,
                    0.09684790771728985,
                    -0.8715428045447747,
                    1.5412247032607993,
                    0.6008477943622541,
                    0.40521805687736745,
                    0.8042092608547452,
                    -1.4847089526403072,
                    1.5185803470108739,
                    0.38071465794390297,
                    3.5344807688558486,
                    2.3673936156234103,
                    5.599458532438459,
                    2.3896177391237035,
                    1.0923890672622076,
                    -1.8214148667558887,
                    -1.6815760937317794,
                    -0.2139627519645243,
                    -1.1377405649649412,
                    0.1842722197346537,
                    2.315793164589941,
                    0.4962504143966933,
                    0.2283300876586031,
                    -0.7674774715232883,
                    1.2612413407972258,
                    -1.451635514106969,
                    1.8008332730861514,
                    -0.8300689046863965,
                    1.616459676152503,
                    1.084254532320513,
                    0.12216868778296114,
                    -0.21356015811400963,
                    1.292848174315969,
                    -0.17801979891671602,
                    -2.1311061688340813,
                    -0.6706352216782655
                  ],
                  "z": [
                    -0.4888289771322371,
                    1.7171731410480942,
                    -0.8025166851860459,
                    -0.5932821776473738,
                    -1.8014516232512958,
                    0.451193644707483,
                    1.7323106048436738,
                    4.305571063742576,
                    -2.7049139935544795,
                    -1.180483900638252,
                    -1.9047279913916537,
                    -2.310730836683199,
                    -3.3019301398248944,
                    0.042079008340679847,
                    -1.4924185510269938,
                    -0.3691569552012928,
                    1.0182122688699038,
                    -0.4962886769171355,
                    -0.1525127884332521,
                    -1.3962192654223535,
                    0.42893616014083563,
                    1.2799291382105034,
                    -1.242952635510184,
                    1.2140793802127912,
                    1.4002679806256562,
                    2.7962323542746015,
                    0.4727263388318825,
                    0.5913807823304035,
                    0.20512840893536208,
                    3.8190828561947603,
                    -2.040954276458494,
                    -0.5839444495283453,
                    0.7904217306154552,
                    -0.647877733967966,
                    0.43420373648232596,
                    -0.9490987821403356,
                    1.6373726660697523,
                    -0.040159299561453234,
                    0.309995966316979,
                    0.5893376084330849,
                    0.5279941226427624,
                    -0.08121537026911271,
                    1.0356126525064346,
                    1.5519813680816668,
                    -1.3514298618797014,
                    -0.19991739365030667,
                    -0.08271828838451524,
                    -0.21526499368558477,
                    -0.0887210463375097,
                    -0.5566749568979208,
                    0.96914531905955,
                    -0.5683706594406256,
                    -1.490682274386633,
                    -1.0915560771510673,
                    1.6697282605158281,
                    2.1095717954640265,
                    1.7321927106232433,
                    -1.6876221432257292,
                    -0.5338456090881737,
                    3.6322052287817543,
                    0.5674617130240824,
                    -2.0665349510302415,
                    -1.134409240858085,
                    0.26708140348681153,
                    -0.6703722144015732,
                    -2.1427243245773604,
                    -1.0708184325959476,
                    -0.6699928562205258,
                    -0.3805732598325837,
                    1.872367654669522,
                    -0.6918076726216532,
                    1.1352379151483731,
                    -0.8424401767054108,
                    0.3531281170619681,
                    -1.4452769855092171,
                    0.6392560400829327,
                    0.6584981687808327,
                    2.2476020123072034,
                    -1.0457689910213488,
                    -0.4694560652844054,
                    0.551539112214568,
                    -0.06000875215790707,
                    -0.0973826344727779,
                    -0.8908098909158049,
                    -0.7983785010038843,
                    1.4491765613712801,
                    -0.9069877056841148,
                    -0.25730415060801215,
                    1.4817321186255177,
                    0.8484198843298851,
                    -0.16118795675947176,
                    -0.9481068933631298,
                    -0.27736615995617725,
                    -0.49662366308988476,
                    -0.3511854755459276,
                    2.6754750617797307,
                    1.5593563902365783,
                    0.32498948750150447,
                    4.271856806065835,
                    0.43984167443522304,
                    0.5744804402296807,
                    -1.51510181832249,
                    1.7070134630826928,
                    -2.5851692028458686,
                    1.0157153385844337,
                    -2.223977886410696,
                    -0.34743989490682947,
                    0.541472942337574,
                    0.1520863001189339,
                    3.298378364082404,
                    4.127469166565656,
                    -0.38259025421536885,
                    -0.2146686068773038,
                    -0.643657218093537,
                    -2.2707622303628714,
                    -0.02926792701151041,
                    0.4443791320898527,
                    -2.083308508363657,
                    -1.461718694408896,
                    -0.596467956861426,
                    0.6273286068096461,
                    1.707236350930476,
                    -1.5260301188097452,
                    -1.4477014739533502,
                    -0.22343489931389662,
                    -0.31653175108324416,
                    0.26795707503311145,
                    -0.8815620446136887,
                    -1.35287163449117,
                    -1.0988771046001047,
                    -0.36047369336862317,
                    0.4246115222068908,
                    0.18975796535000067,
                    0.23268495803668673,
                    1.233669080326249,
                    -0.19241449712293035,
                    -0.8882055584116179,
                    1.2639122811372503,
                    2.430653090399991,
                    0.2646649270103834,
                    -1.6168920626308636,
                    -0.5481434750937538,
                    -0.5989214138260582,
                    0.3106835703102484,
                    -1.0047041177516303,
                    0.18247752979759058,
                    -1.0630573915876738,
                    1.1699054595413063,
                    1.3380232694393526,
                    -0.4504488330433189,
                    1.4698504541817496,
                    -0.18805787536209223,
                    -1.1088158890469415,
                    0.7162842182308836,
                    -0.11572454481941315,
                    3.0700672868260885,
                    0.3884687025839134,
                    0.3069202219809329,
                    -0.07218822653726036,
                    -0.8711714221115351,
                    1.7948972003744874,
                    1.5492916504172476,
                    0.8780465400165731,
                    1.0262138060020911,
                    -0.25130264949304304,
                    4.586470665974751,
                    1.2340166710544087,
                    -1.0932910831442426,
                    -0.8369859517733528,
                    -0.4689864855384508,
                    -0.8070813124976076,
                    -0.5836343135062538,
                    0.8938699838252295,
                    1.983966078596565,
                    -0.884031683223777,
                    1.771798037674525,
                    1.1463415066238767,
                    0.26148792261005566,
                    0.6217724628657819,
                    1.259255575793069,
                    -1.1445141696369105,
                    0.5600855690446892,
                    -0.07600967251916174,
                    0.3532147724066607,
                    -0.2701917927420131,
                    0.14889258397647864,
                    -0.05514069543876134,
                    -1.3281275407260795,
                    3.9502114377543136,
                    -0.16829533736491759,
                    0.16972159838808668,
                    3.186504660468014,
                    1.1095283690124487,
                    -1.230340535096965,
                    -0.8623521927157779,
                    -0.47574830515471456,
                    -0.035837721068308695,
                    0.06423555804997574,
                    -0.9204442271617628,
                    1.6119759003004552,
                    -0.4005975176607571,
                    0.44316957262122436,
                    -0.7575087955030642,
                    0.3746203202281153,
                    -1.0894190855340782,
                    -1.0014197924185797,
                    -1.1670750278180646,
                    -0.23426702866898202,
                    3.456945326453925,
                    -0.19257232230073296,
                    -0.9307380276566822,
                    -0.8982810895371386,
                    -0.10065418716330085,
                    0.5383468549548189,
                    1.983735985048143,
                    2.369425027767619,
                    0.7082051891215244,
                    0.09939845034040685,
                    2.5567282217663014,
                    0.48976847653876526,
                    0.9805424017079443,
                    0.34877193537276574,
                    -0.3271405130021065,
                    0.3207839636344252,
                    -1.1988797556272806,
                    -1.1016841831171356,
                    -0.7312750496215746,
                    -1.2407389327620506,
                    -1.6714617332980066,
                    -0.2790607049648788,
                    -1.5862300857668412,
                    -1.596113705461628,
                    -0.6277524373826451,
                    1.1965690713187445,
                    -0.9456146884247425,
                    -1.1299562785210808,
                    0.9957579866961591,
                    -0.12245763798206333,
                    0.04504916159329626,
                    1.953782222074897,
                    -1.1621455468893422,
                    1.8520258467432649,
                    -0.10409290227702833,
                    0.29573059849741684,
                    -1.0287499609277866,
                    1.450288505473928,
                    -1.058077917583981,
                    -0.31451049662730923,
                    -0.731699105512186,
                    0.6192011529072426,
                    -1.4823649009446067,
                    1.3866282348111219,
                    1.1327375395708432,
                    -1.2407210812242413,
                    2.486671348508445,
                    0.42072806570382704,
                    -1.0170709310954877,
                    -0.8867968636905009,
                    0.20440707346215395,
                    -0.46144745982077334,
                    1.4329141008189519,
                    0.04234050468472645,
                    2.4349982416570053,
                    -0.9013007509199985,
                    0.5032977329223379,
                    0.12557852189287297,
                    -1.010307286603909,
                    -0.9983623098741153,
                    2.0053484286825096,
                    0.005310954019789772,
                    -0.08386278041558679,
                    0.27462065363870575,
                    0.1921282532334144,
                    0.6917374099040496,
                    0.3626037811161892,
                    -0.4351125619414092,
                    -2.680778439369566,
                    -0.4655265892354253,
                    0.49037463174509555,
                    0.76432795424581,
                    -0.16622091233667532,
                    0.03928927443215511,
                    0.1971598493531801,
                    2.1360709560463507,
                    -1.6999177024784904,
                    0.2594822603204349,
                    -1.3012480732864447,
                    -0.32641476442969686,
                    1.7810438858018174,
                    0.6364591482884563,
                    -0.4815717942152861,
                    -1.4866285614115282,
                    0.8264838131307749,
                    1.2567561749822185,
                    -0.19402132865715183,
                    0.07489795147581485,
                    0.6313675515070584,
                    0.17031256613299525,
                    -0.7784108238823944,
                    -0.7578098085403658,
                    -0.5361424806991534,
                    0.7005691288978658,
                    0.6082883292510127,
                    0.33940441675198885,
                    2.8432402463202644,
                    -1.479561799414717,
                    3.385410528587195,
                    -2.0310051471222144,
                    -1.6413272329734907,
                    -0.3241377654763655,
                    -0.9788048715867312,
                    -0.8874051207478251,
                    -0.5904914705226609,
                    -0.4326148336680595,
                    -2.2389897755380384,
                    -0.9014382213687826,
                    -2.255516090153825,
                    -0.8211935399155574,
                    -0.0802404030169319,
                    -1.9977136867722958,
                    -0.80564384346895,
                    0.7523238842351949,
                    2.1766920034286734,
                    0.8445429593202035,
                    0.3199918477783451,
                    -2.2162822301649245,
                    -1.6094022103933046,
                    -0.6870366764411393,
                    -0.35389894645050635,
                    0.4342059013777214,
                    -1.3564798031765388,
                    -0.4127257219392047,
                    -0.7378775052304571,
                    0.11980391095641023,
                    -0.021097281034572393,
                    -0.5650590499359132,
                    -0.27523671634883945,
                    -0.3500449710383168,
                    -0.6731505134277117,
                    -0.7117740777787088,
                    0.34592436486257755,
                    -0.47341674188841565,
                    -0.4888475570523388,
                    -0.21847158584730786,
                    -1.7790847585564409,
                    -2.8140492720613883,
                    -2.195715175171025,
                    2.8464477754744704,
                    -1.1714668976131903,
                    0.6044675494754466,
                    -2.0279238794561434,
                    -1.7416939616088447,
                    0.17896334837061154,
                    -0.4431384253424741,
                    0.06966595473700819,
                    1.3271559885086313,
                    1.3010381324679967,
                    1.5022461985016535,
                    -0.6327034870731985,
                    0.37331037809882744,
                    0.38452958695234335,
                    -0.14807360988254553,
                    0.4781969640360048,
                    -0.3264206404387086,
                    -0.05384474923996621,
                    0.9232439167836112,
                    1.4141794102550094,
                    1.5439687660063504,
                    0.5049216222879116,
                    0.78054783751167,
                    2.7664618064841044,
                    0.5647960403056941,
                    1.8389626256913763,
                    1.8599415586090369,
                    3.2387749798615584,
                    0.3889266125516418,
                    1.429381738038844,
                    1.032106136876272,
                    3.4141886443339144,
                    1.4904582288827497
                  ]
                },
                {
                  "marker": {
                    "color": "black",
                    "size": 5,
                    "symbol": "x"
                  },
                  "mode": "markers",
                  "name": "Centroides",
                  "type": "scatter3d",
                  "x": [
                    -2.184971025518445,
                    4.393063437550313
                  ],
                  "y": [
                    0.01868569443640033,
                    -0.037569121089058535
                  ],
                  "z": [
                    0.08796675504664328,
                    -0.17686437522605516
                  ]
                }
              ],
              "layout": {
                "height": 600,
                "legend": {
                  "title": {
                    "text": "Cluster ID"
                  },
                  "tracegroupgap": 0
                },
                "scene": {
                  "domain": {
                    "x": [
                      0,
                      1
                    ],
                    "y": [
                      0,
                      1
                    ]
                  },
                  "xaxis": {
                    "title": {
                      "text": "PC1"
                    }
                  },
                  "yaxis": {
                    "title": {
                      "text": "PC2"
                    }
                  },
                  "zaxis": {
                    "title": {
                      "text": "PC3"
                    }
                  }
                },
                "template": {
                  "data": {
                    "bar": [
                      {
                        "error_x": {
                          "color": "#2a3f5f"
                        },
                        "error_y": {
                          "color": "#2a3f5f"
                        },
                        "marker": {
                          "line": {
                            "color": "#E5ECF6",
                            "width": 0.5
                          },
                          "pattern": {
                            "fillmode": "overlay",
                            "size": 10,
                            "solidity": 0.2
                          }
                        },
                        "type": "bar"
                      }
                    ],
                    "barpolar": [
                      {
                        "marker": {
                          "line": {
                            "color": "#E5ECF6",
                            "width": 0.5
                          },
                          "pattern": {
                            "fillmode": "overlay",
                            "size": 10,
                            "solidity": 0.2
                          }
                        },
                        "type": "barpolar"
                      }
                    ],
                    "carpet": [
                      {
                        "aaxis": {
                          "endlinecolor": "#2a3f5f",
                          "gridcolor": "white",
                          "linecolor": "white",
                          "minorgridcolor": "white",
                          "startlinecolor": "#2a3f5f"
                        },
                        "baxis": {
                          "endlinecolor": "#2a3f5f",
                          "gridcolor": "white",
                          "linecolor": "white",
                          "minorgridcolor": "white",
                          "startlinecolor": "#2a3f5f"
                        },
                        "type": "carpet"
                      }
                    ],
                    "choropleth": [
                      {
                        "colorbar": {
                          "outlinewidth": 0,
                          "ticks": ""
                        },
                        "type": "choropleth"
                      }
                    ],
                    "contour": [
                      {
                        "colorbar": {
                          "outlinewidth": 0,
                          "ticks": ""
                        },
                        "colorscale": [
                          [
                            0,
                            "#0d0887"
                          ],
                          [
                            0.1111111111111111,
                            "#46039f"
                          ],
                          [
                            0.2222222222222222,
                            "#7201a8"
                          ],
                          [
                            0.3333333333333333,
                            "#9c179e"
                          ],
                          [
                            0.4444444444444444,
                            "#bd3786"
                          ],
                          [
                            0.5555555555555556,
                            "#d8576b"
                          ],
                          [
                            0.6666666666666666,
                            "#ed7953"
                          ],
                          [
                            0.7777777777777778,
                            "#fb9f3a"
                          ],
                          [
                            0.8888888888888888,
                            "#fdca26"
                          ],
                          [
                            1,
                            "#f0f921"
                          ]
                        ],
                        "type": "contour"
                      }
                    ],
                    "contourcarpet": [
                      {
                        "colorbar": {
                          "outlinewidth": 0,
                          "ticks": ""
                        },
                        "type": "contourcarpet"
                      }
                    ],
                    "heatmap": [
                      {
                        "colorbar": {
                          "outlinewidth": 0,
                          "ticks": ""
                        },
                        "colorscale": [
                          [
                            0,
                            "#0d0887"
                          ],
                          [
                            0.1111111111111111,
                            "#46039f"
                          ],
                          [
                            0.2222222222222222,
                            "#7201a8"
                          ],
                          [
                            0.3333333333333333,
                            "#9c179e"
                          ],
                          [
                            0.4444444444444444,
                            "#bd3786"
                          ],
                          [
                            0.5555555555555556,
                            "#d8576b"
                          ],
                          [
                            0.6666666666666666,
                            "#ed7953"
                          ],
                          [
                            0.7777777777777778,
                            "#fb9f3a"
                          ],
                          [
                            0.8888888888888888,
                            "#fdca26"
                          ],
                          [
                            1,
                            "#f0f921"
                          ]
                        ],
                        "type": "heatmap"
                      }
                    ],
                    "heatmapgl": [
                      {
                        "colorbar": {
                          "outlinewidth": 0,
                          "ticks": ""
                        },
                        "colorscale": [
                          [
                            0,
                            "#0d0887"
                          ],
                          [
                            0.1111111111111111,
                            "#46039f"
                          ],
                          [
                            0.2222222222222222,
                            "#7201a8"
                          ],
                          [
                            0.3333333333333333,
                            "#9c179e"
                          ],
                          [
                            0.4444444444444444,
                            "#bd3786"
                          ],
                          [
                            0.5555555555555556,
                            "#d8576b"
                          ],
                          [
                            0.6666666666666666,
                            "#ed7953"
                          ],
                          [
                            0.7777777777777778,
                            "#fb9f3a"
                          ],
                          [
                            0.8888888888888888,
                            "#fdca26"
                          ],
                          [
                            1,
                            "#f0f921"
                          ]
                        ],
                        "type": "heatmapgl"
                      }
                    ],
                    "histogram": [
                      {
                        "marker": {
                          "pattern": {
                            "fillmode": "overlay",
                            "size": 10,
                            "solidity": 0.2
                          }
                        },
                        "type": "histogram"
                      }
                    ],
                    "histogram2d": [
                      {
                        "colorbar": {
                          "outlinewidth": 0,
                          "ticks": ""
                        },
                        "colorscale": [
                          [
                            0,
                            "#0d0887"
                          ],
                          [
                            0.1111111111111111,
                            "#46039f"
                          ],
                          [
                            0.2222222222222222,
                            "#7201a8"
                          ],
                          [
                            0.3333333333333333,
                            "#9c179e"
                          ],
                          [
                            0.4444444444444444,
                            "#bd3786"
                          ],
                          [
                            0.5555555555555556,
                            "#d8576b"
                          ],
                          [
                            0.6666666666666666,
                            "#ed7953"
                          ],
                          [
                            0.7777777777777778,
                            "#fb9f3a"
                          ],
                          [
                            0.8888888888888888,
                            "#fdca26"
                          ],
                          [
                            1,
                            "#f0f921"
                          ]
                        ],
                        "type": "histogram2d"
                      }
                    ],
                    "histogram2dcontour": [
                      {
                        "colorbar": {
                          "outlinewidth": 0,
                          "ticks": ""
                        },
                        "colorscale": [
                          [
                            0,
                            "#0d0887"
                          ],
                          [
                            0.1111111111111111,
                            "#46039f"
                          ],
                          [
                            0.2222222222222222,
                            "#7201a8"
                          ],
                          [
                            0.3333333333333333,
                            "#9c179e"
                          ],
                          [
                            0.4444444444444444,
                            "#bd3786"
                          ],
                          [
                            0.5555555555555556,
                            "#d8576b"
                          ],
                          [
                            0.6666666666666666,
                            "#ed7953"
                          ],
                          [
                            0.7777777777777778,
                            "#fb9f3a"
                          ],
                          [
                            0.8888888888888888,
                            "#fdca26"
                          ],
                          [
                            1,
                            "#f0f921"
                          ]
                        ],
                        "type": "histogram2dcontour"
                      }
                    ],
                    "mesh3d": [
                      {
                        "colorbar": {
                          "outlinewidth": 0,
                          "ticks": ""
                        },
                        "type": "mesh3d"
                      }
                    ],
                    "parcoords": [
                      {
                        "line": {
                          "colorbar": {
                            "outlinewidth": 0,
                            "ticks": ""
                          }
                        },
                        "type": "parcoords"
                      }
                    ],
                    "pie": [
                      {
                        "automargin": true,
                        "type": "pie"
                      }
                    ],
                    "scatter": [
                      {
                        "fillpattern": {
                          "fillmode": "overlay",
                          "size": 10,
                          "solidity": 0.2
                        },
                        "type": "scatter"
                      }
                    ],
                    "scatter3d": [
                      {
                        "line": {
                          "colorbar": {
                            "outlinewidth": 0,
                            "ticks": ""
                          }
                        },
                        "marker": {
                          "colorbar": {
                            "outlinewidth": 0,
                            "ticks": ""
                          }
                        },
                        "type": "scatter3d"
                      }
                    ],
                    "scattercarpet": [
                      {
                        "marker": {
                          "colorbar": {
                            "outlinewidth": 0,
                            "ticks": ""
                          }
                        },
                        "type": "scattercarpet"
                      }
                    ],
                    "scattergeo": [
                      {
                        "marker": {
                          "colorbar": {
                            "outlinewidth": 0,
                            "ticks": ""
                          }
                        },
                        "type": "scattergeo"
                      }
                    ],
                    "scattergl": [
                      {
                        "marker": {
                          "colorbar": {
                            "outlinewidth": 0,
                            "ticks": ""
                          }
                        },
                        "type": "scattergl"
                      }
                    ],
                    "scattermapbox": [
                      {
                        "marker": {
                          "colorbar": {
                            "outlinewidth": 0,
                            "ticks": ""
                          }
                        },
                        "type": "scattermapbox"
                      }
                    ],
                    "scatterpolar": [
                      {
                        "marker": {
                          "colorbar": {
                            "outlinewidth": 0,
                            "ticks": ""
                          }
                        },
                        "type": "scatterpolar"
                      }
                    ],
                    "scatterpolargl": [
                      {
                        "marker": {
                          "colorbar": {
                            "outlinewidth": 0,
                            "ticks": ""
                          }
                        },
                        "type": "scatterpolargl"
                      }
                    ],
                    "scatterternary": [
                      {
                        "marker": {
                          "colorbar": {
                            "outlinewidth": 0,
                            "ticks": ""
                          }
                        },
                        "type": "scatterternary"
                      }
                    ],
                    "surface": [
                      {
                        "colorbar": {
                          "outlinewidth": 0,
                          "ticks": ""
                        },
                        "colorscale": [
                          [
                            0,
                            "#0d0887"
                          ],
                          [
                            0.1111111111111111,
                            "#46039f"
                          ],
                          [
                            0.2222222222222222,
                            "#7201a8"
                          ],
                          [
                            0.3333333333333333,
                            "#9c179e"
                          ],
                          [
                            0.4444444444444444,
                            "#bd3786"
                          ],
                          [
                            0.5555555555555556,
                            "#d8576b"
                          ],
                          [
                            0.6666666666666666,
                            "#ed7953"
                          ],
                          [
                            0.7777777777777778,
                            "#fb9f3a"
                          ],
                          [
                            0.8888888888888888,
                            "#fdca26"
                          ],
                          [
                            1,
                            "#f0f921"
                          ]
                        ],
                        "type": "surface"
                      }
                    ],
                    "table": [
                      {
                        "cells": {
                          "fill": {
                            "color": "#EBF0F8"
                          },
                          "line": {
                            "color": "white"
                          }
                        },
                        "header": {
                          "fill": {
                            "color": "#C8D4E3"
                          },
                          "line": {
                            "color": "white"
                          }
                        },
                        "type": "table"
                      }
                    ]
                  },
                  "layout": {
                    "annotationdefaults": {
                      "arrowcolor": "#2a3f5f",
                      "arrowhead": 0,
                      "arrowwidth": 1
                    },
                    "autotypenumbers": "strict",
                    "coloraxis": {
                      "colorbar": {
                        "outlinewidth": 0,
                        "ticks": ""
                      }
                    },
                    "colorscale": {
                      "diverging": [
                        [
                          0,
                          "#8e0152"
                        ],
                        [
                          0.1,
                          "#c51b7d"
                        ],
                        [
                          0.2,
                          "#de77ae"
                        ],
                        [
                          0.3,
                          "#f1b6da"
                        ],
                        [
                          0.4,
                          "#fde0ef"
                        ],
                        [
                          0.5,
                          "#f7f7f7"
                        ],
                        [
                          0.6,
                          "#e6f5d0"
                        ],
                        [
                          0.7,
                          "#b8e186"
                        ],
                        [
                          0.8,
                          "#7fbc41"
                        ],
                        [
                          0.9,
                          "#4d9221"
                        ],
                        [
                          1,
                          "#276419"
                        ]
                      ],
                      "sequential": [
                        [
                          0,
                          "#0d0887"
                        ],
                        [
                          0.1111111111111111,
                          "#46039f"
                        ],
                        [
                          0.2222222222222222,
                          "#7201a8"
                        ],
                        [
                          0.3333333333333333,
                          "#9c179e"
                        ],
                        [
                          0.4444444444444444,
                          "#bd3786"
                        ],
                        [
                          0.5555555555555556,
                          "#d8576b"
                        ],
                        [
                          0.6666666666666666,
                          "#ed7953"
                        ],
                        [
                          0.7777777777777778,
                          "#fb9f3a"
                        ],
                        [
                          0.8888888888888888,
                          "#fdca26"
                        ],
                        [
                          1,
                          "#f0f921"
                        ]
                      ],
                      "sequentialminus": [
                        [
                          0,
                          "#0d0887"
                        ],
                        [
                          0.1111111111111111,
                          "#46039f"
                        ],
                        [
                          0.2222222222222222,
                          "#7201a8"
                        ],
                        [
                          0.3333333333333333,
                          "#9c179e"
                        ],
                        [
                          0.4444444444444444,
                          "#bd3786"
                        ],
                        [
                          0.5555555555555556,
                          "#d8576b"
                        ],
                        [
                          0.6666666666666666,
                          "#ed7953"
                        ],
                        [
                          0.7777777777777778,
                          "#fb9f3a"
                        ],
                        [
                          0.8888888888888888,
                          "#fdca26"
                        ],
                        [
                          1,
                          "#f0f921"
                        ]
                      ]
                    },
                    "colorway": [
                      "#636efa",
                      "#EF553B",
                      "#00cc96",
                      "#ab63fa",
                      "#FFA15A",
                      "#19d3f3",
                      "#FF6692",
                      "#B6E880",
                      "#FF97FF",
                      "#FECB52"
                    ],
                    "font": {
                      "color": "#2a3f5f"
                    },
                    "geo": {
                      "bgcolor": "white",
                      "lakecolor": "white",
                      "landcolor": "#E5ECF6",
                      "showlakes": true,
                      "showland": true,
                      "subunitcolor": "white"
                    },
                    "hoverlabel": {
                      "align": "left"
                    },
                    "hovermode": "closest",
                    "mapbox": {
                      "style": "light"
                    },
                    "paper_bgcolor": "white",
                    "plot_bgcolor": "#E5ECF6",
                    "polar": {
                      "angularaxis": {
                        "gridcolor": "white",
                        "linecolor": "white",
                        "ticks": ""
                      },
                      "bgcolor": "#E5ECF6",
                      "radialaxis": {
                        "gridcolor": "white",
                        "linecolor": "white",
                        "ticks": ""
                      }
                    },
                    "scene": {
                      "xaxis": {
                        "backgroundcolor": "#E5ECF6",
                        "gridcolor": "white",
                        "gridwidth": 2,
                        "linecolor": "white",
                        "showbackground": true,
                        "ticks": "",
                        "zerolinecolor": "white"
                      },
                      "yaxis": {
                        "backgroundcolor": "#E5ECF6",
                        "gridcolor": "white",
                        "gridwidth": 2,
                        "linecolor": "white",
                        "showbackground": true,
                        "ticks": "",
                        "zerolinecolor": "white"
                      },
                      "zaxis": {
                        "backgroundcolor": "#E5ECF6",
                        "gridcolor": "white",
                        "gridwidth": 2,
                        "linecolor": "white",
                        "showbackground": true,
                        "ticks": "",
                        "zerolinecolor": "white"
                      }
                    },
                    "shapedefaults": {
                      "line": {
                        "color": "#2a3f5f"
                      }
                    },
                    "ternary": {
                      "aaxis": {
                        "gridcolor": "white",
                        "linecolor": "white",
                        "ticks": ""
                      },
                      "baxis": {
                        "gridcolor": "white",
                        "linecolor": "white",
                        "ticks": ""
                      },
                      "bgcolor": "#E5ECF6",
                      "caxis": {
                        "gridcolor": "white",
                        "linecolor": "white",
                        "ticks": ""
                      }
                    },
                    "title": {
                      "x": 0.05
                    },
                    "xaxis": {
                      "automargin": true,
                      "gridcolor": "white",
                      "linecolor": "white",
                      "ticks": "",
                      "title": {
                        "standoff": 15
                      },
                      "zerolinecolor": "white",
                      "zerolinewidth": 2
                    },
                    "yaxis": {
                      "automargin": true,
                      "gridcolor": "white",
                      "linecolor": "white",
                      "ticks": "",
                      "title": {
                        "standoff": 15
                      },
                      "zerolinecolor": "white",
                      "zerolinewidth": 2
                    }
                  }
                },
                "title": {
                  "text": "Clustering de K-means aplicado al conjunto de datos Breast Cancer Wisconsin en R3"
                },
                "width": 800
              }
            }
          },
          "metadata": {},
          "output_type": "display_data"
        }
      ],
      "source": [
        "from sklearn.cluster import KMeans\n",
        "\n",
        "pca_3d = PCA(n_components=3)\n",
        "X_pca_3d = pca_3d.fit_transform(X_scaled)\n",
        "\n",
        "# Aplicar K-means con 2 clusters al conjunto de datos reducido a 3 dimensiones\n",
        "kmeans = KMeans(n_clusters=2, random_state=0)\n",
        "kmeans_labels = kmeans.fit_predict(X_pca_3d)\n",
        "\n",
        "# Crear un DataFrame con los datos reducidos y las etiquetas de clustering\n",
        "dataset_pca_3d = pd.DataFrame(X_pca_3d, columns=['PC1', 'PC2', 'PC3'])\n",
        "dataset_pca_3d['Cluster'] = kmeans_labels.astype(str)  # Convertir a string para mejorar la visualización de colores categóricos\n",
        "\n",
        "# Crear una visualización 3D de los datos y los clusters\n",
        "fig = px.scatter_3d(dataset_pca_3d, x='PC1', y='PC2', z='PC3', color='Cluster',\n",
        "                    title='Clustering de K-means aplicado al conjunto de datos Breast Cancer Wisconsin en R3',\n",
        "                    labels={'Cluster': 'Cluster ID'}, width=800, height=600)\n",
        "\n",
        "# Ajustar la transparencia y el tamaño del marker para los nodos\n",
        "fig.update_traces(marker=dict(size=5, opacity=0.5))  # Reducir el tamaño y añadir transparencia\n",
        "\n",
        "# Añadir los centroides de los clusters al gráfico\n",
        "centroids = pd.DataFrame(kmeans.cluster_centers_, columns=['PC1', 'PC2', 'PC3'])\n",
        "fig.add_scatter3d(x=centroids['PC1'], y=centroids['PC2'], z=centroids['PC3'], mode='markers',\n",
        "                  marker=dict(size=5, color='black', symbol='x'), name='Centroides')  # Tamaño reducido para los centroides\n",
        "\n",
        "fig.update_layout(legend_title_text='Cluster ID')\n",
        "fig.show()"
      ]
    },
    {
      "cell_type": "markdown",
      "id": "c9a43e6c",
      "metadata": {
        "id": "c9a43e6c"
      },
      "source": [
        "## Comparación de los resultados del clustering con las etiquetas reales del dataset\n",
        "Para evaluar la efectividad del clustering de K-means, podemos comparar los resultados del clustering con las etiquetas reales del conjunto de datos Breast Cancer Wisconsin. Dado que las etiquetas de clustering no tienen un orden específico, es posible que necesitemos ajustarlas antes de compararlas con las etiquetas reales."
      ]
    },
    {
      "cell_type": "code",
      "execution_count": 14,
      "id": "8166b3a0",
      "metadata": {
        "ExecuteTime": {
          "end_time": "2023-03-31T22:47:10.582136Z",
          "start_time": "2023-03-31T22:47:10.573101Z"
        },
        "id": "8166b3a0",
        "outputId": "29008278-b66a-4efe-a471-a2dcd13456fe"
      },
      "outputs": [
        {
          "data": {
            "text/plain": [
              "array([0, 0, 0, 0, 0, 0, 0, 0, 0, 0, 0, 0, 0, 0, 0, 0, 0, 0, 0, 1])"
            ]
          },
          "execution_count": 14,
          "metadata": {},
          "output_type": "execute_result"
        }
      ],
      "source": [
        "real_labels = df_pca_3d['target'].values\n",
        "real_labels[0:20]"
      ]
    },
    {
      "cell_type": "code",
      "execution_count": 15,
      "id": "9109d108",
      "metadata": {
        "ExecuteTime": {
          "end_time": "2023-03-31T22:47:29.730804Z",
          "start_time": "2023-03-31T22:47:29.709812Z"
        },
        "id": "9109d108",
        "outputId": "fe116012-e44b-4cca-e382-a76136eb370e"
      },
      "outputs": [
        {
          "data": {
            "text/plain": [
              "array([1, 1, 1, 1, 1, 1, 1, 1, 1, 1, 0, 1, 1, 0, 1, 1, 0, 1, 1, 0])"
            ]
          },
          "execution_count": 15,
          "metadata": {},
          "output_type": "execute_result"
        }
      ],
      "source": [
        "kmeans_labels[0:20]"
      ]
    },
    {
      "cell_type": "code",
      "execution_count": 16,
      "id": "deb41430",
      "metadata": {
        "ExecuteTime": {
          "end_time": "2023-03-31T22:48:58.774831Z",
          "start_time": "2023-03-31T22:48:58.757853Z"
        },
        "id": "deb41430",
        "outputId": "3c3d2e19-3579-465f-9733-35e15984a8fc"
      },
      "outputs": [
        {
          "data": {
            "text/plain": [
              "array([0, 0, 0, 0, 0, 0, 0, 0, 0, 0, 1, 0, 0, 1, 0, 0, 1, 0, 0, 1])"
            ]
          },
          "execution_count": 16,
          "metadata": {},
          "output_type": "execute_result"
        }
      ],
      "source": [
        "def reetiquetar_clusters(etiquetas, mapeo):\n",
        "    etiquetas_reetiquetadas = np.array([mapeo[etiqueta] for etiqueta in etiquetas])\n",
        "    return etiquetas_reetiquetadas\n",
        "\n",
        "# Ajustar las etiquetas de clustering para que coincidan con las etiquetas reales\n",
        "# Define el diccionario de mapeo para reetiquetar los valores de los clusters\n",
        "mapeo = {0: 1, 1: 0}\n",
        "\n",
        "# Reetiqueta las etiquetas de los clusters usando la función reetiquetar_clusters\n",
        "adjusted_kmeans_labels = reetiquetar_clusters(kmeans_labels, mapeo)\n",
        "adjusted_kmeans_labels[0:20]"
      ]
    },
    {
      "cell_type": "markdown",
      "id": "23670340",
      "metadata": {
        "id": "23670340"
      },
      "source": [
        "## Matriz de confusión\n",
        "La matriz de confusión es una tabla que se utiliza para describir el rendimiento de un algoritmo de clasificación en un conjunto de datos para el cual se conocen las etiquetas verdaderas. La matriz de confusión compara las etiquetas predichas por el algoritmo con las etiquetas reales. En el caso de un problema de clasificación binaria, la matriz de confusión es una matriz 2x2 que consta de los siguientes elementos:\n",
        "\n",
        "* Verdaderos positivos (TP): Número de casos en los que el algoritmo predijo correctamente la clase positiva.\n",
        "* Verdaderos negativos (TN): Número de casos en los que el algoritmo predijo correctamente la clase negativa.\n",
        "* Falsos positivos (FP): Número de casos en los que el algoritmo predijo incorrectamente la clase positiva (error de tipo I).\n",
        "* Falsos negativos (FN): Número de casos en los que el algoritmo predijo incorrectamente la clase negativa (error de tipo II).\n",
        "\n",
        "En el caso de un problema de clasificación multiclase, la matriz de confusión es una matriz cuadrada NxN, donde N es el número de clases. Cada fila de la matriz representa las instancias de una clase real, mientras que cada columna representa las instancias de una clase predicha. Los elementos de la diagonal principal de la matriz indican las clasificaciones correctas, mientras que los elementos fuera de la diagonal indican las clasificaciones incorrectas.\n",
        "\n",
        "## Precisión (accuracy)\n",
        "La precisión (accuracy) es una métrica de evaluación del rendimiento que se utiliza para medir qué tan bien un algoritmo de clasificación ha predicho las etiquetas correctas en un conjunto de datos. La precisión se calcula dividiendo el número total de predicciones correctas (tanto verdaderos positivos como verdaderos negativos) por el número total de casos en el conjunto de datos.\n",
        "\n",
        "En términos de la matriz de confusión, la precisión se calcula como:"
      ]
    },
    {
      "cell_type": "raw",
      "id": "a017f398",
      "metadata": {
        "id": "a017f398"
      },
      "source": [
        "Accuracy = (TP + TN) / (TP + TN + FP + FN)"
      ]
    },
    {
      "cell_type": "markdown",
      "id": "43e25768",
      "metadata": {
        "id": "43e25768"
      },
      "source": [
        "La precisión es una métrica útil cuando las clases en el conjunto de datos están equilibradas y se quiere evaluar el rendimiento general del algoritmo. Sin embargo, la precisión puede ser engañosa si las clases están desequilibradas, ya que un algoritmo que siempre predice la clase mayoritaria puede obtener una alta precisión sin realmente clasificar bien los casos de la clase minoritaria. En tales casos, otras métricas como la precisión, el recall y la puntuación F1 pueden proporcionar una evaluación más completa del rendimiento del algoritmo de clasificación."
      ]
    },
    {
      "cell_type": "code",
      "execution_count": 17,
      "id": "efbf38f5",
      "metadata": {
        "ExecuteTime": {
          "end_time": "2023-03-31T22:54:26.745652Z",
          "start_time": "2023-03-31T22:54:26.715808Z"
        },
        "id": "efbf38f5",
        "outputId": "73136003-380f-4763-bf54-24f117a10bd5"
      },
      "outputs": [
        {
          "name": "stdout",
          "output_type": "stream",
          "text": [
            "Matriz de confusión:\n",
            " [[175  37]\n",
            " [ 14 343]]\n",
            "Precisión del clustering: 0.9103690685413005\n"
          ]
        }
      ],
      "source": [
        "from sklearn.metrics import confusion_matrix, accuracy_score\n",
        "\n",
        "# Calcular la matriz de confusión y la precisión del clustering\n",
        "conf_matrix = confusion_matrix(real_labels, adjusted_kmeans_labels)\n",
        "accuracy = accuracy_score(real_labels, adjusted_kmeans_labels)\n",
        "\n",
        "print(\"Matriz de confusión:\\n\", conf_matrix)\n",
        "print(\"Precisión del clustering:\", accuracy)"
      ]
    },
    {
      "cell_type": "markdown",
      "id": "516ebd5c",
      "metadata": {
        "id": "516ebd5c"
      },
      "source": [
        "## Ejercicio: Análisis de componentes principales y clustering K-means en datos de leucemia\n",
        "\n",
        "Se les proporciona un conjunto de datos que contiene información sobre la expresión de 50 genes relacionados con la leucemia en 38 pacientes. En teoría, hay dos tipos de leucemia presentes en el conjunto de datos. Se les pide que realicen las siguientes tareas:\n",
        "\n",
        "1. Cargue el conjunto de datos \"Leucemia\" y explore su contenido.\n",
        "2. Realice un análisis de componentes principales (PCA) en los datos para reducir la dimensionalidad. Decida cuántos componentes principales retener basándose en el criterio de varianza explicada acumulada.\n",
        "3. Visualice los datos reducidos en un gráfico de dispersión, utilizando los componentes principales seleccionados. ¿Puede identificar visualmente dos grupos diferentes en los datos?\n",
        "4. Aplique el algoritmo de clustering K-means en los datos reducidos, utilizando el número adecuado de clusters (en este caso, 2 clusters).\n",
        "5. Visualice los clusters resultantes en un gráfico de dispersión, utilizando los componentes principales seleccionados. Coloree los puntos según la etiqueta del cluster asignada por K-means.\n",
        "6. Analice los resultados y discuta si los clusters encontrados parecen corresponder a los dos tipos de leucemia presentes en el conjunto de datos.\n",
        "\n",
        "Para este ejercicio, pueden utilizar las bibliotecas `numpy`, `pandas`, `plotly`, `scikit-learn` u otras bibliotecas relevantes en Python. Recuerden seguir las buenas prácticas en la organización del código y la documentación de los pasos realizados. Buena suerte y diviértanse explorando los datos y aplicando las técnicas de reducción de dimensiones y clustering."
      ]
    },
    {
      "cell_type": "code",
      "execution_count": 18,
      "id": "c7f062cd",
      "metadata": {
        "ExecuteTime": {
          "end_time": "2023-03-31T23:02:29.875930Z",
          "start_time": "2023-03-31T23:02:29.843540Z"
        },
        "id": "c7f062cd",
        "outputId": "b46ba763-7e38-4a9e-e0b2-42bcf1815dfe"
      },
      "outputs": [
        {
          "data": {
            "text/plain": [
              "(38, 50)"
            ]
          },
          "execution_count": 18,
          "metadata": {},
          "output_type": "execute_result"
        }
      ],
      "source": [
        "import pandas as pd\n",
        "import numpy as np\n",
        "import plotly.express as px\n",
        "from sklearn.decomposition import PCA\n",
        "from sklearn.preprocessing import StandardScaler\n",
        "from sklearn.cluster import KMeans\n",
        "\n",
        "df_leucemia=pd.read_csv(\"leucemia_dataset.csv\",header=None)\n",
        "x=df_leucemia.values.T\n",
        "x.shape"
      ]
    },
    {
      "cell_type": "code",
      "execution_count": 19,
      "id": "f46a5230",
      "metadata": {
        "ExecuteTime": {
          "end_time": "2023-03-31T23:02:48.347315Z",
          "start_time": "2023-03-31T23:02:48.240316Z"
        },
        "id": "f46a5230",
        "outputId": "afef38af-c30b-4386-d784-054ee13c3ecf"
      },
      "outputs": [
        {
          "data": {
            "application/vnd.plotly.v1+json": {
              "config": {
                "plotlyServerURL": "https://plot.ly"
              },
              "data": [
                {
                  "coloraxis": "coloraxis",
                  "hovertemplate": "x: %{x}<br>y: %{y}<br>color: %{z}<extra></extra>",
                  "name": "0",
                  "type": "heatmap",
                  "xaxis": "x",
                  "yaxis": "y",
                  "z": [
                    [
                      3105,
                      3016,
                      9326,
                      4778,
                      601,
                      1372,
                      1595,
                      268,
                      1320,
                      571,
                      3349,
                      8444,
                      277,
                      460,
                      767,
                      1582,
                      1766,
                      1753,
                      994,
                      289,
                      3828,
                      517,
                      408,
                      3863,
                      3221,
                      654,
                      298,
                      1124,
                      365,
                      393,
                      261,
                      -283,
                      600,
                      303,
                      177,
                      333,
                      782,
                      1298,
                      -88,
                      543,
                      835,
                      292,
                      1410,
                      -115,
                      1489,
                      695,
                      162,
                      382,
                      -70,
                      1057
                    ],
                    [
                      1118,
                      3424,
                      895,
                      2700,
                      435,
                      1184,
                      822,
                      346,
                      898,
                      2893,
                      1002,
                      1920,
                      104,
                      151,
                      814,
                      624,
                      2015,
                      1602,
                      539,
                      288,
                      3021,
                      351,
                      633,
                      511,
                      10954,
                      1283,
                      307,
                      1062,
                      624,
                      118,
                      101,
                      -65,
                      337,
                      1358,
                      3460,
                      5345,
                      368,
                      1379,
                      109,
                      2972,
                      3072,
                      2062,
                      2325,
                      2171,
                      6084,
                      812,
                      169,
                      3606,
                      364,
                      1395
                    ],
                    [
                      4543,
                      7724,
                      628,
                      4926,
                      547,
                      2221,
                      1452,
                      804,
                      597,
                      2723,
                      2089,
                      3118,
                      91,
                      230,
                      1547,
                      753,
                      3556,
                      2761,
                      1441,
                      447,
                      7247,
                      214,
                      912,
                      1952,
                      16529,
                      1286,
                      309,
                      1398,
                      108,
                      667,
                      309,
                      -395,
                      574,
                      254,
                      416,
                      301,
                      1268,
                      1496,
                      -53,
                      485,
                      609,
                      -25,
                      2789,
                      -26,
                      2281,
                      810,
                      -18,
                      2997,
                      -208,
                      823
                    ],
                    [
                      5467,
                      3821,
                      5314,
                      5403,
                      472,
                      1051,
                      654,
                      452,
                      1644,
                      731,
                      1625,
                      4261,
                      403,
                      314,
                      831,
                      743,
                      828,
                      1486,
                      680,
                      424,
                      3780,
                      432,
                      304,
                      6127,
                      5364,
                      915,
                      693,
                      942,
                      873,
                      410,
                      288,
                      -367,
                      716,
                      -304,
                      392,
                      241,
                      882,
                      1401,
                      -111,
                      740,
                      935,
                      -2,
                      1132,
                      22,
                      2178,
                      599,
                      199,
                      1331,
                      34,
                      1655
                    ],
                    [
                      3469,
                      5216,
                      5354,
                      3440,
                      661,
                      1370,
                      1011,
                      476,
                      1322,
                      649,
                      3502,
                      3425,
                      416,
                      632,
                      1423,
                      626,
                      1496,
                      2298,
                      950,
                      364,
                      3563,
                      596,
                      398,
                      2547,
                      2837,
                      732,
                      713,
                      928,
                      686,
                      119,
                      395,
                      290,
                      524,
                      -86,
                      7972,
                      93,
                      949,
                      1894,
                      139,
                      2453,
                      1665,
                      138,
                      1269,
                      244,
                      1094,
                      282,
                      334,
                      3069,
                      218,
                      2000
                    ],
                    [
                      3309,
                      4194,
                      282,
                      3179,
                      337,
                      1306,
                      1584,
                      256,
                      787,
                      1858,
                      316,
                      1790,
                      46,
                      181,
                      430,
                      1157,
                      2606,
                      1013,
                      1258,
                      320,
                      4890,
                      220,
                      506,
                      1804,
                      16135,
                      691,
                      247,
                      842,
                      302,
                      147,
                      58,
                      -40,
                      270,
                      1168,
                      597,
                      215,
                      910,
                      528,
                      46,
                      375,
                      499,
                      23,
                      1854,
                      108,
                      1513,
                      711,
                      117,
                      2850,
                      401,
                      537
                    ],
                    [
                      3936,
                      5528,
                      5146,
                      3978,
                      309,
                      1339,
                      578,
                      208,
                      946,
                      280,
                      1530,
                      3810,
                      267,
                      213,
                      764,
                      552,
                      473,
                      898,
                      509,
                      381,
                      3330,
                      196,
                      357,
                      1129,
                      6067,
                      853,
                      52,
                      1066,
                      325,
                      735,
                      84,
                      -366,
                      463,
                      -233,
                      403,
                      159,
                      826,
                      1747,
                      -77,
                      961,
                      764,
                      107,
                      2735,
                      -45,
                      2866,
                      556,
                      378,
                      1201,
                      255,
                      6133
                    ],
                    [
                      4745,
                      2073,
                      4048,
                      3293,
                      263,
                      655,
                      1024,
                      310,
                      1917,
                      1716,
                      1042,
                      6153,
                      314,
                      227,
                      752,
                      572,
                      2067,
                      1586,
                      331,
                      53,
                      4213,
                      436,
                      134,
                      1412,
                      3103,
                      1238,
                      -215,
                      1668,
                      244,
                      248,
                      251,
                      -656,
                      689,
                      -247,
                      140,
                      455,
                      1302,
                      1514,
                      -214,
                      404,
                      1323,
                      -19,
                      1962,
                      674,
                      2129,
                      1281,
                      571,
                      1947,
                      -100,
                      775
                    ],
                    [
                      4081,
                      7782,
                      423,
                      7324,
                      978,
                      3593,
                      1297,
                      640,
                      1440,
                      2388,
                      2286,
                      3303,
                      210,
                      362,
                      1777,
                      1776,
                      4461,
                      2334,
                      1974,
                      869,
                      7230,
                      513,
                      982,
                      5817,
                      15235,
                      822,
                      -223,
                      966,
                      273,
                      258,
                      155,
                      -231,
                      262,
                      336,
                      848,
                      445,
                      1337,
                      803,
                      94,
                      783,
                      1741,
                      104,
                      2900,
                      103,
                      3862,
                      746,
                      -8,
                      2629,
                      521,
                      633
                    ],
                    [
                      1658,
                      5204,
                      585,
                      2676,
                      752,
                      1058,
                      971,
                      152,
                      442,
                      913,
                      934,
                      1329,
                      97,
                      47,
                      426,
                      756,
                      1777,
                      878,
                      664,
                      403,
                      5052,
                      114,
                      613,
                      769,
                      8982,
                      885,
                      492,
                      1175,
                      144,
                      409,
                      167,
                      -36,
                      167,
                      498,
                      1094,
                      522,
                      82,
                      1939,
                      45,
                      1288,
                      1188,
                      -35,
                      1855,
                      252,
                      1974,
                      513,
                      176,
                      2148,
                      -169,
                      463
                    ],
                    [
                      2853,
                      6541,
                      147,
                      6134,
                      897,
                      953,
                      1913,
                      441,
                      617,
                      2147,
                      282,
                      2525,
                      27,
                      225,
                      472,
                      1972,
                      2744,
                      2016,
                      884,
                      526,
                      3352,
                      492,
                      745,
                      1704,
                      8630,
                      680,
                      -25,
                      626,
                      34,
                      306,
                      140,
                      -152,
                      174,
                      -376,
                      1343,
                      1278,
                      737,
                      587,
                      40,
                      733,
                      1870,
                      189,
                      1471,
                      9,
                      2561,
                      461,
                      139,
                      969,
                      -276,
                      628
                    ],
                    [
                      551,
                      846,
                      2504,
                      2056,
                      334,
                      209,
                      329,
                      90,
                      474,
                      140,
                      277,
                      1277,
                      -2,
                      43,
                      76,
                      219,
                      291,
                      426,
                      314,
                      60,
                      2290,
                      119,
                      15,
                      363,
                      1695,
                      412,
                      408,
                      747,
                      399,
                      15,
                      287,
                      41,
                      258,
                      107,
                      5252,
                      3684,
                      1296,
                      1347,
                      267,
                      2095,
                      1030,
                      1855,
                      1763,
                      988,
                      7901,
                      494,
                      530,
                      3939,
                      252,
                      294
                    ],
                    [
                      4746,
                      7743,
                      5075,
                      10669,
                      668,
                      1624,
                      1593,
                      545,
                      1969,
                      556,
                      2069,
                      6216,
                      588,
                      495,
                      920,
                      1322,
                      3578,
                      2151,
                      1991,
                      673,
                      4751,
                      393,
                      810,
                      1515,
                      4765,
                      548,
                      724,
                      706,
                      281,
                      87,
                      152,
                      -104,
                      201,
                      -97,
                      2408,
                      116,
                      160,
                      1489,
                      70,
                      1405,
                      1482,
                      3,
                      786,
                      -42,
                      3602,
                      315,
                      182,
                      210,
                      4,
                      1220
                    ],
                    [
                      1534,
                      1756,
                      155,
                      1912,
                      265,
                      2050,
                      1011,
                      570,
                      686,
                      1483,
                      1613,
                      3382,
                      307,
                      442,
                      606,
                      732,
                      1706,
                      2263,
                      1062,
                      308,
                      2346,
                      416,
                      404,
                      3854,
                      3529,
                      1157,
                      360,
                      864,
                      589,
                      188,
                      145,
                      -140,
                      180,
                      820,
                      2525,
                      94,
                      838,
                      1784,
                      136,
                      742,
                      892,
                      9,
                      2337,
                      389,
                      1204,
                      1030,
                      452,
                      3633,
                      493,
                      662
                    ],
                    [
                      5311,
                      7288,
                      5767,
                      9211,
                      898,
                      1995,
                      1763,
                      571,
                      2572,
                      1505,
                      2952,
                      5831,
                      747,
                      522,
                      1417,
                      1636,
                      2041,
                      2901,
                      1030,
                      929,
                      3347,
                      651,
                      547,
                      4436,
                      9000,
                      387,
                      938,
                      515,
                      854,
                      99,
                      81,
                      -198,
                      625,
                      76,
                      2133,
                      29,
                      520,
                      2286,
                      135,
                      1718,
                      1306,
                      91,
                      2035,
                      -46,
                      2859,
                      333,
                      304,
                      735,
                      114,
                      1990
                    ],
                    [
                      4326,
                      6084,
                      3649,
                      3345,
                      666,
                      1625,
                      2065,
                      235,
                      1439,
                      904,
                      3110,
                      5617,
                      393,
                      467,
                      869,
                      2076,
                      3847,
                      2523,
                      675,
                      698,
                      3207,
                      278,
                      72,
                      2206,
                      10227,
                      707,
                      848,
                      825,
                      289,
                      67,
                      202,
                      -102,
                      330,
                      36,
                      1232,
                      38,
                      478,
                      944,
                      18,
                      623,
                      593,
                      73,
                      1910,
                      -48,
                      1259,
                      426,
                      540,
                      637,
                      -91,
                      1143
                    ],
                    [
                      7155,
                      2455,
                      218,
                      2360,
                      374,
                      3139,
                      1778,
                      352,
                      989,
                      643,
                      2591,
                      3714,
                      822,
                      485,
                      2031,
                      917,
                      8578,
                      3297,
                      1731,
                      1060,
                      6633,
                      623,
                      665,
                      754,
                      8469,
                      1822,
                      926,
                      1837,
                      534,
                      -226,
                      286,
                      -158,
                      784,
                      375,
                      1150,
                      282,
                      7,
                      1888,
                      184,
                      1016,
                      2376,
                      17,
                      4215,
                      -83,
                      2689,
                      588,
                      1263,
                      973,
                      78,
                      2474
                    ],
                    [
                      1178,
                      1273,
                      3339,
                      1316,
                      516,
                      882,
                      764,
                      -65,
                      1186,
                      669,
                      820,
                      1616,
                      515,
                      472,
                      954,
                      453,
                      111,
                      954,
                      762,
                      358,
                      2143,
                      198,
                      726,
                      27,
                      2091,
                      738,
                      390,
                      883,
                      540,
                      102,
                      141,
                      -76,
                      314,
                      22,
                      1232,
                      136,
                      -144,
                      2111,
                      10,
                      1198,
                      542,
                      41,
                      711,
                      944,
                      2753,
                      666,
                      203,
                      1263,
                      -163,
                      220
                    ],
                    [
                      3427,
                      6482,
                      2696,
                      2492,
                      473,
                      1459,
                      1448,
                      84,
                      1224,
                      1137,
                      1116,
                      4692,
                      339,
                      156,
                      532,
                      1660,
                      576,
                      1146,
                      800,
                      310,
                      2291,
                      251,
                      95,
                      473,
                      2273,
                      907,
                      615,
                      1309,
                      44,
                      432,
                      155,
                      -108,
                      146,
                      -180,
                      1519,
                      -53,
                      45,
                      1983,
                      -38,
                      1010,
                      809,
                      16,
                      1346,
                      343,
                      815,
                      250,
                      1074,
                      694,
                      -196,
                      1271
                    ],
                    [
                      6870,
                      7629,
                      8148,
                      6464,
                      1487,
                      4253,
                      2191,
                      867,
                      4555,
                      3810,
                      5908,
                      11241,
                      748,
                      629,
                      3192,
                      2174,
                      5796,
                      4700,
                      1158,
                      1047,
                      5933,
                      847,
                      767,
                      4409,
                      12217,
                      860,
                      827,
                      817,
                      616,
                      359,
                      180,
                      -58,
                      636,
                      205,
                      180,
                      119,
                      -862,
                      2731,
                      17,
                      1969,
                      2475,
                      242,
                      2273,
                      950,
                      2233,
                      284,
                      1071,
                      888,
                      -345,
                      4004
                    ],
                    [
                      9177,
                      5746,
                      2805,
                      524,
                      688,
                      768,
                      768,
                      323,
                      2707,
                      1631,
                      1143,
                      9114,
                      201,
                      256,
                      896,
                      3707,
                      -11,
                      2914,
                      1185,
                      -67,
                      2306,
                      689,
                      600,
                      1536,
                      2973,
                      92,
                      68,
                      383,
                      447,
                      149,
                      139,
                      -151,
                      371,
                      -124,
                      1912,
                      118,
                      343,
                      1962,
                      34,
                      1377,
                      1514,
                      184,
                      545,
                      64,
                      5193,
                      137,
                      675,
                      447,
                      82,
                      1781
                    ],
                    [
                      4836,
                      699,
                      5397,
                      3253,
                      143,
                      176,
                      1323,
                      241,
                      274,
                      857,
                      108,
                      2572,
                      48,
                      104,
                      70,
                      295,
                      1628,
                      1000,
                      141,
                      -44,
                      2131,
                      290,
                      247,
                      678,
                      1743,
                      686,
                      122,
                      825,
                      239,
                      160,
                      124,
                      -243,
                      180,
                      -102,
                      354,
                      206,
                      678,
                      1739,
                      -23,
                      791,
                      1977,
                      155,
                      949,
                      88,
                      1026,
                      401,
                      177,
                      527,
                      -175,
                      350
                    ],
                    [
                      3085,
                      2443,
                      870,
                      3796,
                      376,
                      862,
                      1992,
                      493,
                      590,
                      813,
                      146,
                      1601,
                      -36,
                      172,
                      321,
                      1377,
                      1962,
                      1122,
                      767,
                      395,
                      4677,
                      199,
                      442,
                      2103,
                      12805,
                      803,
                      -108,
                      731,
                      9,
                      366,
                      108,
                      -275,
                      780,
                      425,
                      178,
                      146,
                      1177,
                      585,
                      30,
                      596,
                      672,
                      148,
                      1297,
                      -85,
                      740,
                      613,
                      417,
                      1820,
                      121,
                      431
                    ],
                    [
                      5815,
                      3840,
                      5955,
                      4093,
                      531,
                      1409,
                      1210,
                      502,
                      1823,
                      899,
                      2457,
                      6110,
                      598,
                      494,
                      992,
                      1456,
                      1306,
                      2298,
                      1145,
                      651,
                      3182,
                      569,
                      621,
                      1478,
                      5981,
                      803,
                      222,
                      899,
                      515,
                      770,
                      102,
                      -263,
                      655,
                      -205,
                      1687,
                      185,
                      734,
                      1571,
                      209,
                      868,
                      1235,
                      -146,
                      1343,
                      -96,
                      2785,
                      513,
                      300,
                      71,
                      -183,
                      3970
                    ],
                    [
                      1872,
                      3878,
                      5070,
                      1689,
                      481,
                      489,
                      738,
                      301,
                      553,
                      223,
                      1081,
                      2242,
                      163,
                      162,
                      363,
                      404,
                      892,
                      498,
                      521,
                      166,
                      2910,
                      292,
                      116,
                      5653,
                      2425,
                      842,
                      700,
                      1171,
                      50,
                      267,
                      203,
                      -203,
                      402,
                      -229,
                      3711,
                      9270,
                      502,
                      1395,
                      13,
                      635,
                      933,
                      4271,
                      1371,
                      560,
                      14011,
                      439,
                      559,
                      515,
                      -49,
                      747
                    ],
                    [
                      3265,
                      3262,
                      8219,
                      5204,
                      647,
                      716,
                      2143,
                      101,
                      1909,
                      759,
                      1480,
                      3074,
                      169,
                      348,
                      636,
                      1982,
                      2452,
                      753,
                      700,
                      190,
                      2648,
                      424,
                      96,
                      2281,
                      3323,
                      514,
                      433,
                      805,
                      268,
                      59,
                      128,
                      -53,
                      190,
                      66,
                      1750,
                      183,
                      29,
                      1437,
                      19,
                      827,
                      1114,
                      29,
                      1330,
                      43,
                      2381,
                      416,
                      342,
                      304,
                      -65,
                      773
                    ],
                    [
                      2877,
                      1810,
                      4184,
                      2581,
                      145,
                      500,
                      1245,
                      20,
                      1076,
                      899,
                      1283,
                      5374,
                      104,
                      217,
                      419,
                      949,
                      760,
                      672,
                      456,
                      201,
                      2818,
                      517,
                      291,
                      503,
                      2617,
                      561,
                      -674,
                      1286,
                      483,
                      -187,
                      84,
                      -398,
                      273,
                      34,
                      291,
                      150,
                      176,
                      990,
                      -100,
                      190,
                      -9,
                      -233,
                      2127,
                      -269,
                      569,
                      430,
                      7,
                      2331,
                      -239,
                      115
                    ],
                    [
                      794,
                      1203,
                      -2,
                      1283,
                      300,
                      596,
                      893,
                      107,
                      353,
                      449,
                      384,
                      1238,
                      64,
                      28,
                      323,
                      429,
                      172,
                      824,
                      832,
                      151,
                      2176,
                      292,
                      209,
                      485,
                      2493,
                      1929,
                      2224,
                      1641,
                      679,
                      822,
                      316,
                      -21,
                      733,
                      1073,
                      7858,
                      15202,
                      548,
                      7113,
                      373,
                      6718,
                      2702,
                      10476,
                      4214,
                      159,
                      13895,
                      1147,
                      2274,
                      2475,
                      1179,
                      3077
                    ],
                    [
                      1312,
                      1561,
                      412,
                      1525,
                      237,
                      309,
                      624,
                      150,
                      279,
                      65,
                      179,
                      967,
                      35,
                      178,
                      125,
                      314,
                      371,
                      1174,
                      294,
                      66,
                      1486,
                      151,
                      29,
                      185,
                      487,
                      1647,
                      3348,
                      2545,
                      1305,
                      1137,
                      555,
                      6569,
                      1296,
                      6962,
                      8859,
                      3104,
                      19615,
                      3717,
                      550,
                      1766,
                      1736,
                      1653,
                      2558,
                      5824,
                      1908,
                      478,
                      2195,
                      3605,
                      868,
                      6000
                    ],
                    [
                      485,
                      1628,
                      343,
                      811,
                      100,
                      313,
                      388,
                      -1,
                      250,
                      172,
                      651,
                      1365,
                      -5,
                      12,
                      158,
                      208,
                      292,
                      440,
                      148,
                      -49,
                      730,
                      173,
                      160,
                      281,
                      769,
                      2112,
                      6218,
                      3818,
                      2694,
                      1050,
                      1130,
                      7372,
                      647,
                      14555,
                      11003,
                      6506,
                      9994,
                      11618,
                      425,
                      4915,
                      3553,
                      2971,
                      8793,
                      7142,
                      11990,
                      2279,
                      478,
                      6268,
                      1537,
                      5065
                    ],
                    [
                      408,
                      1784,
                      272,
                      1032,
                      192,
                      275,
                      432,
                      31,
                      381,
                      239,
                      469,
                      1568,
                      23,
                      115,
                      295,
                      385,
                      248,
                      651,
                      309,
                      -36,
                      3719,
                      119,
                      223,
                      444,
                      1614,
                      1555,
                      1548,
                      2943,
                      1028,
                      1157,
                      1338,
                      4833,
                      1085,
                      7238,
                      5849,
                      2096,
                      7791,
                      1262,
                      82,
                      2056,
                      3255,
                      688,
                      4630,
                      499,
                      9866,
                      754,
                      983,
                      7035,
                      1675,
                      7260
                    ],
                    [
                      1047,
                      1214,
                      306,
                      1024,
                      339,
                      311,
                      706,
                      210,
                      671,
                      683,
                      328,
                      1843,
                      59,
                      136,
                      368,
                      688,
                      618,
                      660,
                      259,
                      192,
                      1985,
                      185,
                      293,
                      438,
                      4148,
                      1514,
                      3297,
                      2535,
                      2680,
                      1083,
                      774,
                      141,
                      1467,
                      12339,
                      3259,
                      12715,
                      976,
                      3088,
                      619,
                      4136,
                      4249,
                      7108,
                      7373,
                      1853,
                      10899,
                      978,
                      1017,
                      7969,
                      657,
                      2027
                    ],
                    [
                      335,
                      1583,
                      19,
                      1827,
                      59,
                      19,
                      736,
                      -94,
                      200,
                      153,
                      133,
                      936,
                      33,
                      63,
                      110,
                      248,
                      -203,
                      580,
                      256,
                      -303,
                      1528,
                      172,
                      73,
                      1068,
                      1446,
                      2693,
                      3482,
                      1373,
                      3223,
                      1099,
                      443,
                      2000,
                      1513,
                      3654,
                      8855,
                      21147,
                      4108,
                      5749,
                      864,
                      4126,
                      1871,
                      13176,
                      2771,
                      6704,
                      14090,
                      1690,
                      1999,
                      13195,
                      562,
                      3072
                    ],
                    [
                      1126,
                      782,
                      711,
                      498,
                      153,
                      279,
                      302,
                      56,
                      299,
                      12,
                      427,
                      2271,
                      35,
                      181,
                      263,
                      454,
                      784,
                      407,
                      238,
                      282,
                      1647,
                      200,
                      208,
                      517,
                      911,
                      1811,
                      2947,
                      2402,
                      1674,
                      652,
                      1450,
                      4830,
                      1807,
                      1537,
                      8518,
                      8054,
                      13464,
                      4719,
                      59,
                      3127,
                      3236,
                      3693,
                      5587,
                      394,
                      13338,
                      1702,
                      727,
                      4259,
                      1338,
                      5878
                    ],
                    [
                      880,
                      490,
                      654,
                      165,
                      19,
                      336,
                      201,
                      168,
                      389,
                      218,
                      288,
                      1082,
                      79,
                      74,
                      226,
                      391,
                      406,
                      529,
                      382,
                      43,
                      2195,
                      86,
                      57,
                      459,
                      2551,
                      1406,
                      1050,
                      2137,
                      735,
                      262,
                      781,
                      -312,
                      1038,
                      1481,
                      3628,
                      216,
                      1233,
                      1106,
                      72,
                      853,
                      1125,
                      -45,
                      3909,
                      72,
                      2306,
                      1137,
                      1639,
                      2517,
                      565,
                      2140
                    ],
                    [
                      473,
                      1648,
                      -14,
                      1309,
                      88,
                      194,
                      667,
                      -73,
                      126,
                      8,
                      295,
                      2007,
                      71,
                      202,
                      87,
                      412,
                      118,
                      697,
                      245,
                      64,
                      1885,
                      209,
                      214,
                      268,
                      1297,
                      1707,
                      4863,
                      3965,
                      2727,
                      618,
                      970,
                      4573,
                      1051,
                      17863,
                      10603,
                      17022,
                      7955,
                      5868,
                      692,
                      6159,
                      4647,
                      11517,
                      12358,
                      5940,
                      21135,
                      2014,
                      1096,
                      15519,
                      2892,
                      5162
                    ],
                    [
                      186,
                      528,
                      218,
                      852,
                      139,
                      130,
                      697,
                      -53,
                      190,
                      -80,
                      224,
                      802,
                      14,
                      4,
                      183,
                      393,
                      43,
                      786,
                      267,
                      -44,
                      1359,
                      253,
                      149,
                      607,
                      753,
                      2072,
                      2612,
                      2539,
                      2399,
                      805,
                      408,
                      6759,
                      1064,
                      13296,
                      8479,
                      19361,
                      9933,
                      6903,
                      672,
                      5503,
                      3808,
                      12979,
                      7125,
                      6247,
                      12115,
                      2683,
                      3397,
                      13221,
                      157,
                      2887
                    ],
                    [
                      680,
                      99,
                      251,
                      1484,
                      75,
                      51,
                      721,
                      62,
                      275,
                      201,
                      230,
                      939,
                      64,
                      -25,
                      111,
                      286,
                      214,
                      845,
                      342,
                      -179,
                      1291,
                      199,
                      195,
                      448,
                      2708,
                      1753,
                      1671,
                      2286,
                      784,
                      673,
                      275,
                      1569,
                      2538,
                      1661,
                      1285,
                      10043,
                      2676,
                      7061,
                      307,
                      2083,
                      3594,
                      5072,
                      2275,
                      6530,
                      5902,
                      974,
                      4465,
                      2702,
                      -245,
                      4681
                    ]
                  ]
                }
              ],
              "layout": {
                "coloraxis": {
                  "colorscale": [
                    [
                      0,
                      "#0d0887"
                    ],
                    [
                      0.1111111111111111,
                      "#46039f"
                    ],
                    [
                      0.2222222222222222,
                      "#7201a8"
                    ],
                    [
                      0.3333333333333333,
                      "#9c179e"
                    ],
                    [
                      0.4444444444444444,
                      "#bd3786"
                    ],
                    [
                      0.5555555555555556,
                      "#d8576b"
                    ],
                    [
                      0.6666666666666666,
                      "#ed7953"
                    ],
                    [
                      0.7777777777777778,
                      "#fb9f3a"
                    ],
                    [
                      0.8888888888888888,
                      "#fdca26"
                    ],
                    [
                      1,
                      "#f0f921"
                    ]
                  ]
                },
                "margin": {
                  "t": 60
                },
                "template": {
                  "data": {
                    "bar": [
                      {
                        "error_x": {
                          "color": "#2a3f5f"
                        },
                        "error_y": {
                          "color": "#2a3f5f"
                        },
                        "marker": {
                          "line": {
                            "color": "#E5ECF6",
                            "width": 0.5
                          },
                          "pattern": {
                            "fillmode": "overlay",
                            "size": 10,
                            "solidity": 0.2
                          }
                        },
                        "type": "bar"
                      }
                    ],
                    "barpolar": [
                      {
                        "marker": {
                          "line": {
                            "color": "#E5ECF6",
                            "width": 0.5
                          },
                          "pattern": {
                            "fillmode": "overlay",
                            "size": 10,
                            "solidity": 0.2
                          }
                        },
                        "type": "barpolar"
                      }
                    ],
                    "carpet": [
                      {
                        "aaxis": {
                          "endlinecolor": "#2a3f5f",
                          "gridcolor": "white",
                          "linecolor": "white",
                          "minorgridcolor": "white",
                          "startlinecolor": "#2a3f5f"
                        },
                        "baxis": {
                          "endlinecolor": "#2a3f5f",
                          "gridcolor": "white",
                          "linecolor": "white",
                          "minorgridcolor": "white",
                          "startlinecolor": "#2a3f5f"
                        },
                        "type": "carpet"
                      }
                    ],
                    "choropleth": [
                      {
                        "colorbar": {
                          "outlinewidth": 0,
                          "ticks": ""
                        },
                        "type": "choropleth"
                      }
                    ],
                    "contour": [
                      {
                        "colorbar": {
                          "outlinewidth": 0,
                          "ticks": ""
                        },
                        "colorscale": [
                          [
                            0,
                            "#0d0887"
                          ],
                          [
                            0.1111111111111111,
                            "#46039f"
                          ],
                          [
                            0.2222222222222222,
                            "#7201a8"
                          ],
                          [
                            0.3333333333333333,
                            "#9c179e"
                          ],
                          [
                            0.4444444444444444,
                            "#bd3786"
                          ],
                          [
                            0.5555555555555556,
                            "#d8576b"
                          ],
                          [
                            0.6666666666666666,
                            "#ed7953"
                          ],
                          [
                            0.7777777777777778,
                            "#fb9f3a"
                          ],
                          [
                            0.8888888888888888,
                            "#fdca26"
                          ],
                          [
                            1,
                            "#f0f921"
                          ]
                        ],
                        "type": "contour"
                      }
                    ],
                    "contourcarpet": [
                      {
                        "colorbar": {
                          "outlinewidth": 0,
                          "ticks": ""
                        },
                        "type": "contourcarpet"
                      }
                    ],
                    "heatmap": [
                      {
                        "colorbar": {
                          "outlinewidth": 0,
                          "ticks": ""
                        },
                        "colorscale": [
                          [
                            0,
                            "#0d0887"
                          ],
                          [
                            0.1111111111111111,
                            "#46039f"
                          ],
                          [
                            0.2222222222222222,
                            "#7201a8"
                          ],
                          [
                            0.3333333333333333,
                            "#9c179e"
                          ],
                          [
                            0.4444444444444444,
                            "#bd3786"
                          ],
                          [
                            0.5555555555555556,
                            "#d8576b"
                          ],
                          [
                            0.6666666666666666,
                            "#ed7953"
                          ],
                          [
                            0.7777777777777778,
                            "#fb9f3a"
                          ],
                          [
                            0.8888888888888888,
                            "#fdca26"
                          ],
                          [
                            1,
                            "#f0f921"
                          ]
                        ],
                        "type": "heatmap"
                      }
                    ],
                    "heatmapgl": [
                      {
                        "colorbar": {
                          "outlinewidth": 0,
                          "ticks": ""
                        },
                        "colorscale": [
                          [
                            0,
                            "#0d0887"
                          ],
                          [
                            0.1111111111111111,
                            "#46039f"
                          ],
                          [
                            0.2222222222222222,
                            "#7201a8"
                          ],
                          [
                            0.3333333333333333,
                            "#9c179e"
                          ],
                          [
                            0.4444444444444444,
                            "#bd3786"
                          ],
                          [
                            0.5555555555555556,
                            "#d8576b"
                          ],
                          [
                            0.6666666666666666,
                            "#ed7953"
                          ],
                          [
                            0.7777777777777778,
                            "#fb9f3a"
                          ],
                          [
                            0.8888888888888888,
                            "#fdca26"
                          ],
                          [
                            1,
                            "#f0f921"
                          ]
                        ],
                        "type": "heatmapgl"
                      }
                    ],
                    "histogram": [
                      {
                        "marker": {
                          "pattern": {
                            "fillmode": "overlay",
                            "size": 10,
                            "solidity": 0.2
                          }
                        },
                        "type": "histogram"
                      }
                    ],
                    "histogram2d": [
                      {
                        "colorbar": {
                          "outlinewidth": 0,
                          "ticks": ""
                        },
                        "colorscale": [
                          [
                            0,
                            "#0d0887"
                          ],
                          [
                            0.1111111111111111,
                            "#46039f"
                          ],
                          [
                            0.2222222222222222,
                            "#7201a8"
                          ],
                          [
                            0.3333333333333333,
                            "#9c179e"
                          ],
                          [
                            0.4444444444444444,
                            "#bd3786"
                          ],
                          [
                            0.5555555555555556,
                            "#d8576b"
                          ],
                          [
                            0.6666666666666666,
                            "#ed7953"
                          ],
                          [
                            0.7777777777777778,
                            "#fb9f3a"
                          ],
                          [
                            0.8888888888888888,
                            "#fdca26"
                          ],
                          [
                            1,
                            "#f0f921"
                          ]
                        ],
                        "type": "histogram2d"
                      }
                    ],
                    "histogram2dcontour": [
                      {
                        "colorbar": {
                          "outlinewidth": 0,
                          "ticks": ""
                        },
                        "colorscale": [
                          [
                            0,
                            "#0d0887"
                          ],
                          [
                            0.1111111111111111,
                            "#46039f"
                          ],
                          [
                            0.2222222222222222,
                            "#7201a8"
                          ],
                          [
                            0.3333333333333333,
                            "#9c179e"
                          ],
                          [
                            0.4444444444444444,
                            "#bd3786"
                          ],
                          [
                            0.5555555555555556,
                            "#d8576b"
                          ],
                          [
                            0.6666666666666666,
                            "#ed7953"
                          ],
                          [
                            0.7777777777777778,
                            "#fb9f3a"
                          ],
                          [
                            0.8888888888888888,
                            "#fdca26"
                          ],
                          [
                            1,
                            "#f0f921"
                          ]
                        ],
                        "type": "histogram2dcontour"
                      }
                    ],
                    "mesh3d": [
                      {
                        "colorbar": {
                          "outlinewidth": 0,
                          "ticks": ""
                        },
                        "type": "mesh3d"
                      }
                    ],
                    "parcoords": [
                      {
                        "line": {
                          "colorbar": {
                            "outlinewidth": 0,
                            "ticks": ""
                          }
                        },
                        "type": "parcoords"
                      }
                    ],
                    "pie": [
                      {
                        "automargin": true,
                        "type": "pie"
                      }
                    ],
                    "scatter": [
                      {
                        "fillpattern": {
                          "fillmode": "overlay",
                          "size": 10,
                          "solidity": 0.2
                        },
                        "type": "scatter"
                      }
                    ],
                    "scatter3d": [
                      {
                        "line": {
                          "colorbar": {
                            "outlinewidth": 0,
                            "ticks": ""
                          }
                        },
                        "marker": {
                          "colorbar": {
                            "outlinewidth": 0,
                            "ticks": ""
                          }
                        },
                        "type": "scatter3d"
                      }
                    ],
                    "scattercarpet": [
                      {
                        "marker": {
                          "colorbar": {
                            "outlinewidth": 0,
                            "ticks": ""
                          }
                        },
                        "type": "scattercarpet"
                      }
                    ],
                    "scattergeo": [
                      {
                        "marker": {
                          "colorbar": {
                            "outlinewidth": 0,
                            "ticks": ""
                          }
                        },
                        "type": "scattergeo"
                      }
                    ],
                    "scattergl": [
                      {
                        "marker": {
                          "colorbar": {
                            "outlinewidth": 0,
                            "ticks": ""
                          }
                        },
                        "type": "scattergl"
                      }
                    ],
                    "scattermapbox": [
                      {
                        "marker": {
                          "colorbar": {
                            "outlinewidth": 0,
                            "ticks": ""
                          }
                        },
                        "type": "scattermapbox"
                      }
                    ],
                    "scatterpolar": [
                      {
                        "marker": {
                          "colorbar": {
                            "outlinewidth": 0,
                            "ticks": ""
                          }
                        },
                        "type": "scatterpolar"
                      }
                    ],
                    "scatterpolargl": [
                      {
                        "marker": {
                          "colorbar": {
                            "outlinewidth": 0,
                            "ticks": ""
                          }
                        },
                        "type": "scatterpolargl"
                      }
                    ],
                    "scatterternary": [
                      {
                        "marker": {
                          "colorbar": {
                            "outlinewidth": 0,
                            "ticks": ""
                          }
                        },
                        "type": "scatterternary"
                      }
                    ],
                    "surface": [
                      {
                        "colorbar": {
                          "outlinewidth": 0,
                          "ticks": ""
                        },
                        "colorscale": [
                          [
                            0,
                            "#0d0887"
                          ],
                          [
                            0.1111111111111111,
                            "#46039f"
                          ],
                          [
                            0.2222222222222222,
                            "#7201a8"
                          ],
                          [
                            0.3333333333333333,
                            "#9c179e"
                          ],
                          [
                            0.4444444444444444,
                            "#bd3786"
                          ],
                          [
                            0.5555555555555556,
                            "#d8576b"
                          ],
                          [
                            0.6666666666666666,
                            "#ed7953"
                          ],
                          [
                            0.7777777777777778,
                            "#fb9f3a"
                          ],
                          [
                            0.8888888888888888,
                            "#fdca26"
                          ],
                          [
                            1,
                            "#f0f921"
                          ]
                        ],
                        "type": "surface"
                      }
                    ],
                    "table": [
                      {
                        "cells": {
                          "fill": {
                            "color": "#EBF0F8"
                          },
                          "line": {
                            "color": "white"
                          }
                        },
                        "header": {
                          "fill": {
                            "color": "#C8D4E3"
                          },
                          "line": {
                            "color": "white"
                          }
                        },
                        "type": "table"
                      }
                    ]
                  },
                  "layout": {
                    "annotationdefaults": {
                      "arrowcolor": "#2a3f5f",
                      "arrowhead": 0,
                      "arrowwidth": 1
                    },
                    "autotypenumbers": "strict",
                    "coloraxis": {
                      "colorbar": {
                        "outlinewidth": 0,
                        "ticks": ""
                      }
                    },
                    "colorscale": {
                      "diverging": [
                        [
                          0,
                          "#8e0152"
                        ],
                        [
                          0.1,
                          "#c51b7d"
                        ],
                        [
                          0.2,
                          "#de77ae"
                        ],
                        [
                          0.3,
                          "#f1b6da"
                        ],
                        [
                          0.4,
                          "#fde0ef"
                        ],
                        [
                          0.5,
                          "#f7f7f7"
                        ],
                        [
                          0.6,
                          "#e6f5d0"
                        ],
                        [
                          0.7,
                          "#b8e186"
                        ],
                        [
                          0.8,
                          "#7fbc41"
                        ],
                        [
                          0.9,
                          "#4d9221"
                        ],
                        [
                          1,
                          "#276419"
                        ]
                      ],
                      "sequential": [
                        [
                          0,
                          "#0d0887"
                        ],
                        [
                          0.1111111111111111,
                          "#46039f"
                        ],
                        [
                          0.2222222222222222,
                          "#7201a8"
                        ],
                        [
                          0.3333333333333333,
                          "#9c179e"
                        ],
                        [
                          0.4444444444444444,
                          "#bd3786"
                        ],
                        [
                          0.5555555555555556,
                          "#d8576b"
                        ],
                        [
                          0.6666666666666666,
                          "#ed7953"
                        ],
                        [
                          0.7777777777777778,
                          "#fb9f3a"
                        ],
                        [
                          0.8888888888888888,
                          "#fdca26"
                        ],
                        [
                          1,
                          "#f0f921"
                        ]
                      ],
                      "sequentialminus": [
                        [
                          0,
                          "#0d0887"
                        ],
                        [
                          0.1111111111111111,
                          "#46039f"
                        ],
                        [
                          0.2222222222222222,
                          "#7201a8"
                        ],
                        [
                          0.3333333333333333,
                          "#9c179e"
                        ],
                        [
                          0.4444444444444444,
                          "#bd3786"
                        ],
                        [
                          0.5555555555555556,
                          "#d8576b"
                        ],
                        [
                          0.6666666666666666,
                          "#ed7953"
                        ],
                        [
                          0.7777777777777778,
                          "#fb9f3a"
                        ],
                        [
                          0.8888888888888888,
                          "#fdca26"
                        ],
                        [
                          1,
                          "#f0f921"
                        ]
                      ]
                    },
                    "colorway": [
                      "#636efa",
                      "#EF553B",
                      "#00cc96",
                      "#ab63fa",
                      "#FFA15A",
                      "#19d3f3",
                      "#FF6692",
                      "#B6E880",
                      "#FF97FF",
                      "#FECB52"
                    ],
                    "font": {
                      "color": "#2a3f5f"
                    },
                    "geo": {
                      "bgcolor": "white",
                      "lakecolor": "white",
                      "landcolor": "#E5ECF6",
                      "showlakes": true,
                      "showland": true,
                      "subunitcolor": "white"
                    },
                    "hoverlabel": {
                      "align": "left"
                    },
                    "hovermode": "closest",
                    "mapbox": {
                      "style": "light"
                    },
                    "paper_bgcolor": "white",
                    "plot_bgcolor": "#E5ECF6",
                    "polar": {
                      "angularaxis": {
                        "gridcolor": "white",
                        "linecolor": "white",
                        "ticks": ""
                      },
                      "bgcolor": "#E5ECF6",
                      "radialaxis": {
                        "gridcolor": "white",
                        "linecolor": "white",
                        "ticks": ""
                      }
                    },
                    "scene": {
                      "xaxis": {
                        "backgroundcolor": "#E5ECF6",
                        "gridcolor": "white",
                        "gridwidth": 2,
                        "linecolor": "white",
                        "showbackground": true,
                        "ticks": "",
                        "zerolinecolor": "white"
                      },
                      "yaxis": {
                        "backgroundcolor": "#E5ECF6",
                        "gridcolor": "white",
                        "gridwidth": 2,
                        "linecolor": "white",
                        "showbackground": true,
                        "ticks": "",
                        "zerolinecolor": "white"
                      },
                      "zaxis": {
                        "backgroundcolor": "#E5ECF6",
                        "gridcolor": "white",
                        "gridwidth": 2,
                        "linecolor": "white",
                        "showbackground": true,
                        "ticks": "",
                        "zerolinecolor": "white"
                      }
                    },
                    "shapedefaults": {
                      "line": {
                        "color": "#2a3f5f"
                      }
                    },
                    "ternary": {
                      "aaxis": {
                        "gridcolor": "white",
                        "linecolor": "white",
                        "ticks": ""
                      },
                      "baxis": {
                        "gridcolor": "white",
                        "linecolor": "white",
                        "ticks": ""
                      },
                      "bgcolor": "#E5ECF6",
                      "caxis": {
                        "gridcolor": "white",
                        "linecolor": "white",
                        "ticks": ""
                      }
                    },
                    "title": {
                      "x": 0.05
                    },
                    "xaxis": {
                      "automargin": true,
                      "gridcolor": "white",
                      "linecolor": "white",
                      "ticks": "",
                      "title": {
                        "standoff": 15
                      },
                      "zerolinecolor": "white",
                      "zerolinewidth": 2
                    },
                    "yaxis": {
                      "automargin": true,
                      "gridcolor": "white",
                      "linecolor": "white",
                      "ticks": "",
                      "title": {
                        "standoff": 15
                      },
                      "zerolinecolor": "white",
                      "zerolinewidth": 2
                    }
                  }
                },
                "title": {
                  "text": "Visualización de Matriz"
                },
                "xaxis": {
                  "anchor": "y",
                  "constrain": "domain",
                  "domain": [
                    0,
                    1
                  ],
                  "scaleanchor": "y",
                  "scaleratio": 1
                },
                "yaxis": {
                  "anchor": "x",
                  "autorange": "reversed",
                  "constrain": "domain",
                  "domain": [
                    0,
                    1
                  ]
                }
              }
            }
          },
          "metadata": {},
          "output_type": "display_data"
        }
      ],
      "source": [
        "fig = px.imshow(x)\n",
        "\n",
        "# Configurar el layout para mantener la misma escala en ambos ejes\n",
        "fig.update_layout(\n",
        "    title=\"Visualización de Matriz\",\n",
        "    xaxis=dict(scaleanchor='y', scaleratio=1),\n",
        "    yaxis=dict(constrain='domain')  # Establece la misma longitud de dominio para el eje Y\n",
        ")\n",
        "\n",
        "fig.show()"
      ]
    },
    {
      "cell_type": "code",
      "execution_count": 20,
      "id": "db1e54a8",
      "metadata": {
        "id": "db1e54a8"
      },
      "outputs": [],
      "source": [
        "scaler = StandardScaler()\n",
        "x_scaled = scaler.fit_transform(x)"
      ]
    },
    {
      "cell_type": "code",
      "execution_count": 21,
      "id": "36f299fb",
      "metadata": {
        "id": "36f299fb",
        "outputId": "20cc978d-09a9-4eb2-a306-5e4ae1afeeb7"
      },
      "outputs": [
        {
          "data": {
            "application/vnd.plotly.v1+json": {
              "config": {
                "plotlyServerURL": "https://plot.ly"
              },
              "data": [
                {
                  "coloraxis": "coloraxis",
                  "hovertemplate": "x: %{x}<br>y: %{y}<br>color: %{z}<extra></extra>",
                  "name": "0",
                  "type": "heatmap",
                  "xaxis": "x",
                  "yaxis": "y",
                  "z": [
                    [
                      0.07133929088646955,
                      -0.1709829564433894,
                      2.482651152160205,
                      0.6752234244849377,
                      0.5371375796693048,
                      0.3019205028081945,
                      0.9025892905732541,
                      0.004175108201871901,
                      0.32095758488787085,
                      -0.41977924300643715,
                      1.6403495174389615,
                      2.0513353237110294,
                      0.23765358729754418,
                      1.1662929610139992,
                      0.10761698845735204,
                      0.8288567151967235,
                      0.06973919152681972,
                      0.29043556792655933,
                      0.5201192924779832,
                      -0.04105279285615916,
                      0.3671610307213719,
                      0.9537317618428321,
                      0.1169306789643254,
                      1.2797375655283452,
                      -0.460926888514862,
                      -0.7902427648346245,
                      -0.5600383225148462,
                      -0.3601324030979717,
                      -0.5081853198290756,
                      -0.06694110235696811,
                      -0.24526090437310782,
                      -0.5218467071362413,
                      -0.12956423779676957,
                      -0.42592783841406523,
                      -0.9215476628457852,
                      -0.5612837791115686,
                      -0.39230987798486755,
                      -0.5563433645762548,
                      -0.9625943278959543,
                      -0.7803705984626794,
                      -0.8082823128283506,
                      -0.46928837029389414,
                      -0.6050181395447978,
                      -0.6095527069421585,
                      -0.7314443640424974,
                      -0.19368425046429164,
                      -0.6771677732232675,
                      -0.7635745284595482,
                      -0.5778032781922916,
                      -0.5997785320755771
                    ],
                    [
                      -0.8332021864726851,
                      -0.0018005097844890805,
                      -0.6362804208864393,
                      -0.19944999805236044,
                      -0.00997429705505738,
                      0.1069887294632563,
                      -0.49421055249606605,
                      0.3298335479478802,
                      -0.15600245878388322,
                      2.185160716619133,
                      -0.24629675704501794,
                      -0.5959457847143919,
                      -0.507024526569975,
                      -0.544250624824919,
                      0.18154158129767153,
                      -0.4586368784208531,
                      0.20886468809582,
                      0.13581325499627558,
                      -0.4227264369143768,
                      -0.044148043111187044,
                      -0.136748751238062,
                      0.06508479674614294,
                      0.9584772321166678,
                      -0.7157068235858486,
                      1.2327945522640182,
                      0.3063251634717436,
                      -0.553935237841613,
                      -0.4316007270281284,
                      -0.19931359020777242,
                      -0.8103359159917368,
                      -0.7043699864508467,
                      -0.42421186010693435,
                      -0.639353604938862,
                      -0.19531878929501773,
                      0.07103394344868307,
                      0.28109745549838955,
                      -0.4887490704541698,
                      -0.5218936809002728,
                      -0.1592519490075358,
                      0.6716960677867357,
                      1.127832607265393,
                      -0.0036071943601174512,
                      -0.22972188935350352,
                      0.3927115800607644,
                      0.17491275279881932,
                      0.01003474115251482,
                      -0.6697942979407185,
                      0.11591630621949248,
                      0.08151531752813132,
                      -0.4271575746735848
                    ],
                    [
                      0.7259596454121184,
                      1.7812497858852934,
                      -0.7350533695287657,
                      0.7375197028947164,
                      0.3591614269999339,
                      1.182224096264857,
                      0.6441903545332635,
                      2.2420331044052113,
                      -0.4962038169478595,
                      1.9944459047602414,
                      0.6274929746823301,
                      -0.10982641501885933,
                      -0.5629829975542395,
                      -0.10692718378519558,
                      1.3344506568711652,
                      -0.2852687431633715,
                      1.069878303408388,
                      1.3226163058982545,
                      1.4463875145403675,
                      0.4479967474382456,
                      2.5020650511913898,
                      -0.6683166142071488,
                      2.0019949580255725,
                      0.14211995586330206,
                      2.4538597316694566,
                      0.31155521718385665,
                      -0.5525789968031167,
                      -0.0442885199227627,
                      -0.814671939569133,
                      0.6737504574100378,
                      -0.10752817974978617,
                      -0.5720077294632246,
                      -0.17996166572716654,
                      -0.43663859045845704,
                      -0.8492884475230992,
                      -0.5666621110165004,
                      -0.27909865204264317,
                      -0.47213302670163215,
                      -0.8198685245401439,
                      -0.8150432483772394,
                      -1.0038844460161853,
                      -0.5526900272266666,
                      -0.03940772532207128,
                      -0.5705319188654917,
                      -0.5752235073421007,
                      0.006552365227441206,
                      -0.8667714233459557,
                      -0.050215802440413154,
                      -0.7874483616241311,
                      -0.7192853487384948
                    ],
                    [
                      1.1465919177220625,
                      0.16282064542037225,
                      0.9984673695646488,
                      0.9382989245262328,
                      0.11197232607025226,
                      -0.030915131466939336,
                      -0.7977841277038873,
                      0.7723950173463018,
                      0.687154395669028,
                      -0.24028294949218598,
                      0.2545045335402054,
                      0.3539752874535895,
                      0.7800203060681073,
                      0.35807495605451034,
                      0.20828026381438286,
                      -0.2987081334934088,
                      -0.4543560525764826,
                      0.01703055102334241,
                      -0.13054787022355754,
                      0.3768059915726044,
                      0.33718870168289256,
                      0.4987016893535636,
                      -0.2720508389372018,
                      2.627495947674686,
                      0.008443995694259968,
                      -0.3352280918807897,
                      -0.2921807174118337,
                      -0.5699265152800448,
                      0.09763259000730276,
                      -0.02098578660500059,
                      -0.16778624677248938,
                      -0.5594674738814788,
                      0.0952858252773092,
                      -0.5586100116986736,
                      -0.8565446030366743,
                      -0.5767464833382477,
                      -0.3690153870502535,
                      -0.5125369766919814,
                      -1.0563855701012013,
                      -0.66260314961495,
                      -0.7217326963735565,
                      -0.5466388029066231,
                      -0.7190425740291473,
                      -0.5494869994533569,
                      -0.5955401086554098,
                      -0.36083829486782515,
                      -0.6381936895869372,
                      -0.5046921456709597,
                      -0.41980988198278935,
                      -0.29437222282589837
                    ],
                    [
                      0.23704291331159902,
                      0.7412753343644064,
                      1.013264815054136,
                      0.112031393996533,
                      0.7348888604130501,
                      0.29984676053856746,
                      -0.1526902803872672,
                      0.8725976141912274,
                      0.32321805902849526,
                      -0.3322747999182397,
                      1.7633392404879813,
                      0.014746745662717048,
                      0.8359787770523718,
                      2.118440199733397,
                      1.1394155608669179,
                      -0.45594900035484565,
                      -0.08111978065643362,
                      0.8485094788338747,
                      0.4289430021631176,
                      0.19109097627093172,
                      0.20168879748810054,
                      1.376642064509329,
                      0.0795286099353324,
                      0.49632324092384655,
                      -0.545032543921443,
                      -0.6542613683196854,
                      -0.27861830702687107,
                      -0.586064523909435,
                      -0.12537518388915933,
                      -0.8076326621239741,
                      0.13924295186699848,
                      -0.2652193339812281,
                      -0.27687979636254534,
                      -0.510958094439951,
                      1.4351911800008124,
                      -0.6016212683985578,
                      -0.35340807812406205,
                      -0.3028617414789059,
                      -0.03691554613112691,
                      0.3614356314823115,
                      -0.0899204962535597,
                      -0.5098052635672284,
                      -0.6628506764595218,
                      -0.4521542471722331,
                      -0.8093575438362558,
                      -0.9127948789919931,
                      -0.49599095199492105,
                      -0.030574567919045004,
                      -0.14028310407366995,
                      -0.11817627518185296
                    ],
                    [
                      0.164206156201652,
                      0.31748989199823946,
                      -0.8630512730128291,
                      0.002171065179288152,
                      -0.3329680556031748,
                      0.23348700791050342,
                      0.8827124493394086,
                      -0.04592619022059092,
                      -0.28145877358853894,
                      1.0240440679488207,
                      -0.7977408747680729,
                      -0.648696634514408,
                      -0.7566853971151549,
                      -0.37817843202502405,
                      -0.42243807084451335,
                      0.2576826261701369,
                      0.5390782160969412,
                      -0.4673161643145662,
                      1.0671770343671767,
                      0.05489996504970506,
                      1.0302988106977273,
                      -0.636196844384377,
                      0.48347095544845675,
                      0.054015609327233836,
                      2.367563824819996,
                      -0.7257387690518969,
                      -0.594622468996501,
                      -0.685198005489975,
                      -0.5833162810883114,
                      -0.7319415538266157,
                      -0.827755552259239,
                      -0.4130152033375184,
                      -0.7692238999902695,
                      -0.23685027681408788,
                      -0.7945649413582199,
                      -0.5811163780110049,
                      -0.36249292958856155,
                      -0.8838280118664539,
                      -0.4161583950479945,
                      -0.8808017223531289,
                      -1.0990890241164588,
                      -0.5400613851674455,
                      -0.42290717223885826,
                      -0.5117815188399486,
                      -0.7267103986879399,
                      -0.16582524306370272,
                      -0.7245686857539396,
                      -0.09031665625487315,
                      0.13772450656420424,
                      -0.8653492357709498
                    ],
                    [
                      0.4496351981262569,
                      0.8706501465153301,
                      0.9363180985088029,
                      0.33848678443207986,
                      -0.4252519866169226,
                      0.2677037553593489,
                      -0.9351150307740921,
                      -0.24633138391044218,
                      -0.10175107940889698,
                      -0.7462381268354815,
                      0.17813836563395147,
                      0.17097041622430306,
                      0.19460860961734078,
                      -0.20103475970513607,
                      0.10289839742499123,
                      -0.5554004887971219,
                      -0.6527076641507602,
                      -0.5850748794601465,
                      -0.48489208940178513,
                      0.24371023060640562,
                      0.05619811694714876,
                      -0.7646759236754646,
                      -0.07381987308353889,
                      -0.3478116468338881,
                      0.16241867212870362,
                      -0.44331586859779265,
                      -0.7268559702498869,
                      -0.4269898674197312,
                      -0.5558875174539872,
                      0.857571720417908,
                      -0.7531503264216064,
                      -0.5590196076107021,
                      -0.39511991573770744,
                      -0.5430903505731264,
                      -0.8532188650929524,
                      -0.5905284588446358,
                      -0.3820603019736374,
                      -0.36538153777976207,
                      -0.917737646841271,
                      -0.5304883973542992,
                      -0.8697325405112545,
                      -0.5179612615638086,
                      -0.061556356480901755,
                      -0.5788621994661285,
                      -0.45983310182476217,
                      -0.43570937725690784,
                      -0.4496433930760417,
                      -0.5401554857789854,
                      -0.08407391503759702,
                      1.9926001063046388
                    ],
                    [
                      0.8179160512634266,
                      -0.5620100329123673,
                      0.5301282198223818,
                      0.05015603638682038,
                      -0.576861301853794,
                      -0.44151610085308574,
                      -0.12919946801999532,
                      0.17952965268049176,
                      0.9957091158642623,
                      0.8647411074549229,
                      -0.21414258108448994,
                      1.1217030399276693,
                      0.39692000471429684,
                      -0.12353440306518508,
                      0.08402403329554795,
                      -0.5285217081370472,
                      0.2379190086644466,
                      0.11942943375862965,
                      -0.8537416274937413,
                      -0.7715318530427384,
                      0.6075640865508416,
                      0.5201148692354115,
                      -0.9078860124300827,
                      -0.1793418490655955,
                      -0.4867718555408426,
                      0.22787435779004794,
                      -0.9079141488891384,
                      0.26694450364404904,
                      -0.6524844676444334,
                      -0.45891291318257343,
                      -0.2739552220029665,
                      -0.688900826135927,
                      0.04295003473420465,
                      -0.5461505654429526,
                      -0.9327342359292135,
                      -0.5407788887240157,
                      -0.2711785251248744,
                      -0.46447754144030284,
                      -1.4764072199768719,
                      -0.8634653973958489,
                      -0.3859201845289555,
                      -0.551111446969264,
                      -0.3786099099211973,
                      -0.26362684410519166,
                      -0.6052052879209647,
                      0.8266518955822775,
                      -0.24634614600004823,
                      -0.33665047254369873,
                      -0.623378296329648,
                      -0.7437995675411446
                    ],
                    [
                      0.5156435092571464,
                      1.8053002317338627,
                      -0.8108902776623871,
                      1.7468877814531574,
                      1.779674793675838,
                      2.60481129322898,
                      0.3641075916927141,
                      1.5573153592982192,
                      0.4565860333253364,
                      1.618625540214778,
                      0.7858522912879304,
                      -0.034757897995759554,
                      -0.05074776315981875,
                      0.6237904645343423,
                      1.6962093026854945,
                      1.089580887599448,
                      1.5755352286892927,
                      0.8853730766185781,
                      2.550863940399989,
                      1.75419235506001,
                      2.491449851323595,
                      0.9323185819609843,
                      2.2638094412285237,
                      2.4429530596599487,
                      2.170441194960822,
                      -0.4973597569562941,
                      -0.9133391130431234,
                      -0.5422613576296615,
                      -0.6179003743663724,
                      -0.4318803745049455,
                      -0.5494206712496098,
                      -0.4985576610558561,
                      -0.7847308008919301,
                      -0.41871447479233204,
                      -0.7186776482787464,
                      -0.5424596174443069,
                      -0.26302545329775945,
                      -0.7668692092628113,
                      -0.2204201504457403,
                      -0.6368975643334659,
                      -0.024142787747916193,
                      -0.5187505516925099,
                      0.006120016504413597,
                      -0.5139736979453793,
                      -0.263373539610627,
                      -0.10488366437491446,
                      -0.8562378872280286,
                      -0.15060433443851706,
                      0.3200245791136299,
                      -0.8163207981656503
                    ],
                    [
                      -0.5873781312266139,
                      0.7362993800509093,
                      -0.7509606234299644,
                      -0.20955209725394616,
                      1.0348116362077306,
                      -0.023657033523244827,
                      -0.22496970305579608,
                      -0.4801374432152687,
                      -0.6713905628462525,
                      -0.03610591561972525,
                      -0.3009588561779155,
                      -0.8357592634206187,
                      -0.5371560109461174,
                      -1.1199675598645549,
                      -0.42872952555432775,
                      -0.2812369260643603,
                      0.07588529780095227,
                      -0.6055546560072039,
                      -0.16370288488350865,
                      0.31180573621701896,
                      1.1314554212025951,
                      -1.2036461112533472,
                      0.8836730940586819,
                      -0.5621195167864865,
                      0.8008769677281393,
                      -0.38752862900192014,
                      -0.4284829417807084,
                      -0.30134394309090723,
                      -0.7717399617067126,
                      -0.02368904047276339,
                      -0.5149874900937794,
                      -0.41122373825441183,
                      -0.9688752490991498,
                      -0.38330341701291426,
                      -0.6443020542646011,
                      -0.5295180062980646,
                      -0.555371314527166,
                      -0.28372302832558255,
                      -0.42023627514387485,
                      -0.3350063883532458,
                      -0.5027621667429275,
                      -0.5553209943223376,
                      -0.42249701240258364,
                      -0.448646760603544,
                      -0.6357788141691484,
                      -0.5105804596459905,
                      -0.6624208226581696,
                      -0.28181869283821265,
                      -0.7282008380455678,
                      -0.9031419897583682
                    ],
                    [
                      -0.04337860156169701,
                      1.2907036231463744,
                      -0.9129926515398482,
                      1.2459920293745315,
                      1.5127105646717818,
                      -0.13252850267866242,
                      1.4772107007880586,
                      0.7264688271257108,
                      -0.4735990755416152,
                      1.348259248108937,
                      -0.8250719243345217,
                      -0.350451445260471,
                      -0.8384708547075413,
                      -0.13460588258517808,
                      -0.3563777963914619,
                      1.3529929380681796,
                      0.616183912990604,
                      0.5597446295203647,
                      0.2921785666908192,
                      0.692521517585448,
                      0.06993543442311846,
                      0.8198993875812827,
                      1.3773804052413894,
                      -0.005514354548487933,
                      0.7237801169387734,
                      -0.7449156326629781,
                      -0.7790712502319931,
                      -0.9341844243434244,
                      -0.9029210051752196,
                      -0.30212418885233133,
                      -0.5924621476943979,
                      -0.4631762256645018,
                      -0.9553067108101968,
                      -0.5743482596006371,
                      -0.5690194408112588,
                      -0.40245491504404857,
                      -0.4027923989054439,
                      -0.8587350323987634,
                      -0.4406256756232763,
                      -0.6667877797770521,
                      0.08750621747876818,
                      -0.496387331379306,
                      -0.5799983895320447,
                      -0.5551866651274767,
                      -0.5199939115389302,
                      -0.6011222336979045,
                      -0.7013949062945,
                      -0.6034439081256162,
                      -0.8907517360688058,
                      -0.8188743626242596
                    ],
                    [
                      -1.0913174444810598,
                      -1.0708013614674425,
                      -0.04105317607182045,
                      -0.47052299329491093,
                      -0.34285561964036204,
                      -0.9039606269799072,
                      -1.3850544368856843,
                      -0.7389941517313265,
                      -0.6352229765962617,
                      -0.9032973836604513,
                      -0.8290911963295877,
                      -0.8568596033406252,
                      -0.9633012899801313,
                      -1.1421105189045409,
                      -0.97923181266309,
                      -1.002932186787365,
                      -0.7543977861409531,
                      -1.0683976059707023,
                      -0.8889688305699394,
                      -0.7498651012575432,
                      -0.5932023455532369,
                      -1.1768796364010372,
                      -1.3529706338750993,
                      -0.8038111701219168,
                      -0.7951592586983058,
                      -1.21213376427841,
                      -0.48544506539755156,
                      -0.7947059211894087,
                      -0.4676384518479006,
                      -1.0887710643713049,
                      -0.17065567853547525,
                      -0.37673803540461076,
                      -0.7924842513427605,
                      -0.4687708465916324,
                      0.6128268884622947,
                      0.001928415058018332,
                      -0.2725761945809512,
                      -0.5355034324759694,
                      0.4850531061415511,
                      0.1474216889062347,
                      -0.6395105607415021,
                      -0.05806821324050829,
                      -0.46023171733985035,
                      -0.12595799628414275,
                      0.5333133798501082,
                      -0.5436630309341899,
                      -0.2895336440835494,
                      0.20675701588082018,
                      -0.08863141685133266,
                      -0.9894524684593644
                    ],
                    [
                      0.8183712809953637,
                      1.789128380214997,
                      0.9100526327649633,
                      3.154867857674169,
                      0.7579598431664871,
                      0.5632120287811967,
                      0.8989753194398277,
                      1.1606800801203887,
                      1.0544814435204974,
                      -0.4366070205233982,
                      0.611415886702066,
                      1.1472669132922926,
                      1.5763523931518706,
                      1.3600438526138767,
                      0.3482651311077538,
                      0.4794325666157529,
                      1.0821705159566533,
                      0.6979831212130025,
                      2.586091143476187,
                      1.1475233050745461,
                      0.9435039411904642,
                      0.28992318550554624,
                      1.620493853929844,
                      -0.11802598627360207,
                      -0.1227520657342347,
                      -0.9750379959959521,
                      -0.2711589813151416,
                      -0.8419672321754802,
                      -0.6083599348413901,
                      -0.8941367858923835,
                      -0.5580289665385674,
                      -0.4416786446672232,
                      -0.9029709202670922,
                      -0.5133625489805288,
                      -0.24702753989636125,
                      -0.597755592341888,
                      -0.537201611598167,
                      -0.4751101598588158,
                      -0.3182892727468674,
                      -0.2650632842152542,
                      -0.24830629436583287,
                      -0.5453233193587876,
                      -0.8609578773801722,
                      -0.57754689200287,
                      -0.3146581642849996,
                      -0.8553356762282784,
                      -0.6561007009874132,
                      -0.8104952553717054,
                      -0.4653849001201458,
                      -0.5165323307249121
                    ],
                    [
                      -0.6438266179868228,
                      -0.6934581593605815,
                      -0.9100331624419508,
                      -0.5311355885044253,
                      -0.5702695924956692,
                      1.0049191322117481,
                      -0.1526902803872672,
                      1.2650577851671863,
                      -0.39561271769007245,
                      0.6033496300247946,
                      0.24485828075204705,
                      -0.0027016123480574925,
                      0.36678852033815446,
                      1.0666496453340621,
                      -0.1456140636126786,
                      -0.31349146285644985,
                      0.03621497548609676,
                      0.8126698698765242,
                      0.6610281047827754,
                      0.017756961989370525,
                      -0.5582346283416777,
                      0.41304896982617184,
                      0.1019698513527282,
                      1.2743798687795302,
                      -0.39346714407416694,
                      0.08666290756299577,
                      -0.517994850321462,
                      -0.6598382776437903,
                      -0.24105301312957014,
                      -0.6211081452483411,
                      -0.5781149888794685,
                      -0.45780183041518213,
                      -0.9436765351339513,
                      -0.31291847500691117,
                      -0.21165378176768238,
                      -0.6014531955265287,
                      -0.37926496306148366,
                      -0.3496452625203629,
                      -0.049149186418767796,
                      -0.6614075409972066,
                      -0.758949031449118,
                      -0.543744739101385,
                      -0.22479997131820786,
                      -0.3885810531147424,
                      -0.7876602026278674,
                      0.3896137169855388,
                      -0.371695225803381,
                      0.12328176916500554,
                      0.27748789551876396,
                      -0.801510124305716
                    ],
                    [
                      1.0755760795398641,
                      1.600456779161567,
                      1.1660484397330901,
                      2.5411653311778357,
                      1.5160064193508442,
                      0.9478912197970056,
                      1.2061628657810752,
                      1.269232893369058,
                      1.736014396918762,
                      0.6280303703830041,
                      1.3212193210307213,
                      0.9910432427307065,
                      2.260767538267105,
                      1.5095088261337821,
                      1.1299783788021962,
                      0.9014294229789251,
                      0.2233918483801333,
                      1.4659747417276567,
                      0.5947180754628731,
                      1.9399073703616827,
                      0.06681331681494353,
                      1.671073287884738,
                      0.636819438467328,
                      1.620844258536231,
                      0.8048194203253227,
                      -1.2557175452126854,
                      -0.12604119019604118,
                      -1.0621357784764471,
                      0.07497404613546971,
                      -0.86169773947923,
                      -0.7617586217105641,
                      -0.48377807412022705,
                      -0.08110517247908018,
                      -0.4755470366605333,
                      -0.3301709884894099,
                      -0.6123779322084216,
                      -0.45334144423355643,
                      -0.1361422846766227,
                      -0.05322706651464809,
                      -0.0779505355384049,
                      -0.40063361932627045,
                      -0.5221708089168824,
                      -0.3486682418731487,
                      -0.5793006352872146,
                      -0.4612138417198415,
                      -0.8239942929026158,
                      -0.5275915603487024,
                      -0.6672779203200626,
                      -0.2982765002831722,
                      -0.12328340409907167
                    ],
                    [
                      0.6271747935817528,
                      1.1012026963740276,
                      0.382523701064748,
                      0.07204391799025614,
                      0.7513681338083622,
                      0.5642488999160102,
                      1.7518725069284682,
                      -0.13360346245990085,
                      0.45545579625502425,
                      -0.04620258212990188,
                      1.4482283160748068,
                      0.9042072284445262,
                      0.7369753283879039,
                      1.2050431393339747,
                      0.2680490835576199,
                      1.4927625975005678,
                      1.2324707512058946,
                      1.078906964988271,
                      -0.14090881230479227,
                      1.224904561450243,
                      -0.020605976213954547,
                      -0.32570573609758185,
                      -1.1397788404098392,
                      0.29332606410763534,
                      1.0735632723666633,
                      -0.6978451492539607,
                      -0.18707203692837313,
                      -0.7047941588256632,
                      -0.5988194953164077,
                      -0.9482018632476394,
                      -0.41455737838927403,
                      -0.4407829121256699,
                      -0.6529221432278149,
                      -0.48429050771717963,
                      -0.6025791600615439,
                      -0.6108652763601595,
                      -0.4631251304260943,
                      -0.7069012413823983,
                      -0.5303390377326429,
                      -0.7325462537529416,
                      -1.0177323846489523,
                      -0.5269065496890902,
                      -0.3999382214074785,
                      -0.5801775069293869,
                      -0.7768115320236731,
                      -0.6620638123866928,
                      -0.2790001079656223,
                      -0.694011822863036,
                      -0.6097057908884411,
                      -0.5558572233874962
                    ],
                    [
                      1.9150197052320037,
                      -0.4036088205993773,
                      -0.8867271857960085,
                      -0.342563070074825,
                      -0.21102143247786515,
                      2.1340717980236508,
                      1.2332676492817736,
                      0.3548841971591116,
                      -0.0531508853854718,
                      -0.33900591092502413,
                      1.0310278829869564,
                      0.13201594252582965,
                      2.5836048708686308,
                      1.3046864550139117,
                      2.0957166767587108,
                      -0.06486274175075918,
                      3.8758551860169,
                      1.8714743173593942,
                      2.047322155251982,
                      2.345385153770335,
                      2.118669008907508,
                      1.5211810287118024,
                      1.0781638530094455,
                      -0.5710490113678447,
                      0.6885170687084101,
                      1.2459914804147203,
                      -0.13417863642701877,
                      0.4617533220988312,
                      -0.3066435348638237,
                      -1.7402552465021386,
                      -0.17352511029846113,
                      -0.4658634232891616,
                      0.22709448294142434,
                      -0.4101895905121018,
                      -0.6273710247329257,
                      -0.5698554955850538,
                      -0.5728421827281266,
                      -0.305413569899349,
                      0.14658905818348647,
                      -0.49760916036635444,
                      0.5254472767400262,
                      -0.5416399654248482,
                      0.5454802012055632,
                      -0.595522760667402,
                      -0.4947460963146236,
                      -0.37999136245573,
                      0.48257455336050864,
                      -0.6023527284299846,
                      -0.35296652204799994,
                      0.12390163549431377
                    ],
                    [
                      -0.8058884025564549,
                      -0.8937403204788386,
                      0.26784349852122286,
                      -0.7820043853438043,
                      0.25698993194899883,
                      -0.206146353250421,
                      -0.5990157153654329,
                      -1.3861359230214714,
                      0.16950581746603424,
                      -0.30983776322895834,
                      -0.3925982576654203,
                      -0.719301618092891,
                      1.2621240560863856,
                      1.2327218381339573,
                      0.40174249614117646,
                      -0.6884504530644915,
                      -0.854970434263122,
                      -0.5277315051283856,
                      0.03937157990869195,
                      0.17251947474076443,
                      -0.6849926032335799,
                      -0.7539693337345406,
                      1.3063164740863027,
                      -1.003831848744342,
                      -0.7084253015602693,
                      -0.6438012608954593,
                      -0.49765123474401796,
                      -0.6379366945039037,
                      -0.29948820522008696,
                      -0.8535879778759415,
                      -0.5895927159314119,
                      -0.42913838908547736,
                      -0.6839359450311362,
                      -0.48735072258700585,
                      -0.6025791600615439,
                      -0.5943941349013055,
                      -0.6080168640393939,
                      -0.2105706136062134,
                      -0.5629620784996853,
                      -0.3888087761517009,
                      -1.0618726890408974,
                      -0.5353256443952377,
                      -0.8917198651007701,
                      -0.14524917241193305,
                      -0.4821221887024703,
                      -0.24417870137785905,
                      -0.6339802751397663,
                      -0.5232422004966962,
                      -0.7190858344180965,
                      -1.027245222446783
                    ],
                    [
                      0.21792326457023795,
                      1.266238514438347,
                      0.029974562277717658,
                      -0.28700152446610344,
                      0.11526818074931468,
                      0.39212829153696904,
                      0.6369624122664106,
                      -0.764044800942558,
                      0.21245482613789834,
                      0.21518889530022642,
                      -0.15465735555751317,
                      0.5288646433290274,
                      0.5045324489148054,
                      -0.5165719260249365,
                      -0.2620059757442455,
                      0.9336839597710148,
                      -0.5951577599475191,
                      -0.33112565027663415,
                      0.11811473972607586,
                      0.02394746249942628,
                      -0.5925779220316019,
                      -0.47024470030005544,
                      -1.0537540816431554,
                      -0.7383282098586229,
                      -0.6685627252998586,
                      -0.34917490177975785,
                      -0.3450741179131881,
                      -0.14688014620960063,
                      -0.8909954557689916,
                      0.03848579848578091,
                      -0.5494206712496098,
                      -0.44347010975032974,
                      -1.0095808639660089,
                      -0.5315052514230699,
                      -0.5158076337117077,
                      -0.6261599077148096,
                      -0.5639902761729733,
                      -0.26500961990899974,
                      -0.7587003231019395,
                      -0.5011959862195848,
                      -0.8307852131065971,
                      -0.5419030621344153,
                      -0.6312683690663746,
                      -0.408749100884705,
                      -0.8643898910829865,
                      -0.9685128937931708,
                      0.283490720731686,
                      -0.6784625122002862,
                      -0.7692183543691886,
                      -0.49048597324709675
                    ],
                    [
                      1.7852792316299104,
                      1.741856814236775,
                      2.04686638249481,
                      1.3848958933963353,
                      3.457264825318611,
                      3.289146242205891,
                      1.9795526883343342,
                      2.505064921123141,
                      3.977274507347881,
                      3.2138988488226854,
                      3.6974129245137397,
                      3.1862901459467596,
                      2.2650720360351255,
                      2.1018329804534077,
                      3.921811406282348,
                      1.6244686227349339,
                      2.321449035595379,
                      3.308130642135474,
                      0.8599581927424822,
                      2.3051469004549725,
                      1.6815725437630178,
                      2.720319102095287,
                      1.459664957105174,
                      1.604771168289786,
                      1.5094233094997258,
                      -0.43111240993619554,
                      -0.20131256783258392,
                      -0.7140158780424576,
                      -0.20885402973275474,
                      -0.15885173386090315,
                      -0.4776848771749631,
                      -0.42107679621149785,
                      -0.05978318373929685,
                      -0.4473493425028488,
                      -0.9206406434065882,
                      -0.5972513737258006,
                      -0.7752713089499229,
                      0.05311832317290797,
                      -0.5344169178285232,
                      0.07209834598839758,
                      0.6111313970302724,
                      -0.4824432057722494,
                      -0.25105020083978474,
                      -0.1426185574854162,
                      -0.5846914380512156,
                      -0.9093125030669195,
                      0.2803306598963079,
                      -0.6255402969621553,
                      -0.9955742777847255,
                      0.905292359828776
                    ],
                    [
                      2.8354942232089595,
                      0.9610466498771936,
                      0.07029760123657001,
                      -1.1153736589961336,
                      0.8238769367477355,
                      -0.3243496626191601,
                      -0.59178777309858,
                      0.23380605930482648,
                      1.888596401410911,
                      0.769383701525477,
                      -0.1329532867841568,
                      2.323205088064958,
                      -0.08948824307200183,
                      0.037002049974713395,
                      0.3105164028488673,
                      3.6847271603296576,
                      -0.923136340212592,
                      1.479286596483244,
                      0.9159072799811496,
                      -1.1429618836460838,
                      -0.5832115692070772,
                      1.8744984967622933,
                      0.835050404320991,
                      -0.10552469385970051,
                      -0.5152451242982788,
                      -1.7700061602371346,
                      -0.7160060419419167,
                      -1.214294145553555,
                      -0.41039581469800657,
                      -0.7265350460910902,
                      -0.5953315794573837,
                      -0.46272835939372514,
                      -0.5734492761068044,
                      -0.5192643919437651,
                      -0.3969880871769145,
                      -0.5974194465978298,
                      -0.4945726931878233,
                      -0.27394101938055065,
                      -0.4650929561985581,
                      -0.28180180486366246,
                      -0.22061041710029877,
                      -0.4977028149271415,
                      -0.95980639792236,
                      -0.5310726949677389,
                      -0.0008357109891269605,
                      -1.1652671335598301,
                      -0.13679737037360615,
                      -0.7458428584055353,
                      -0.34688985296301905,
                      -0.23002239846894265
                    ],
                    [
                      0.8593419568697089,
                      -1.1317568018077817,
                      1.0291720689553345,
                      0.033319204384177493,
                      -0.9723638633412848,
                      -0.9381773744287527,
                      0.4110892164272579,
                      -0.10855281324866944,
                      -0.8612703906587044,
                      -0.09892961834971317,
                      -0.9649425897628184,
                      -0.3313799841789268,
                      -0.7480764015791143,
                      -0.8044303935447545,
                      -0.9886689947278117,
                      -0.9007928202790814,
                      -0.007366505366843099,
                      -0.4806280190701535,
                      -1.2474574265806608,
                      -1.0717711277804427,
                      -0.6924856854931997,
                      -0.26146619645203806,
                      -0.48524263240246185,
                      -0.6162917839133932,
                      -0.7846460517724833,
                      -0.734455525238752,
                      -0.6793875339025176,
                      -0.7047941588256632,
                      -0.6584472423475473,
                      -0.6967992535456995,
                      -0.6383730559021717,
                      -0.5039320563051758,
                      -0.9436765351339513,
                      -0.5144554828626096,
                      -0.8680335159331684,
                      -0.582629033859267,
                      -0.4165361485568662,
                      -0.3687839756736862,
                      -0.697532121663735,
                      -0.6321151298624922,
                      0.18011430708539786,
                      -0.5053326195045876,
                      -0.794101824067406,
                      -0.5205502352616714,
                      -0.8227704456741687,
                      -0.705593511450113,
                      -0.6613674690463769,
                      -0.724019264492904,
                      -0.7373158416730391,
                      -0.9608525465229397
                    ],
                    [
                      0.06223469624772617,
                      -0.40858477491287437,
                      -0.6455288243173687,
                      0.2618791988200547,
                      -0.2044297231197403,
                      -0.226883775946691,
                      1.619962560558403,
                      0.9435744536230497,
                      -0.504115476440045,
                      -0.14829109906613225,
                      -0.9343961226003168,
                      -0.7253882546082775,
                      -1.109654214092823,
                      -0.42800008986499255,
                      -0.5938802116869565,
                      0.5533492134309582,
                      0.1792516305931814,
                      -0.3557013821331031,
                      0.04973252198992668,
                      0.2870437341767959,
                      0.8972966005894751,
                      -0.7486160387640786,
                      0.2440977136629016,
                      0.23201020131564193,
                      1.6382100943410527,
                      -0.5304834304663434,
                      -0.8353552533295882,
                      -0.8131493596229976,
                      -0.9327348786907894,
                      -0.13992895678656359,
                      -0.6842839641099456,
                      -0.5182637769700281,
                      0.21934103249059403,
                      -0.39926025169129387,
                      -0.9212453230327194,
                      -0.5927134061810143,
                      -0.30029663879314195,
                      -0.8595856418722444,
                      -0.4814044765820793,
                      -0.7486869700924781,
                      -0.949358187649665,
                      -0.5071742964715573,
                      -0.6513662010438319,
                      -0.5963996323095742,
                      -0.8791835328159786,
                      -0.3364616633923098,
                      -0.4085626022161259,
                      -0.3712954278800009,
                      -0.2876423293844557,
                      -0.9194848022934682
                    ],
                    [
                      1.3050118644361972,
                      0.17069923975007595,
                      1.2355964335336795,
                      0.3868926764396782,
                      0.30642775213493517,
                      0.340284734796294,
                      0.20689984738866385,
                      0.9811504274398969,
                      0.8894668312549142,
                      -0.05181184130222223,
                      0.9233113935191876,
                      1.1042546819168948,
                      1.6193973708320741,
                      1.3545081128538803,
                      0.4615113158844135,
                      0.6595203970382532,
                      -0.187279798118723,
                      0.8485094788338747,
                      0.8330197433312718,
                      1.0794277994639327,
                      -0.0362165642548292,
                      1.2321031003068554,
                      0.9135947492818762,
                      -0.14005207290761912,
                      0.1435825097199381,
                      -0.5304834304663434,
                      -0.6115754819777043,
                      -0.6194932560703148,
                      -0.32930207873565676,
                      0.9521856057896058,
                      -0.7015005546878608,
                      -0.5128893817207085,
                      -0.022954294097852917,
                      -0.536969920833474,
                      -0.46501454511668155,
                      -0.5861585641718786,
                      -0.4034912336334823,
                      -0.4402351714460933,
                      0.24853606058049388,
                      -0.5860841980793695,
                      -0.46208384700917426,
                      -0.5845247290842863,
                      -0.6324988485751986,
                      -0.6012224263415218,
                      -0.4758102348963937,
                      -0.5105804596459905,
                      -0.5318049747958733,
                      -0.8484137497949024,
                      -0.7494691798430008,
                      0.8879281215102324
                    ],
                    [
                      -0.4899589685920597,
                      0.18645642840948332,
                      0.9082029520787774,
                      -0.6250009269191594,
                      0.14163501818181407,
                      -0.6136367092321269,
                      -0.6459973400999767,
                      0.14195367886364466,
                      -0.5459342480415968,
                      -0.8101836813999335,
                      -0.18279225952297518,
                      -0.46528598751742906,
                      -0.25305915825677483,
                      -0.48335748746495755,
                      -0.527819937233905,
                      -0.7543034656816745,
                      -0.41859688879971146,
                      -0.9946704104012954,
                      -0.46002582840682177,
                      -0.4217685742245882,
                      -0.20605976213954544,
                      -0.2507596065111141,
                      -0.9752097366822701,
                      2.3453239189037647,
                      -0.635270903368087,
                      -0.46249273220887377,
                      -0.2874338737770968,
                      -0.3059548026993044,
                      -0.883840126125255,
                      -0.40755108969508036,
                      -0.41168794662628816,
                      -0.48601740547411026,
                      -0.5133600351128695,
                      -0.5422160034674617,
                      0.14692123652815656,
                      0.9407834782126924,
                      -0.457534452601787,
                      -0.5150888051124245,
                      -0.5507284382120443,
                      -0.7253726020464809,
                      -0.7234636887026524,
                      0.5775734370736185,
                      -0.6210143731595086,
                      -0.313608527709012,
                      1.7385020596978655,
                      -0.6394283688737142,
                      -0.25898638934156076,
                      -0.7272928035797986,
                      -0.5459007654961421,
                      -0.758099528509357
                    ],
                    [
                      0.14417604799641656,
                      -0.0689758930166995,
                      2.0731318482386496,
                      0.8545356853130844,
                      0.6887468949061762,
                      -0.37826696162946216,
                      1.8928173811320994,
                      -0.6930679615107357,
                      0.9866672193017645,
                      -0.208871098127192,
                      0.13794564568329148,
                      -0.1276805487973263,
                      -0.22723217164865278,
                      0.5462901078943914,
                      -0.09842815328907041,
                      1.366432328398217,
                      0.4530327282590856,
                      -0.733553259426313,
                      -0.08910410189861863,
                      -0.3474825681039191,
                      -0.36965872480791184,
                      0.45587532958986776,
                      -1.050013874740256,
                      0.3379735370144267,
                      -0.43858632379748896,
                      -1.0343119380665666,
                      -0.4684920524163482,
                      -0.7278484568676492,
                      -0.6238631490694864,
                      -0.9698278941897418,
                      -0.6268953288502283,
                      -0.4188374648576147,
                      -0.9242929090068756,
                      -0.4777329044246949,
                      -0.4459671368935468,
                      -0.5864947099159369,
                      -0.5677173947225115,
                      -0.4972260061693228,
                      -0.5262611576367625,
                      -0.6105941747431102,
                      -0.5668088829194751,
                      -0.5384828049100429,
                      -0.6378309264467689,
                      -0.5402798472105479,
                      -0.5554986516981112,
                      -0.6794756920120608,
                      -0.48756412310057934,
                      -0.7848525325243637,
                      -0.5702074418360655,
                      -0.7448209933245884
                    ],
                    [
                      -0.03245308799520496,
                      -0.6710663649498447,
                      0.580439534486638,
                      -0.24953957326022302,
                      -0.96577215398316,
                      -0.6022311267491783,
                      0.2701443422236266,
                      -1.0312517258623597,
                      0.04517973973169077,
                      -0.05181184130222223,
                      -0.02041367092230884,
                      0.8056037168952654,
                      -0.507024526569975,
                      -0.1788918006651501,
                      -0.439739571296503,
                      -0.021856692694639714,
                      -0.492350164089302,
                      -0.8164963544418956,
                      -0.5947180754628731,
                      -0.31343481529861245,
                      -0.2635067261299642,
                      0.9537317618428321,
                      -0.3206735286748927,
                      -0.7204692206959064,
                      -0.5932180756647966,
                      -0.9523744299101289,
                      -1.2191714672240312,
                      -0.17339258895788462,
                      -0.3674638368355861,
                      -1.6348283456593895,
                      -0.7531503264216064,
                      -0.5733513282755546,
                      -0.7634088121521468,
                      -0.484727681270012,
                      -0.8870809241563031,
                      -0.5920411146928979,
                      -0.5334744930486288,
                      -0.6873372234923344,
                      -1.011528889046518,
                      -0.9913955194943976,
                      -1.5387610757068126,
                      -0.6074141428166245,
                      -0.31093353693588194,
                      -0.6770718233894245,
                      -0.9129130359672006,
                      -0.6550990605365455,
                      -0.8404375830511379,
                      -0.2318972217630686,
                      -0.8345425470327328,
                      -1.0808700760775793
                    ],
                    [
                      -0.9806966196203277,
                      -0.9227667206409047,
                      -0.9681131359881876,
                      -0.7958947717459848,
                      -0.4549146787284844,
                      -0.5026914978070823,
                      -0.36591457725942733,
                      -0.6680173122995042,
                      -0.7719816621040395,
                      -0.5566451668110537,
                      -0.7430787756351753,
                      -0.8726848582806299,
                      -0.6792044372907887,
                      -1.2251466153044885,
                      -0.5907344843320492,
                      -0.7207049898565812,
                      -0.8208874812883871,
                      -0.6608500526842591,
                      0.1844247690459781,
                      -0.46819732805000636,
                      -0.6643866270196254,
                      -0.2507596065111141,
                      -0.6273704947126353,
                      -0.7311846141935363,
                      -0.620377193556505,
                      1.432530062813419,
                      0.7460217975570577,
                      0.23582120128736786,
                      -0.13372306847351886,
                      1.092754806913271,
                      -0.08744215740888509,
                      -0.4045057441927623,
                      0.128237989693338,
                      -0.257616020573623,
                      1.4007244413113304,
                      1.9377917550894426,
                      -0.4468189867718645,
                      1.916803679569859,
                      0.9173083963048626,
                      2.9110710088202105,
                      0.807599026382655,
                      2.210088519937508,
                      0.5450700413692886,
                      -0.4894212919645553,
                      1.7156212271508378,
                      0.5933327086023452,
                      1.5475150548829406,
                      -0.19261475272033227,
                      1.319636643592981,
                      0.4318615092026018
                    ],
                    [
                      -0.7448876184768742,
                      -0.7743174169549089,
                      -0.8149595751719961,
                      -0.6940319381299953,
                      -0.6625535235094171,
                      -0.800273513498557,
                      -0.851993694705284,
                      -0.48848765961901247,
                      -0.8556192053071433,
                      -0.9874362712452566,
                      -0.9078689274328813,
                      -0.9826500913252788,
                      -0.8040348725633787,
                      -0.39478565130501353,
                      -0.9021614924678633,
                      -0.8752579786520105,
                      -0.7096988314199892,
                      -0.30245396311075373,
                      -0.9304125988948783,
                      -0.731293599727376,
                      -1.0952388569477658,
                      -1.0055741973462538,
                      -1.3006077372345093,
                      -0.9097745058207016,
                      -1.059741632998175,
                      0.9409050138747929,
                      1.508229261191959,
                      1.2778754727851376,
                      0.6128163243563488,
                      1.9442797752585514,
                      0.5983520339447373,
                      2.546932980225277,
                      1.219536140647703,
                      1.029641505741136,
                      1.7033665941900276,
                      -0.09555385071887228,
                      3.994741599731001,
                      0.472468793599059,
                      1.639093173275675,
                      -0.049255928712562194,
                      -0.028470268570655897,
                      -0.1112137485730636,
                      -0.13415464750151276,
                      1.9943176344884446,
                      -0.6487972188941814,
                      -0.5715220383347788,
                      1.4643001195513163,
                      0.11564351129558459,
                      0.8471756222357193,
                      1.92467529170563
                    ],
                    [
                      -1.1213626067889129,
                      -0.746535005371217,
                      -0.8404851686413614,
                      -0.9945693893771709,
                      -1.114085614540969,
                      -0.7961260289593031,
                      -1.2784422884496043,
                      -1.1189289981016697,
                      -0.8883960803461975,
                      -0.867398124957601,
                      -0.528449651098651,
                      -0.8211513357836911,
                      -0.9762147832841923,
                      -1.3137184514644324,
                      -0.8502569911118943,
                      -1.0177155161504061,
                      -0.7538390492069411,
                      -1.054061762387762,
                      -1.2329521076669323,
                      -1.0872473790555819,
                      -1.5673030393038154,
                      -0.8878017079960902,
                      -0.8106406329547009,
                      -0.8526257405000087,
                      -0.997976542308967,
                      1.7515633392523147,
                      3.4544351514341,
                      2.74528154315755,
                      2.269275136881407,
                      1.7090966887631884,
                      2.2482752976616114,
                      2.9065695956589166,
                      -0.03846119499951352,
                      2.68937089906903,
                      2.3515831534027414,
                      0.47623005992419987,
                      1.7535786269117808,
                      3.832801518585894,
                      1.129358161290638,
                      1.8332298399244937,
                      1.5441362624129527,
                      0.23554771463638144,
                      2.423191931670858,
                      2.572176046679981,
                      1.339862727132838,
                      2.564357482194011,
                      -0.34430803189677045,
                      0.8420963936622984,
                      1.8634985266987676,
                      1.4471587379456807
                    ],
                    [
                      -1.156415296148075,
                      -0.681847599295755,
                      -0.866750634385201,
                      -0.9015458925625689,
                      -0.810866984067226,
                      -0.8355271320822161,
                      -1.1989349235142224,
                      -0.9853255356417687,
                      -0.7403350241352975,
                      -0.7922340520485084,
                      -0.6747511517190533,
                      -0.7387788549421277,
                      -0.8556888457796228,
                      -0.743537256184793,
                      -0.6347746673007502,
                      -0.7798383073087454,
                      -0.7784234743034713,
                      -0.838000119816306,
                      -0.8993297726511741,
                      -1.0470091257402196,
                      0.2990988668631584,
                      -1.1768796364010372,
                      -0.575007598072045,
                      -0.7555918993825822,
                      -0.8129002953856316,
                      0.7805167000366595,
                      0.2876123265453199,
                      1.73665600382066,
                      0.2824786058038355,
                      1.9983448526138075,
                      2.845117104362672,
                      1.7694371341570347,
                      0.8105416293664046,
                      1.089971456031996,
                      0.7933237568624767,
                      -0.26497130572422695,
                      1.2404009916222327,
                      -0.5716543350989135,
                      -0.26935471159630386,
                      0.12410732086023749,
                      1.2862184053776662,
                      -0.36510207330532035,
                      0.7156965332595382,
                      -0.3403531127952667,
                      0.9209067932545015,
                      -0.09095416067462,
                      0.1876355420585492,
                      1.051330100299651,
                      2.073143610130607,
                      2.568173535275187
                    ],
                    [
                      -0.865523497440224,
                      -0.9182054291868658,
                      -0.8541728057191369,
                      -0.9049132589630975,
                      -0.32637634624504996,
                      -0.79819977122893,
                      -0.7038208782347998,
                      -0.23798116750669837,
                      -0.4125662737447557,
                      -0.2941318375464613,
                      -0.7880946219799145,
                      -0.6271905188267091,
                      -0.7007269261308905,
                      -0.6272867212248665,
                      -0.519955618846637,
                      -0.3726247803086141,
                      -0.571690808719013,
                      -0.8287842203701301,
                      -1.0029391934635215,
                      -0.3412920675938633,
                      -0.7836515196519077,
                      -0.8235621683505463,
                      -0.31319311486909407,
                      -0.7591636972151256,
                      -0.25789057975991286,
                      0.709039299304448,
                      1.4736451147103042,
                      1.2663483237641446,
                      2.2525793677126877,
                      1.7983040663993606,
                      1.2267575900386425,
                      -0.3319514083269471,
                      1.5509961474206986,
                      2.2049826025308223,
                      0.010263641022491131,
                      1.5197945223530167,
                      -0.3471185655717163,
                      0.204952114189273,
                      1.9204668998914156,
                      1.3675402833134216,
                      2.1465215929383197,
                      1.3239788021154966,
                      1.8407649641608712,
                      0.25328898895537094,
                      1.124664552056913,
                      0.2990719429336248,
                      0.22344956485950143,
                      1.306120559229621,
                      0.5266313280029791,
                      -0.10438702710536245
                    ],
                    [
                      -1.1896470665794883,
                      -0.765194834046831,
                      -0.9603444771062069,
                      -0.5669138565100414,
                      -1.2492156563825283,
                      -1.1009661425944723,
                      -0.6496113112334031,
                      -1.5072140608757565,
                      -0.9449079338618082,
                      -0.8887133098124184,
                      -0.9448462297874884,
                      -0.9952291401237442,
                      -0.8126438680994194,
                      -1.031395723704611,
                      -0.9257544476296674,
                      -0.9639579548302569,
                      -1.0304138315429054,
                      -0.91070332655836,
                      -1.0091557587122622,
                      -1.8734409438326631,
                      -1.0690130690390964,
                      -0.8931550029665521,
                      -1.1360386335069401,
                      -0.38412492479807836,
                      -0.8496965196260107,
                      2.764450408164874,
                      1.5990974107712088,
                      -0.07310639247524527,
                      2.900136700470864,
                      1.8415561282835653,
                      0.2769756764903201,
                      0.5006319890468215,
                      1.640160827605247,
                      0.3065564493564829,
                      1.702157234937765,
                      2.9369849793025713,
                      0.3824648905003965,
                      1.3366880186557923,
                      2.9195475233820884,
                      1.3615622402247043,
                      0.08837171364331611,
                      2.920449635768693,
                      -0.04679060237501477,
                      2.3801411570442506,
                      1.7540846956566172,
                      1.5387977722598316,
                      1.2578428116399447,
                      2.7317468315722593,
                      0.3823104372346837,
                      0.4293079447439925
                    ],
                    [
                      -0.8295603486171877,
                      -1.0973397844727601,
                      -0.70434867013808,
                      -1.1263175997978514,
                      -0.9394053165506605,
                      -0.8313796475429621,
                      -1.4338430471869412,
                      -0.8809478305949712,
                      -0.8330144639008991,
                      -1.0468944184718523,
                      -0.7085130364776078,
                      -0.45351849025434854,
                      -0.8040348725633787,
                      -0.37817843202502405,
                      -0.6851063049792656,
                      -0.6871065140314878,
                      -0.4789404776730128,
                      -1.087853393690407,
                      -1.0464551502047073,
                      -0.0627195446413543,
                      -0.994706669964533,
                      -0.7432627437936166,
                      -0.6311107016155345,
                      -0.7121350257533053,
                      -0.9668749718200752,
                      1.2268146168036391,
                      1.2363029329734576,
                      1.1130372417849372,
                      1.052869097446159,
                      0.6332016493935959,
                      3.1664934618170895,
                      1.768093535344705,
                      2.2100394357412743,
                      -0.1561917563165253,
                      1.600268717934647,
                      0.7364068658252804,
                      2.561897462342889,
                      0.8986241398130584,
                      -0.3631459538015507,
                      0.7643557356618529,
                      1.2697739782512554,
                      0.4255035389438316,
                      1.1082194965743672,
                      -0.3863888740093117,
                      1.6057537812138163,
                      1.5596920278102733,
                      -0.08202298256038512,
                      0.2940513915313453,
                      1.5611842397209699,
                      1.8623683189155618
                    ],
                    [
                      -0.9415468626737312,
                      -1.2184213394345222,
                      -0.725435029960599,
                      -1.2664842262198535,
                      -1.3810498435450251,
                      -0.7722779928585926,
                      -1.6163485894249765,
                      -0.41333571198531827,
                      -0.7312931275727999,
                      -0.8157929405722538,
                      -0.8202487979404425,
                      -0.9359858780406493,
                      -0.6146369707704836,
                      -0.9705025863446495,
                      -0.743302261045049,
                      -0.771774673110723,
                      -0.6901430387295675,
                      -0.9629267567533564,
                      -0.7480600182651471,
                      -0.8024843555930172,
                      -0.6525225801085606,
                      -1.3535383704262827,
                      -1.1958819439533288,
                      -0.7466624048012239,
                      -0.6076737351878027,
                      0.5207573656683784,
                      -0.050091692040250296,
                      0.807567792728622,
                      -0.06693999179864252,
                      -0.4210673590338943,
                      1.2468436123795434,
                      -0.5348348289887637,
                      0.7194385865691485,
                      -0.1684326157958302,
                      0.12182703204370915,
                      -0.5809483051389758,
                      -0.2872517238697581,
                      -0.6380018740304343,
                      -0.3101335125551068,
                      -0.5950512627124454,
                      -0.5572884251094478,
                      -0.5579519614180087,
                      0.4199712913055238,
                      -0.5275652083990497,
                      -0.5702922934311033,
                      0.5759208289769772,
                      0.8786355113945684,
                      -0.18115736591620085,
                      0.3868679390484194,
                      -0.04667647034079106
                    ],
                    [
                      -1.126825363572159,
                      -0.7382417481820551,
                      -0.9725523696350338,
                      -0.7849508309442669,
                      -1.153635870689718,
                      -0.9195136940021097,
                      -0.7742933153366154,
                      -1.4195367886364465,
                      -1.028545477064912,
                      -1.0513818258097085,
                      -0.81462181714735,
                      -0.5606432929251504,
                      -0.6490729529146463,
                      -0.26192789706509756,
                      -0.9619303122111004,
                      -0.7435519534176446,
                      -0.8510592757250377,
                      -0.7908966337580738,
                      -1.0319498312909785,
                      -0.7374841002374317,
                      -0.8460938718154063,
                      -0.6950830890594587,
                      -0.6086694601981387,
                      -0.8603646358038526,
                      -0.8823312661249184,
                      1.0455060881170537,
                      2.53558184785288,
                      2.914730633766147,
                      2.308629449921959,
                      0.5412910178896608,
                      1.7891662155838728,
                      1.652991903755109,
                      0.7446373005343471,
                      3.4124559554536833,
                      2.2306472281764886,
                      2.243684382182444,
                      1.2786039567549998,
                      1.387299282327914,
                      2.2181521468906773,
                      2.576898400160917,
                      2.4909890664284,
                      2.483972194596865,
                      3.885411747989944,
                      2.045176189734437,
                      3.143700775775676,
                      2.102942672121757,
                      0.3066645001911257,
                      3.365722234734198,
                      3.9219701792360326,
                      1.4966978884427022
                    ],
                    [
                      -1.2574762966381265,
                      -1.2026641507751148,
                      -0.8867271857960085,
                      -0.9773116365744619,
                      -0.9855472820575345,
                      -0.9858734466301737,
                      -0.7200837483352187,
                      -1.3360346245990085,
                      -0.9562103045649303,
                      -1.1501047872425467,
                      -0.8716954794772872,
                      -1.04960309299453,
                      -0.8944293256918059,
                      -1.3580043695444044,
                      -0.8109353991755541,
                      -0.7690867950447156,
                      -0.8929645457759414,
                      -0.6997616281236682,
                      -0.9863616861335458,
                      -1.0717711277804427,
                      -1.1745406441954092,
                      -0.45953811035913145,
                      -0.8517829088865932,
                      -0.6585580582651558,
                      -1.0014809446175745,
                      1.681829289757474,
                      1.0091325590253333,
                      1.2709591833725418,
                      1.9174714293976833,
                      1.0467994911613037,
                      0.17654556478581476,
                      2.6320275716728383,
                      0.7698360144995455,
                      2.4141701475610864,
                      1.5884774652250875,
                      2.6368068298585596,
                      1.7393689874416662,
                      1.8274896848543503,
                      2.136594544973071,
                      2.184738773541067,
                      1.7648377843726777,
                      2.868619583983973,
                      1.739045324764761,
                      2.179775986807883,
                      1.364518796687825,
                      3.267797419058881,
                      2.7304311609261562,
                      2.7388394995938645,
                      -0.232952307619628,
                      0.3348260597754464
                    ],
                    [
                      -1.0325928090611651,
                      -1.380554517482635,
                      -0.8745192932671817,
                      -0.7112896909327042,
                      -1.1964819815175296,
                      -1.0677862662804403,
                      -0.6767160947341014,
                      -0.8558971813837398,
                      -0.8601401535883921,
                      -0.834864421758143,
                      -0.8668723530832081,
                      -0.9940118128206669,
                      -0.6792044372907887,
                      -1.518540822584303,
                      -0.9241815839522138,
                      -0.912888271576115,
                      -0.7974205300598809,
                      -0.6393462873098488,
                      -0.8309475549150249,
                      -1.4896299122092063,
                      -1.2170014436665881,
                      -0.7486160387640786,
                      -0.6797333913532254,
                      -0.7532107008275534,
                      -0.5732867875345912,
                      1.1257002450361204,
                      0.3710211504128402,
                      0.9793223131414182,
                      -0.008504799708125722,
                      0.6899699806166146,
                      -0.20508885969130566,
                      0.3076016263420909,
                      3.626982505630512,
                      -0.1290869960409216,
                      -0.5865551499690654,
                      1.0707038082912035,
                      0.04888778031672298,
                      1.8946878332593522,
                      0.648168309976763,
                      0.140248037199774,
                      1.5796216051594183,
                      0.7883139014368701,
                      -0.25022988116723544,
                      2.3038533241752615,
                      0.13901351552675847,
                      0.2921071910834776,
                      3.855412818320773,
                      -0.13069030499324102,
                      -0.8436575506602041,
                      1.2510449875244825
                    ]
                  ]
                }
              ],
              "layout": {
                "coloraxis": {
                  "colorscale": [
                    [
                      0,
                      "#0d0887"
                    ],
                    [
                      0.1111111111111111,
                      "#46039f"
                    ],
                    [
                      0.2222222222222222,
                      "#7201a8"
                    ],
                    [
                      0.3333333333333333,
                      "#9c179e"
                    ],
                    [
                      0.4444444444444444,
                      "#bd3786"
                    ],
                    [
                      0.5555555555555556,
                      "#d8576b"
                    ],
                    [
                      0.6666666666666666,
                      "#ed7953"
                    ],
                    [
                      0.7777777777777778,
                      "#fb9f3a"
                    ],
                    [
                      0.8888888888888888,
                      "#fdca26"
                    ],
                    [
                      1,
                      "#f0f921"
                    ]
                  ]
                },
                "margin": {
                  "t": 60
                },
                "template": {
                  "data": {
                    "bar": [
                      {
                        "error_x": {
                          "color": "#2a3f5f"
                        },
                        "error_y": {
                          "color": "#2a3f5f"
                        },
                        "marker": {
                          "line": {
                            "color": "#E5ECF6",
                            "width": 0.5
                          },
                          "pattern": {
                            "fillmode": "overlay",
                            "size": 10,
                            "solidity": 0.2
                          }
                        },
                        "type": "bar"
                      }
                    ],
                    "barpolar": [
                      {
                        "marker": {
                          "line": {
                            "color": "#E5ECF6",
                            "width": 0.5
                          },
                          "pattern": {
                            "fillmode": "overlay",
                            "size": 10,
                            "solidity": 0.2
                          }
                        },
                        "type": "barpolar"
                      }
                    ],
                    "carpet": [
                      {
                        "aaxis": {
                          "endlinecolor": "#2a3f5f",
                          "gridcolor": "white",
                          "linecolor": "white",
                          "minorgridcolor": "white",
                          "startlinecolor": "#2a3f5f"
                        },
                        "baxis": {
                          "endlinecolor": "#2a3f5f",
                          "gridcolor": "white",
                          "linecolor": "white",
                          "minorgridcolor": "white",
                          "startlinecolor": "#2a3f5f"
                        },
                        "type": "carpet"
                      }
                    ],
                    "choropleth": [
                      {
                        "colorbar": {
                          "outlinewidth": 0,
                          "ticks": ""
                        },
                        "type": "choropleth"
                      }
                    ],
                    "contour": [
                      {
                        "colorbar": {
                          "outlinewidth": 0,
                          "ticks": ""
                        },
                        "colorscale": [
                          [
                            0,
                            "#0d0887"
                          ],
                          [
                            0.1111111111111111,
                            "#46039f"
                          ],
                          [
                            0.2222222222222222,
                            "#7201a8"
                          ],
                          [
                            0.3333333333333333,
                            "#9c179e"
                          ],
                          [
                            0.4444444444444444,
                            "#bd3786"
                          ],
                          [
                            0.5555555555555556,
                            "#d8576b"
                          ],
                          [
                            0.6666666666666666,
                            "#ed7953"
                          ],
                          [
                            0.7777777777777778,
                            "#fb9f3a"
                          ],
                          [
                            0.8888888888888888,
                            "#fdca26"
                          ],
                          [
                            1,
                            "#f0f921"
                          ]
                        ],
                        "type": "contour"
                      }
                    ],
                    "contourcarpet": [
                      {
                        "colorbar": {
                          "outlinewidth": 0,
                          "ticks": ""
                        },
                        "type": "contourcarpet"
                      }
                    ],
                    "heatmap": [
                      {
                        "colorbar": {
                          "outlinewidth": 0,
                          "ticks": ""
                        },
                        "colorscale": [
                          [
                            0,
                            "#0d0887"
                          ],
                          [
                            0.1111111111111111,
                            "#46039f"
                          ],
                          [
                            0.2222222222222222,
                            "#7201a8"
                          ],
                          [
                            0.3333333333333333,
                            "#9c179e"
                          ],
                          [
                            0.4444444444444444,
                            "#bd3786"
                          ],
                          [
                            0.5555555555555556,
                            "#d8576b"
                          ],
                          [
                            0.6666666666666666,
                            "#ed7953"
                          ],
                          [
                            0.7777777777777778,
                            "#fb9f3a"
                          ],
                          [
                            0.8888888888888888,
                            "#fdca26"
                          ],
                          [
                            1,
                            "#f0f921"
                          ]
                        ],
                        "type": "heatmap"
                      }
                    ],
                    "heatmapgl": [
                      {
                        "colorbar": {
                          "outlinewidth": 0,
                          "ticks": ""
                        },
                        "colorscale": [
                          [
                            0,
                            "#0d0887"
                          ],
                          [
                            0.1111111111111111,
                            "#46039f"
                          ],
                          [
                            0.2222222222222222,
                            "#7201a8"
                          ],
                          [
                            0.3333333333333333,
                            "#9c179e"
                          ],
                          [
                            0.4444444444444444,
                            "#bd3786"
                          ],
                          [
                            0.5555555555555556,
                            "#d8576b"
                          ],
                          [
                            0.6666666666666666,
                            "#ed7953"
                          ],
                          [
                            0.7777777777777778,
                            "#fb9f3a"
                          ],
                          [
                            0.8888888888888888,
                            "#fdca26"
                          ],
                          [
                            1,
                            "#f0f921"
                          ]
                        ],
                        "type": "heatmapgl"
                      }
                    ],
                    "histogram": [
                      {
                        "marker": {
                          "pattern": {
                            "fillmode": "overlay",
                            "size": 10,
                            "solidity": 0.2
                          }
                        },
                        "type": "histogram"
                      }
                    ],
                    "histogram2d": [
                      {
                        "colorbar": {
                          "outlinewidth": 0,
                          "ticks": ""
                        },
                        "colorscale": [
                          [
                            0,
                            "#0d0887"
                          ],
                          [
                            0.1111111111111111,
                            "#46039f"
                          ],
                          [
                            0.2222222222222222,
                            "#7201a8"
                          ],
                          [
                            0.3333333333333333,
                            "#9c179e"
                          ],
                          [
                            0.4444444444444444,
                            "#bd3786"
                          ],
                          [
                            0.5555555555555556,
                            "#d8576b"
                          ],
                          [
                            0.6666666666666666,
                            "#ed7953"
                          ],
                          [
                            0.7777777777777778,
                            "#fb9f3a"
                          ],
                          [
                            0.8888888888888888,
                            "#fdca26"
                          ],
                          [
                            1,
                            "#f0f921"
                          ]
                        ],
                        "type": "histogram2d"
                      }
                    ],
                    "histogram2dcontour": [
                      {
                        "colorbar": {
                          "outlinewidth": 0,
                          "ticks": ""
                        },
                        "colorscale": [
                          [
                            0,
                            "#0d0887"
                          ],
                          [
                            0.1111111111111111,
                            "#46039f"
                          ],
                          [
                            0.2222222222222222,
                            "#7201a8"
                          ],
                          [
                            0.3333333333333333,
                            "#9c179e"
                          ],
                          [
                            0.4444444444444444,
                            "#bd3786"
                          ],
                          [
                            0.5555555555555556,
                            "#d8576b"
                          ],
                          [
                            0.6666666666666666,
                            "#ed7953"
                          ],
                          [
                            0.7777777777777778,
                            "#fb9f3a"
                          ],
                          [
                            0.8888888888888888,
                            "#fdca26"
                          ],
                          [
                            1,
                            "#f0f921"
                          ]
                        ],
                        "type": "histogram2dcontour"
                      }
                    ],
                    "mesh3d": [
                      {
                        "colorbar": {
                          "outlinewidth": 0,
                          "ticks": ""
                        },
                        "type": "mesh3d"
                      }
                    ],
                    "parcoords": [
                      {
                        "line": {
                          "colorbar": {
                            "outlinewidth": 0,
                            "ticks": ""
                          }
                        },
                        "type": "parcoords"
                      }
                    ],
                    "pie": [
                      {
                        "automargin": true,
                        "type": "pie"
                      }
                    ],
                    "scatter": [
                      {
                        "fillpattern": {
                          "fillmode": "overlay",
                          "size": 10,
                          "solidity": 0.2
                        },
                        "type": "scatter"
                      }
                    ],
                    "scatter3d": [
                      {
                        "line": {
                          "colorbar": {
                            "outlinewidth": 0,
                            "ticks": ""
                          }
                        },
                        "marker": {
                          "colorbar": {
                            "outlinewidth": 0,
                            "ticks": ""
                          }
                        },
                        "type": "scatter3d"
                      }
                    ],
                    "scattercarpet": [
                      {
                        "marker": {
                          "colorbar": {
                            "outlinewidth": 0,
                            "ticks": ""
                          }
                        },
                        "type": "scattercarpet"
                      }
                    ],
                    "scattergeo": [
                      {
                        "marker": {
                          "colorbar": {
                            "outlinewidth": 0,
                            "ticks": ""
                          }
                        },
                        "type": "scattergeo"
                      }
                    ],
                    "scattergl": [
                      {
                        "marker": {
                          "colorbar": {
                            "outlinewidth": 0,
                            "ticks": ""
                          }
                        },
                        "type": "scattergl"
                      }
                    ],
                    "scattermapbox": [
                      {
                        "marker": {
                          "colorbar": {
                            "outlinewidth": 0,
                            "ticks": ""
                          }
                        },
                        "type": "scattermapbox"
                      }
                    ],
                    "scatterpolar": [
                      {
                        "marker": {
                          "colorbar": {
                            "outlinewidth": 0,
                            "ticks": ""
                          }
                        },
                        "type": "scatterpolar"
                      }
                    ],
                    "scatterpolargl": [
                      {
                        "marker": {
                          "colorbar": {
                            "outlinewidth": 0,
                            "ticks": ""
                          }
                        },
                        "type": "scatterpolargl"
                      }
                    ],
                    "scatterternary": [
                      {
                        "marker": {
                          "colorbar": {
                            "outlinewidth": 0,
                            "ticks": ""
                          }
                        },
                        "type": "scatterternary"
                      }
                    ],
                    "surface": [
                      {
                        "colorbar": {
                          "outlinewidth": 0,
                          "ticks": ""
                        },
                        "colorscale": [
                          [
                            0,
                            "#0d0887"
                          ],
                          [
                            0.1111111111111111,
                            "#46039f"
                          ],
                          [
                            0.2222222222222222,
                            "#7201a8"
                          ],
                          [
                            0.3333333333333333,
                            "#9c179e"
                          ],
                          [
                            0.4444444444444444,
                            "#bd3786"
                          ],
                          [
                            0.5555555555555556,
                            "#d8576b"
                          ],
                          [
                            0.6666666666666666,
                            "#ed7953"
                          ],
                          [
                            0.7777777777777778,
                            "#fb9f3a"
                          ],
                          [
                            0.8888888888888888,
                            "#fdca26"
                          ],
                          [
                            1,
                            "#f0f921"
                          ]
                        ],
                        "type": "surface"
                      }
                    ],
                    "table": [
                      {
                        "cells": {
                          "fill": {
                            "color": "#EBF0F8"
                          },
                          "line": {
                            "color": "white"
                          }
                        },
                        "header": {
                          "fill": {
                            "color": "#C8D4E3"
                          },
                          "line": {
                            "color": "white"
                          }
                        },
                        "type": "table"
                      }
                    ]
                  },
                  "layout": {
                    "annotationdefaults": {
                      "arrowcolor": "#2a3f5f",
                      "arrowhead": 0,
                      "arrowwidth": 1
                    },
                    "autotypenumbers": "strict",
                    "coloraxis": {
                      "colorbar": {
                        "outlinewidth": 0,
                        "ticks": ""
                      }
                    },
                    "colorscale": {
                      "diverging": [
                        [
                          0,
                          "#8e0152"
                        ],
                        [
                          0.1,
                          "#c51b7d"
                        ],
                        [
                          0.2,
                          "#de77ae"
                        ],
                        [
                          0.3,
                          "#f1b6da"
                        ],
                        [
                          0.4,
                          "#fde0ef"
                        ],
                        [
                          0.5,
                          "#f7f7f7"
                        ],
                        [
                          0.6,
                          "#e6f5d0"
                        ],
                        [
                          0.7,
                          "#b8e186"
                        ],
                        [
                          0.8,
                          "#7fbc41"
                        ],
                        [
                          0.9,
                          "#4d9221"
                        ],
                        [
                          1,
                          "#276419"
                        ]
                      ],
                      "sequential": [
                        [
                          0,
                          "#0d0887"
                        ],
                        [
                          0.1111111111111111,
                          "#46039f"
                        ],
                        [
                          0.2222222222222222,
                          "#7201a8"
                        ],
                        [
                          0.3333333333333333,
                          "#9c179e"
                        ],
                        [
                          0.4444444444444444,
                          "#bd3786"
                        ],
                        [
                          0.5555555555555556,
                          "#d8576b"
                        ],
                        [
                          0.6666666666666666,
                          "#ed7953"
                        ],
                        [
                          0.7777777777777778,
                          "#fb9f3a"
                        ],
                        [
                          0.8888888888888888,
                          "#fdca26"
                        ],
                        [
                          1,
                          "#f0f921"
                        ]
                      ],
                      "sequentialminus": [
                        [
                          0,
                          "#0d0887"
                        ],
                        [
                          0.1111111111111111,
                          "#46039f"
                        ],
                        [
                          0.2222222222222222,
                          "#7201a8"
                        ],
                        [
                          0.3333333333333333,
                          "#9c179e"
                        ],
                        [
                          0.4444444444444444,
                          "#bd3786"
                        ],
                        [
                          0.5555555555555556,
                          "#d8576b"
                        ],
                        [
                          0.6666666666666666,
                          "#ed7953"
                        ],
                        [
                          0.7777777777777778,
                          "#fb9f3a"
                        ],
                        [
                          0.8888888888888888,
                          "#fdca26"
                        ],
                        [
                          1,
                          "#f0f921"
                        ]
                      ]
                    },
                    "colorway": [
                      "#636efa",
                      "#EF553B",
                      "#00cc96",
                      "#ab63fa",
                      "#FFA15A",
                      "#19d3f3",
                      "#FF6692",
                      "#B6E880",
                      "#FF97FF",
                      "#FECB52"
                    ],
                    "font": {
                      "color": "#2a3f5f"
                    },
                    "geo": {
                      "bgcolor": "white",
                      "lakecolor": "white",
                      "landcolor": "#E5ECF6",
                      "showlakes": true,
                      "showland": true,
                      "subunitcolor": "white"
                    },
                    "hoverlabel": {
                      "align": "left"
                    },
                    "hovermode": "closest",
                    "mapbox": {
                      "style": "light"
                    },
                    "paper_bgcolor": "white",
                    "plot_bgcolor": "#E5ECF6",
                    "polar": {
                      "angularaxis": {
                        "gridcolor": "white",
                        "linecolor": "white",
                        "ticks": ""
                      },
                      "bgcolor": "#E5ECF6",
                      "radialaxis": {
                        "gridcolor": "white",
                        "linecolor": "white",
                        "ticks": ""
                      }
                    },
                    "scene": {
                      "xaxis": {
                        "backgroundcolor": "#E5ECF6",
                        "gridcolor": "white",
                        "gridwidth": 2,
                        "linecolor": "white",
                        "showbackground": true,
                        "ticks": "",
                        "zerolinecolor": "white"
                      },
                      "yaxis": {
                        "backgroundcolor": "#E5ECF6",
                        "gridcolor": "white",
                        "gridwidth": 2,
                        "linecolor": "white",
                        "showbackground": true,
                        "ticks": "",
                        "zerolinecolor": "white"
                      },
                      "zaxis": {
                        "backgroundcolor": "#E5ECF6",
                        "gridcolor": "white",
                        "gridwidth": 2,
                        "linecolor": "white",
                        "showbackground": true,
                        "ticks": "",
                        "zerolinecolor": "white"
                      }
                    },
                    "shapedefaults": {
                      "line": {
                        "color": "#2a3f5f"
                      }
                    },
                    "ternary": {
                      "aaxis": {
                        "gridcolor": "white",
                        "linecolor": "white",
                        "ticks": ""
                      },
                      "baxis": {
                        "gridcolor": "white",
                        "linecolor": "white",
                        "ticks": ""
                      },
                      "bgcolor": "#E5ECF6",
                      "caxis": {
                        "gridcolor": "white",
                        "linecolor": "white",
                        "ticks": ""
                      }
                    },
                    "title": {
                      "x": 0.05
                    },
                    "xaxis": {
                      "automargin": true,
                      "gridcolor": "white",
                      "linecolor": "white",
                      "ticks": "",
                      "title": {
                        "standoff": 15
                      },
                      "zerolinecolor": "white",
                      "zerolinewidth": 2
                    },
                    "yaxis": {
                      "automargin": true,
                      "gridcolor": "white",
                      "linecolor": "white",
                      "ticks": "",
                      "title": {
                        "standoff": 15
                      },
                      "zerolinecolor": "white",
                      "zerolinewidth": 2
                    }
                  }
                },
                "title": {
                  "text": "Visualización de Matriz"
                },
                "xaxis": {
                  "anchor": "y",
                  "constrain": "domain",
                  "domain": [
                    0,
                    1
                  ],
                  "scaleanchor": "y",
                  "scaleratio": 1
                },
                "yaxis": {
                  "anchor": "x",
                  "autorange": "reversed",
                  "constrain": "domain",
                  "domain": [
                    0,
                    1
                  ]
                }
              }
            }
          },
          "metadata": {},
          "output_type": "display_data"
        }
      ],
      "source": [
        "fig = px.imshow(x_scaled)\n",
        "\n",
        "# Configurar el layout para mantener la misma escala en ambos ejes\n",
        "fig.update_layout(\n",
        "    title=\"Visualización de Matriz\",\n",
        "    xaxis=dict(scaleanchor='y', scaleratio=1),\n",
        "    yaxis=dict(constrain='domain')  # Establece la misma longitud de dominio para el eje Y\n",
        ")\n",
        "\n",
        "fig.show()"
      ]
    },
    {
      "cell_type": "code",
      "execution_count": 22,
      "id": "66a1def2",
      "metadata": {
        "id": "66a1def2",
        "outputId": "c0889609-7507-4c01-dbdf-82bffd15f2ee"
      },
      "outputs": [
        {
          "data": {
            "application/vnd.plotly.v1+json": {
              "config": {
                "plotlyServerURL": "https://plot.ly"
              },
              "data": [
                {
                  "hovertemplate": "Cluster ID=0<br>PC1=%{x}<br>PC2=%{y}<br>PC3=%{z}<extra></extra>",
                  "legendgroup": "0",
                  "marker": {
                    "color": "#636efa",
                    "symbol": "circle"
                  },
                  "mode": "markers",
                  "name": "0",
                  "scene": "scene",
                  "showlegend": true,
                  "type": "scatter3d",
                  "x": [
                    -3.8356666629582707,
                    -0.3296243595099794,
                    -4.3310328624497325,
                    -2.8165537241353373,
                    -2.7249520057624093,
                    -2.4458901861553786,
                    -1.1572398477278791,
                    -1.6676391050666464,
                    -6.146037723727867,
                    -1.2616178754185703,
                    -3.622837600991239,
                    1.8667311124086072,
                    -5.443768582007645,
                    -1.7004160917321889,
                    -5.911209503282984,
                    -4.207960234150628,
                    -4.321597549694013,
                    -1.1718987355897126,
                    -1.8232078191411403,
                    -9.523006065769883,
                    -4.025726643938185,
                    -0.6080829595120503,
                    -2.1090203448432336,
                    -3.7665713263438128,
                    -0.03257478362781,
                    -2.9026062177098497,
                    -1.8667236762876858
                  ],
                  "y": [
                    -0.30691351725222676,
                    -0.17555403586370788,
                    1.4304596601061237,
                    -0.6392960355764226,
                    1.1457882257643457,
                    -1.809173925410265,
                    -1.600469895935399,
                    -1.5658582327297594,
                    3.3731631118658396,
                    -2.2087235450508285,
                    -0.7215771457033217,
                    -4.151695193739911,
                    1.5048345553093514,
                    -0.5437934186061881,
                    2.9392192847122973,
                    0.09806686667573046,
                    3.870166754360786,
                    -2.5555323224423545,
                    -2.1018232283966793,
                    8.02662986961446,
                    -0.15523915469020874,
                    -4.147407929835111,
                    -2.4061645149029958,
                    1.0749753204845287,
                    -2.480709280091377,
                    -1.9003317470986938,
                    -3.6385435563031985
                  ],
                  "z": [
                    -2.444154983636483,
                    2.2098466985399323,
                    4.397086393755609,
                    -1.2697776914903725,
                    -1.784771216177771,
                    3.2010303969402405,
                    -0.6476907869540958,
                    -0.9691901790195834,
                    3.759815646444331,
                    2.4846995032250665,
                    2.0678931472547815,
                    -0.07221141919620294,
                    -0.1955804391879485,
                    0.5988713571514964,
                    -1.6600710719261784,
                    -0.7227983511985414,
                    1.6433307796831413,
                    -0.5215156367025374,
                    -0.9010789967135149,
                    -2.021516226249634,
                    -2.8319445325465358,
                    -0.5485864996242887,
                    2.446598223042954,
                    -1.8336187967488462,
                    -0.6724467670613232,
                    -1.9227842098076544,
                    -1.0924662306217867
                  ]
                },
                {
                  "hovertemplate": "Cluster ID=1<br>PC1=%{x}<br>PC2=%{y}<br>PC3=%{z}<extra></extra>",
                  "legendgroup": "1",
                  "marker": {
                    "color": "#EF553B",
                    "symbol": "circle"
                  },
                  "mode": "markers",
                  "name": "1",
                  "scene": "scene",
                  "showlegend": true,
                  "type": "scatter3d",
                  "x": [
                    5.125786642304213,
                    6.208656455830101,
                    10.146916352866304,
                    5.615566187003189,
                    5.923941921391538,
                    8.725686435271536,
                    6.716462603608306,
                    2.9889408413133496,
                    10.92923583069544,
                    9.76542162408725,
                    5.740116480754296
                  ],
                  "y": [
                    0.438011151781315,
                    0.11829385100499355,
                    3.036493421522457,
                    -0.06598387308885297,
                    1.552281145803784,
                    1.0508590655723375,
                    0.8246084168290763,
                    -3.2771342574231923,
                    4.591828233085044,
                    2.4072241855100094,
                    -1.0309783098617733
                  ],
                  "z": [
                    0.5301042285167099,
                    -1.0521102723531208,
                    -0.4845939188444072,
                    0.2679054264218531,
                    0.7004694847097581,
                    -0.047196982834186975,
                    -0.6733282737722153,
                    0.3409321951027708,
                    0.2973104075057723,
                    -0.020841130068358228,
                    -0.555619275558829
                  ]
                },
                {
                  "marker": {
                    "color": "black",
                    "size": 5,
                    "symbol": "x"
                  },
                  "mode": "markers",
                  "name": "Centroides",
                  "type": "scatter3d",
                  "x": [
                    -2.884693754634278,
                    7.08061194319323
                  ],
                  "y": [
                    -0.3572408529901921,
                    0.8768639118850178
                  ],
                  "z": [
                    0.025813633747194586,
                    -0.06336073737947757
                  ]
                }
              ],
              "layout": {
                "height": 600,
                "legend": {
                  "title": {
                    "text": "Cluster ID"
                  },
                  "tracegroupgap": 0
                },
                "scene": {
                  "domain": {
                    "x": [
                      0,
                      1
                    ],
                    "y": [
                      0,
                      1
                    ]
                  },
                  "xaxis": {
                    "title": {
                      "text": "PC1"
                    }
                  },
                  "yaxis": {
                    "title": {
                      "text": "PC2"
                    }
                  },
                  "zaxis": {
                    "title": {
                      "text": "PC3"
                    }
                  }
                },
                "template": {
                  "data": {
                    "bar": [
                      {
                        "error_x": {
                          "color": "#2a3f5f"
                        },
                        "error_y": {
                          "color": "#2a3f5f"
                        },
                        "marker": {
                          "line": {
                            "color": "#E5ECF6",
                            "width": 0.5
                          },
                          "pattern": {
                            "fillmode": "overlay",
                            "size": 10,
                            "solidity": 0.2
                          }
                        },
                        "type": "bar"
                      }
                    ],
                    "barpolar": [
                      {
                        "marker": {
                          "line": {
                            "color": "#E5ECF6",
                            "width": 0.5
                          },
                          "pattern": {
                            "fillmode": "overlay",
                            "size": 10,
                            "solidity": 0.2
                          }
                        },
                        "type": "barpolar"
                      }
                    ],
                    "carpet": [
                      {
                        "aaxis": {
                          "endlinecolor": "#2a3f5f",
                          "gridcolor": "white",
                          "linecolor": "white",
                          "minorgridcolor": "white",
                          "startlinecolor": "#2a3f5f"
                        },
                        "baxis": {
                          "endlinecolor": "#2a3f5f",
                          "gridcolor": "white",
                          "linecolor": "white",
                          "minorgridcolor": "white",
                          "startlinecolor": "#2a3f5f"
                        },
                        "type": "carpet"
                      }
                    ],
                    "choropleth": [
                      {
                        "colorbar": {
                          "outlinewidth": 0,
                          "ticks": ""
                        },
                        "type": "choropleth"
                      }
                    ],
                    "contour": [
                      {
                        "colorbar": {
                          "outlinewidth": 0,
                          "ticks": ""
                        },
                        "colorscale": [
                          [
                            0,
                            "#0d0887"
                          ],
                          [
                            0.1111111111111111,
                            "#46039f"
                          ],
                          [
                            0.2222222222222222,
                            "#7201a8"
                          ],
                          [
                            0.3333333333333333,
                            "#9c179e"
                          ],
                          [
                            0.4444444444444444,
                            "#bd3786"
                          ],
                          [
                            0.5555555555555556,
                            "#d8576b"
                          ],
                          [
                            0.6666666666666666,
                            "#ed7953"
                          ],
                          [
                            0.7777777777777778,
                            "#fb9f3a"
                          ],
                          [
                            0.8888888888888888,
                            "#fdca26"
                          ],
                          [
                            1,
                            "#f0f921"
                          ]
                        ],
                        "type": "contour"
                      }
                    ],
                    "contourcarpet": [
                      {
                        "colorbar": {
                          "outlinewidth": 0,
                          "ticks": ""
                        },
                        "type": "contourcarpet"
                      }
                    ],
                    "heatmap": [
                      {
                        "colorbar": {
                          "outlinewidth": 0,
                          "ticks": ""
                        },
                        "colorscale": [
                          [
                            0,
                            "#0d0887"
                          ],
                          [
                            0.1111111111111111,
                            "#46039f"
                          ],
                          [
                            0.2222222222222222,
                            "#7201a8"
                          ],
                          [
                            0.3333333333333333,
                            "#9c179e"
                          ],
                          [
                            0.4444444444444444,
                            "#bd3786"
                          ],
                          [
                            0.5555555555555556,
                            "#d8576b"
                          ],
                          [
                            0.6666666666666666,
                            "#ed7953"
                          ],
                          [
                            0.7777777777777778,
                            "#fb9f3a"
                          ],
                          [
                            0.8888888888888888,
                            "#fdca26"
                          ],
                          [
                            1,
                            "#f0f921"
                          ]
                        ],
                        "type": "heatmap"
                      }
                    ],
                    "heatmapgl": [
                      {
                        "colorbar": {
                          "outlinewidth": 0,
                          "ticks": ""
                        },
                        "colorscale": [
                          [
                            0,
                            "#0d0887"
                          ],
                          [
                            0.1111111111111111,
                            "#46039f"
                          ],
                          [
                            0.2222222222222222,
                            "#7201a8"
                          ],
                          [
                            0.3333333333333333,
                            "#9c179e"
                          ],
                          [
                            0.4444444444444444,
                            "#bd3786"
                          ],
                          [
                            0.5555555555555556,
                            "#d8576b"
                          ],
                          [
                            0.6666666666666666,
                            "#ed7953"
                          ],
                          [
                            0.7777777777777778,
                            "#fb9f3a"
                          ],
                          [
                            0.8888888888888888,
                            "#fdca26"
                          ],
                          [
                            1,
                            "#f0f921"
                          ]
                        ],
                        "type": "heatmapgl"
                      }
                    ],
                    "histogram": [
                      {
                        "marker": {
                          "pattern": {
                            "fillmode": "overlay",
                            "size": 10,
                            "solidity": 0.2
                          }
                        },
                        "type": "histogram"
                      }
                    ],
                    "histogram2d": [
                      {
                        "colorbar": {
                          "outlinewidth": 0,
                          "ticks": ""
                        },
                        "colorscale": [
                          [
                            0,
                            "#0d0887"
                          ],
                          [
                            0.1111111111111111,
                            "#46039f"
                          ],
                          [
                            0.2222222222222222,
                            "#7201a8"
                          ],
                          [
                            0.3333333333333333,
                            "#9c179e"
                          ],
                          [
                            0.4444444444444444,
                            "#bd3786"
                          ],
                          [
                            0.5555555555555556,
                            "#d8576b"
                          ],
                          [
                            0.6666666666666666,
                            "#ed7953"
                          ],
                          [
                            0.7777777777777778,
                            "#fb9f3a"
                          ],
                          [
                            0.8888888888888888,
                            "#fdca26"
                          ],
                          [
                            1,
                            "#f0f921"
                          ]
                        ],
                        "type": "histogram2d"
                      }
                    ],
                    "histogram2dcontour": [
                      {
                        "colorbar": {
                          "outlinewidth": 0,
                          "ticks": ""
                        },
                        "colorscale": [
                          [
                            0,
                            "#0d0887"
                          ],
                          [
                            0.1111111111111111,
                            "#46039f"
                          ],
                          [
                            0.2222222222222222,
                            "#7201a8"
                          ],
                          [
                            0.3333333333333333,
                            "#9c179e"
                          ],
                          [
                            0.4444444444444444,
                            "#bd3786"
                          ],
                          [
                            0.5555555555555556,
                            "#d8576b"
                          ],
                          [
                            0.6666666666666666,
                            "#ed7953"
                          ],
                          [
                            0.7777777777777778,
                            "#fb9f3a"
                          ],
                          [
                            0.8888888888888888,
                            "#fdca26"
                          ],
                          [
                            1,
                            "#f0f921"
                          ]
                        ],
                        "type": "histogram2dcontour"
                      }
                    ],
                    "mesh3d": [
                      {
                        "colorbar": {
                          "outlinewidth": 0,
                          "ticks": ""
                        },
                        "type": "mesh3d"
                      }
                    ],
                    "parcoords": [
                      {
                        "line": {
                          "colorbar": {
                            "outlinewidth": 0,
                            "ticks": ""
                          }
                        },
                        "type": "parcoords"
                      }
                    ],
                    "pie": [
                      {
                        "automargin": true,
                        "type": "pie"
                      }
                    ],
                    "scatter": [
                      {
                        "fillpattern": {
                          "fillmode": "overlay",
                          "size": 10,
                          "solidity": 0.2
                        },
                        "type": "scatter"
                      }
                    ],
                    "scatter3d": [
                      {
                        "line": {
                          "colorbar": {
                            "outlinewidth": 0,
                            "ticks": ""
                          }
                        },
                        "marker": {
                          "colorbar": {
                            "outlinewidth": 0,
                            "ticks": ""
                          }
                        },
                        "type": "scatter3d"
                      }
                    ],
                    "scattercarpet": [
                      {
                        "marker": {
                          "colorbar": {
                            "outlinewidth": 0,
                            "ticks": ""
                          }
                        },
                        "type": "scattercarpet"
                      }
                    ],
                    "scattergeo": [
                      {
                        "marker": {
                          "colorbar": {
                            "outlinewidth": 0,
                            "ticks": ""
                          }
                        },
                        "type": "scattergeo"
                      }
                    ],
                    "scattergl": [
                      {
                        "marker": {
                          "colorbar": {
                            "outlinewidth": 0,
                            "ticks": ""
                          }
                        },
                        "type": "scattergl"
                      }
                    ],
                    "scattermapbox": [
                      {
                        "marker": {
                          "colorbar": {
                            "outlinewidth": 0,
                            "ticks": ""
                          }
                        },
                        "type": "scattermapbox"
                      }
                    ],
                    "scatterpolar": [
                      {
                        "marker": {
                          "colorbar": {
                            "outlinewidth": 0,
                            "ticks": ""
                          }
                        },
                        "type": "scatterpolar"
                      }
                    ],
                    "scatterpolargl": [
                      {
                        "marker": {
                          "colorbar": {
                            "outlinewidth": 0,
                            "ticks": ""
                          }
                        },
                        "type": "scatterpolargl"
                      }
                    ],
                    "scatterternary": [
                      {
                        "marker": {
                          "colorbar": {
                            "outlinewidth": 0,
                            "ticks": ""
                          }
                        },
                        "type": "scatterternary"
                      }
                    ],
                    "surface": [
                      {
                        "colorbar": {
                          "outlinewidth": 0,
                          "ticks": ""
                        },
                        "colorscale": [
                          [
                            0,
                            "#0d0887"
                          ],
                          [
                            0.1111111111111111,
                            "#46039f"
                          ],
                          [
                            0.2222222222222222,
                            "#7201a8"
                          ],
                          [
                            0.3333333333333333,
                            "#9c179e"
                          ],
                          [
                            0.4444444444444444,
                            "#bd3786"
                          ],
                          [
                            0.5555555555555556,
                            "#d8576b"
                          ],
                          [
                            0.6666666666666666,
                            "#ed7953"
                          ],
                          [
                            0.7777777777777778,
                            "#fb9f3a"
                          ],
                          [
                            0.8888888888888888,
                            "#fdca26"
                          ],
                          [
                            1,
                            "#f0f921"
                          ]
                        ],
                        "type": "surface"
                      }
                    ],
                    "table": [
                      {
                        "cells": {
                          "fill": {
                            "color": "#EBF0F8"
                          },
                          "line": {
                            "color": "white"
                          }
                        },
                        "header": {
                          "fill": {
                            "color": "#C8D4E3"
                          },
                          "line": {
                            "color": "white"
                          }
                        },
                        "type": "table"
                      }
                    ]
                  },
                  "layout": {
                    "annotationdefaults": {
                      "arrowcolor": "#2a3f5f",
                      "arrowhead": 0,
                      "arrowwidth": 1
                    },
                    "autotypenumbers": "strict",
                    "coloraxis": {
                      "colorbar": {
                        "outlinewidth": 0,
                        "ticks": ""
                      }
                    },
                    "colorscale": {
                      "diverging": [
                        [
                          0,
                          "#8e0152"
                        ],
                        [
                          0.1,
                          "#c51b7d"
                        ],
                        [
                          0.2,
                          "#de77ae"
                        ],
                        [
                          0.3,
                          "#f1b6da"
                        ],
                        [
                          0.4,
                          "#fde0ef"
                        ],
                        [
                          0.5,
                          "#f7f7f7"
                        ],
                        [
                          0.6,
                          "#e6f5d0"
                        ],
                        [
                          0.7,
                          "#b8e186"
                        ],
                        [
                          0.8,
                          "#7fbc41"
                        ],
                        [
                          0.9,
                          "#4d9221"
                        ],
                        [
                          1,
                          "#276419"
                        ]
                      ],
                      "sequential": [
                        [
                          0,
                          "#0d0887"
                        ],
                        [
                          0.1111111111111111,
                          "#46039f"
                        ],
                        [
                          0.2222222222222222,
                          "#7201a8"
                        ],
                        [
                          0.3333333333333333,
                          "#9c179e"
                        ],
                        [
                          0.4444444444444444,
                          "#bd3786"
                        ],
                        [
                          0.5555555555555556,
                          "#d8576b"
                        ],
                        [
                          0.6666666666666666,
                          "#ed7953"
                        ],
                        [
                          0.7777777777777778,
                          "#fb9f3a"
                        ],
                        [
                          0.8888888888888888,
                          "#fdca26"
                        ],
                        [
                          1,
                          "#f0f921"
                        ]
                      ],
                      "sequentialminus": [
                        [
                          0,
                          "#0d0887"
                        ],
                        [
                          0.1111111111111111,
                          "#46039f"
                        ],
                        [
                          0.2222222222222222,
                          "#7201a8"
                        ],
                        [
                          0.3333333333333333,
                          "#9c179e"
                        ],
                        [
                          0.4444444444444444,
                          "#bd3786"
                        ],
                        [
                          0.5555555555555556,
                          "#d8576b"
                        ],
                        [
                          0.6666666666666666,
                          "#ed7953"
                        ],
                        [
                          0.7777777777777778,
                          "#fb9f3a"
                        ],
                        [
                          0.8888888888888888,
                          "#fdca26"
                        ],
                        [
                          1,
                          "#f0f921"
                        ]
                      ]
                    },
                    "colorway": [
                      "#636efa",
                      "#EF553B",
                      "#00cc96",
                      "#ab63fa",
                      "#FFA15A",
                      "#19d3f3",
                      "#FF6692",
                      "#B6E880",
                      "#FF97FF",
                      "#FECB52"
                    ],
                    "font": {
                      "color": "#2a3f5f"
                    },
                    "geo": {
                      "bgcolor": "white",
                      "lakecolor": "white",
                      "landcolor": "#E5ECF6",
                      "showlakes": true,
                      "showland": true,
                      "subunitcolor": "white"
                    },
                    "hoverlabel": {
                      "align": "left"
                    },
                    "hovermode": "closest",
                    "mapbox": {
                      "style": "light"
                    },
                    "paper_bgcolor": "white",
                    "plot_bgcolor": "#E5ECF6",
                    "polar": {
                      "angularaxis": {
                        "gridcolor": "white",
                        "linecolor": "white",
                        "ticks": ""
                      },
                      "bgcolor": "#E5ECF6",
                      "radialaxis": {
                        "gridcolor": "white",
                        "linecolor": "white",
                        "ticks": ""
                      }
                    },
                    "scene": {
                      "xaxis": {
                        "backgroundcolor": "#E5ECF6",
                        "gridcolor": "white",
                        "gridwidth": 2,
                        "linecolor": "white",
                        "showbackground": true,
                        "ticks": "",
                        "zerolinecolor": "white"
                      },
                      "yaxis": {
                        "backgroundcolor": "#E5ECF6",
                        "gridcolor": "white",
                        "gridwidth": 2,
                        "linecolor": "white",
                        "showbackground": true,
                        "ticks": "",
                        "zerolinecolor": "white"
                      },
                      "zaxis": {
                        "backgroundcolor": "#E5ECF6",
                        "gridcolor": "white",
                        "gridwidth": 2,
                        "linecolor": "white",
                        "showbackground": true,
                        "ticks": "",
                        "zerolinecolor": "white"
                      }
                    },
                    "shapedefaults": {
                      "line": {
                        "color": "#2a3f5f"
                      }
                    },
                    "ternary": {
                      "aaxis": {
                        "gridcolor": "white",
                        "linecolor": "white",
                        "ticks": ""
                      },
                      "baxis": {
                        "gridcolor": "white",
                        "linecolor": "white",
                        "ticks": ""
                      },
                      "bgcolor": "#E5ECF6",
                      "caxis": {
                        "gridcolor": "white",
                        "linecolor": "white",
                        "ticks": ""
                      }
                    },
                    "title": {
                      "x": 0.05
                    },
                    "xaxis": {
                      "automargin": true,
                      "gridcolor": "white",
                      "linecolor": "white",
                      "ticks": "",
                      "title": {
                        "standoff": 15
                      },
                      "zerolinecolor": "white",
                      "zerolinewidth": 2
                    },
                    "yaxis": {
                      "automargin": true,
                      "gridcolor": "white",
                      "linecolor": "white",
                      "ticks": "",
                      "title": {
                        "standoff": 15
                      },
                      "zerolinecolor": "white",
                      "zerolinewidth": 2
                    }
                  }
                },
                "title": {
                  "text": "Clustering de K-means aplicado al conjunto de datos Leucemia en R3"
                },
                "width": 800
              }
            }
          },
          "metadata": {},
          "output_type": "display_data"
        }
      ],
      "source": [
        "pca_3d = PCA(n_components=3)\n",
        "X_pca_3d = pca_3d.fit_transform(x_scaled)\n",
        "\n",
        "# Aplicar K-means con 2 clusters al conjunto de datos reducido a 3 dimensiones\n",
        "kmeans = KMeans(n_clusters=2, random_state=0)\n",
        "kmeans_labels = kmeans.fit_predict(X_pca_3d)\n",
        "\n",
        "# Crear un DataFrame con los datos reducidos y las etiquetas de clustering\n",
        "dataset_pca_3d = pd.DataFrame(X_pca_3d, columns=['PC1', 'PC2', 'PC3'])\n",
        "dataset_pca_3d['Cluster'] = kmeans_labels.astype(str)  # Convertir a string para mejorar la visualización de colores categóricos\n",
        "\n",
        "# Crear una visualización 3D de los datos y los clusters\n",
        "fig = px.scatter_3d(dataset_pca_3d, x='PC1', y='PC2', z='PC3', color='Cluster',\n",
        "                    title='Clustering de K-means aplicado al conjunto de datos Leucemia en R3',\n",
        "                    labels={'Cluster': 'Cluster ID'}, width=800, height=600)\n",
        "\n",
        "# Añadir los centroides de los clusters al gráfico\n",
        "centroids = pd.DataFrame(kmeans.cluster_centers_, columns=['PC1', 'PC2', 'PC3'])\n",
        "fig.add_scatter3d(x=centroids['PC1'], y=centroids['PC2'], z=centroids['PC3'], mode='markers',\n",
        "                  marker=dict(size=5, color='black', symbol='x'), name='Centroides')\n",
        "\n",
        "fig.update_layout(legend_title_text='Cluster ID')\n",
        "fig.show()"
      ]
    }
  ],
  "metadata": {
    "colab": {
      "provenance": []
    },
    "kernelspec": {
      "display_name": "Python 3 (ipykernel)",
      "language": "python",
      "name": "python3"
    },
    "language_info": {
      "codemirror_mode": {
        "name": "ipython",
        "version": 3
      },
      "file_extension": ".py",
      "mimetype": "text/x-python",
      "name": "python",
      "nbconvert_exporter": "python",
      "pygments_lexer": "ipython3",
      "version": "3.11.7"
    },
    "varInspector": {
      "cols": {
        "lenName": 16,
        "lenType": 16,
        "lenVar": 40
      },
      "kernels_config": {
        "python": {
          "delete_cmd_postfix": "",
          "delete_cmd_prefix": "del ",
          "library": "var_list.py",
          "varRefreshCmd": "print(var_dic_list())"
        },
        "r": {
          "delete_cmd_postfix": ") ",
          "delete_cmd_prefix": "rm(",
          "library": "var_list.r",
          "varRefreshCmd": "cat(var_dic_list()) "
        }
      },
      "types_to_exclude": [
        "module",
        "function",
        "builtin_function_or_method",
        "instance",
        "_Feature"
      ],
      "window_display": false
    }
  },
  "nbformat": 4,
  "nbformat_minor": 5
}
