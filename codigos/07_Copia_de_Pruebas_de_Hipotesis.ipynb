{
  "cells": [
    {
      "cell_type": "code",
      "execution_count": 1,
      "id": "55724b4e",
      "metadata": {
        "ExecuteTime": {
          "end_time": "2023-09-01T21:40:00.694634Z",
          "start_time": "2023-09-01T21:39:59.721760Z"
        },
        "id": "55724b4e"
      },
      "outputs": [],
      "source": [
        "import numpy as np\n",
        "from scipy import stats\n",
        "import plotly.express as px\n",
        "from plotly.subplots import make_subplots\n",
        "import plotly.graph_objects as go\n",
        "import scikit_posthocs as sp"
      ]
    },
    {
      "cell_type": "markdown",
      "id": "aa960d58",
      "metadata": {
        "id": "aa960d58"
      },
      "source": [
        "# Pruebas de Hipótesis\n",
        "\n",
        "La presente guía aborda el uso de pruebas de hipótesis mediante herramientas estadísticas y la programación en Python. El objetivo central es evaluar la validez de distintas afirmaciones utilizando evidencia cuantitativa. A lo largo de esta guía, se detallará el proceso y se ofrecerán ejemplos prácticos acompañados de explicaciones minuciosas. Antes de profundizar en los ejemplos, es esencial entender la estructura y el fundamento de las pruebas de hipótesis.\n",
        "\n",
        "## Definición de hipótesis\n",
        "\n",
        "Antes de realizar una prueba de hipótesis, es importante entender qué pregunta científica se busca responder, y esta pregunta debe ser formulada en forma de hipótesis nula ($H₀$) y hipótesis alternativa ($H₁$). Es importante recordar que $H₀$ y $H₁$ deben ser mutuamente excluyentes, y $H₁$ no debe contener igualdad.\n",
        "\n",
        "La hipótesis nula ($H₀$) es la afirmación que se asume como verdadera hasta que se demuestre lo contrario. Por otro lado, la hipótesis alternativa ($H₁$) es la afirmación que se quiere probar, y se utiliza la evidencia estadística para aceptar o rechazar esta afirmación.\n",
        "\n",
        "Para construir las hipótesis nula y alternativa, se pueden utilizar operadores matemáticos, como el signo de igualdad ($=$), mayor que ($>$), menor que ($<$), mayor o igual que ($≥$), y menor o igual que ($≤$). A continuación se presentan algunos ejemplos de hipótesis:\n",
        "\n",
        "- $H₀: μ = x, H₁: μ ≠ x$\n",
        "\n",
        "Se puede utilizar esta hipótesis para probar si la media de una población es igual a un valor específico $x$. La hipótesis nula establece que la media es igual a $x$, mientras que la hipótesis alternativa establece que la media no es igual a $x$.\n",
        "\n",
        "- $H₀: μ ≤ x, H₁: μ > x$\n",
        "\n",
        "Esta hipótesis se utiliza para probar si la media de una población es menor o igual a un valor específico $x$. La hipótesis nula establece que la media es menor o igual a $x$, mientras que la hipótesis alternativa establece que la media es mayor que $x$.\n",
        "\n",
        "- $H₀: μ ≥ x, H₁: μ < x$\n",
        "\n",
        "Se utiliza esta hipótesis para probar si la media de una población es mayor o igual a un valor específico $x$. La hipótesis nula establece que la media es mayor o igual a $x$, mientras que la hipótesis alternativa establece que la media es menor que $x$."
      ]
    },
    {
      "cell_type": "markdown",
      "id": "731d3c8a",
      "metadata": {
        "id": "731d3c8a"
      },
      "source": [
        "## Verificación de supuestos\n",
        "\n",
        "Antes de realizar una prueba estadística, es importante verificar si se cumplen ciertos supuestos, lo que nos permitirá determinar si se deben utilizar pruebas paramétricas o no paramétricas.\n",
        "\n",
        "A continuación, se enumeran los supuestos que se deben verificar antes de utilizar una prueba paramétrica:\n",
        "\n",
        "1. Las observaciones en cada muestra son independientes e idénticamente distribuidas (IID, por sus siglas en inglés).\n",
        "2. Las observaciones en cada muestra siguen una distribución normal.\n",
        "3. Las observaciones en cada muestra tienen la misma varianza.\n",
        "\n",
        "Si los supuestos anteriores se cumplen, entonces se puede utilizar una prueba paramétrica para analizar los datos. De lo contrario, se debe considerar el uso de una prueba no paramétrica.\n",
        "\n",
        "Es importante tener en cuenta que la verificación de supuestos no garantiza que la prueba sea adecuada para los datos, pero ayuda a tomar una decisión informada sobre qué prueba utilizar."
      ]
    },
    {
      "cell_type": "markdown",
      "id": "bc443fb8",
      "metadata": {
        "id": "bc443fb8"
      },
      "source": [
        "## Selección de la prueba adecuada\n",
        "\n",
        "Una vez que se han verificado los supuestos y se han identificado las variables relevantes, el siguiente paso es seleccionar la prueba adecuada para el análisis. Al elegir la prueba adecuada, es esencial analizar cuántos grupos se están comparando y si los datos están emparejados o no. Para determinar si los datos están emparejados, es necesario considerar si los datos se recopilaron de los mismos individuos. Podrás elegir la prueba adecuada según corresponda, haciendo uso de la información presentada en el cuadro que se encuentra a continuación."
      ]
    },
    {
      "cell_type": "code",
      "execution_count": 2,
      "id": "54694f8c",
      "metadata": {
        "id": "54694f8c"
      },
      "outputs": [
        {
          "data": {
            "text/html": [
              "\n",
              "<svg width=\"1400\" height=\"500\" xmlns=\"http://www.w3.org/2000/svg\">\n",
              "  <g>\n",
              "    <!-- Nodes -->\n",
              "    <rect x=\"20\" y=\"200\" width=\"180\" height=\"50\" style=\"fill:lightblue;stroke:black;stroke-width:1;\" />\n",
              "    <text x=\"55\" y=\"230\" font-family=\"Verdana\" font-size=\"15\">Datos Continuos</text>\n",
              "\n",
              "    <rect x=\"220\" y=\"200\" width=\"180\" height=\"50\" style=\"fill:lightblue;stroke:black;stroke-width:1;\" />\n",
              "    <text x=\"255\" y=\"230\" font-family=\"Verdana\" font-size=\"15\">No Pareados</text>\n",
              "\n",
              "    <rect x=\"420\" y=\"100\" width=\"180\" height=\"50\" style=\"fill:lightblue;stroke:black;stroke-width:1;\" />\n",
              "    <text x=\"465\" y=\"130\" font-family=\"Verdana\" font-size=\"15\">2 Grupos</text>\n",
              "\n",
              "    <rect x=\"420\" y=\"300\" width=\"180\" height=\"50\" style=\"fill:lightblue;stroke:black;stroke-width:1;\" />\n",
              "    <text x=\"455\" y=\"330\" font-family=\"Verdana\" font-size=\"15\">Más de 2 Grupos</text>\n",
              "\n",
              "    <rect x=\"620\" y=\"60\" width=\"420\" height=\"50\" style=\"fill:lightblue;stroke:black;stroke-width:1;\" />\n",
              "    <text x=\"675\" y=\"90\" font-family=\"Verdana\" font-size=\"15\">Paramétrica > Prueba T Independiente</text>\n",
              "\n",
              "    <rect x=\"620\" y=\"140\" width=\"420\" height=\"50\" style=\"fill:lightblue;stroke:black;stroke-width:1;\" />\n",
              "    <text x=\"675\" y=\"170\" font-family=\"Verdana\" font-size=\"15\">No Paramétrica > Prueba U de Mann-Whitney</text>\n",
              "\n",
              "    <rect x=\"620\" y=\"260\" width=\"420\" height=\"50\" style=\"fill:lightblue;stroke:black;stroke-width:1;\" />\n",
              "    <text x=\"675\" y=\"290\" font-family=\"Verdana\" font-size=\"15\">Paramétrica > Análisis de Varianza</text>\n",
              "\n",
              "    <rect x=\"620\" y=\"340\" width=\"420\" height=\"50\" style=\"fill:lightblue;stroke:black;stroke-width:1;\" />\n",
              "    <text x=\"675\" y=\"370\" font-family=\"Verdana\" font-size=\"15\">No Paramétrica > Prueba de Kruskal-Wallis</text>\n",
              "\n",
              "    <!-- Edges -->\n",
              "    <line x1=\"200\" y1=\"225\" x2=\"220\" y2=\"225\" style=\"stroke:black;stroke-width:2\" />\n",
              "    <line x1=\"400\" y1=\"125\" x2=\"420\" y2=\"125\" style=\"stroke:black;stroke-width:2\" />\n",
              "    <line x1=\"400\" y1=\"225\" x2=\"420\" y2=\"225\" style=\"stroke:black;stroke-width:2\" />\n",
              "    <line x1=\"400\" y1=\"325\" x2=\"420\" y2=\"325\" style=\"stroke:black;stroke-width:2\" />\n",
              "\n",
              "    <line x1=\"600\" y1=\"85\" x2=\"620\" y2=\"85\" style=\"stroke:black;stroke-width:2\" />\n",
              "    <line x1=\"600\" y1=\"165\" x2=\"620\" y2=\"165\" style=\"stroke:black;stroke-width:2\" />\n",
              "    <line x1=\"600\" y1=\"285\" x2=\"620\" y2=\"285\" style=\"stroke:black;stroke-width:2\" />\n",
              "    <line x1=\"600\" y1=\"365\" x2=\"620\" y2=\"365\" style=\"stroke:black;stroke-width:2\" />\n",
              "  </g>\n",
              "</svg>\n"
            ],
            "text/plain": [
              "<IPython.core.display.HTML object>"
            ]
          },
          "metadata": {},
          "output_type": "display_data"
        }
      ],
      "source": [
        "from IPython.display import display, HTML\n",
        "\n",
        "svg_code = '''\n",
        "<svg width=\"1400\" height=\"500\" xmlns=\"http://www.w3.org/2000/svg\">\n",
        "  <g>\n",
        "    <!-- Nodes -->\n",
        "    <rect x=\"20\" y=\"200\" width=\"180\" height=\"50\" style=\"fill:lightblue;stroke:black;stroke-width:1;\" />\n",
        "    <text x=\"55\" y=\"230\" font-family=\"Verdana\" font-size=\"15\">Datos Continuos</text>\n",
        "\n",
        "    <rect x=\"220\" y=\"200\" width=\"180\" height=\"50\" style=\"fill:lightblue;stroke:black;stroke-width:1;\" />\n",
        "    <text x=\"255\" y=\"230\" font-family=\"Verdana\" font-size=\"15\">No Pareados</text>\n",
        "\n",
        "    <rect x=\"420\" y=\"100\" width=\"180\" height=\"50\" style=\"fill:lightblue;stroke:black;stroke-width:1;\" />\n",
        "    <text x=\"465\" y=\"130\" font-family=\"Verdana\" font-size=\"15\">2 Grupos</text>\n",
        "\n",
        "    <rect x=\"420\" y=\"300\" width=\"180\" height=\"50\" style=\"fill:lightblue;stroke:black;stroke-width:1;\" />\n",
        "    <text x=\"455\" y=\"330\" font-family=\"Verdana\" font-size=\"15\">Más de 2 Grupos</text>\n",
        "\n",
        "    <rect x=\"620\" y=\"60\" width=\"420\" height=\"50\" style=\"fill:lightblue;stroke:black;stroke-width:1;\" />\n",
        "    <text x=\"675\" y=\"90\" font-family=\"Verdana\" font-size=\"15\">Paramétrica > Prueba T Independiente</text>\n",
        "\n",
        "    <rect x=\"620\" y=\"140\" width=\"420\" height=\"50\" style=\"fill:lightblue;stroke:black;stroke-width:1;\" />\n",
        "    <text x=\"675\" y=\"170\" font-family=\"Verdana\" font-size=\"15\">No Paramétrica > Prueba U de Mann-Whitney</text>\n",
        "\n",
        "    <rect x=\"620\" y=\"260\" width=\"420\" height=\"50\" style=\"fill:lightblue;stroke:black;stroke-width:1;\" />\n",
        "    <text x=\"675\" y=\"290\" font-family=\"Verdana\" font-size=\"15\">Paramétrica > Análisis de Varianza</text>\n",
        "\n",
        "    <rect x=\"620\" y=\"340\" width=\"420\" height=\"50\" style=\"fill:lightblue;stroke:black;stroke-width:1;\" />\n",
        "    <text x=\"675\" y=\"370\" font-family=\"Verdana\" font-size=\"15\">No Paramétrica > Prueba de Kruskal-Wallis</text>\n",
        "\n",
        "    <!-- Edges -->\n",
        "    <line x1=\"200\" y1=\"225\" x2=\"220\" y2=\"225\" style=\"stroke:black;stroke-width:2\" />\n",
        "    <line x1=\"400\" y1=\"125\" x2=\"420\" y2=\"125\" style=\"stroke:black;stroke-width:2\" />\n",
        "    <line x1=\"400\" y1=\"225\" x2=\"420\" y2=\"225\" style=\"stroke:black;stroke-width:2\" />\n",
        "    <line x1=\"400\" y1=\"325\" x2=\"420\" y2=\"325\" style=\"stroke:black;stroke-width:2\" />\n",
        "\n",
        "    <line x1=\"600\" y1=\"85\" x2=\"620\" y2=\"85\" style=\"stroke:black;stroke-width:2\" />\n",
        "    <line x1=\"600\" y1=\"165\" x2=\"620\" y2=\"165\" style=\"stroke:black;stroke-width:2\" />\n",
        "    <line x1=\"600\" y1=\"285\" x2=\"620\" y2=\"285\" style=\"stroke:black;stroke-width:2\" />\n",
        "    <line x1=\"600\" y1=\"365\" x2=\"620\" y2=\"365\" style=\"stroke:black;stroke-width:2\" />\n",
        "  </g>\n",
        "</svg>\n",
        "'''\n",
        "\n",
        "display(HTML(svg_code))"
      ]
    },
    {
      "cell_type": "code",
      "execution_count": 3,
      "id": "3059be88",
      "metadata": {
        "id": "3059be88"
      },
      "outputs": [
        {
          "data": {
            "text/html": [
              "\n",
              "<svg width=\"1400\" height=\"500\" xmlns=\"http://www.w3.org/2000/svg\">\n",
              "  <g>\n",
              "    <!-- Nodes -->\n",
              "    <rect x=\"20\" y=\"200\" width=\"180\" height=\"50\" style=\"fill:lightblue;stroke:black;stroke-width:1;\" />\n",
              "    <text x=\"55\" y=\"230\" font-family=\"Verdana\" font-size=\"15\">Datos Continuos</text>\n",
              "\n",
              "    <rect x=\"220\" y=\"200\" width=\"180\" height=\"50\" style=\"fill:lightblue;stroke:black;stroke-width:1;\" />\n",
              "    <text x=\"255\" y=\"230\" font-family=\"Verdana\" font-size=\"15\">Pareados</text>\n",
              "\n",
              "    <rect x=\"420\" y=\"100\" width=\"180\" height=\"50\" style=\"fill:lightblue;stroke:black;stroke-width:1;\" />\n",
              "    <text x=\"465\" y=\"130\" font-family=\"Verdana\" font-size=\"15\">2 Grupos</text>\n",
              "\n",
              "    <rect x=\"420\" y=\"300\" width=\"180\" height=\"50\" style=\"fill:lightblue;stroke:black;stroke-width:1;\" />\n",
              "    <text x=\"455\" y=\"330\" font-family=\"Verdana\" font-size=\"15\">Más de 2 Grupos</text>\n",
              "\n",
              "    <rect x=\"620\" y=\"60\" width=\"520\" height=\"50\" style=\"fill:lightblue;stroke:black;stroke-width:1;\" />\n",
              "    <text x=\"675\" y=\"90\" font-family=\"Verdana\" font-size=\"15\">Paramétrica > Prueba T Pareada</text>\n",
              "\n",
              "    <rect x=\"620\" y=\"140\" width=\"520\" height=\"50\" style=\"fill:lightblue;stroke:black;stroke-width:1;\" />\n",
              "    <text x=\"675\" y=\"170\" font-family=\"Verdana\" font-size=\"15\">No Paramétrica > Prueba de Wilcoxon de Rangos con Signo</text>\n",
              "\n",
              "    <rect x=\"620\" y=\"260\" width=\"520\" height=\"50\" style=\"fill:lightblue;stroke:black;stroke-width:1;\" />\n",
              "    <text x=\"675\" y=\"290\" font-family=\"Verdana\" font-size=\"15\">Paramétrica > Análisis de Varianza</text>\n",
              "\n",
              "    <rect x=\"620\" y=\"340\" width=\"520\" height=\"50\" style=\"fill:lightblue;stroke:black;stroke-width:1;\" />\n",
              "    <text x=\"675\" y=\"370\" font-family=\"Verdana\" font-size=\"15\">No Paramétrica > Prueba de Friedman</text>\n",
              "\n",
              "    <!-- Edges -->\n",
              "    <line x1=\"200\" y1=\"225\" x2=\"220\" y2=\"225\" style=\"stroke:black;stroke-width:2\" />\n",
              "    <line x1=\"400\" y1=\"125\" x2=\"420\" y2=\"125\" style=\"stroke:black;stroke-width:2\" />\n",
              "    <line x1=\"400\" y1=\"225\" x2=\"420\" y2=\"225\" style=\"stroke:black;stroke-width:2\" />\n",
              "    <line x1=\"400\" y1=\"325\" x2=\"420\" y2=\"325\" style=\"stroke:black;stroke-width:2\" />\n",
              "\n",
              "    <line x1=\"600\" y1=\"85\" x2=\"620\" y2=\"85\" style=\"stroke:black;stroke-width:2\" />\n",
              "    <line x1=\"600\" y1=\"165\" x2=\"620\" y2=\"165\" style=\"stroke:black;stroke-width:2\" />\n",
              "    <line x1=\"600\" y1=\"285\" x2=\"620\" y2=\"285\" style=\"stroke:black;stroke-width:2\" />\n",
              "    <line x1=\"600\" y1=\"365\" x2=\"620\" y2=\"365\" style=\"stroke:black;stroke-width:2\" />\n",
              "  </g>\n",
              "</svg>\n"
            ],
            "text/plain": [
              "<IPython.core.display.HTML object>"
            ]
          },
          "metadata": {},
          "output_type": "display_data"
        }
      ],
      "source": [
        "from IPython.display import display, HTML\n",
        "\n",
        "svg_code = '''\n",
        "<svg width=\"1400\" height=\"500\" xmlns=\"http://www.w3.org/2000/svg\">\n",
        "  <g>\n",
        "    <!-- Nodes -->\n",
        "    <rect x=\"20\" y=\"200\" width=\"180\" height=\"50\" style=\"fill:lightblue;stroke:black;stroke-width:1;\" />\n",
        "    <text x=\"55\" y=\"230\" font-family=\"Verdana\" font-size=\"15\">Datos Continuos</text>\n",
        "\n",
        "    <rect x=\"220\" y=\"200\" width=\"180\" height=\"50\" style=\"fill:lightblue;stroke:black;stroke-width:1;\" />\n",
        "    <text x=\"255\" y=\"230\" font-family=\"Verdana\" font-size=\"15\">Pareados</text>\n",
        "\n",
        "    <rect x=\"420\" y=\"100\" width=\"180\" height=\"50\" style=\"fill:lightblue;stroke:black;stroke-width:1;\" />\n",
        "    <text x=\"465\" y=\"130\" font-family=\"Verdana\" font-size=\"15\">2 Grupos</text>\n",
        "\n",
        "    <rect x=\"420\" y=\"300\" width=\"180\" height=\"50\" style=\"fill:lightblue;stroke:black;stroke-width:1;\" />\n",
        "    <text x=\"455\" y=\"330\" font-family=\"Verdana\" font-size=\"15\">Más de 2 Grupos</text>\n",
        "\n",
        "    <rect x=\"620\" y=\"60\" width=\"520\" height=\"50\" style=\"fill:lightblue;stroke:black;stroke-width:1;\" />\n",
        "    <text x=\"675\" y=\"90\" font-family=\"Verdana\" font-size=\"15\">Paramétrica > Prueba T Pareada</text>\n",
        "\n",
        "    <rect x=\"620\" y=\"140\" width=\"520\" height=\"50\" style=\"fill:lightblue;stroke:black;stroke-width:1;\" />\n",
        "    <text x=\"675\" y=\"170\" font-family=\"Verdana\" font-size=\"15\">No Paramétrica > Prueba de Wilcoxon de Rangos con Signo</text>\n",
        "\n",
        "    <rect x=\"620\" y=\"260\" width=\"520\" height=\"50\" style=\"fill:lightblue;stroke:black;stroke-width:1;\" />\n",
        "    <text x=\"675\" y=\"290\" font-family=\"Verdana\" font-size=\"15\">Paramétrica > Análisis de Varianza</text>\n",
        "\n",
        "    <rect x=\"620\" y=\"340\" width=\"520\" height=\"50\" style=\"fill:lightblue;stroke:black;stroke-width:1;\" />\n",
        "    <text x=\"675\" y=\"370\" font-family=\"Verdana\" font-size=\"15\">No Paramétrica > Prueba de Friedman</text>\n",
        "\n",
        "    <!-- Edges -->\n",
        "    <line x1=\"200\" y1=\"225\" x2=\"220\" y2=\"225\" style=\"stroke:black;stroke-width:2\" />\n",
        "    <line x1=\"400\" y1=\"125\" x2=\"420\" y2=\"125\" style=\"stroke:black;stroke-width:2\" />\n",
        "    <line x1=\"400\" y1=\"225\" x2=\"420\" y2=\"225\" style=\"stroke:black;stroke-width:2\" />\n",
        "    <line x1=\"400\" y1=\"325\" x2=\"420\" y2=\"325\" style=\"stroke:black;stroke-width:2\" />\n",
        "\n",
        "    <line x1=\"600\" y1=\"85\" x2=\"620\" y2=\"85\" style=\"stroke:black;stroke-width:2\" />\n",
        "    <line x1=\"600\" y1=\"165\" x2=\"620\" y2=\"165\" style=\"stroke:black;stroke-width:2\" />\n",
        "    <line x1=\"600\" y1=\"285\" x2=\"620\" y2=\"285\" style=\"stroke:black;stroke-width:2\" />\n",
        "    <line x1=\"600\" y1=\"365\" x2=\"620\" y2=\"365\" style=\"stroke:black;stroke-width:2\" />\n",
        "  </g>\n",
        "</svg>\n",
        "'''\n",
        "\n",
        "display(HTML(svg_code))"
      ]
    },
    {
      "cell_type": "markdown",
      "id": "f1362ee8",
      "metadata": {
        "ExecuteTime": {
          "end_time": "2023-03-14T21:08:27.187585Z",
          "start_time": "2023-03-14T21:08:27.180935Z"
        },
        "id": "f1362ee8"
      },
      "source": [
        "## Nivel de significancia $\\alpha$\n",
        "\n",
        "El nivel de significancia ($\\alpha$) es un valor numérico que se utiliza en las pruebas de hipótesis estadísticas para determinar si una diferencia o relación entre dos o más grupos o variables es estadísticamente significativa o simplemente se debe al azar.\n",
        "\n",
        "Se establece previamente antes de realizar la prueba y generalmente se fija en un valor común de $0.05$ ($5$%), lo que significa que existe un $5$% de probabilidad de que los resultados observados se deban al azar."
      ]
    },
    {
      "cell_type": "markdown",
      "id": "7f6df94b",
      "metadata": {
        "id": "7f6df94b"
      },
      "source": [
        "## Decisión y Conclusión\n",
        "\n",
        "La toma de decisiones y conclusiones es una etapa fundamental en el proceso de prueba de hipótesis. Después de realizar la prueba, se obtiene un valor $p$ que muestra la significancia de la prueba.\n",
        "\n",
        "Si el valor $p$ es menor que el nivel de significancia ($\\alpha$), es decir, hay suficiente evidencia para demostrar que $H₀$ no es válida, se puede rechazar $H₀$. De lo contrario, no se puede rechazar $H₀$. Es importante recordar que al rechazar $H₀$ se está validando $H₁$. Sin embargo, al no rechazar $H₀$, no significa que $H₀$ sea válida, ni que $H₁$ sea incorrecta."
      ]
    },
    {
      "cell_type": "code",
      "execution_count": 4,
      "id": "033a3d53",
      "metadata": {
        "ExecuteTime": {
          "end_time": "2023-09-01T22:14:15.748215Z",
          "start_time": "2023-09-01T22:14:15.380201Z"
        },
        "id": "033a3d53"
      },
      "outputs": [
        {
          "data": {
            "application/vnd.plotly.v1+json": {
              "config": {
                "plotlyServerURL": "https://plot.ly"
              },
              "data": [
                {
                  "mode": "lines",
                  "name": "Distribución normal",
                  "type": "scatter",
                  "x": [
                    -4,
                    -3.9839679358717435,
                    -3.967935871743487,
                    -3.9519038076152304,
                    -3.935871743486974,
                    -3.9198396793587174,
                    -3.903807615230461,
                    -3.8877755511022043,
                    -3.8717434869739478,
                    -3.8557114228456912,
                    -3.8396793587174347,
                    -3.823647294589178,
                    -3.8076152304609217,
                    -3.791583166332665,
                    -3.775551102204409,
                    -3.7595190380761525,
                    -3.743486973947896,
                    -3.7274549098196395,
                    -3.711422845691383,
                    -3.6953907815631264,
                    -3.67935871743487,
                    -3.6633266533066133,
                    -3.647294589178357,
                    -3.6312625250501003,
                    -3.6152304609218437,
                    -3.599198396793587,
                    -3.5831663326653307,
                    -3.567134268537074,
                    -3.5511022044088176,
                    -3.535070140280561,
                    -3.5190380761523046,
                    -3.503006012024048,
                    -3.4869739478957915,
                    -3.470941883767535,
                    -3.4549098196392785,
                    -3.438877755511022,
                    -3.422845691382766,
                    -3.4068136272545093,
                    -3.390781563126253,
                    -3.3747494989979963,
                    -3.3587174348697397,
                    -3.342685370741483,
                    -3.3266533066132267,
                    -3.31062124248497,
                    -3.2945891783567136,
                    -3.278557114228457,
                    -3.2625250501002006,
                    -3.246492985971944,
                    -3.2304609218436875,
                    -3.214428857715431,
                    -3.1983967935871744,
                    -3.182364729458918,
                    -3.1663326653306614,
                    -3.150300601202405,
                    -3.1342685370741483,
                    -3.118236472945892,
                    -3.1022044088176353,
                    -3.0861723446893787,
                    -3.070140280561122,
                    -3.0541082164328657,
                    -3.038076152304609,
                    -3.0220440881763526,
                    -3.006012024048096,
                    -2.9899799599198396,
                    -2.973947895791583,
                    -2.9579158316633265,
                    -2.94188376753507,
                    -2.9258517034068134,
                    -2.909819639278557,
                    -2.8937875751503004,
                    -2.877755511022044,
                    -2.8617234468937878,
                    -2.8456913827655312,
                    -2.8296593186372747,
                    -2.813627254509018,
                    -2.7975951903807617,
                    -2.781563126252505,
                    -2.7655310621242486,
                    -2.749498997995992,
                    -2.7334669338677355,
                    -2.717434869739479,
                    -2.7014028056112225,
                    -2.685370741482966,
                    -2.6693386773547094,
                    -2.6533066132264533,
                    -2.637274549098197,
                    -2.6212424849699403,
                    -2.6052104208416837,
                    -2.589178356713427,
                    -2.5731462925851707,
                    -2.557114228456914,
                    -2.5410821643286576,
                    -2.525050100200401,
                    -2.5090180360721446,
                    -2.492985971943888,
                    -2.4769539078156315,
                    -2.460921843687375,
                    -2.4448897795591185,
                    -2.428857715430862,
                    -2.4128256513026054,
                    -2.396793587174349,
                    -2.3807615230460923,
                    -2.364729458917836,
                    -2.3486973947895793,
                    -2.3326653306613228,
                    -2.3166332665330662,
                    -2.3006012024048097,
                    -2.284569138276553,
                    -2.2685370741482966,
                    -2.25250501002004,
                    -2.2364729458917836,
                    -2.220440881763527,
                    -2.2044088176352705,
                    -2.188376753507014,
                    -2.1723446893787575,
                    -2.156312625250501,
                    -2.1402805611222444,
                    -2.124248496993988,
                    -2.1082164328657313,
                    -2.092184368737475,
                    -2.0761523046092183,
                    -2.0601202404809618,
                    -2.0440881763527057,
                    -2.028056112224449,
                    -2.0120240480961926,
                    -1.995991983967936,
                    -1.9799599198396796,
                    -1.963927855711423,
                    -1.9478957915831665,
                    -1.93186372745491,
                    -1.9158316633266534,
                    -1.899799599198397,
                    -1.8837675350701404,
                    -1.8677354709418839,
                    -1.8517034068136273,
                    -1.8356713426853708,
                    -1.8196392785571143,
                    -1.8036072144288577,
                    -1.7875751503006012,
                    -1.7715430861723447,
                    -1.7555110220440882,
                    -1.739478957915832,
                    -1.7234468937875755,
                    -1.707414829659319,
                    -1.6913827655310625,
                    -1.675350701402806,
                    -1.6593186372745494,
                    -1.643286573146293,
                    -1.6272545090180364,
                    -1.6112224448897798,
                    -1.5951903807615233,
                    -1.5791583166332668,
                    -1.5631262525050102,
                    -1.5470941883767537,
                    -1.5310621242484972,
                    -1.5150300601202407,
                    -1.4989979959919841,
                    -1.4829659318637276,
                    -1.466933867735471,
                    -1.4509018036072145,
                    -1.434869739478958,
                    -1.4188376753507015,
                    -1.402805611222445,
                    -1.3867735470941884,
                    -1.370741482965932,
                    -1.3547094188376754,
                    -1.3386773547094188,
                    -1.3226452905811628,
                    -1.3066132264529062,
                    -1.2905811623246497,
                    -1.2745490981963932,
                    -1.2585170340681366,
                    -1.2424849699398801,
                    -1.2264529058116236,
                    -1.210420841683367,
                    -1.1943887775551105,
                    -1.178356713426854,
                    -1.1623246492985975,
                    -1.146292585170341,
                    -1.1302605210420844,
                    -1.1142284569138279,
                    -1.0981963927855714,
                    -1.0821643286573148,
                    -1.0661322645290583,
                    -1.0501002004008018,
                    -1.0340681362725452,
                    -1.0180360721442887,
                    -1.0020040080160322,
                    -0.9859719438877756,
                    -0.9699398797595191,
                    -0.9539078156312626,
                    -0.9378757515030061,
                    -0.92184368737475,
                    -0.9058116232464934,
                    -0.8897795591182369,
                    -0.8737474949899804,
                    -0.8577154308617239,
                    -0.8416833667334673,
                    -0.8256513026052108,
                    -0.8096192384769543,
                    -0.7935871743486977,
                    -0.7775551102204412,
                    -0.7615230460921847,
                    -0.7454909819639282,
                    -0.7294589178356716,
                    -0.7134268537074151,
                    -0.6973947895791586,
                    -0.681362725450902,
                    -0.6653306613226455,
                    -0.649298597194389,
                    -0.6332665330661325,
                    -0.6172344689378759,
                    -0.6012024048096194,
                    -0.5851703406813629,
                    -0.5691382765531063,
                    -0.5531062124248498,
                    -0.5370741482965933,
                    -0.5210420841683367,
                    -0.5050100200400807,
                    -0.48897795591182414,
                    -0.4729458917835676,
                    -0.4569138276553111,
                    -0.44088176352705455,
                    -0.424849699398798,
                    -0.4088176352705415,
                    -0.39278557114228496,
                    -0.37675350701402843,
                    -0.3607214428857719,
                    -0.3446893787575154,
                    -0.32865731462925885,
                    -0.3126252505010023,
                    -0.2965931863727458,
                    -0.28056112224448926,
                    -0.26452905811623273,
                    -0.2484969939879762,
                    -0.23246492985971967,
                    -0.21643286573146314,
                    -0.2004008016032066,
                    -0.18436873747495008,
                    -0.16833667334669355,
                    -0.15230460921843703,
                    -0.1362725450901805,
                    -0.12024048096192397,
                    -0.10420841683366744,
                    -0.08817635270541135,
                    -0.07214428857715482,
                    -0.056112224448898296,
                    -0.04008016032064177,
                    -0.024048096192385238,
                    -0.008016032064128709,
                    0.00801603206412782,
                    0.02404809619238435,
                    0.04008016032064088,
                    0.05611222444889741,
                    0.07214428857715394,
                    0.08817635270541047,
                    0.104208416833667,
                    0.12024048096192352,
                    0.13627254509018005,
                    0.15230460921843658,
                    0.1683366733466931,
                    0.18436873747494964,
                    0.20040080160320617,
                    0.2164328657314627,
                    0.23246492985971923,
                    0.24849699398797576,
                    0.2645290581162323,
                    0.2805611222444888,
                    0.29659318637274534,
                    0.3126252505010019,
                    0.3286573146292584,
                    0.34468937875751493,
                    0.36072144288577146,
                    0.376753507014028,
                    0.3927855711422845,
                    0.40881763527054105,
                    0.4248496993987976,
                    0.4408817635270541,
                    0.45691382765531063,
                    0.47294589178356716,
                    0.4889779559118237,
                    0.5050100200400802,
                    0.5210420841683359,
                    0.5370741482965924,
                    0.5531062124248489,
                    0.5691382765531054,
                    0.585170340681362,
                    0.6012024048096185,
                    0.617234468937875,
                    0.6332665330661316,
                    0.6492985971943881,
                    0.6653306613226446,
                    0.6813627254509012,
                    0.6973947895791577,
                    0.7134268537074142,
                    0.7294589178356707,
                    0.7454909819639273,
                    0.7615230460921838,
                    0.7775551102204403,
                    0.7935871743486969,
                    0.8096192384769534,
                    0.8256513026052099,
                    0.8416833667334664,
                    0.857715430861723,
                    0.8737474949899795,
                    0.889779559118236,
                    0.9058116232464926,
                    0.9218436873747491,
                    0.9378757515030056,
                    0.9539078156312621,
                    0.9699398797595187,
                    0.9859719438877752,
                    1.0020040080160317,
                    1.0180360721442883,
                    1.0340681362725448,
                    1.0501002004008013,
                    1.0661322645290578,
                    1.0821643286573144,
                    1.098196392785571,
                    1.1142284569138274,
                    1.130260521042084,
                    1.1462925851703405,
                    1.162324649298597,
                    1.1783567134268536,
                    1.19438877755511,
                    1.2104208416833666,
                    1.2264529058116231,
                    1.2424849699398797,
                    1.2585170340681362,
                    1.2745490981963927,
                    1.2905811623246493,
                    1.3066132264529058,
                    1.3226452905811623,
                    1.338677354709418,
                    1.3547094188376745,
                    1.370741482965931,
                    1.3867735470941875,
                    1.402805611222444,
                    1.4188376753507006,
                    1.4348697394789571,
                    1.4509018036072137,
                    1.4669338677354702,
                    1.4829659318637267,
                    1.4989979959919832,
                    1.5150300601202398,
                    1.5310621242484963,
                    1.5470941883767528,
                    1.5631262525050094,
                    1.579158316633266,
                    1.5951903807615224,
                    1.611222444889779,
                    1.6272545090180355,
                    1.643286573146292,
                    1.6593186372745485,
                    1.675350701402805,
                    1.6913827655310616,
                    1.7074148296593181,
                    1.7234468937875747,
                    1.7394789579158312,
                    1.7555110220440877,
                    1.7715430861723442,
                    1.7875751503006008,
                    1.8036072144288573,
                    1.8196392785571138,
                    1.8356713426853704,
                    1.8517034068136269,
                    1.8677354709418834,
                    1.88376753507014,
                    1.8997995991983965,
                    1.915831663326653,
                    1.9318637274549095,
                    1.947895791583166,
                    1.9639278557114226,
                    1.9799599198396791,
                    1.9959919839679356,
                    2.012024048096192,
                    2.0280561122244487,
                    2.0440881763527052,
                    2.0601202404809618,
                    2.0761523046092183,
                    2.092184368737475,
                    2.1082164328657313,
                    2.124248496993988,
                    2.1402805611222444,
                    2.1563126252505,
                    2.1723446893787566,
                    2.188376753507013,
                    2.2044088176352696,
                    2.220440881763526,
                    2.2364729458917827,
                    2.2525050100200392,
                    2.2685370741482958,
                    2.2845691382765523,
                    2.300601202404809,
                    2.3166332665330653,
                    2.332665330661322,
                    2.3486973947895784,
                    2.364729458917835,
                    2.3807615230460915,
                    2.396793587174348,
                    2.4128256513026045,
                    2.428857715430861,
                    2.4448897795591176,
                    2.460921843687374,
                    2.4769539078156306,
                    2.492985971943887,
                    2.5090180360721437,
                    2.5250501002004,
                    2.5410821643286567,
                    2.5571142284569133,
                    2.57314629258517,
                    2.5891783567134263,
                    2.605210420841683,
                    2.6212424849699394,
                    2.637274549098196,
                    2.6533066132264524,
                    2.669338677354709,
                    2.6853707414829655,
                    2.701402805611222,
                    2.7174348697394786,
                    2.733466933867735,
                    2.7494989979959916,
                    2.765531062124248,
                    2.7815631262525047,
                    2.797595190380761,
                    2.8136272545090177,
                    2.8296593186372743,
                    2.845691382765531,
                    2.8617234468937873,
                    2.877755511022044,
                    2.8937875751503004,
                    2.909819639278557,
                    2.9258517034068134,
                    2.94188376753507,
                    2.9579158316633265,
                    2.973947895791583,
                    2.9899799599198387,
                    3.006012024048095,
                    3.0220440881763517,
                    3.0380761523046083,
                    3.054108216432865,
                    3.0701402805611213,
                    3.086172344689378,
                    3.1022044088176344,
                    3.118236472945891,
                    3.1342685370741474,
                    3.150300601202404,
                    3.1663326653306605,
                    3.182364729458917,
                    3.1983967935871735,
                    3.21442885771543,
                    3.2304609218436866,
                    3.246492985971943,
                    3.2625250501001997,
                    3.278557114228456,
                    3.2945891783567127,
                    3.3106212424849693,
                    3.326653306613226,
                    3.3426853707414823,
                    3.358717434869739,
                    3.3747494989979954,
                    3.390781563126252,
                    3.4068136272545084,
                    3.422845691382765,
                    3.4388777555110215,
                    3.454909819639278,
                    3.4709418837675345,
                    3.486973947895791,
                    3.5030060120240476,
                    3.519038076152304,
                    3.5350701402805607,
                    3.551102204408817,
                    3.5671342685370737,
                    3.5831663326653302,
                    3.5991983967935868,
                    3.6152304609218433,
                    3.6312625250501,
                    3.6472945891783564,
                    3.663326653306613,
                    3.6793587174348694,
                    3.695390781563126,
                    3.7114228456913825,
                    3.727454909819639,
                    3.7434869739478955,
                    3.759519038076152,
                    3.7755511022044086,
                    3.791583166332665,
                    3.8076152304609208,
                    3.8236472945891773,
                    3.839679358717434,
                    3.8557114228456904,
                    3.871743486973947,
                    3.8877755511022034,
                    3.90380761523046,
                    3.9198396793587165,
                    3.935871743486973,
                    3.9519038076152295,
                    3.967935871743486,
                    3.9839679358717426,
                    4
                  ],
                  "y": [
                    0.00013383022576488537,
                    0.00014267534974104712,
                    0.000152065976657072,
                    0.00016203302499301177,
                    0.0001726089850167268,
                    0.00018382798731651485,
                    0.00019572587364005087,
                    0.0002083402700774162,
                    0.00022171066262409103,
                    0.00023587847515770772,
                    0.0002508871498600498,
                    0.00026678223011328137,
                    0.0002836114458966447,
                    0.000301424801706908,
                    0.0003202746670226311,
                    0.0003402158693288802,
                    0.0003613057897152989,
                    0.0003836044610565106,
                    0.0004071746687795654,
                    0.0004320820542186733,
                    0.00045839522055265253,
                    0.0004861858413154866,
                    0.0005155287714649959,
                    0.0005465021609889963,
                    0.0005791875710223547,
                    0.0006136700924420864,
                    0.0006500384669010822,
                    0.0006883852102541698,
                    0.0007288067383230157,
                    0.0007714034949388778,
                    0.0008162800821943884,
                    0.0008635453928274118,
                    0.0009133127446515631,
                    0.0009657000169392154,
                    0.0010208297886537348,
                    0.001078829478418306,
                    0.0011398314860990206,
                    0.0012039733358699158,
                    0.0012713978206173636,
                    0.0013422531475306928,
                    0.0014166930847150307,
                    0.001494877108651333,
                    0.0015769705523171612,
                    0.0016631447537702158,
                    0.0017535772049848317,
                    0.0018484517007195998,
                    0.0019479584871821048,
                    0.00205229441024435,
                    0.002161663062949946,
                    0.0022762749320414557,
                    0.0023963475432235088,
                    0.0025221056048644556,
                    0.002653781149826413,
                    0.0027916136751006135,
                    0.002935850278912002,
                    0.0030867457949441154,
                    0.003244562923322477,
                    0.003409572357981864,
                    0.0035820529100303107,
                    0.0037622916267101257,
                    0.003950583905544035,
                    0.004147233603242503,
                    0.004352553138936574,
                    0.004566863591289156,
                    0.004790494789026667,
                    0.005023785394422372,
                    0.0052670829792524805,
                    0.005520744092736624,
                    0.005785134320965,
                    0.006060628337306273,
                    0.006347609943282245,
                    0.006646472099388281,
                    0.006957616945332284,
                    0.007281455809159012,
                    0.007618409204722427,
                    0.007968906816964383,
                    0.008333387474455615,
                    0.00871229910865282,
                    0.009106098699325105,
                    0.009515252205603276,
                    0.009940234482107107,
                    0.010381529179608356,
                    0.010839628629691393,
                    0.011315033712878519,
                    0.01180825370969382,
                    0.012319806134147536,
                    0.012850216549132095,
                    0.013400018363232517,
                    0.01396975260846598,
                    0.01455996769847956,
                    0.015171219166750958,
                    0.015804069384354143,
                    0.016459087256871004,
                    0.017136847900050607,
                    0.017837932293840075,
                    0.018562926914435156,
                    0.019312423344024367,
                    0.02008701785792815,
                    0.020887310988863816,
                    0.021713907068097994,
                    0.022567413743281306,
                    0.02344844147279448,
                    0.024357602996471234,
                    0.025295512782601604,
                    0.02626278645115886,
                    0.0272600401732346,
                    0.028287890046709653,
                    0.029346951448233134,
                    0.030437838361627785,
                    0.031561162682888014,
                    0.03271753350198561,
                    0.03390755636174901,
                    0.03513183249413349,
                    0.03639095803425318,
                    0.037685523212599555,
                    0.039016111525926815,
                    0.040383298887340546,
                    0.041787652756183666,
                    0.04322973124837122,
                    0.044710082227884716,
                    0.0462292423801957,
                    0.04778773626844806,
                    0.04938607537328864,
                    0.05102475711729617,
                    0.052704263875018,
                    0.05442506196968592,
                    0.0561876006577405,
                    0.057992311102354706,
                    0.059839605337205296,
                    0.061729875221799894,
                    0.06366349138972484,
                    0.06564080219123541,
                    0.06766213263166566,
                    0.06972778330718925,
                    0.07183802933951486,
                    0.07399311931115117,
                    0.07619327420292522,
                    0.07843868633548504,
                    0.0807295183165622,
                    0.08306590199581286,
                    0.08544793742909548,
                    0.08787569185408035,
                    0.0903491986791222,
                    0.09286845648735514,
                    0.09543342805800209,
                    0.09804403940691098,
                    0.10070017884835496,
                    0.10340169608014933,
                    0.1061484012941533,
                    0.10894006431423353,
                    0.111776413763773,
                    0.11465713626481078,
                    0.11758187567089472,
                    0.1205502323357231,
                    0.12356176241963955,
                    0.1266159772360295,
                    0.12971234263964526,
                    0.1328502784588624,
                    0.1360291579738388,
                    0.13924830744251357,
                    0.14250700567634192,
                    0.14580448366761858,
                    0.1491399242701913,
                    0.1525124619353117,
                    0.15592118250431147,
                    0.15936512305972644,
                    0.1628432718364227,
                    0.1663545681942035,
                    0.1698979026532987,
                    0.17347211699405174,
                    0.1770760044220348,
                    0.1807083097997273,
                    0.18436772994579687,
                    0.18805291400292154,
                    0.1917624638749854,
                    0.19549493473437188,
                    0.19924883559996562,
                    0.20302262998635742,
                    0.2068147366246283,
                    0.21062353025496353,
                    0.2144473424912247,
                    0.21828446275747818,
                    0.2221331392963468,
                    0.22599158024892144,
                    0.22985795480583168,
                    0.2337303944289402,
                    0.2376069941429881,
                    0.24148581389637863,
                    0.24536487999014878,
                    0.2492421865740384,
                    0.25311569720842636,
                    0.2569833464907642,
                    0.2608430417449997,
                    0.2646926647723439,
                    0.26853007366159826,
                    0.2723531046571264,
                    0.2761595740824182,
                    0.2799472803170651,
                    0.283714005824839,
                    0.287457519230438,
                    0.2911755774423444,
                    0.2948659278191202,
                    0.29852631037635025,
                    0.30215446003133617,
                    0.30574810888253473,
                    0.30930498852063737,
                    0.31282283236809033,
                    0.31629937804376507,
                    0.3197323697494045,
                    0.32311956067439324,
                    0.3264587154153267,
                    0.32974761240678924,
                    0.3329840463596934,
                    0.33616583070347833,
                    0.3392908000284234,
                    0.3423568125242935,
                    0.34536175241150396,
                    0.34830353236096934,
                    0.35118009589878607,
                    0.35398941979189397,
                    0.3567295164108578,
                    0.3593984360659259,
                    0.3619942693125323,
                    0.36451514922244144,
                    0.3669592536167605,
                    0.3693248072570912,
                    0.3716100839911387,
                    0.3738134088491529,
                    0.37593316008764366,
                    0.37796777117688274,
                    0.3799157327287848,
                    0.38177559436185105,
                    0.3835459664999495,
                    0.3852255221018122,
                    0.38681299831823684,
                    0.38830719807409597,
                    0.3897069915723816,
                    0.3910113177176392,
                    0.3922191854562812,
                    0.3933296750314108,
                    0.39434193914993143,
                    0.39525520405986925,
                    0.39606877053599104,
                    0.3967820147719602,
                    0.39739438917743686,
                    0.39790542307869714,
                    0.39831472332151563,
                    0.39862197477523126,
                    0.3988269407370905,
                    0.39892946323614314,
                    0.39892946323614314,
                    0.3988269407370905,
                    0.39862197477523126,
                    0.3983147233215157,
                    0.3979054230786972,
                    0.39739438917743686,
                    0.39678201477196023,
                    0.3960687705359911,
                    0.3952552040598693,
                    0.3943419391499315,
                    0.3933296750314108,
                    0.39221918545628126,
                    0.3910113177176392,
                    0.38970699157238164,
                    0.38830719807409597,
                    0.3868129983182369,
                    0.38522552210181227,
                    0.3835459664999496,
                    0.38177559436185116,
                    0.3799157327287849,
                    0.3779677711768828,
                    0.37593316008764377,
                    0.3738134088491529,
                    0.37161008399113876,
                    0.3693248072570913,
                    0.3669592536167606,
                    0.36451514922244155,
                    0.3619942693125324,
                    0.359398436065926,
                    0.3567295164108579,
                    0.353989419791894,
                    0.3511800958987861,
                    0.3483035323609695,
                    0.3453617524115042,
                    0.3423568125242937,
                    0.33929080002842354,
                    0.3361658307034785,
                    0.3329840463596936,
                    0.32974761240678946,
                    0.32645871541532684,
                    0.3231195606743934,
                    0.31973236974940467,
                    0.31629937804376523,
                    0.31282283236809055,
                    0.30930498852063754,
                    0.3057481088825349,
                    0.3021544600313364,
                    0.29852631037635047,
                    0.2948659278191204,
                    0.2911755774423446,
                    0.28745751923043816,
                    0.28371400582483924,
                    0.27994728031706534,
                    0.2761595740824184,
                    0.27235310465712664,
                    0.2685300736615984,
                    0.2646926647723441,
                    0.26084304174499995,
                    0.2569833464907644,
                    0.25311569720842647,
                    0.24924218657403852,
                    0.2453648799901489,
                    0.24148581389637874,
                    0.23760699414298822,
                    0.23373039442894034,
                    0.2298579548058318,
                    0.22599158024892158,
                    0.22213313929634693,
                    0.21828446275747826,
                    0.2144473424912248,
                    0.2106235302549636,
                    0.20681473662462843,
                    0.20302262998635756,
                    0.1992488355999657,
                    0.195494934734372,
                    0.1917624638749855,
                    0.18805291400292162,
                    0.18436772994579695,
                    0.1807083097997274,
                    0.17707600442203494,
                    0.17347211699405188,
                    0.1698979026532988,
                    0.16635456819420358,
                    0.16284327183642286,
                    0.15936512305972664,
                    0.15592118250431167,
                    0.1525124619353119,
                    0.1491399242701915,
                    0.14580448366761875,
                    0.14250700567634206,
                    0.13924830744251374,
                    0.136029157973839,
                    0.1328502784588626,
                    0.12971234263964543,
                    0.1266159772360297,
                    0.1235617624196397,
                    0.12055023233572325,
                    0.1175818756708949,
                    0.11465713626481096,
                    0.11177641376377317,
                    0.10894006431423366,
                    0.10614840129415344,
                    0.10340169608014946,
                    0.1007001788483551,
                    0.09804403940691114,
                    0.09543342805800224,
                    0.0928684564873553,
                    0.09034919867912233,
                    0.08787569185408049,
                    0.08544793742909554,
                    0.08306590199581294,
                    0.08072951831656225,
                    0.0784386863354851,
                    0.07619327420292529,
                    0.07399311931115123,
                    0.07183802933951493,
                    0.06972778330718932,
                    0.06766213263166572,
                    0.06564080219123547,
                    0.0636634913897249,
                    0.06172987522179995,
                    0.059839605337205344,
                    0.05799231110235476,
                    0.056187600657740554,
                    0.05442506196968596,
                    0.052704263875018045,
                    0.05102475711729621,
                    0.049386075373288686,
                    0.04778773626844806,
                    0.0462292423801957,
                    0.044710082227884716,
                    0.04322973124837122,
                    0.041787652756183666,
                    0.040383298887340546,
                    0.03901611152592688,
                    0.03768552321259963,
                    0.03639095803425324,
                    0.03513183249413355,
                    0.03390755636174907,
                    0.03271753350198569,
                    0.03156116268288807,
                    0.030437838361627858,
                    0.0293469514482332,
                    0.028287890046709716,
                    0.02726004017323465,
                    0.02626278645115892,
                    0.025295512782601667,
                    0.024357602996471286,
                    0.023448441472794533,
                    0.022567413743281355,
                    0.021713907068098035,
                    0.020887310988863865,
                    0.020087017857928196,
                    0.01931242334402441,
                    0.018562926914435198,
                    0.017837932293840113,
                    0.017136847900050645,
                    0.016459087256871043,
                    0.01580406938435418,
                    0.015171219166750996,
                    0.014559967698479599,
                    0.013969752608466009,
                    0.013400018363232548,
                    0.012850216549132123,
                    0.012319806134147564,
                    0.011808253709693847,
                    0.011315033712878534,
                    0.010839628629691407,
                    0.01038152917960837,
                    0.009940234482107116,
                    0.009515252205603288,
                    0.009106098699325117,
                    0.008712299108652833,
                    0.008333387474455622,
                    0.00796890681696439,
                    0.0076184092047224365,
                    0.007281455809159026,
                    0.0069576169453322905,
                    0.006646472099388292,
                    0.006347609943282245,
                    0.006060628337306273,
                    0.005785134320965,
                    0.005520744092736624,
                    0.0052670829792524805,
                    0.005023785394422372,
                    0.004790494789026667,
                    0.004566863591289167,
                    0.004352553138936586,
                    0.004147233603242514,
                    0.003950583905544046,
                    0.0037622916267101357,
                    0.0035820529100303237,
                    0.003409572357981873,
                    0.003244562923322485,
                    0.0030867457949441237,
                    0.0029358502789120096,
                    0.0027916136751006235,
                    0.00265378114982642,
                    0.002522105604864462,
                    0.0023963475432235153,
                    0.002276274932041464,
                    0.0021616630629499533,
                    0.0020522944102443555,
                    0.0019479584871821118,
                    0.0018484517007196066,
                    0.001753577204984836,
                    0.0016631447537702217,
                    0.0015769705523171666,
                    0.0014948771086513372,
                    0.0014166930847150346,
                    0.0013422531475306963,
                    0.0012713978206173682,
                    0.001203973335869919,
                    0.0011398314860990237,
                    0.001078829478418308,
                    0.0010208297886537367,
                    0.0009657000169392172,
                    0.0009133127446515647,
                    0.0008635453928274127,
                    0.0008162800821943891,
                    0.0007714034949388786,
                    0.000728806738323017,
                    0.000688385210254171,
                    0.0006500384669010834,
                    0.0006136700924420875,
                    0.0005791875710223557,
                    0.0005465021609889971,
                    0.0005155287714649967,
                    0.00048618584131548747,
                    0.0004583952205526534,
                    0.00043208205421867407,
                    0.0004071746687795661,
                    0.00038360446105651096,
                    0.0003613057897152995,
                    0.0003402158693288808,
                    0.00032027466702263163,
                    0.000301424801706908,
                    0.00028361144589664574,
                    0.0002667822301132823,
                    0.00025088714986005073,
                    0.00023587847515770837,
                    0.00022171066262409182,
                    0.00020834027007741692,
                    0.00019572587364005158,
                    0.00018382798731651534,
                    0.00017260898501672743,
                    0.00016203302499301234,
                    0.00015206597665707255,
                    0.00014267534974104763,
                    0.00013383022576488537
                  ]
                },
                {
                  "fill": "tozeroy",
                  "fillcolor": "rgba(99, 110, 250, 0.3)",
                  "line": {
                    "color": "#636EFA"
                  },
                  "mode": "lines",
                  "name": "Área sombreada",
                  "type": "scatter",
                  "x": [
                    1.6448536269514722,
                    1.6548536269514722,
                    1.6648536269514722,
                    1.6748536269514722,
                    1.6848536269514722,
                    1.6948536269514722,
                    1.7048536269514722,
                    1.7148536269514723,
                    1.7248536269514723,
                    1.7348536269514723,
                    1.7448536269514723,
                    1.7548536269514723,
                    1.7648536269514723,
                    1.7748536269514723,
                    1.7848536269514723,
                    1.7948536269514723,
                    1.8048536269514723,
                    1.8148536269514723,
                    1.8248536269514724,
                    1.8348536269514724,
                    1.8448536269514724,
                    1.8548536269514724,
                    1.8648536269514724,
                    1.8748536269514724,
                    1.8848536269514724,
                    1.8948536269514724,
                    1.9048536269514724,
                    1.9148536269514724,
                    1.9248536269514724,
                    1.9348536269514724,
                    1.9448536269514725,
                    1.9548536269514725,
                    1.9648536269514725,
                    1.9748536269514725,
                    1.9848536269514725,
                    1.9948536269514725,
                    2.0048536269514727,
                    2.0148536269514725,
                    2.0248536269514723,
                    2.0348536269514725,
                    2.0448536269514728,
                    2.0548536269514726,
                    2.0648536269514723,
                    2.0748536269514726,
                    2.084853626951473,
                    2.0948536269514726,
                    2.1048536269514724,
                    2.1148536269514726,
                    2.124853626951473,
                    2.1348536269514726,
                    2.1448536269514724,
                    2.1548536269514726,
                    2.164853626951473,
                    2.1748536269514727,
                    2.1848536269514724,
                    2.1948536269514727,
                    2.204853626951473,
                    2.2148536269514727,
                    2.2248536269514725,
                    2.2348536269514727,
                    2.244853626951473,
                    2.2548536269514727,
                    2.2648536269514725,
                    2.2748536269514728,
                    2.284853626951473,
                    2.2948536269514728,
                    2.3048536269514726,
                    2.314853626951473,
                    2.324853626951473,
                    2.334853626951473,
                    2.3448536269514726,
                    2.354853626951473,
                    2.364853626951473,
                    2.374853626951473,
                    2.3848536269514726,
                    2.394853626951473,
                    2.404853626951473,
                    2.414853626951473,
                    2.4248536269514727,
                    2.434853626951473,
                    2.444853626951473,
                    2.454853626951473,
                    2.4648536269514727,
                    2.474853626951473,
                    2.484853626951473,
                    2.494853626951473,
                    2.5048536269514727,
                    2.514853626951473,
                    2.524853626951473,
                    2.534853626951473,
                    2.5448536269514728,
                    2.554853626951473,
                    2.5648536269514732,
                    2.574853626951473,
                    2.584853626951473,
                    2.594853626951473,
                    2.6048536269514733,
                    2.614853626951473,
                    2.624853626951473,
                    2.634853626951473,
                    2.6448536269514733,
                    2.654853626951473,
                    2.664853626951473,
                    2.674853626951473,
                    2.6848536269514733,
                    2.694853626951473,
                    2.704853626951473,
                    2.714853626951473,
                    2.7248536269514734,
                    2.734853626951473,
                    2.744853626951473,
                    2.754853626951473,
                    2.7648536269514734,
                    2.774853626951473,
                    2.784853626951473,
                    2.794853626951473,
                    2.8048536269514734,
                    2.8148536269514732,
                    2.824853626951473,
                    2.8348536269514732,
                    2.8448536269514735,
                    2.8548536269514733,
                    2.864853626951473,
                    2.8748536269514733,
                    2.8848536269514735,
                    2.8948536269514733,
                    2.904853626951473,
                    2.9148536269514733,
                    2.9248536269514736,
                    2.9348536269514733,
                    2.944853626951473,
                    2.9548536269514734,
                    2.9648536269514736,
                    2.9748536269514734,
                    2.984853626951473,
                    2.9948536269514734,
                    3.0048536269514736,
                    3.0148536269514734,
                    3.024853626951473,
                    3.0348536269514734,
                    3.0448536269514737,
                    3.0548536269514734,
                    3.0648536269514732,
                    3.0748536269514735,
                    3.0848536269514737,
                    3.0948536269514735,
                    3.1048536269514733,
                    3.1148536269514735,
                    3.1248536269514737,
                    3.1348536269514735,
                    3.1448536269514733,
                    3.1548536269514735,
                    3.1648536269514738,
                    3.1748536269514736,
                    3.1848536269514733,
                    3.1948536269514736,
                    3.204853626951474,
                    3.2148536269514736,
                    3.2248536269514734,
                    3.2348536269514736,
                    3.244853626951474,
                    3.2548536269514736,
                    3.2648536269514734,
                    3.2748536269514736,
                    3.284853626951474,
                    3.2948536269514737,
                    3.3048536269514734,
                    3.3148536269514737,
                    3.324853626951474,
                    3.3348536269514737,
                    3.3448536269514735,
                    3.3548536269514737,
                    3.364853626951474,
                    3.3748536269514737,
                    3.3848536269514735,
                    3.3948536269514737,
                    3.404853626951474,
                    3.4148536269514738,
                    3.4248536269514736,
                    3.434853626951474,
                    3.444853626951474,
                    3.454853626951474,
                    3.4648536269514736,
                    3.474853626951474,
                    3.484853626951474,
                    3.494853626951474,
                    3.5048536269514736,
                    3.514853626951474,
                    3.524853626951474,
                    3.534853626951474,
                    3.5448536269514737,
                    3.554853626951474,
                    3.564853626951474,
                    3.574853626951474,
                    3.5848536269514737,
                    3.594853626951474,
                    3.604853626951474,
                    3.614853626951474,
                    3.6248536269514737,
                    3.634853626951474,
                    3.644853626951474,
                    3.654853626951474,
                    3.6648536269514738,
                    3.6748536269514744,
                    3.6848536269514742,
                    3.694853626951474,
                    3.704853626951474,
                    3.7148536269514745,
                    3.7248536269514743,
                    3.734853626951474,
                    3.744853626951474,
                    3.7548536269514745,
                    3.7648536269514743,
                    3.774853626951474,
                    3.784853626951474,
                    3.7948536269514745,
                    3.8048536269514743,
                    3.814853626951474,
                    3.824853626951474,
                    3.8348536269514746,
                    3.8448536269514744,
                    3.854853626951474,
                    3.864853626951474,
                    3.8748536269514746,
                    3.8848536269514744,
                    3.894853626951474,
                    3.904853626951474,
                    3.9148536269514747,
                    3.9248536269514744,
                    3.9348536269514742,
                    3.944853626951474,
                    3.9548536269514747,
                    3.9648536269514745,
                    3.9748536269514743,
                    3.984853626951474,
                    3.9948536269514747
                  ],
                  "y": [
                    0.10313564037537139,
                    0.10144801324176937,
                    0.09977802275494785,
                    0.09812570982102152,
                    0.09649110941167433,
                    0.0948742506485581,
                    0.0932751568891901,
                    0.09169384581427308,
                    0.09013032951636199,
                    0.08858461458980245,
                    0.08705670222186504,
                    0.08554658828500175,
                    0.08405426343014984,
                    0.08257971318100964,
                    0.08112291802922368,
                    0.07968385353038444,
                    0.07826249040079922,
                    0.0768587946149413,
                    0.0754727275035172,
                    0.07410424585208081,
                    0.07275330200012577,
                    0.07141984394058891,
                    0.07010381541969776,
                    0.06880515603709676,
                    0.06752380134618745,
                    0.06625968295461897,
                    0.06501272862486673,
                    0.06378286237483724,
                    0.06257000457843935,
                    0.0613740720660624,
                    0.06019497822490369,
                    0.059032633099088065,
                    0.05788694348952462,
                    0.05675781305344574,
                    0.05564514240357584,
                    0.054548829206877876,
                    0.05346876828282731,
                    0.052404851701164476,
                    0.05135696887907705,
                    0.05032500667776701,
                    0.049308849498356566,
                    0.04830837937708896,
                    0.04732347607978222,
                    0.046354017195494916,
                    0.045399878229364136,
                    0.04446093269457712,
                    0.043537052203440174,
                    0.04262810655750913,
                    0.04173396383674749,
                    0.040854490487679015,
                    0.039989551410503886,
                    0.0391390100451483,
                    0.03830272845621908,
                    0.037480567416835635,
                    0.03667238649131364,
                    0.03587804411667606,
                    0.03509739768296821,
                    0.03433030361235462,
                    0.033576617436977645,
                    0.03283619387555836,
                    0.032108886908721795,
                    0.03139454985302973,
                    0.03069303543370568,
                    0.030004195856037995,
                    0.029327882875448134,
                    0.028663947866212073,
                    0.028012241888824545,
                    0.027372615755996896,
                    0.026744920097280002,
                    0.026129005422305434,
                    0.025524722182638668,
                    0.02493192083223983,
                    0.024350451886527957,
                    0.023780165980045995,
                    0.02322091392272491,
                    0.022672546754746413,
                    0.02213491580000431,
                    0.02160787271816583,
                    0.021091269555335145,
                    0.02058495879332224,
                    0.020088793397521086,
                    0.019602626863401983,
                    0.019126313261623652,
                    0.018659707281771958,
                    0.01820266427473226,
                    0.017755040293703523,
                    0.017316692133863124,
                    0.016887477370691833,
                    0.016467254396969295,
                    0.016055882458450722,
                    0.015653221688236494,
                    0.015259133139846835,
                    0.014873478819014303,
                    0.014496121714207338,
                    0.014126925825898726,
                    0.013765756194593566,
                    0.013412478927631435,
                    0.013066961224778021,
                    0.012729071402622211,
                    0.012398678917794718,
                    0.012075654389024972,
                    0.011759869618053038,
                    0.011451197609414052,
                    0.011149512589112913,
                    0.010854690022206993,
                    0.010566606629315236,
                    0.010285140402072106,
                    0.010010170617545201,
                    0.009741577851635489,
                    0.009479243991479215,
                    0.009223052246870965,
                    0.008972887160727375,
                    0.008728634618611047,
                    0.008490181857334519,
                    0.008257417472664046,
                    0.00803023142614325,
                    0.007808515051056638,
                    0.007592161057552895,
                    0.007381063536948189,
                    0.007175117965229527,
                    0.006974221205778301,
                    0.006778271511333958,
                    0.006587168525217968,
                    0.0064008132818380685,
                    0.00621910820649262,
                    0.006041957114494996,
                    0.005869265209637705,
                    0.005700939082015981,
                    0.005536886705230287,
                    0.005377017432987159,
                    0.005221241995117672,
                    0.005069472493032661,
                    0.004921622394633589,
                    0.004777606528697875,
                    0.0046373410787572756,
                    0.004500743576487702,
                    0.004367732894628734,
                    0.004238229239450752,
                    0.004112154142787461,
                    0.003989430453651461,
                    0.0038699823294500715,
                    0.003753735226818525,
                    0.0036406158920873955,
                    0.0035305523514007862,
                    0.003423473900501713,
                    0.0033193110942005837,
                    0.003217995735542738,
                    0.0031194608646904574,
                    0.003023640747534809,
                    0.0029304708640521585,
                    0.002839887896420182,
                    0.0027518297169076863,
                    0.002666235375552452,
                    0.002583045087640819,
                    0.0025022002210026316,
                    0.0024236432831347965,
                    0.0023473179081663505,
                    0.002273168843677742,
                    0.00220114193738664,
                    0.002131184123712397,
                    0.0020632434102308876,
                    0.0019972688640311886,
                    0.0019332105979852877,
                    0.0018710197569417244,
                    0.0018106485038536964,
                    0.0017520500058519574,
                    0.001695178420272475,
                    0.0016399888806485836,
                    0.0015864374826770342,
                    0.001534481270167066,
                    0.0014840782209813443,
                    0.0014351872329773385,
                    0.0013877681099574183,
                    0.0013417815476356562,
                    0.0012971891196290736,
                    0.0012539532634808055,
                    0.0012120372667223515,
                    0.00117140525298183,
                    0.0011320221681449185,
                    0.0010938537665748673,
                    0.0010568665973977472,
                    0.0010210279908588055,
                    0.0009863060447555928,
                    0.0009526696109532766,
                    0.0009200882819872865,
                    0.0008885323777582322,
                    0.0008579729323237813,
                    0.0008283816807919944,
                    0.0007997310463203409,
                    0.0007719941272244353,
                    0.0007451446842002996,
                    0.0007191571276637832,
                    0.0006940065052105184,
                    0.0006696684891996079,
                    0.0006461193644640657,
                    0.0006233360161508104,
                    0.0006012959176928395,
                    0.0005799771189160165,
                    0.0005593582342827424,
                    0.0005394184312745952,
                    0.0005201374189158585,
                    0.0005014954364396896,
                    0.0004834732420985163,
                    0.0004660521021201117,
                    0.0004492137798106276,
                    0.0004329405248057098,
                    0.0004172150624707168,
                    0.00040202058345087914,
                    0.00038734073337213794,
                    0.00037315960269323345,
                    0.0003594617167095399,
                    0.00034623202570897166,
                    0.00033345589528020416,
                    0.00032111909677331015,
                    0.00030920779791283686,
                    0.0002977085535632135,
                    0.0002866082966463007,
                    0.0002758943292107693,
                    0.0002655543136529415,
                    0.0002555762640885985,
                    0.0002459485378752028,
                    0.0002366598272838725,
                    0.0002276991513204017,
                    0.0002190558476945131,
                    0.00021071956493647772,
                    0.00020268025466015503,
                    0.00019492816397145753,
                    0.00018745382802116704,
                    0.00018024806270098016,
                    0.00017330195748159837,
                    0.00016660686839163765,
                    0.0001601544111360692,
                    0.00015393645435286688,
                    0.00014794511300648359,
                    0.00014217274191675257,
                    0.00013661192942175372
                  ]
                }
              ],
              "layout": {
                "annotations": [
                  {
                    "arrowhead": 1,
                    "ax": 110,
                    "ay": -30,
                    "font": {
                      "color": "#EF553B",
                      "size": 14
                    },
                    "showarrow": true,
                    "text": "Sí el valor p > 𝛼 : Fallas en rechazar H₀",
                    "x": 1.1,
                    "y": 0.23315877525368223
                  },
                  {
                    "arrowhead": 1,
                    "ax": 50,
                    "ay": -70,
                    "font": {
                      "color": "#167322",
                      "size": 14
                    },
                    "showarrow": true,
                    "text": "Sí el valor p < 𝛼 : Rechazas H₀",
                    "x": 1.9,
                    "y": 0.06804195141644213
                  },
                  {
                    "arrowhead": 1,
                    "ax": 30,
                    "ay": -30,
                    "font": {
                      "color": "#636EFA",
                      "size": 14
                    },
                    "showarrow": true,
                    "text": "𝛼 = 0.05",
                    "x": 2.2,
                    "y": 0.05
                  },
                  {
                    "font": {
                      "color": "#636EFA",
                      "size": 14
                    },
                    "showarrow": false,
                    "text": "Región de rechazo",
                    "x": 3.2,
                    "y": 0.05
                  }
                ],
                "shapes": [
                  {
                    "line": {
                      "color": "#EF553B",
                      "dash": "dash",
                      "width": 2
                    },
                    "type": "line",
                    "x0": 1.0364333894937898,
                    "x1": 1.0364333894937898,
                    "y0": 0,
                    "y1": 0.23315877525368223
                  },
                  {
                    "line": {
                      "color": "#167322",
                      "dash": "dash",
                      "width": 2
                    },
                    "type": "line",
                    "x0": 1.8807936081512509,
                    "x1": 1.8807936081512509,
                    "y0": 0,
                    "y1": 0.06804195141644213
                  }
                ],
                "showlegend": false,
                "template": {
                  "data": {
                    "bar": [
                      {
                        "error_x": {
                          "color": "#2a3f5f"
                        },
                        "error_y": {
                          "color": "#2a3f5f"
                        },
                        "marker": {
                          "line": {
                            "color": "#E5ECF6",
                            "width": 0.5
                          },
                          "pattern": {
                            "fillmode": "overlay",
                            "size": 10,
                            "solidity": 0.2
                          }
                        },
                        "type": "bar"
                      }
                    ],
                    "barpolar": [
                      {
                        "marker": {
                          "line": {
                            "color": "#E5ECF6",
                            "width": 0.5
                          },
                          "pattern": {
                            "fillmode": "overlay",
                            "size": 10,
                            "solidity": 0.2
                          }
                        },
                        "type": "barpolar"
                      }
                    ],
                    "carpet": [
                      {
                        "aaxis": {
                          "endlinecolor": "#2a3f5f",
                          "gridcolor": "white",
                          "linecolor": "white",
                          "minorgridcolor": "white",
                          "startlinecolor": "#2a3f5f"
                        },
                        "baxis": {
                          "endlinecolor": "#2a3f5f",
                          "gridcolor": "white",
                          "linecolor": "white",
                          "minorgridcolor": "white",
                          "startlinecolor": "#2a3f5f"
                        },
                        "type": "carpet"
                      }
                    ],
                    "choropleth": [
                      {
                        "colorbar": {
                          "outlinewidth": 0,
                          "ticks": ""
                        },
                        "type": "choropleth"
                      }
                    ],
                    "contour": [
                      {
                        "colorbar": {
                          "outlinewidth": 0,
                          "ticks": ""
                        },
                        "colorscale": [
                          [
                            0,
                            "#0d0887"
                          ],
                          [
                            0.1111111111111111,
                            "#46039f"
                          ],
                          [
                            0.2222222222222222,
                            "#7201a8"
                          ],
                          [
                            0.3333333333333333,
                            "#9c179e"
                          ],
                          [
                            0.4444444444444444,
                            "#bd3786"
                          ],
                          [
                            0.5555555555555556,
                            "#d8576b"
                          ],
                          [
                            0.6666666666666666,
                            "#ed7953"
                          ],
                          [
                            0.7777777777777778,
                            "#fb9f3a"
                          ],
                          [
                            0.8888888888888888,
                            "#fdca26"
                          ],
                          [
                            1,
                            "#f0f921"
                          ]
                        ],
                        "type": "contour"
                      }
                    ],
                    "contourcarpet": [
                      {
                        "colorbar": {
                          "outlinewidth": 0,
                          "ticks": ""
                        },
                        "type": "contourcarpet"
                      }
                    ],
                    "heatmap": [
                      {
                        "colorbar": {
                          "outlinewidth": 0,
                          "ticks": ""
                        },
                        "colorscale": [
                          [
                            0,
                            "#0d0887"
                          ],
                          [
                            0.1111111111111111,
                            "#46039f"
                          ],
                          [
                            0.2222222222222222,
                            "#7201a8"
                          ],
                          [
                            0.3333333333333333,
                            "#9c179e"
                          ],
                          [
                            0.4444444444444444,
                            "#bd3786"
                          ],
                          [
                            0.5555555555555556,
                            "#d8576b"
                          ],
                          [
                            0.6666666666666666,
                            "#ed7953"
                          ],
                          [
                            0.7777777777777778,
                            "#fb9f3a"
                          ],
                          [
                            0.8888888888888888,
                            "#fdca26"
                          ],
                          [
                            1,
                            "#f0f921"
                          ]
                        ],
                        "type": "heatmap"
                      }
                    ],
                    "heatmapgl": [
                      {
                        "colorbar": {
                          "outlinewidth": 0,
                          "ticks": ""
                        },
                        "colorscale": [
                          [
                            0,
                            "#0d0887"
                          ],
                          [
                            0.1111111111111111,
                            "#46039f"
                          ],
                          [
                            0.2222222222222222,
                            "#7201a8"
                          ],
                          [
                            0.3333333333333333,
                            "#9c179e"
                          ],
                          [
                            0.4444444444444444,
                            "#bd3786"
                          ],
                          [
                            0.5555555555555556,
                            "#d8576b"
                          ],
                          [
                            0.6666666666666666,
                            "#ed7953"
                          ],
                          [
                            0.7777777777777778,
                            "#fb9f3a"
                          ],
                          [
                            0.8888888888888888,
                            "#fdca26"
                          ],
                          [
                            1,
                            "#f0f921"
                          ]
                        ],
                        "type": "heatmapgl"
                      }
                    ],
                    "histogram": [
                      {
                        "marker": {
                          "pattern": {
                            "fillmode": "overlay",
                            "size": 10,
                            "solidity": 0.2
                          }
                        },
                        "type": "histogram"
                      }
                    ],
                    "histogram2d": [
                      {
                        "colorbar": {
                          "outlinewidth": 0,
                          "ticks": ""
                        },
                        "colorscale": [
                          [
                            0,
                            "#0d0887"
                          ],
                          [
                            0.1111111111111111,
                            "#46039f"
                          ],
                          [
                            0.2222222222222222,
                            "#7201a8"
                          ],
                          [
                            0.3333333333333333,
                            "#9c179e"
                          ],
                          [
                            0.4444444444444444,
                            "#bd3786"
                          ],
                          [
                            0.5555555555555556,
                            "#d8576b"
                          ],
                          [
                            0.6666666666666666,
                            "#ed7953"
                          ],
                          [
                            0.7777777777777778,
                            "#fb9f3a"
                          ],
                          [
                            0.8888888888888888,
                            "#fdca26"
                          ],
                          [
                            1,
                            "#f0f921"
                          ]
                        ],
                        "type": "histogram2d"
                      }
                    ],
                    "histogram2dcontour": [
                      {
                        "colorbar": {
                          "outlinewidth": 0,
                          "ticks": ""
                        },
                        "colorscale": [
                          [
                            0,
                            "#0d0887"
                          ],
                          [
                            0.1111111111111111,
                            "#46039f"
                          ],
                          [
                            0.2222222222222222,
                            "#7201a8"
                          ],
                          [
                            0.3333333333333333,
                            "#9c179e"
                          ],
                          [
                            0.4444444444444444,
                            "#bd3786"
                          ],
                          [
                            0.5555555555555556,
                            "#d8576b"
                          ],
                          [
                            0.6666666666666666,
                            "#ed7953"
                          ],
                          [
                            0.7777777777777778,
                            "#fb9f3a"
                          ],
                          [
                            0.8888888888888888,
                            "#fdca26"
                          ],
                          [
                            1,
                            "#f0f921"
                          ]
                        ],
                        "type": "histogram2dcontour"
                      }
                    ],
                    "mesh3d": [
                      {
                        "colorbar": {
                          "outlinewidth": 0,
                          "ticks": ""
                        },
                        "type": "mesh3d"
                      }
                    ],
                    "parcoords": [
                      {
                        "line": {
                          "colorbar": {
                            "outlinewidth": 0,
                            "ticks": ""
                          }
                        },
                        "type": "parcoords"
                      }
                    ],
                    "pie": [
                      {
                        "automargin": true,
                        "type": "pie"
                      }
                    ],
                    "scatter": [
                      {
                        "fillpattern": {
                          "fillmode": "overlay",
                          "size": 10,
                          "solidity": 0.2
                        },
                        "type": "scatter"
                      }
                    ],
                    "scatter3d": [
                      {
                        "line": {
                          "colorbar": {
                            "outlinewidth": 0,
                            "ticks": ""
                          }
                        },
                        "marker": {
                          "colorbar": {
                            "outlinewidth": 0,
                            "ticks": ""
                          }
                        },
                        "type": "scatter3d"
                      }
                    ],
                    "scattercarpet": [
                      {
                        "marker": {
                          "colorbar": {
                            "outlinewidth": 0,
                            "ticks": ""
                          }
                        },
                        "type": "scattercarpet"
                      }
                    ],
                    "scattergeo": [
                      {
                        "marker": {
                          "colorbar": {
                            "outlinewidth": 0,
                            "ticks": ""
                          }
                        },
                        "type": "scattergeo"
                      }
                    ],
                    "scattergl": [
                      {
                        "marker": {
                          "colorbar": {
                            "outlinewidth": 0,
                            "ticks": ""
                          }
                        },
                        "type": "scattergl"
                      }
                    ],
                    "scattermapbox": [
                      {
                        "marker": {
                          "colorbar": {
                            "outlinewidth": 0,
                            "ticks": ""
                          }
                        },
                        "type": "scattermapbox"
                      }
                    ],
                    "scatterpolar": [
                      {
                        "marker": {
                          "colorbar": {
                            "outlinewidth": 0,
                            "ticks": ""
                          }
                        },
                        "type": "scatterpolar"
                      }
                    ],
                    "scatterpolargl": [
                      {
                        "marker": {
                          "colorbar": {
                            "outlinewidth": 0,
                            "ticks": ""
                          }
                        },
                        "type": "scatterpolargl"
                      }
                    ],
                    "scatterternary": [
                      {
                        "marker": {
                          "colorbar": {
                            "outlinewidth": 0,
                            "ticks": ""
                          }
                        },
                        "type": "scatterternary"
                      }
                    ],
                    "surface": [
                      {
                        "colorbar": {
                          "outlinewidth": 0,
                          "ticks": ""
                        },
                        "colorscale": [
                          [
                            0,
                            "#0d0887"
                          ],
                          [
                            0.1111111111111111,
                            "#46039f"
                          ],
                          [
                            0.2222222222222222,
                            "#7201a8"
                          ],
                          [
                            0.3333333333333333,
                            "#9c179e"
                          ],
                          [
                            0.4444444444444444,
                            "#bd3786"
                          ],
                          [
                            0.5555555555555556,
                            "#d8576b"
                          ],
                          [
                            0.6666666666666666,
                            "#ed7953"
                          ],
                          [
                            0.7777777777777778,
                            "#fb9f3a"
                          ],
                          [
                            0.8888888888888888,
                            "#fdca26"
                          ],
                          [
                            1,
                            "#f0f921"
                          ]
                        ],
                        "type": "surface"
                      }
                    ],
                    "table": [
                      {
                        "cells": {
                          "fill": {
                            "color": "#EBF0F8"
                          },
                          "line": {
                            "color": "white"
                          }
                        },
                        "header": {
                          "fill": {
                            "color": "#C8D4E3"
                          },
                          "line": {
                            "color": "white"
                          }
                        },
                        "type": "table"
                      }
                    ]
                  },
                  "layout": {
                    "annotationdefaults": {
                      "arrowcolor": "#2a3f5f",
                      "arrowhead": 0,
                      "arrowwidth": 1
                    },
                    "autotypenumbers": "strict",
                    "coloraxis": {
                      "colorbar": {
                        "outlinewidth": 0,
                        "ticks": ""
                      }
                    },
                    "colorscale": {
                      "diverging": [
                        [
                          0,
                          "#8e0152"
                        ],
                        [
                          0.1,
                          "#c51b7d"
                        ],
                        [
                          0.2,
                          "#de77ae"
                        ],
                        [
                          0.3,
                          "#f1b6da"
                        ],
                        [
                          0.4,
                          "#fde0ef"
                        ],
                        [
                          0.5,
                          "#f7f7f7"
                        ],
                        [
                          0.6,
                          "#e6f5d0"
                        ],
                        [
                          0.7,
                          "#b8e186"
                        ],
                        [
                          0.8,
                          "#7fbc41"
                        ],
                        [
                          0.9,
                          "#4d9221"
                        ],
                        [
                          1,
                          "#276419"
                        ]
                      ],
                      "sequential": [
                        [
                          0,
                          "#0d0887"
                        ],
                        [
                          0.1111111111111111,
                          "#46039f"
                        ],
                        [
                          0.2222222222222222,
                          "#7201a8"
                        ],
                        [
                          0.3333333333333333,
                          "#9c179e"
                        ],
                        [
                          0.4444444444444444,
                          "#bd3786"
                        ],
                        [
                          0.5555555555555556,
                          "#d8576b"
                        ],
                        [
                          0.6666666666666666,
                          "#ed7953"
                        ],
                        [
                          0.7777777777777778,
                          "#fb9f3a"
                        ],
                        [
                          0.8888888888888888,
                          "#fdca26"
                        ],
                        [
                          1,
                          "#f0f921"
                        ]
                      ],
                      "sequentialminus": [
                        [
                          0,
                          "#0d0887"
                        ],
                        [
                          0.1111111111111111,
                          "#46039f"
                        ],
                        [
                          0.2222222222222222,
                          "#7201a8"
                        ],
                        [
                          0.3333333333333333,
                          "#9c179e"
                        ],
                        [
                          0.4444444444444444,
                          "#bd3786"
                        ],
                        [
                          0.5555555555555556,
                          "#d8576b"
                        ],
                        [
                          0.6666666666666666,
                          "#ed7953"
                        ],
                        [
                          0.7777777777777778,
                          "#fb9f3a"
                        ],
                        [
                          0.8888888888888888,
                          "#fdca26"
                        ],
                        [
                          1,
                          "#f0f921"
                        ]
                      ]
                    },
                    "colorway": [
                      "#636efa",
                      "#EF553B",
                      "#00cc96",
                      "#ab63fa",
                      "#FFA15A",
                      "#19d3f3",
                      "#FF6692",
                      "#B6E880",
                      "#FF97FF",
                      "#FECB52"
                    ],
                    "font": {
                      "color": "#2a3f5f"
                    },
                    "geo": {
                      "bgcolor": "white",
                      "lakecolor": "white",
                      "landcolor": "#E5ECF6",
                      "showlakes": true,
                      "showland": true,
                      "subunitcolor": "white"
                    },
                    "hoverlabel": {
                      "align": "left"
                    },
                    "hovermode": "closest",
                    "mapbox": {
                      "style": "light"
                    },
                    "paper_bgcolor": "white",
                    "plot_bgcolor": "#E5ECF6",
                    "polar": {
                      "angularaxis": {
                        "gridcolor": "white",
                        "linecolor": "white",
                        "ticks": ""
                      },
                      "bgcolor": "#E5ECF6",
                      "radialaxis": {
                        "gridcolor": "white",
                        "linecolor": "white",
                        "ticks": ""
                      }
                    },
                    "scene": {
                      "xaxis": {
                        "backgroundcolor": "#E5ECF6",
                        "gridcolor": "white",
                        "gridwidth": 2,
                        "linecolor": "white",
                        "showbackground": true,
                        "ticks": "",
                        "zerolinecolor": "white"
                      },
                      "yaxis": {
                        "backgroundcolor": "#E5ECF6",
                        "gridcolor": "white",
                        "gridwidth": 2,
                        "linecolor": "white",
                        "showbackground": true,
                        "ticks": "",
                        "zerolinecolor": "white"
                      },
                      "zaxis": {
                        "backgroundcolor": "#E5ECF6",
                        "gridcolor": "white",
                        "gridwidth": 2,
                        "linecolor": "white",
                        "showbackground": true,
                        "ticks": "",
                        "zerolinecolor": "white"
                      }
                    },
                    "shapedefaults": {
                      "line": {
                        "color": "#2a3f5f"
                      }
                    },
                    "ternary": {
                      "aaxis": {
                        "gridcolor": "white",
                        "linecolor": "white",
                        "ticks": ""
                      },
                      "baxis": {
                        "gridcolor": "white",
                        "linecolor": "white",
                        "ticks": ""
                      },
                      "bgcolor": "#E5ECF6",
                      "caxis": {
                        "gridcolor": "white",
                        "linecolor": "white",
                        "ticks": ""
                      }
                    },
                    "title": {
                      "x": 0.05
                    },
                    "xaxis": {
                      "automargin": true,
                      "gridcolor": "white",
                      "linecolor": "white",
                      "ticks": "",
                      "title": {
                        "standoff": 15
                      },
                      "zerolinecolor": "white",
                      "zerolinewidth": 2
                    },
                    "yaxis": {
                      "automargin": true,
                      "gridcolor": "white",
                      "linecolor": "white",
                      "ticks": "",
                      "title": {
                        "standoff": 15
                      },
                      "zerolinecolor": "white",
                      "zerolinewidth": 2
                    }
                  }
                },
                "title": {
                  "text": "Pruebas de hipótesis"
                },
                "xaxis": {
                  "title": {
                    "text": "Valores"
                  }
                },
                "yaxis": {
                  "title": {
                    "text": "Densidad"
                  }
                }
              }
            }
          },
          "metadata": {},
          "output_type": "display_data"
        }
      ],
      "source": [
        "import plotly.graph_objs as go\n",
        "import numpy as np\n",
        "from scipy.stats import norm\n",
        "\n",
        "# Crear una secuencia de valores para el eje x\n",
        "x = np.linspace(-4, 4, 500)\n",
        "\n",
        "# Crear una figura de la distribución normal\n",
        "fig = go.Figure()\n",
        "\n",
        "# Agregar la distribución normal\n",
        "fig.add_trace(go.Scatter(x=x, y=norm.pdf(x), mode='lines', name='Distribución normal'))\n",
        "\n",
        "# Encontrar el valor crítico correspondiente al nivel de significancia alfa\n",
        "alpha = 0.05\n",
        "z_critico = norm.ppf(1 - alpha)\n",
        "\n",
        "# Calcular la probabilidad de los valores mayores al valor crítico\n",
        "prob = norm.sf(z_critico)\n",
        "\n",
        "# Agregar el área sombreada correspondiente a los valores mayores al 95% de los datos\n",
        "fig.add_trace(go.Scatter(x=np.arange(z_critico, 4, 0.01), y=norm.pdf(np.arange(z_critico, 4, 0.01)),\n",
        "                         mode='lines', line=dict(color='#636EFA'), fill='tozeroy', fillcolor='rgba(99, 110, 250, 0.3)',\n",
        "                         name='Área sombreada'))\n",
        "\n",
        "# Agregar una línea vertical en el 85% de los datos\n",
        "x_85 = norm.ppf(0.85)\n",
        "fig.add_shape(type='line', x0=x_85, y0=0, x1=x_85, y1=norm.pdf(x_85),\n",
        "              line=dict(color='#EF553B', width=2, dash='dash'))\n",
        "\n",
        "fig.add_annotation(x=1.1, y=norm.pdf(x_85), text='Sí el valor p > 𝛼 : Fallas en rechazar H₀', showarrow=True,\n",
        "                   arrowhead=1, ax=110, ay=-30, font=dict(color='#EF553B', size=14))\n",
        "\n",
        "x_97 = norm.ppf(0.97)\n",
        "fig.add_shape(type='line', x0=x_97, y0=0, x1=x_97, y1=norm.pdf(x_97),\n",
        "              line=dict(color='#167322', width=2, dash='dash'))\n",
        "\n",
        "fig.add_annotation(x=1.9, y=norm.pdf(x_97), text='Sí el valor p < 𝛼 : Rechazas H₀', showarrow=True,\n",
        "                   arrowhead=1, ax=50, ay=-70, font=dict(color='#167322', size=14))\n",
        "\n",
        "fig.add_annotation(x=2.2, y=0.05, text='𝛼 = 0.05', showarrow=True,\n",
        "                   arrowhead=1, ax=30, ay=-30, font=dict(color='#636EFA', size=14))\n",
        "\n",
        "fig.add_annotation(x=3.2, y=0.05, text='Región de rechazo', showarrow=False,\n",
        "                   font=dict(color='#636EFA', size=14))\n",
        "\n",
        "\n",
        "# Establecer el título de la figura y los nombres de los ejes\n",
        "fig.update_layout(title='Pruebas de hipótesis',\n",
        "                   xaxis_title='Valores', yaxis_title='Densidad',showlegend=False)\n",
        "\n",
        "# Mostrar la figura\n",
        "fig.show()"
      ]
    },
    {
      "cell_type": "markdown",
      "id": "83868d98",
      "metadata": {
        "id": "83868d98"
      },
      "source": [
        "## Prueba T de muestras independientes\n",
        "\n",
        "Un profesor de universidad dio clases en línea debido a la pandemia del Covid-19 en lugar de hacerlas de forma presencial. Posteriormente, subió grabaciones de las clases a la nube para los estudiantes que las seguían de manera asincrónica, es decir, aquellos que no asistían a las clases en vivo, pero que veían las grabaciones posteriormente. El profesor cree que los estudiantes que asisten a las clases en vivo y participan activamente en el proceso de aprendizaje tienen un mejor desempeño académico. Con el fin de comprobar su hipótesis, registró las calificaciones promedio de los estudiantes al final del semestre."
      ]
    },
    {
      "cell_type": "code",
      "execution_count": 5,
      "id": "ce25213f",
      "metadata": {
        "ExecuteTime": {
          "end_time": "2023-09-01T22:38:39.733243Z",
          "start_time": "2023-09-01T22:38:39.717210Z"
        },
        "id": "ce25213f"
      },
      "outputs": [],
      "source": [
        "sincrona=np.array([94.,84.9,82.6,80.1,79.6,81.4,77.8,81.7,\n",
        "                  78.8,73.2,87.9,87.9,93.5,82.3,79.3,78.3,71.6,\n",
        "                  88.6,74.6,74.1,80.6])\n",
        "asincrona=np.array([77.1,71.7,91.,72.2,74.8,85.1,67.6,69.9,75.3,\n",
        "                    71.7,65.7,72.6,71.5,78.2])"
      ]
    },
    {
      "cell_type": "markdown",
      "id": "1353abb7",
      "metadata": {
        "id": "1353abb7"
      },
      "source": [
        "Se debe realizar una prueba de hipótesis para verificar la creencia del profesor sobre si los estudiantes que asisten a las clases en persona son más exitosos que aquellos que ven las grabaciones posteriormente. Se utilizará un nivel de significancia del 0,05 para evaluar las hipótesis nula y alternativa. Antes de realizar la prueba, se deben verificar los supuestos relevantes."
      ]
    },
    {
      "cell_type": "code",
      "execution_count": 6,
      "id": "bbb931d6",
      "metadata": {
        "ExecuteTime": {
          "end_time": "2023-09-01T22:38:54.366840Z",
          "start_time": "2023-09-01T22:38:54.137841Z"
        },
        "id": "bbb931d6"
      },
      "outputs": [
        {
          "data": {
            "application/vnd.plotly.v1+json": {
              "config": {
                "plotlyServerURL": "https://plot.ly"
              },
              "data": [
                {
                  "name": "Sincronos",
                  "type": "histogram",
                  "x": [
                    94,
                    84.9,
                    82.6,
                    80.1,
                    79.6,
                    81.4,
                    77.8,
                    81.7,
                    78.8,
                    73.2,
                    87.9,
                    87.9,
                    93.5,
                    82.3,
                    79.3,
                    78.3,
                    71.6,
                    88.6,
                    74.6,
                    74.1,
                    80.6
                  ],
                  "xaxis": "x",
                  "yaxis": "y"
                },
                {
                  "name": "Asincronos",
                  "type": "histogram",
                  "x": [
                    77.1,
                    71.7,
                    91,
                    72.2,
                    74.8,
                    85.1,
                    67.6,
                    69.9,
                    75.3,
                    71.7,
                    65.7,
                    72.6,
                    71.5,
                    78.2
                  ],
                  "xaxis": "x2",
                  "yaxis": "y2"
                }
              ],
              "layout": {
                "annotations": [
                  {
                    "font": {
                      "size": 16
                    },
                    "showarrow": false,
                    "text": "Sincronos",
                    "x": 0.225,
                    "xanchor": "center",
                    "xref": "paper",
                    "y": 1,
                    "yanchor": "bottom",
                    "yref": "paper"
                  },
                  {
                    "font": {
                      "size": 16
                    },
                    "showarrow": false,
                    "text": "Asincronos",
                    "x": 0.775,
                    "xanchor": "center",
                    "xref": "paper",
                    "y": 1,
                    "yanchor": "bottom",
                    "yref": "paper"
                  }
                ],
                "template": {
                  "data": {
                    "bar": [
                      {
                        "error_x": {
                          "color": "#2a3f5f"
                        },
                        "error_y": {
                          "color": "#2a3f5f"
                        },
                        "marker": {
                          "line": {
                            "color": "#E5ECF6",
                            "width": 0.5
                          },
                          "pattern": {
                            "fillmode": "overlay",
                            "size": 10,
                            "solidity": 0.2
                          }
                        },
                        "type": "bar"
                      }
                    ],
                    "barpolar": [
                      {
                        "marker": {
                          "line": {
                            "color": "#E5ECF6",
                            "width": 0.5
                          },
                          "pattern": {
                            "fillmode": "overlay",
                            "size": 10,
                            "solidity": 0.2
                          }
                        },
                        "type": "barpolar"
                      }
                    ],
                    "carpet": [
                      {
                        "aaxis": {
                          "endlinecolor": "#2a3f5f",
                          "gridcolor": "white",
                          "linecolor": "white",
                          "minorgridcolor": "white",
                          "startlinecolor": "#2a3f5f"
                        },
                        "baxis": {
                          "endlinecolor": "#2a3f5f",
                          "gridcolor": "white",
                          "linecolor": "white",
                          "minorgridcolor": "white",
                          "startlinecolor": "#2a3f5f"
                        },
                        "type": "carpet"
                      }
                    ],
                    "choropleth": [
                      {
                        "colorbar": {
                          "outlinewidth": 0,
                          "ticks": ""
                        },
                        "type": "choropleth"
                      }
                    ],
                    "contour": [
                      {
                        "colorbar": {
                          "outlinewidth": 0,
                          "ticks": ""
                        },
                        "colorscale": [
                          [
                            0,
                            "#0d0887"
                          ],
                          [
                            0.1111111111111111,
                            "#46039f"
                          ],
                          [
                            0.2222222222222222,
                            "#7201a8"
                          ],
                          [
                            0.3333333333333333,
                            "#9c179e"
                          ],
                          [
                            0.4444444444444444,
                            "#bd3786"
                          ],
                          [
                            0.5555555555555556,
                            "#d8576b"
                          ],
                          [
                            0.6666666666666666,
                            "#ed7953"
                          ],
                          [
                            0.7777777777777778,
                            "#fb9f3a"
                          ],
                          [
                            0.8888888888888888,
                            "#fdca26"
                          ],
                          [
                            1,
                            "#f0f921"
                          ]
                        ],
                        "type": "contour"
                      }
                    ],
                    "contourcarpet": [
                      {
                        "colorbar": {
                          "outlinewidth": 0,
                          "ticks": ""
                        },
                        "type": "contourcarpet"
                      }
                    ],
                    "heatmap": [
                      {
                        "colorbar": {
                          "outlinewidth": 0,
                          "ticks": ""
                        },
                        "colorscale": [
                          [
                            0,
                            "#0d0887"
                          ],
                          [
                            0.1111111111111111,
                            "#46039f"
                          ],
                          [
                            0.2222222222222222,
                            "#7201a8"
                          ],
                          [
                            0.3333333333333333,
                            "#9c179e"
                          ],
                          [
                            0.4444444444444444,
                            "#bd3786"
                          ],
                          [
                            0.5555555555555556,
                            "#d8576b"
                          ],
                          [
                            0.6666666666666666,
                            "#ed7953"
                          ],
                          [
                            0.7777777777777778,
                            "#fb9f3a"
                          ],
                          [
                            0.8888888888888888,
                            "#fdca26"
                          ],
                          [
                            1,
                            "#f0f921"
                          ]
                        ],
                        "type": "heatmap"
                      }
                    ],
                    "heatmapgl": [
                      {
                        "colorbar": {
                          "outlinewidth": 0,
                          "ticks": ""
                        },
                        "colorscale": [
                          [
                            0,
                            "#0d0887"
                          ],
                          [
                            0.1111111111111111,
                            "#46039f"
                          ],
                          [
                            0.2222222222222222,
                            "#7201a8"
                          ],
                          [
                            0.3333333333333333,
                            "#9c179e"
                          ],
                          [
                            0.4444444444444444,
                            "#bd3786"
                          ],
                          [
                            0.5555555555555556,
                            "#d8576b"
                          ],
                          [
                            0.6666666666666666,
                            "#ed7953"
                          ],
                          [
                            0.7777777777777778,
                            "#fb9f3a"
                          ],
                          [
                            0.8888888888888888,
                            "#fdca26"
                          ],
                          [
                            1,
                            "#f0f921"
                          ]
                        ],
                        "type": "heatmapgl"
                      }
                    ],
                    "histogram": [
                      {
                        "marker": {
                          "pattern": {
                            "fillmode": "overlay",
                            "size": 10,
                            "solidity": 0.2
                          }
                        },
                        "type": "histogram"
                      }
                    ],
                    "histogram2d": [
                      {
                        "colorbar": {
                          "outlinewidth": 0,
                          "ticks": ""
                        },
                        "colorscale": [
                          [
                            0,
                            "#0d0887"
                          ],
                          [
                            0.1111111111111111,
                            "#46039f"
                          ],
                          [
                            0.2222222222222222,
                            "#7201a8"
                          ],
                          [
                            0.3333333333333333,
                            "#9c179e"
                          ],
                          [
                            0.4444444444444444,
                            "#bd3786"
                          ],
                          [
                            0.5555555555555556,
                            "#d8576b"
                          ],
                          [
                            0.6666666666666666,
                            "#ed7953"
                          ],
                          [
                            0.7777777777777778,
                            "#fb9f3a"
                          ],
                          [
                            0.8888888888888888,
                            "#fdca26"
                          ],
                          [
                            1,
                            "#f0f921"
                          ]
                        ],
                        "type": "histogram2d"
                      }
                    ],
                    "histogram2dcontour": [
                      {
                        "colorbar": {
                          "outlinewidth": 0,
                          "ticks": ""
                        },
                        "colorscale": [
                          [
                            0,
                            "#0d0887"
                          ],
                          [
                            0.1111111111111111,
                            "#46039f"
                          ],
                          [
                            0.2222222222222222,
                            "#7201a8"
                          ],
                          [
                            0.3333333333333333,
                            "#9c179e"
                          ],
                          [
                            0.4444444444444444,
                            "#bd3786"
                          ],
                          [
                            0.5555555555555556,
                            "#d8576b"
                          ],
                          [
                            0.6666666666666666,
                            "#ed7953"
                          ],
                          [
                            0.7777777777777778,
                            "#fb9f3a"
                          ],
                          [
                            0.8888888888888888,
                            "#fdca26"
                          ],
                          [
                            1,
                            "#f0f921"
                          ]
                        ],
                        "type": "histogram2dcontour"
                      }
                    ],
                    "mesh3d": [
                      {
                        "colorbar": {
                          "outlinewidth": 0,
                          "ticks": ""
                        },
                        "type": "mesh3d"
                      }
                    ],
                    "parcoords": [
                      {
                        "line": {
                          "colorbar": {
                            "outlinewidth": 0,
                            "ticks": ""
                          }
                        },
                        "type": "parcoords"
                      }
                    ],
                    "pie": [
                      {
                        "automargin": true,
                        "type": "pie"
                      }
                    ],
                    "scatter": [
                      {
                        "fillpattern": {
                          "fillmode": "overlay",
                          "size": 10,
                          "solidity": 0.2
                        },
                        "type": "scatter"
                      }
                    ],
                    "scatter3d": [
                      {
                        "line": {
                          "colorbar": {
                            "outlinewidth": 0,
                            "ticks": ""
                          }
                        },
                        "marker": {
                          "colorbar": {
                            "outlinewidth": 0,
                            "ticks": ""
                          }
                        },
                        "type": "scatter3d"
                      }
                    ],
                    "scattercarpet": [
                      {
                        "marker": {
                          "colorbar": {
                            "outlinewidth": 0,
                            "ticks": ""
                          }
                        },
                        "type": "scattercarpet"
                      }
                    ],
                    "scattergeo": [
                      {
                        "marker": {
                          "colorbar": {
                            "outlinewidth": 0,
                            "ticks": ""
                          }
                        },
                        "type": "scattergeo"
                      }
                    ],
                    "scattergl": [
                      {
                        "marker": {
                          "colorbar": {
                            "outlinewidth": 0,
                            "ticks": ""
                          }
                        },
                        "type": "scattergl"
                      }
                    ],
                    "scattermapbox": [
                      {
                        "marker": {
                          "colorbar": {
                            "outlinewidth": 0,
                            "ticks": ""
                          }
                        },
                        "type": "scattermapbox"
                      }
                    ],
                    "scatterpolar": [
                      {
                        "marker": {
                          "colorbar": {
                            "outlinewidth": 0,
                            "ticks": ""
                          }
                        },
                        "type": "scatterpolar"
                      }
                    ],
                    "scatterpolargl": [
                      {
                        "marker": {
                          "colorbar": {
                            "outlinewidth": 0,
                            "ticks": ""
                          }
                        },
                        "type": "scatterpolargl"
                      }
                    ],
                    "scatterternary": [
                      {
                        "marker": {
                          "colorbar": {
                            "outlinewidth": 0,
                            "ticks": ""
                          }
                        },
                        "type": "scatterternary"
                      }
                    ],
                    "surface": [
                      {
                        "colorbar": {
                          "outlinewidth": 0,
                          "ticks": ""
                        },
                        "colorscale": [
                          [
                            0,
                            "#0d0887"
                          ],
                          [
                            0.1111111111111111,
                            "#46039f"
                          ],
                          [
                            0.2222222222222222,
                            "#7201a8"
                          ],
                          [
                            0.3333333333333333,
                            "#9c179e"
                          ],
                          [
                            0.4444444444444444,
                            "#bd3786"
                          ],
                          [
                            0.5555555555555556,
                            "#d8576b"
                          ],
                          [
                            0.6666666666666666,
                            "#ed7953"
                          ],
                          [
                            0.7777777777777778,
                            "#fb9f3a"
                          ],
                          [
                            0.8888888888888888,
                            "#fdca26"
                          ],
                          [
                            1,
                            "#f0f921"
                          ]
                        ],
                        "type": "surface"
                      }
                    ],
                    "table": [
                      {
                        "cells": {
                          "fill": {
                            "color": "#EBF0F8"
                          },
                          "line": {
                            "color": "white"
                          }
                        },
                        "header": {
                          "fill": {
                            "color": "#C8D4E3"
                          },
                          "line": {
                            "color": "white"
                          }
                        },
                        "type": "table"
                      }
                    ]
                  },
                  "layout": {
                    "annotationdefaults": {
                      "arrowcolor": "#2a3f5f",
                      "arrowhead": 0,
                      "arrowwidth": 1
                    },
                    "autotypenumbers": "strict",
                    "coloraxis": {
                      "colorbar": {
                        "outlinewidth": 0,
                        "ticks": ""
                      }
                    },
                    "colorscale": {
                      "diverging": [
                        [
                          0,
                          "#8e0152"
                        ],
                        [
                          0.1,
                          "#c51b7d"
                        ],
                        [
                          0.2,
                          "#de77ae"
                        ],
                        [
                          0.3,
                          "#f1b6da"
                        ],
                        [
                          0.4,
                          "#fde0ef"
                        ],
                        [
                          0.5,
                          "#f7f7f7"
                        ],
                        [
                          0.6,
                          "#e6f5d0"
                        ],
                        [
                          0.7,
                          "#b8e186"
                        ],
                        [
                          0.8,
                          "#7fbc41"
                        ],
                        [
                          0.9,
                          "#4d9221"
                        ],
                        [
                          1,
                          "#276419"
                        ]
                      ],
                      "sequential": [
                        [
                          0,
                          "#0d0887"
                        ],
                        [
                          0.1111111111111111,
                          "#46039f"
                        ],
                        [
                          0.2222222222222222,
                          "#7201a8"
                        ],
                        [
                          0.3333333333333333,
                          "#9c179e"
                        ],
                        [
                          0.4444444444444444,
                          "#bd3786"
                        ],
                        [
                          0.5555555555555556,
                          "#d8576b"
                        ],
                        [
                          0.6666666666666666,
                          "#ed7953"
                        ],
                        [
                          0.7777777777777778,
                          "#fb9f3a"
                        ],
                        [
                          0.8888888888888888,
                          "#fdca26"
                        ],
                        [
                          1,
                          "#f0f921"
                        ]
                      ],
                      "sequentialminus": [
                        [
                          0,
                          "#0d0887"
                        ],
                        [
                          0.1111111111111111,
                          "#46039f"
                        ],
                        [
                          0.2222222222222222,
                          "#7201a8"
                        ],
                        [
                          0.3333333333333333,
                          "#9c179e"
                        ],
                        [
                          0.4444444444444444,
                          "#bd3786"
                        ],
                        [
                          0.5555555555555556,
                          "#d8576b"
                        ],
                        [
                          0.6666666666666666,
                          "#ed7953"
                        ],
                        [
                          0.7777777777777778,
                          "#fb9f3a"
                        ],
                        [
                          0.8888888888888888,
                          "#fdca26"
                        ],
                        [
                          1,
                          "#f0f921"
                        ]
                      ]
                    },
                    "colorway": [
                      "#636efa",
                      "#EF553B",
                      "#00cc96",
                      "#ab63fa",
                      "#FFA15A",
                      "#19d3f3",
                      "#FF6692",
                      "#B6E880",
                      "#FF97FF",
                      "#FECB52"
                    ],
                    "font": {
                      "color": "#2a3f5f"
                    },
                    "geo": {
                      "bgcolor": "white",
                      "lakecolor": "white",
                      "landcolor": "#E5ECF6",
                      "showlakes": true,
                      "showland": true,
                      "subunitcolor": "white"
                    },
                    "hoverlabel": {
                      "align": "left"
                    },
                    "hovermode": "closest",
                    "mapbox": {
                      "style": "light"
                    },
                    "paper_bgcolor": "white",
                    "plot_bgcolor": "#E5ECF6",
                    "polar": {
                      "angularaxis": {
                        "gridcolor": "white",
                        "linecolor": "white",
                        "ticks": ""
                      },
                      "bgcolor": "#E5ECF6",
                      "radialaxis": {
                        "gridcolor": "white",
                        "linecolor": "white",
                        "ticks": ""
                      }
                    },
                    "scene": {
                      "xaxis": {
                        "backgroundcolor": "#E5ECF6",
                        "gridcolor": "white",
                        "gridwidth": 2,
                        "linecolor": "white",
                        "showbackground": true,
                        "ticks": "",
                        "zerolinecolor": "white"
                      },
                      "yaxis": {
                        "backgroundcolor": "#E5ECF6",
                        "gridcolor": "white",
                        "gridwidth": 2,
                        "linecolor": "white",
                        "showbackground": true,
                        "ticks": "",
                        "zerolinecolor": "white"
                      },
                      "zaxis": {
                        "backgroundcolor": "#E5ECF6",
                        "gridcolor": "white",
                        "gridwidth": 2,
                        "linecolor": "white",
                        "showbackground": true,
                        "ticks": "",
                        "zerolinecolor": "white"
                      }
                    },
                    "shapedefaults": {
                      "line": {
                        "color": "#2a3f5f"
                      }
                    },
                    "ternary": {
                      "aaxis": {
                        "gridcolor": "white",
                        "linecolor": "white",
                        "ticks": ""
                      },
                      "baxis": {
                        "gridcolor": "white",
                        "linecolor": "white",
                        "ticks": ""
                      },
                      "bgcolor": "#E5ECF6",
                      "caxis": {
                        "gridcolor": "white",
                        "linecolor": "white",
                        "ticks": ""
                      }
                    },
                    "title": {
                      "x": 0.05
                    },
                    "xaxis": {
                      "automargin": true,
                      "gridcolor": "white",
                      "linecolor": "white",
                      "ticks": "",
                      "title": {
                        "standoff": 15
                      },
                      "zerolinecolor": "white",
                      "zerolinewidth": 2
                    },
                    "yaxis": {
                      "automargin": true,
                      "gridcolor": "white",
                      "linecolor": "white",
                      "ticks": "",
                      "title": {
                        "standoff": 15
                      },
                      "zerolinecolor": "white",
                      "zerolinewidth": 2
                    }
                  }
                },
                "xaxis": {
                  "anchor": "y",
                  "domain": [
                    0,
                    0.45
                  ],
                  "range": [
                    50,
                    100
                  ],
                  "title": {
                    "text": "Calificacion"
                  }
                },
                "xaxis2": {
                  "anchor": "y2",
                  "domain": [
                    0.55,
                    1
                  ],
                  "range": [
                    50,
                    100
                  ],
                  "title": {
                    "text": "Calificacion"
                  }
                },
                "yaxis": {
                  "anchor": "x",
                  "domain": [
                    0,
                    1
                  ],
                  "range": [
                    0,
                    10
                  ]
                },
                "yaxis2": {
                  "anchor": "x2",
                  "domain": [
                    0,
                    1
                  ],
                  "range": [
                    0,
                    10
                  ]
                }
              }
            }
          },
          "metadata": {},
          "output_type": "display_data"
        }
      ],
      "source": [
        "fig=make_subplots(rows=1,cols=2,\n",
        "                 subplot_titles=(\n",
        "                 'Sincronos','Asincronos'))\n",
        "fig.add_trace(go.Histogram(x=sincrona,\n",
        "                          name='Sincronos'),\n",
        "              row=1,col=1)\n",
        "fig.add_trace(go.Histogram(x=asincrona,\n",
        "                          name='Asincronos'),\n",
        "              row=1,col=2)\n",
        "fig.update_xaxes(title_text='Calificacion',\n",
        "                range=[50,100])\n",
        "fig.update_yaxes(range=[0,10])\n",
        "fig.show()"
      ]
    },
    {
      "cell_type": "code",
      "execution_count": 7,
      "id": "22b951aa",
      "metadata": {
        "ExecuteTime": {
          "end_time": "2023-09-01T22:46:58.272939Z",
          "start_time": "2023-09-01T22:46:58.235853Z"
        },
        "id": "22b951aa"
      },
      "outputs": [
        {
          "data": {
            "application/vnd.plotly.v1+json": {
              "config": {
                "plotlyServerURL": "https://plot.ly"
              },
              "data": [
                {
                  "name": "Sincrona",
                  "type": "box",
                  "y": [
                    94,
                    84.9,
                    82.6,
                    80.1,
                    79.6,
                    81.4,
                    77.8,
                    81.7,
                    78.8,
                    73.2,
                    87.9,
                    87.9,
                    93.5,
                    82.3,
                    79.3,
                    78.3,
                    71.6,
                    88.6,
                    74.6,
                    74.1,
                    80.6
                  ]
                },
                {
                  "name": "Asincrona",
                  "type": "box",
                  "y": [
                    77.1,
                    71.7,
                    91,
                    72.2,
                    74.8,
                    85.1,
                    67.6,
                    69.9,
                    75.3,
                    71.7,
                    65.7,
                    72.6,
                    71.5,
                    78.2
                  ]
                }
              ],
              "layout": {
                "template": {
                  "data": {
                    "bar": [
                      {
                        "error_x": {
                          "color": "#2a3f5f"
                        },
                        "error_y": {
                          "color": "#2a3f5f"
                        },
                        "marker": {
                          "line": {
                            "color": "#E5ECF6",
                            "width": 0.5
                          },
                          "pattern": {
                            "fillmode": "overlay",
                            "size": 10,
                            "solidity": 0.2
                          }
                        },
                        "type": "bar"
                      }
                    ],
                    "barpolar": [
                      {
                        "marker": {
                          "line": {
                            "color": "#E5ECF6",
                            "width": 0.5
                          },
                          "pattern": {
                            "fillmode": "overlay",
                            "size": 10,
                            "solidity": 0.2
                          }
                        },
                        "type": "barpolar"
                      }
                    ],
                    "carpet": [
                      {
                        "aaxis": {
                          "endlinecolor": "#2a3f5f",
                          "gridcolor": "white",
                          "linecolor": "white",
                          "minorgridcolor": "white",
                          "startlinecolor": "#2a3f5f"
                        },
                        "baxis": {
                          "endlinecolor": "#2a3f5f",
                          "gridcolor": "white",
                          "linecolor": "white",
                          "minorgridcolor": "white",
                          "startlinecolor": "#2a3f5f"
                        },
                        "type": "carpet"
                      }
                    ],
                    "choropleth": [
                      {
                        "colorbar": {
                          "outlinewidth": 0,
                          "ticks": ""
                        },
                        "type": "choropleth"
                      }
                    ],
                    "contour": [
                      {
                        "colorbar": {
                          "outlinewidth": 0,
                          "ticks": ""
                        },
                        "colorscale": [
                          [
                            0,
                            "#0d0887"
                          ],
                          [
                            0.1111111111111111,
                            "#46039f"
                          ],
                          [
                            0.2222222222222222,
                            "#7201a8"
                          ],
                          [
                            0.3333333333333333,
                            "#9c179e"
                          ],
                          [
                            0.4444444444444444,
                            "#bd3786"
                          ],
                          [
                            0.5555555555555556,
                            "#d8576b"
                          ],
                          [
                            0.6666666666666666,
                            "#ed7953"
                          ],
                          [
                            0.7777777777777778,
                            "#fb9f3a"
                          ],
                          [
                            0.8888888888888888,
                            "#fdca26"
                          ],
                          [
                            1,
                            "#f0f921"
                          ]
                        ],
                        "type": "contour"
                      }
                    ],
                    "contourcarpet": [
                      {
                        "colorbar": {
                          "outlinewidth": 0,
                          "ticks": ""
                        },
                        "type": "contourcarpet"
                      }
                    ],
                    "heatmap": [
                      {
                        "colorbar": {
                          "outlinewidth": 0,
                          "ticks": ""
                        },
                        "colorscale": [
                          [
                            0,
                            "#0d0887"
                          ],
                          [
                            0.1111111111111111,
                            "#46039f"
                          ],
                          [
                            0.2222222222222222,
                            "#7201a8"
                          ],
                          [
                            0.3333333333333333,
                            "#9c179e"
                          ],
                          [
                            0.4444444444444444,
                            "#bd3786"
                          ],
                          [
                            0.5555555555555556,
                            "#d8576b"
                          ],
                          [
                            0.6666666666666666,
                            "#ed7953"
                          ],
                          [
                            0.7777777777777778,
                            "#fb9f3a"
                          ],
                          [
                            0.8888888888888888,
                            "#fdca26"
                          ],
                          [
                            1,
                            "#f0f921"
                          ]
                        ],
                        "type": "heatmap"
                      }
                    ],
                    "heatmapgl": [
                      {
                        "colorbar": {
                          "outlinewidth": 0,
                          "ticks": ""
                        },
                        "colorscale": [
                          [
                            0,
                            "#0d0887"
                          ],
                          [
                            0.1111111111111111,
                            "#46039f"
                          ],
                          [
                            0.2222222222222222,
                            "#7201a8"
                          ],
                          [
                            0.3333333333333333,
                            "#9c179e"
                          ],
                          [
                            0.4444444444444444,
                            "#bd3786"
                          ],
                          [
                            0.5555555555555556,
                            "#d8576b"
                          ],
                          [
                            0.6666666666666666,
                            "#ed7953"
                          ],
                          [
                            0.7777777777777778,
                            "#fb9f3a"
                          ],
                          [
                            0.8888888888888888,
                            "#fdca26"
                          ],
                          [
                            1,
                            "#f0f921"
                          ]
                        ],
                        "type": "heatmapgl"
                      }
                    ],
                    "histogram": [
                      {
                        "marker": {
                          "pattern": {
                            "fillmode": "overlay",
                            "size": 10,
                            "solidity": 0.2
                          }
                        },
                        "type": "histogram"
                      }
                    ],
                    "histogram2d": [
                      {
                        "colorbar": {
                          "outlinewidth": 0,
                          "ticks": ""
                        },
                        "colorscale": [
                          [
                            0,
                            "#0d0887"
                          ],
                          [
                            0.1111111111111111,
                            "#46039f"
                          ],
                          [
                            0.2222222222222222,
                            "#7201a8"
                          ],
                          [
                            0.3333333333333333,
                            "#9c179e"
                          ],
                          [
                            0.4444444444444444,
                            "#bd3786"
                          ],
                          [
                            0.5555555555555556,
                            "#d8576b"
                          ],
                          [
                            0.6666666666666666,
                            "#ed7953"
                          ],
                          [
                            0.7777777777777778,
                            "#fb9f3a"
                          ],
                          [
                            0.8888888888888888,
                            "#fdca26"
                          ],
                          [
                            1,
                            "#f0f921"
                          ]
                        ],
                        "type": "histogram2d"
                      }
                    ],
                    "histogram2dcontour": [
                      {
                        "colorbar": {
                          "outlinewidth": 0,
                          "ticks": ""
                        },
                        "colorscale": [
                          [
                            0,
                            "#0d0887"
                          ],
                          [
                            0.1111111111111111,
                            "#46039f"
                          ],
                          [
                            0.2222222222222222,
                            "#7201a8"
                          ],
                          [
                            0.3333333333333333,
                            "#9c179e"
                          ],
                          [
                            0.4444444444444444,
                            "#bd3786"
                          ],
                          [
                            0.5555555555555556,
                            "#d8576b"
                          ],
                          [
                            0.6666666666666666,
                            "#ed7953"
                          ],
                          [
                            0.7777777777777778,
                            "#fb9f3a"
                          ],
                          [
                            0.8888888888888888,
                            "#fdca26"
                          ],
                          [
                            1,
                            "#f0f921"
                          ]
                        ],
                        "type": "histogram2dcontour"
                      }
                    ],
                    "mesh3d": [
                      {
                        "colorbar": {
                          "outlinewidth": 0,
                          "ticks": ""
                        },
                        "type": "mesh3d"
                      }
                    ],
                    "parcoords": [
                      {
                        "line": {
                          "colorbar": {
                            "outlinewidth": 0,
                            "ticks": ""
                          }
                        },
                        "type": "parcoords"
                      }
                    ],
                    "pie": [
                      {
                        "automargin": true,
                        "type": "pie"
                      }
                    ],
                    "scatter": [
                      {
                        "fillpattern": {
                          "fillmode": "overlay",
                          "size": 10,
                          "solidity": 0.2
                        },
                        "type": "scatter"
                      }
                    ],
                    "scatter3d": [
                      {
                        "line": {
                          "colorbar": {
                            "outlinewidth": 0,
                            "ticks": ""
                          }
                        },
                        "marker": {
                          "colorbar": {
                            "outlinewidth": 0,
                            "ticks": ""
                          }
                        },
                        "type": "scatter3d"
                      }
                    ],
                    "scattercarpet": [
                      {
                        "marker": {
                          "colorbar": {
                            "outlinewidth": 0,
                            "ticks": ""
                          }
                        },
                        "type": "scattercarpet"
                      }
                    ],
                    "scattergeo": [
                      {
                        "marker": {
                          "colorbar": {
                            "outlinewidth": 0,
                            "ticks": ""
                          }
                        },
                        "type": "scattergeo"
                      }
                    ],
                    "scattergl": [
                      {
                        "marker": {
                          "colorbar": {
                            "outlinewidth": 0,
                            "ticks": ""
                          }
                        },
                        "type": "scattergl"
                      }
                    ],
                    "scattermapbox": [
                      {
                        "marker": {
                          "colorbar": {
                            "outlinewidth": 0,
                            "ticks": ""
                          }
                        },
                        "type": "scattermapbox"
                      }
                    ],
                    "scatterpolar": [
                      {
                        "marker": {
                          "colorbar": {
                            "outlinewidth": 0,
                            "ticks": ""
                          }
                        },
                        "type": "scatterpolar"
                      }
                    ],
                    "scatterpolargl": [
                      {
                        "marker": {
                          "colorbar": {
                            "outlinewidth": 0,
                            "ticks": ""
                          }
                        },
                        "type": "scatterpolargl"
                      }
                    ],
                    "scatterternary": [
                      {
                        "marker": {
                          "colorbar": {
                            "outlinewidth": 0,
                            "ticks": ""
                          }
                        },
                        "type": "scatterternary"
                      }
                    ],
                    "surface": [
                      {
                        "colorbar": {
                          "outlinewidth": 0,
                          "ticks": ""
                        },
                        "colorscale": [
                          [
                            0,
                            "#0d0887"
                          ],
                          [
                            0.1111111111111111,
                            "#46039f"
                          ],
                          [
                            0.2222222222222222,
                            "#7201a8"
                          ],
                          [
                            0.3333333333333333,
                            "#9c179e"
                          ],
                          [
                            0.4444444444444444,
                            "#bd3786"
                          ],
                          [
                            0.5555555555555556,
                            "#d8576b"
                          ],
                          [
                            0.6666666666666666,
                            "#ed7953"
                          ],
                          [
                            0.7777777777777778,
                            "#fb9f3a"
                          ],
                          [
                            0.8888888888888888,
                            "#fdca26"
                          ],
                          [
                            1,
                            "#f0f921"
                          ]
                        ],
                        "type": "surface"
                      }
                    ],
                    "table": [
                      {
                        "cells": {
                          "fill": {
                            "color": "#EBF0F8"
                          },
                          "line": {
                            "color": "white"
                          }
                        },
                        "header": {
                          "fill": {
                            "color": "#C8D4E3"
                          },
                          "line": {
                            "color": "white"
                          }
                        },
                        "type": "table"
                      }
                    ]
                  },
                  "layout": {
                    "annotationdefaults": {
                      "arrowcolor": "#2a3f5f",
                      "arrowhead": 0,
                      "arrowwidth": 1
                    },
                    "autotypenumbers": "strict",
                    "coloraxis": {
                      "colorbar": {
                        "outlinewidth": 0,
                        "ticks": ""
                      }
                    },
                    "colorscale": {
                      "diverging": [
                        [
                          0,
                          "#8e0152"
                        ],
                        [
                          0.1,
                          "#c51b7d"
                        ],
                        [
                          0.2,
                          "#de77ae"
                        ],
                        [
                          0.3,
                          "#f1b6da"
                        ],
                        [
                          0.4,
                          "#fde0ef"
                        ],
                        [
                          0.5,
                          "#f7f7f7"
                        ],
                        [
                          0.6,
                          "#e6f5d0"
                        ],
                        [
                          0.7,
                          "#b8e186"
                        ],
                        [
                          0.8,
                          "#7fbc41"
                        ],
                        [
                          0.9,
                          "#4d9221"
                        ],
                        [
                          1,
                          "#276419"
                        ]
                      ],
                      "sequential": [
                        [
                          0,
                          "#0d0887"
                        ],
                        [
                          0.1111111111111111,
                          "#46039f"
                        ],
                        [
                          0.2222222222222222,
                          "#7201a8"
                        ],
                        [
                          0.3333333333333333,
                          "#9c179e"
                        ],
                        [
                          0.4444444444444444,
                          "#bd3786"
                        ],
                        [
                          0.5555555555555556,
                          "#d8576b"
                        ],
                        [
                          0.6666666666666666,
                          "#ed7953"
                        ],
                        [
                          0.7777777777777778,
                          "#fb9f3a"
                        ],
                        [
                          0.8888888888888888,
                          "#fdca26"
                        ],
                        [
                          1,
                          "#f0f921"
                        ]
                      ],
                      "sequentialminus": [
                        [
                          0,
                          "#0d0887"
                        ],
                        [
                          0.1111111111111111,
                          "#46039f"
                        ],
                        [
                          0.2222222222222222,
                          "#7201a8"
                        ],
                        [
                          0.3333333333333333,
                          "#9c179e"
                        ],
                        [
                          0.4444444444444444,
                          "#bd3786"
                        ],
                        [
                          0.5555555555555556,
                          "#d8576b"
                        ],
                        [
                          0.6666666666666666,
                          "#ed7953"
                        ],
                        [
                          0.7777777777777778,
                          "#fb9f3a"
                        ],
                        [
                          0.8888888888888888,
                          "#fdca26"
                        ],
                        [
                          1,
                          "#f0f921"
                        ]
                      ]
                    },
                    "colorway": [
                      "#636efa",
                      "#EF553B",
                      "#00cc96",
                      "#ab63fa",
                      "#FFA15A",
                      "#19d3f3",
                      "#FF6692",
                      "#B6E880",
                      "#FF97FF",
                      "#FECB52"
                    ],
                    "font": {
                      "color": "#2a3f5f"
                    },
                    "geo": {
                      "bgcolor": "white",
                      "lakecolor": "white",
                      "landcolor": "#E5ECF6",
                      "showlakes": true,
                      "showland": true,
                      "subunitcolor": "white"
                    },
                    "hoverlabel": {
                      "align": "left"
                    },
                    "hovermode": "closest",
                    "mapbox": {
                      "style": "light"
                    },
                    "paper_bgcolor": "white",
                    "plot_bgcolor": "#E5ECF6",
                    "polar": {
                      "angularaxis": {
                        "gridcolor": "white",
                        "linecolor": "white",
                        "ticks": ""
                      },
                      "bgcolor": "#E5ECF6",
                      "radialaxis": {
                        "gridcolor": "white",
                        "linecolor": "white",
                        "ticks": ""
                      }
                    },
                    "scene": {
                      "xaxis": {
                        "backgroundcolor": "#E5ECF6",
                        "gridcolor": "white",
                        "gridwidth": 2,
                        "linecolor": "white",
                        "showbackground": true,
                        "ticks": "",
                        "zerolinecolor": "white"
                      },
                      "yaxis": {
                        "backgroundcolor": "#E5ECF6",
                        "gridcolor": "white",
                        "gridwidth": 2,
                        "linecolor": "white",
                        "showbackground": true,
                        "ticks": "",
                        "zerolinecolor": "white"
                      },
                      "zaxis": {
                        "backgroundcolor": "#E5ECF6",
                        "gridcolor": "white",
                        "gridwidth": 2,
                        "linecolor": "white",
                        "showbackground": true,
                        "ticks": "",
                        "zerolinecolor": "white"
                      }
                    },
                    "shapedefaults": {
                      "line": {
                        "color": "#2a3f5f"
                      }
                    },
                    "ternary": {
                      "aaxis": {
                        "gridcolor": "white",
                        "linecolor": "white",
                        "ticks": ""
                      },
                      "baxis": {
                        "gridcolor": "white",
                        "linecolor": "white",
                        "ticks": ""
                      },
                      "bgcolor": "#E5ECF6",
                      "caxis": {
                        "gridcolor": "white",
                        "linecolor": "white",
                        "ticks": ""
                      }
                    },
                    "title": {
                      "x": 0.05
                    },
                    "xaxis": {
                      "automargin": true,
                      "gridcolor": "white",
                      "linecolor": "white",
                      "ticks": "",
                      "title": {
                        "standoff": 15
                      },
                      "zerolinecolor": "white",
                      "zerolinewidth": 2
                    },
                    "yaxis": {
                      "automargin": true,
                      "gridcolor": "white",
                      "linecolor": "white",
                      "ticks": "",
                      "title": {
                        "standoff": 15
                      },
                      "zerolinecolor": "white",
                      "zerolinewidth": 2
                    }
                  }
                }
              }
            }
          },
          "metadata": {},
          "output_type": "display_data"
        }
      ],
      "source": [
        "fig=go.Figure()\n",
        "fig.add_trace(go.Box(y=sincrona,\n",
        "              name='Sincrona'))\n",
        "fig.add_trace(go.Box(y=asincrona,\n",
        "              name='Asincrona'))\n",
        "fig.show()"
      ]
    },
    {
      "cell_type": "markdown",
      "id": "6d7415fc",
      "metadata": {
        "id": "6d7415fc"
      },
      "source": [
        "### 1. Definición de Hipótesis\n",
        "\n",
        "Dado que las calificaciones son obtenidas de personas diferentes, los datos no están emparejados.\n",
        "\n",
        "* $H₀$: La media de las calificaciones de los estudiantes que siguieron la clase de manera sincrónica es menor o igual que la media de las calificaciones de los estudiantes que siguieron la clase de manera asincrónica.\n",
        "\n",
        "* $H₁$: La media de las calificaciones de los estudiantes que siguieron la clase de manera sincrónica es mayor que la media de las calificaciones de los estudiantes que siguieron la clase de manera asincrónica."
      ]
    },
    {
      "cell_type": "markdown",
      "id": "f4e39189",
      "metadata": {
        "id": "f4e39189"
      },
      "source": [
        "### 2. Comprobación de supuestos\n",
        "\n",
        "* $H₀$: Los datos tienen una distribución normal.\n",
        "* $H₁$: Los datos no tienen una distribución normal.\n",
        "\n",
        "Se asume que $α = 0.05$. Si el valor $p > 0.05$, se puede afirmar que los datos tienen una distribución normal.\n",
        "Para verificar la normalidad, se utilizó el test W de Shapiro-Wilk, que generalmente se prefiere para muestras más pequeñas, aunque existen otras opciones como el test de Kolmogorov-Smirnov y el test de D'Agostino y Pearson"
      ]
    },
    {
      "cell_type": "markdown",
      "id": "b5b3a1ec",
      "metadata": {
        "id": "b5b3a1ec"
      },
      "source": [
        "### Prueba de Shapiro-Wilk\n",
        "\n",
        "El test de Shapiro-Wilk es una prueba estadística utilizada para verificar si un conjunto de datos sigue una distribución normal o no. Se utiliza comúnmente en análisis de datos para verificar la normalidad de los datos antes de realizar pruebas estadísticas paramétricas.\n",
        "\n",
        "El test de Shapiro-Wilk se basa en el cálculo del estadístico $W$, que se compara con una tabla de valores críticos para determinar si el conjunto de datos es normalmente distribuido. El valor $p$ obtenido a partir del test indica la probabilidad de que el conjunto de datos se distribuya normalmente.\n",
        "\n",
        "El test de Shapiro-Wilk es una prueba de bondad de ajuste que compara los datos observados con una distribución normal teórica. La hipótesis nula es que los datos se distribuyen normalmente, mientras que la hipótesis alternativa es que los datos no se distribuyen normalmente."
      ]
    },
    {
      "cell_type": "code",
      "execution_count": 9,
      "id": "2e61fff9",
      "metadata": {
        "ExecuteTime": {
          "end_time": "2023-09-01T22:57:55.240364Z",
          "start_time": "2023-09-01T22:57:55.224834Z"
        },
        "id": "2e61fff9"
      },
      "outputs": [],
      "source": [
        "def probar_normalidad(datos):\n",
        "    test,valor_p=stats.shapiro(datos)\n",
        "    print('p = %.6f' % valor_p)\n",
        "    if valor_p<0.05:\n",
        "        print('Rechaza la H0 >> Los datos no estan normalmente distribuidos')\n",
        "    else:\n",
        "        print('No se rechaza la H0 >> Los datos estan normalmente distribuidos')"
      ]
    },
    {
      "cell_type": "code",
      "execution_count": 10,
      "id": "20279cd3",
      "metadata": {
        "ExecuteTime": {
          "end_time": "2023-09-01T22:58:03.240731Z",
          "start_time": "2023-09-01T22:58:03.225770Z"
        },
        "id": "20279cd3"
      },
      "outputs": [
        {
          "name": "stdout",
          "output_type": "stream",
          "text": [
            "p = 0.418745\n",
            "No se rechaza la H0 >> Los datos estan normalmente distribuidos\n"
          ]
        }
      ],
      "source": [
        "probar_normalidad(sincrona)"
      ]
    },
    {
      "cell_type": "code",
      "execution_count": 11,
      "id": "fac77806",
      "metadata": {
        "ExecuteTime": {
          "end_time": "2023-09-01T22:58:07.498945Z",
          "start_time": "2023-09-01T22:58:07.482405Z"
        },
        "id": "fac77806"
      },
      "outputs": [
        {
          "name": "stdout",
          "output_type": "stream",
          "text": [
            "p = 0.080302\n",
            "No se rechaza la H0 >> Los datos estan normalmente distribuidos\n"
          ]
        }
      ],
      "source": [
        "probar_normalidad(asincrona)"
      ]
    },
    {
      "cell_type": "markdown",
      "id": "16ee74cb",
      "metadata": {
        "id": "16ee74cb"
      },
      "source": [
        "Siguiente comprobación de supuestos\n",
        "\n",
        "* $H₀$: Las varianzas de las muestras son iguales.\n",
        "* $H₁$: Las varianzas de las muestras son diferentes."
      ]
    },
    {
      "cell_type": "code",
      "execution_count": null,
      "id": "17e25eaf",
      "metadata": {
        "ExecuteTime": {
          "end_time": "2023-09-01T23:00:42.878327Z",
          "start_time": "2023-09-01T23:00:42.865271Z"
        },
        "id": "17e25eaf"
      },
      "outputs": [],
      "source": [
        "def probar_varianzas(*grupos):\n",
        "    test,valor_p=stats.levene(*grupos)\n",
        "    print('p = %.6f' % valor_p)\n",
        "    if valor_p<0.05:\n",
        "        print('Rechaza la H0 >> Las varianzas son diferentes')\n",
        "    else:\n",
        "        print('No se rechaza la H0 >> Las varianzas son iguales')"
      ]
    },
    {
      "cell_type": "markdown",
      "id": "9bd48f4d",
      "metadata": {
        "id": "9bd48f4d"
      },
      "source": [
        "Este test evalúa la hipótesis nula de que las varianzas poblacionales son iguales (llamado homogeneidad de varianza). Suponga que el valor $p$ resultante del test de Levene es menor que el nivel de significancia (típicamente 0,05). En ese caso, es poco probable que las diferencias obtenidas en las varianzas de las muestras hayan ocurrido por muestreo aleatorio de una población con varianzas iguales.\n",
        "\n",
        "### Prueba de Levene\n",
        "\n",
        "El test de Levene es un test estadístico utilizado para verificar si las varianzas de dos o más grupos son estadísticamente iguales. El objetivo de este test es determinar si las varianzas son homogéneas (homocedasticidad) o si son diferentes (heterocedasticidad).\n",
        "\n",
        "El test de Levene se basa en la comparación de la varianza observada de cada grupo con la varianza esperada. La varianza esperada se calcula a partir de la media de las varianzas de los grupos, es decir, se supone que los grupos tienen varianzas iguales. Si la varianza observada es significativamente diferente de la varianza esperada, se rechaza la hipótesis nula de igualdad de varianzas."
      ]
    },
    {
      "cell_type": "code",
      "execution_count": null,
      "id": "c3e9e638",
      "metadata": {
        "ExecuteTime": {
          "end_time": "2023-09-01T23:00:50.390422Z",
          "start_time": "2023-09-01T23:00:50.374246Z"
        },
        "id": "c3e9e638"
      },
      "outputs": [],
      "source": [
        "probar_varianzas(sincrona,asincrona)"
      ]
    },
    {
      "cell_type": "markdown",
      "id": "3843b403",
      "metadata": {
        "id": "3843b403"
      },
      "source": [
        "### 3. Seleccionando la Prueba Adecuada\n",
        "\n",
        "Dado que se cumplen las suposiciones, podemos realizar la versión paramétrica de la prueba para 2 grupos y datos no pareados: Prueba T de muestras independientes.\n",
        "\n",
        "Recordemos nuestras hipótesis:\n",
        "\n",
        "* $H₀$: media_sincronos <= media_asincronos\n",
        "* $H₁$: media_sincronos > media_asincronos\n",
        "\n",
        "$H₁$ nunca debe estar relacionada con una igualdad."
      ]
    },
    {
      "cell_type": "code",
      "execution_count": null,
      "id": "4f1be1db",
      "metadata": {
        "ExecuteTime": {
          "end_time": "2023-09-01T23:09:13.875686Z",
          "start_time": "2023-09-01T23:09:13.848122Z"
        },
        "id": "4f1be1db"
      },
      "outputs": [],
      "source": [
        "test,valor_p=stats.ttest_ind(sincrona, asincrona)\n",
        "print('p = %.6f' % valor_p)\n",
        "print('Dado que la hipotesis nula es \"one sided\"')\n",
        "print('Usar p/2')\n",
        "print('Valor p one sided = %.6f' % (valor_p/2))\n",
        "if valor_p/2<0.05:\n",
        "    print('Rechaza la H0')\n",
        "else:\n",
        "    print('No se rechaza la H0')"
      ]
    },
    {
      "cell_type": "markdown",
      "id": "23ee36c2",
      "metadata": {
        "id": "23ee36c2"
      },
      "source": [
        "### One-sided vs Two-sided\n",
        "\n",
        "La diferencia entre las pruebas de hipótesis one-sided y two-sided (o de una y dos colas) radica en la dirección de la hipótesis alternativa.\n",
        "\n",
        "En una prueba de hipótesis one-sided, la hipótesis alternativa se enfoca en una dirección específica. Por ejemplo, si estamos probando una hipótesis sobre la media de una población, una hipótesis alternativa one-sided podría afirmar que la media es mayor que un cierto valor. En este caso, el resultado de la prueba se consideraría significativo si la media de la muestra es significativamente mayor que el valor de referencia.\n",
        "\n",
        "Por otro lado, en una prueba de hipótesis two-sided, la hipótesis alternativa se enfoca en ambas direcciones. En nuestro ejemplo, una hipótesis alternativa two-sided afirmaría simplemente que la media no es igual a un cierto valor. En este caso, el resultado de la prueba se consideraría significativo si la media de la muestra difiere significativamente del valor de referencia, ya sea porque es mayor o menor que el valor de referencia."
      ]
    },
    {
      "cell_type": "markdown",
      "id": "19b5efcb",
      "metadata": {
        "id": "19b5efcb"
      },
      "source": [
        "### 4. Decisión y conclusión\n",
        "\n",
        "En este nivel de significancia, hay suficiente evidencia para concluir que la nota promedio de los estudiantes que siguen el curso de manera sincrónica es más alta que la de los estudiantes que siguen el curso de manera asíncrona."
      ]
    },
    {
      "cell_type": "markdown",
      "id": "f1dfe479",
      "metadata": {
        "id": "f1dfe479"
      },
      "source": [
        "## ANOVA\n",
        "\n",
        "Un pediatra quiere observar el efecto del consumo de fórmula en la ganancia de peso mensual promedio (en gramos) de los bebés. Por esta razón, recolectó datos de tres grupos diferentes. El primer grupo son niños amamantados exclusivamente (reciben solo leche materna), el segundo grupo son niños que son alimentados solo con fórmula y el último grupo son niños alimentados con ambos, fórmula y leche materna. Estos datos son los siguientes:"
      ]
    },
    {
      "cell_type": "code",
      "execution_count": null,
      "id": "134c0f5e",
      "metadata": {
        "ExecuteTime": {
          "end_time": "2023-09-01T23:12:21.578792Z",
          "start_time": "2023-09-01T23:12:21.570442Z"
        },
        "id": "134c0f5e"
      },
      "outputs": [],
      "source": [
        "leche_materna=np.array([794.1, 716.9, 993. , 724.7, 760.9, 908.2, 659.3 , 690.8, 768.7, 717.3 , 630.7, 729.5, 714.1, 810.3, 583.5, 679.9, 865.1])\n",
        "leche_formula=np.array([898.8, 881.2, 940.2, 966.2, 957.5, 1061.7, 1046.2, 980.4, 895.6, 919.7, 1074.1, 952.5, 796.3, 859.6, 871.1 , 1047.5, 919.1 , 1160.5, 996.9])\n",
        "leche_ambos=np.array([976.4, 656.4, 861.2, 706.8, 718.5, 717.1, 759.8, 894.6, 867.6, 805.6, 765.4, 800.3, 789.9, 875.3, 740. , 799.4, 790.3, 795.2 , 823.6, 818.7, 926.8, 791.7, 948.3])"
      ]
    },
    {
      "cell_type": "markdown",
      "id": "1fa51f1d",
      "metadata": {
        "id": "1fa51f1d"
      },
      "source": [
        "Según esta información, se debe realizar una prueba de hipótesis para verificar si hay una diferencia entre la ganancia mensual promedio de estos tres grupos utilizando un nivel de significancia de 0,05. Si hay una diferencia significativa, se debe realizar un análisis adicional para determinar qué causó la diferencia. Antes de realizar la prueba de hipótesis, es importante verificar los supuestos relacionados."
      ]
    },
    {
      "cell_type": "code",
      "execution_count": null,
      "id": "2338922b",
      "metadata": {
        "ExecuteTime": {
          "end_time": "2023-09-01T23:13:12.287659Z",
          "start_time": "2023-09-01T23:13:12.263651Z"
        },
        "id": "2338922b"
      },
      "outputs": [],
      "source": [
        "fig=go.Figure()\n",
        "fig.add_trace(go.Box(y=leche_materna,name='Materna'))\n",
        "fig.add_trace(go.Box(y=leche_formula,name='Formula'))\n",
        "fig.add_trace(go.Box(y=leche_ambos,name='Ambos'))\n",
        "fig.show()"
      ]
    },
    {
      "cell_type": "markdown",
      "id": "5efde0ca",
      "metadata": {
        "id": "5efde0ca"
      },
      "source": [
        "### 1. Definición de Hipótesis\n",
        "\n",
        "* $H₀$: Establece que las medias de los tres grupos (amamantados exclusivamente, alimentados con fórmula y alimentados con ambos) son iguales\n",
        "\n",
        "* $H₁$: Afirma que al menos una de las medias es diferente"
      ]
    },
    {
      "cell_type": "markdown",
      "id": "07e253ae",
      "metadata": {
        "id": "07e253ae"
      },
      "source": [
        "### 2. Comprobación de supuestos\n",
        "\n",
        "* $H₀$: Los datos tienen una distribución normal.\n",
        "* $H₁$: Los datos no tienen una distribución normal.\n",
        "<br><br>\n",
        "* $H₀$: Las varianzas de las muestras son iguales.\n",
        "* $H₁$: Las varianzas de las muestras son diferentes."
      ]
    },
    {
      "cell_type": "code",
      "execution_count": null,
      "id": "90a30a7b",
      "metadata": {
        "ExecuteTime": {
          "end_time": "2023-09-01T23:15:42.088768Z",
          "start_time": "2023-09-01T23:15:42.077937Z"
        },
        "id": "90a30a7b"
      },
      "outputs": [],
      "source": [
        "probar_normalidad(leche_materna)"
      ]
    },
    {
      "cell_type": "code",
      "execution_count": null,
      "id": "66b0ab1f",
      "metadata": {
        "ExecuteTime": {
          "end_time": "2023-09-01T23:15:50.628338Z",
          "start_time": "2023-09-01T23:15:50.620301Z"
        },
        "id": "66b0ab1f"
      },
      "outputs": [],
      "source": [
        "probar_normalidad(leche_formula)"
      ]
    },
    {
      "cell_type": "code",
      "execution_count": null,
      "id": "5f86084f",
      "metadata": {
        "ExecuteTime": {
          "end_time": "2023-09-01T23:15:55.453394Z",
          "start_time": "2023-09-01T23:15:55.445385Z"
        },
        "id": "5f86084f"
      },
      "outputs": [],
      "source": [
        "probar_normalidad(leche_ambos)"
      ]
    },
    {
      "cell_type": "code",
      "execution_count": null,
      "id": "689e2880",
      "metadata": {
        "ExecuteTime": {
          "end_time": "2023-09-01T23:16:04.279470Z",
          "start_time": "2023-09-01T23:16:04.264397Z"
        },
        "id": "689e2880"
      },
      "outputs": [],
      "source": [
        "probar_varianzas(leche_materna,leche_formula,leche_ambos)"
      ]
    },
    {
      "cell_type": "markdown",
      "id": "02fe7831",
      "metadata": {
        "id": "02fe7831"
      },
      "source": [
        "### 3. Seleccionando la Prueba Adecuada\n",
        "Dado que se cumplen los supuestos, podemos realizar la versión paramétrica de la prueba para más de 2 grupos y datos no pareados."
      ]
    },
    {
      "cell_type": "code",
      "execution_count": null,
      "id": "24f31769",
      "metadata": {
        "ExecuteTime": {
          "end_time": "2023-09-01T23:17:15.945786Z",
          "start_time": "2023-09-01T23:17:15.920422Z"
        },
        "id": "24f31769"
      },
      "outputs": [],
      "source": [
        "test,valor_p=stats.f_oneway(leche_materna,leche_formula,leche_ambos)\n",
        "print('Valor p:%.10f' % valor_p)\n",
        "if valor_p<0.05:\n",
        "    print('Se rechaza la hipotesis nula')\n",
        "else:\n",
        "    print('La hipotesis nula se mantiene')"
      ]
    },
    {
      "cell_type": "markdown",
      "id": "b549166d",
      "metadata": {
        "id": "b549166d"
      },
      "source": [
        "### 4. Decisión y conclusión\n",
        "En este nivel de significancia, se puede concluir que al menos uno de los grupos tiene una ganancia de peso mensual promedio diferente. Para encontrar cuál o cuáles grupos causan la diferencia, necesitamos realizar una prueba post-hoc/comparación por pares como se muestra a continuación."
      ]
    },
    {
      "cell_type": "code",
      "execution_count": null,
      "id": "0b37d273",
      "metadata": {
        "ExecuteTime": {
          "end_time": "2023-09-01T23:29:36.195385Z",
          "start_time": "2023-09-01T23:29:36.073011Z"
        },
        "id": "0b37d273"
      },
      "outputs": [],
      "source": [
        "df_posthoc=sp.posthoc_ttest([leche_materna,leche_formula,leche_ambos],\n",
        "                equal_var=True,p_adjust='bonferroni')\n",
        "# t-test con posthoc bonferroni\n",
        "df_posthoc.columns=['leche_materna','leche_formula','leche_ambos']\n",
        "df_posthoc.index=['leche_materna','leche_formula','leche_ambos']\n",
        "df_posthoc.style.applymap(\n",
        "    lambda x:'background-color:violet' if x<0.05 else 'background-color:white')"
      ]
    },
    {
      "cell_type": "markdown",
      "id": "07d64d59",
      "metadata": {
        "id": "07d64d59"
      },
      "source": [
        "En este nivel de significancia, se puede concluir que:\n",
        "\n",
        "* \"Exclusivamente amamantados\" es diferente a \"Solo fórmula\"\n",
        "* \"Solo fórmula\" es diferente tanto a \"Exclusivamente amamantados\" como a \"Ambos\"\n",
        "* \"Ambos\" es diferente a \"Solo fórmula\"."
      ]
    },
    {
      "cell_type": "markdown",
      "id": "8bfbccc0",
      "metadata": {
        "id": "8bfbccc0"
      },
      "source": [
        "## Prueba U de Mann-Whitney\n",
        "\n",
        "Un especialista en recursos humanos que trabaja en una empresa de tecnología está interesado en el tiempo de trabajo extra de diferentes equipos. Para investigar si hay una diferencia entre el tiempo extra del equipo de desarrollo de software y el equipo de pruebas, seleccionó aleatoriamente a 17 empleados de cada uno de los dos equipos y registró su tiempo promedio semanal de trabajo extra en términos de horas. Los datos se presentan a continuación."
      ]
    },
    {
      "cell_type": "code",
      "execution_count": null,
      "id": "ae297e15",
      "metadata": {
        "ExecuteTime": {
          "end_time": "2023-09-01T23:31:56.980115Z",
          "start_time": "2023-09-01T23:31:56.964065Z"
        },
        "id": "ae297e15"
      },
      "outputs": [],
      "source": [
        "equipo_desarrolladores=np.array([2.3, 2.1, 1.4, 2.0, 8.7, 2.2, 3.1, 4.2, 3.6, 2.5, 3.1, 6.2, 12.1, 3.9, 2.2, 1.2 ,3.4])\n",
        "equipo_pruebas=np.array([6.2, 7.1, 1.5, 2,3 , 2, 1.5, 6.1, 2.4, 2.3, 12.4, 1.8, 5.3, 3.1, 9.4, 2.3, 4.1])"
      ]
    },
    {
      "cell_type": "code",
      "execution_count": null,
      "id": "fd036e7c",
      "metadata": {
        "ExecuteTime": {
          "end_time": "2023-09-01T23:31:58.910369Z",
          "start_time": "2023-09-01T23:31:58.898334Z"
        },
        "id": "fd036e7c"
      },
      "outputs": [],
      "source": [
        "fig = go.Figure()\n",
        "fig.add_trace(go.Box(y=equipo_desarrolladores,name='desarrolladores'))\n",
        "fig.add_trace(go.Box(y=equipo_pruebas,name='pruebas'))\n",
        "fig.show()"
      ]
    },
    {
      "cell_type": "markdown",
      "id": "9f5e5b63",
      "metadata": {
        "id": "9f5e5b63"
      },
      "source": [
        "De acuerdo con esta información, se debe realizar una prueba de hipótesis para verificar si hay una diferencia entre el tiempo extra de trabajo de dos equipos utilizando un nivel de significancia de 0,05. Antes de realizar la prueba de hipótesis, es importante verificar los supuestos relacionados."
      ]
    },
    {
      "cell_type": "markdown",
      "id": "433cde0a",
      "metadata": {
        "id": "433cde0a"
      },
      "source": [
        "### 1. Definición de Hipótesis\n",
        "\n",
        "* $H₀$: El promedio de tiempo extra de trabajo del equipo de desarrollo de software es menor o igual que el promedio de tiempo extra de trabajo del equipo de pruebas.\n",
        "\n",
        "* $H₁$: El promedio de tiempo extra de trabajo del equipo de desarrollo de software es mayor que el promedio de tiempo extra de trabajo del equipo de pruebas."
      ]
    },
    {
      "cell_type": "markdown",
      "id": "7bf72c06",
      "metadata": {
        "id": "7bf72c06"
      },
      "source": [
        "### 2. Comprobación de supuestos\n",
        "\n",
        "* $H₀$: Los datos tienen una distribución normal.\n",
        "* $H₁$: Los datos no tienen una distribución normal.\n",
        "<br><br>\n",
        "* $H₀$: Las varianzas de las muestras son iguales.\n",
        "* $H₁$: Las varianzas de las muestras son diferentes."
      ]
    },
    {
      "cell_type": "code",
      "execution_count": null,
      "id": "8cc5d167",
      "metadata": {
        "ExecuteTime": {
          "end_time": "2023-09-01T23:33:39.106228Z",
          "start_time": "2023-09-01T23:33:39.098218Z"
        },
        "id": "8cc5d167"
      },
      "outputs": [],
      "source": [
        "probar_normalidad(equipo_desarrolladores)\n",
        "probar_normalidad(equipo_pruebas)\n",
        "probar_varianzas(equipo_desarrolladores,equipo_pruebas)"
      ]
    },
    {
      "cell_type": "markdown",
      "id": "f97c530d",
      "metadata": {
        "id": "f97c530d"
      },
      "source": [
        "### 3. Selección de la Prueba Adecuada\n",
        "Hay dos grupos y los datos se recopilan de diferentes individuos, por lo que no están emparejados. Sin embargo, no se cumple la suposición de normalidad; por lo tanto, necesitamos utilizar la versión no paramétrica de la comparación de 2 grupos para datos no pareados: la Prueba U de Mann-Whitney."
      ]
    },
    {
      "cell_type": "code",
      "execution_count": null,
      "id": "0b9bd902",
      "metadata": {
        "ExecuteTime": {
          "end_time": "2023-09-01T23:34:30.474436Z",
          "start_time": "2023-09-01T23:34:30.445602Z"
        },
        "id": "0b9bd902"
      },
      "outputs": [],
      "source": [
        "test,valor_p=stats.mannwhitneyu(equipo_desarrolladores,\n",
        "                                equipo_pruebas)\n",
        "print('Valor p one sided:%.4f' % (valor_p/2))\n",
        "if valor_p/2<0.05:\n",
        "    print('Se rechaza la H0')\n",
        "else:\n",
        "    print('Se mantiene la H0')"
      ]
    },
    {
      "cell_type": "markdown",
      "id": "dcd6b0a1",
      "metadata": {
        "id": "dcd6b0a1"
      },
      "source": [
        "### 4. Decisión y conclusión\n",
        "\n",
        "En este nivel de significancia, se puede decir que no hay una diferencia estadísticamente significativa entre el tiempo promedio de trabajo extra de los dos equipos."
      ]
    },
    {
      "cell_type": "markdown",
      "id": "9de145f3",
      "metadata": {
        "id": "9de145f3"
      },
      "source": [
        "##  Kruskal-Wallis\n",
        "Una empresa de comercio electrónico publica regularmente sus campañas en YouTube, Instagram y Facebook. Sin embargo, el nuevo gerente estaba curioso por saber si había alguna diferencia en la cantidad de clientes atraídos por estas plataformas. Por lo tanto, comenzó a utilizar Adjust, una aplicación que permite saber de dónde provienen los usuarios. Los números diarios reportados por Adjust para cada plataforma son los siguientes."
      ]
    },
    {
      "cell_type": "code",
      "execution_count": null,
      "id": "e5c03a04",
      "metadata": {
        "ExecuteTime": {
          "end_time": "2023-09-01T23:43:26.626140Z",
          "start_time": "2023-09-01T23:43:26.613899Z"
        },
        "id": "e5c03a04"
      },
      "outputs": [],
      "source": [
        "youtube=np.array([1913, 1879, 1939, 2146, 2040, 2127, 2122, 2156, 2036, 1974, 1956, 2146, 2151, 1943, 2125])\n",
        "instagram=np.array([2305., 2355., 2203., 2231., 2185., 2420., 2386., 2410., 2340., 2349., 2241., 2396., 2244., 2267., 2281.])\n",
        "facebook=np.array([2133., 2522., 2124., 2551., 2293., 2367., 2460., 2311., 2178., 2113., 2048., 2443., 2265., 2095., 2528.])"
      ]
    },
    {
      "cell_type": "code",
      "execution_count": null,
      "id": "ee2fb212",
      "metadata": {
        "ExecuteTime": {
          "end_time": "2023-09-01T23:43:30.021038Z",
          "start_time": "2023-09-01T23:43:30.005034Z"
        },
        "id": "ee2fb212"
      },
      "outputs": [],
      "source": [
        "fig = go.Figure()\n",
        "fig.add_trace(go.Box(y=youtube,name='youtube'))\n",
        "fig.add_trace(go.Box(y=instagram,name='instagram'))\n",
        "fig.add_trace(go.Box(y=facebook,name='facebook'))\n",
        "fig.show()"
      ]
    },
    {
      "cell_type": "markdown",
      "id": "ed9cdf3f",
      "metadata": {
        "id": "ed9cdf3f"
      },
      "source": [
        "De acuerdo con esta información, realice la prueba de hipótesis para verificar si existe una diferencia entre la adquisición promedio de clientes de estas tres plataformas utilizando un nivel de significancia de 0.05. Si hay una diferencia significativa, realice un análisis adicional para encontrar qué causó la diferencia. Antes de realizar la prueba de hipótesis, verifique las suposiciones relacionadas."
      ]
    },
    {
      "cell_type": "markdown",
      "id": "50a9a20b",
      "metadata": {
        "id": "50a9a20b"
      },
      "source": [
        "### 1. Definición de Hipótesis\n",
        "* $H₀$: La media de las muestras de cada plataforma es la misma.\n",
        "* $H₁$: Al menos una de las medias de las muestras es diferente de las demás."
      ]
    },
    {
      "cell_type": "markdown",
      "id": "16c6b1b8",
      "metadata": {
        "id": "16c6b1b8"
      },
      "source": [
        "### 2. Comprobación de supuestos\n",
        "\n",
        "* $H₀$: Los datos tienen una distribución normal.\n",
        "* $H₁$: Los datos no tienen una distribución normal.\n",
        "<br><br>\n",
        "* $H₀$: Las varianzas de las muestras son iguales.\n",
        "* $H₁$: Las varianzas de las muestras son diferentes."
      ]
    },
    {
      "cell_type": "code",
      "execution_count": null,
      "id": "7ef60eef",
      "metadata": {
        "ExecuteTime": {
          "end_time": "2023-09-01T23:44:05.780579Z",
          "start_time": "2023-09-01T23:44:05.767547Z"
        },
        "id": "7ef60eef"
      },
      "outputs": [],
      "source": [
        "probar_normalidad(youtube)\n",
        "probar_normalidad(instagram)\n",
        "probar_normalidad(facebook)\n",
        "probar_varianzas(youtube,instagram,facebook)"
      ]
    },
    {
      "cell_type": "markdown",
      "id": "1b3dd6d4",
      "metadata": {
        "id": "1b3dd6d4"
      },
      "source": [
        "### 3. Selección de la Prueba Adecuada\n",
        "Las suposiciones de normalidad y homogeneidad de varianzas no se cumplen, por lo tanto, necesitamos utilizar la versión no paramétrica del ANOVA para datos no pareados (los datos se recolectan de diferentes fuentes)."
      ]
    },
    {
      "cell_type": "code",
      "execution_count": null,
      "id": "d7b753de",
      "metadata": {
        "ExecuteTime": {
          "end_time": "2023-09-01T23:44:42.626526Z",
          "start_time": "2023-09-01T23:44:42.614496Z"
        },
        "id": "d7b753de"
      },
      "outputs": [],
      "source": [
        "test,valor_p=stats.kruskal(youtube,instagram,facebook)\n",
        "print('Valor p:%.6f' % valor_p)\n",
        "if valor_p<0.05:\n",
        "    print('Se rechaza la H0')\n",
        "else:\n",
        "    print('No se rechaza la H0')"
      ]
    },
    {
      "cell_type": "markdown",
      "id": "f7c15671",
      "metadata": {
        "id": "f7c15671"
      },
      "source": [
        "### 4. Decisión y conclusión\n",
        "En este nivel de significancia, al menos uno de los números promedio de adquisición de clientes es diferente. Dado que los datos no son normales, se utiliza la versión no paramétrica de la prueba post hoc."
      ]
    },
    {
      "cell_type": "code",
      "execution_count": null,
      "id": "b0a8c610",
      "metadata": {
        "ExecuteTime": {
          "end_time": "2023-09-01T23:45:52.408303Z",
          "start_time": "2023-09-01T23:45:52.368059Z"
        },
        "id": "b0a8c610"
      },
      "outputs": [],
      "source": [
        "df_posthoc=sp.posthoc_mannwhitney([youtube,instagram,facebook],\n",
        "                                  p_adjust='bonferroni')\n",
        "df_posthoc.columns=['youtube','instagram','facebook']\n",
        "df_posthoc.index=['youtube','instagram','facebook']\n",
        "df_posthoc.style.applymap(lambda x:'background-color:violet' if x<0.05 else 'background-color:white')"
      ]
    },
    {
      "cell_type": "markdown",
      "id": "680ddfef",
      "metadata": {
        "id": "680ddfef"
      },
      "source": [
        "El número promedio de clientes provenientes de YouTube es diferente de los demás (en realidad, es más pequeño que los demás)."
      ]
    },
    {
      "cell_type": "markdown",
      "id": "938a8bd7",
      "metadata": {
        "id": "938a8bd7"
      },
      "source": [
        "## Prueba T pareada\n",
        "\n",
        "El Centro de Salud Universitario diagnosticó a dieciocho estudiantes con colesterol alto en el semestre anterior. El personal médico les informó a estos pacientes sobre los peligros del colesterol alto y les prescribió un programa de dieta. Un mes después, los pacientes regresaron para un control y se volvió a examinar su nivel de colesterol. Pruebe si hay una diferencia en los niveles de colesterol de los pacientes.\n",
        "\n",
        "De acuerdo con esta información, realice la prueba de hipótesis para verificar si hay una disminución en los niveles de colesterol de los pacientes después de la dieta utilizando un nivel de significancia de 0,05. Antes de realizar la prueba de hipótesis, verifique las suposiciones relacionadas. Comente los resultados."
      ]
    },
    {
      "cell_type": "code",
      "execution_count": null,
      "id": "51ed21ba",
      "metadata": {
        "ExecuteTime": {
          "end_time": "2023-09-01T23:51:59.086479Z",
          "start_time": "2023-09-01T23:51:59.071345Z"
        },
        "id": "51ed21ba"
      },
      "outputs": [],
      "source": [
        "antes_dieta=[224, 235, 223, 253, 253, 224, 244, 225, 259, 220, 242, 240, 239, 229, 276, 254, 237, 227]\n",
        "despues_dieta=[198, 195, 213, 190, 246, 206, 225, 199, 214, 210, 188, 205, 200, 220, 190, 199, 191, 218]"
      ]
    },
    {
      "cell_type": "code",
      "execution_count": null,
      "id": "987f6990",
      "metadata": {
        "ExecuteTime": {
          "end_time": "2023-09-01T23:52:03.438687Z",
          "start_time": "2023-09-01T23:52:03.414673Z"
        },
        "id": "987f6990"
      },
      "outputs": [],
      "source": [
        "fig = go.Figure()\n",
        "fig.add_trace(go.Box(y=antes_dieta,name='Antes'))\n",
        "fig.add_trace(go.Box(y=despues_dieta,name='Despues'))\n",
        "fig.show()"
      ]
    },
    {
      "cell_type": "markdown",
      "id": "3b0f8fb1",
      "metadata": {
        "id": "3b0f8fb1"
      },
      "source": [
        "### 1. Definición de Hipótesis\n",
        "* $H₀$: El nivel de colesterol promedio de los estudiantes es igual o mayor después de seguir la dieta recomendada por la Universidad.\n",
        "* $H₁$: El nivel de colesterol promedio de los estudiantes disminuye después de seguir la dieta recomendada por la Universidad."
      ]
    },
    {
      "cell_type": "markdown",
      "id": "fb4c6272",
      "metadata": {
        "id": "fb4c6272"
      },
      "source": [
        "### 2. Comprobación de supuestos\n",
        "\n",
        "* $H₀$: Los datos tienen una distribución normal.\n",
        "* $H₁$: Los datos no tienen una distribución normal.\n",
        "<br><br>\n",
        "* $H₀$: Las varianzas de las muestras son iguales.\n",
        "* $H₁$: Las varianzas de las muestras son diferentes."
      ]
    },
    {
      "cell_type": "code",
      "execution_count": null,
      "id": "72315fdb",
      "metadata": {
        "ExecuteTime": {
          "end_time": "2023-09-01T23:52:54.581046Z",
          "start_time": "2023-09-01T23:52:54.573016Z"
        },
        "id": "72315fdb"
      },
      "outputs": [],
      "source": [
        "probar_normalidad(antes_dieta)\n",
        "probar_normalidad(despues_dieta)\n",
        "probar_varianzas(antes_dieta,despues_dieta)"
      ]
    },
    {
      "cell_type": "markdown",
      "id": "6ab04dc7",
      "metadata": {
        "id": "6ab04dc7"
      },
      "source": [
        "### 3. Selección de la Prueba Adecuada\n",
        "El conjunto de datos es pareado ya que se recopila información de los mismos individuos y las suposiciones se cumplen, por lo tanto podemos utilizar la Prueba T pareada."
      ]
    },
    {
      "cell_type": "code",
      "execution_count": null,
      "id": "d837b7d5",
      "metadata": {
        "ExecuteTime": {
          "end_time": "2023-09-01T23:53:36.955287Z",
          "start_time": "2023-09-01T23:53:36.925560Z"
        },
        "id": "d837b7d5"
      },
      "outputs": [],
      "source": [
        "test,valor_p=stats.ttest_rel(antes_dieta,despues_dieta)\n",
        "print('Valor p one sided: %0.6f' % (valor_p/2))\n",
        "if valor_p/2<0.05:\n",
        "    print('Se rechaza la H0')\n",
        "else:\n",
        "    print('Se mantiene la H0')"
      ]
    },
    {
      "cell_type": "markdown",
      "id": "b6064a67",
      "metadata": {
        "id": "b6064a67"
      },
      "source": [
        "### 4. Decisión y conclusión\n",
        "En este nivel de significancia, hay suficiente evidencia para concluir que el nivel promedio de colesterol de los pacientes ha disminuido después de la dieta."
      ]
    },
    {
      "cell_type": "markdown",
      "id": "7db203b4",
      "metadata": {
        "id": "7db203b4"
      },
      "source": [
        "## Prueba de Wilcoxon de Rangos con Signo\n",
        "Un inversor de capital de riesgo quería invertir en una startup que proporciona compresión de datos sin pérdida de calidad, pero hay dos competidores: DataCompress y FastZip. Inicialmente, el creía que el rendimiento de DataCompress podría ser mejor, pero aún así quería probarlo antes de invertir. Luego, dio los mismos archivos a cada compañía para comprimir y registró sus puntajes de rendimiento. Los datos están abajo."
      ]
    },
    {
      "cell_type": "code",
      "execution_count": null,
      "id": "017fbc3e",
      "metadata": {
        "ExecuteTime": {
          "end_time": "2023-09-01T23:54:33.341481Z",
          "start_time": "2023-09-01T23:54:33.323722Z"
        },
        "id": "017fbc3e"
      },
      "outputs": [],
      "source": [
        "empresa1 = [4.57, 4.55, 5.47, 4.67, 5.41, 5.55, 5.53, 5.63, 3.86, 3.97, 5.44, 3.93, 5.31, 5.17, 4.39, 4.28, 5.25]\n",
        "empresa2 = [4.27, 3.93, 4.01, 4.07, 3.87, 4. , 4. , 3.72, 4.16, 4.1 , 3.9 , 3.97, 4.08, 3.96, 3.96, 3.77, 4.09]"
      ]
    },
    {
      "cell_type": "code",
      "execution_count": null,
      "id": "263039a9",
      "metadata": {
        "ExecuteTime": {
          "end_time": "2023-09-01T23:54:41.884918Z",
          "start_time": "2023-09-01T23:54:41.868374Z"
        },
        "id": "263039a9"
      },
      "outputs": [],
      "source": [
        "fig = go.Figure()\n",
        "fig.add_trace(go.Box(y=empresa1,name='DataCompress'))\n",
        "fig.add_trace(go.Box(y=empresa2,name='FastZip'))\n",
        "fig.show()"
      ]
    },
    {
      "cell_type": "markdown",
      "id": "871703e9",
      "metadata": {
        "id": "871703e9"
      },
      "source": [
        "De acuerdo a esta información, lleva a cabo la prueba de hipótesis relacionada utilizando un nivel de significancia del 0.05. Antes de realizar la prueba, verifica las suposiciones relacionadas. Comenta sobre los resultados obtenidos."
      ]
    },
    {
      "cell_type": "markdown",
      "id": "a2bc1886",
      "metadata": {
        "id": "a2bc1886"
      },
      "source": [
        "### 1. Definición de Hipótesis\n",
        "Dado que las puntuaciones de rendimiento se obtienen de los mismos archivos, los datos están emparejados.\n",
        "\n",
        "* $H₀$: El puntaje de rendimiento de DataCompress es menor o igual al de FastZip\n",
        "* $H₁$: El puntaje de rendimiento de DataCompress es mayor al de FastZip"
      ]
    },
    {
      "cell_type": "markdown",
      "id": "b207345d",
      "metadata": {
        "id": "b207345d"
      },
      "source": [
        "### 2. Comprobación de supuestos\n",
        "\n",
        "* $H₀$: Los datos tienen una distribución normal.\n",
        "* $H₁$: Los datos no tienen una distribución normal.\n",
        "<br><br>\n",
        "* $H₀$: Las varianzas de las muestras son iguales.\n",
        "* $H₁$: Las varianzas de las muestras son diferentes."
      ]
    },
    {
      "cell_type": "code",
      "execution_count": null,
      "id": "35e159b3",
      "metadata": {
        "ExecuteTime": {
          "end_time": "2023-09-01T23:55:16.431105Z",
          "start_time": "2023-09-01T23:55:16.417573Z"
        },
        "id": "35e159b3"
      },
      "outputs": [],
      "source": [
        "probar_normalidad(empresa1)\n",
        "probar_normalidad(empresa2)\n",
        "probar_varianzas(empresa1,empresa2)"
      ]
    },
    {
      "cell_type": "markdown",
      "id": "ea8ea0da",
      "metadata": {
        "id": "ea8ea0da"
      },
      "source": [
        "### 3. Selección de la Prueba Adecuada\n",
        "El supuesto de normalidad no se cumple; por lo tanto, necesitamos usar la versión no paramétrica de la prueba pareada, es decir, la prueba de rangos con signo de Wilcoxon."
      ]
    },
    {
      "cell_type": "code",
      "execution_count": null,
      "id": "e29f59d0",
      "metadata": {
        "ExecuteTime": {
          "end_time": "2023-09-01T23:55:59.182685Z",
          "start_time": "2023-09-01T23:55:59.173615Z"
        },
        "id": "e29f59d0"
      },
      "outputs": [],
      "source": [
        "test,valor_p=stats.wilcoxon(empresa1,empresa2)\n",
        "print('Valor p one sided: %0.6f' % (valor_p/2))\n",
        "if valor_p/2<0.05:\n",
        "    print('Se rechaza la H0')\n",
        "else:\n",
        "    print('Se mantiene la H0')"
      ]
    },
    {
      "cell_type": "markdown",
      "id": "00e4ac5a",
      "metadata": {
        "id": "00e4ac5a"
      },
      "source": [
        "### 4. Decisión y conclusión\n",
        "En este nivel de significancia, hay suficiente evidencia para concluir que el rendimiento de FastZip es menor que el de DataCompress."
      ]
    },
    {
      "cell_type": "markdown",
      "id": "cc34a634",
      "metadata": {
        "id": "cc34a634"
      },
      "source": [
        "## Prueba de Friedman\n",
        "Una investigadora estaba interesada en saber si existe una diferencia en términos de rendimiento entre la metodología que ella desarrolló, C, y los métodos base A y B. Por lo tanto, decidió diseñar diferentes experimentos y registró la precisión alcanzada por cada método. La tabla a continuación muestra la precisión alcanzada en los conjuntos de prueba por cada método. Tenga en cuenta que se utilizaron los mismos conjuntos de entrenamiento y prueba para cada método."
      ]
    },
    {
      "cell_type": "code",
      "execution_count": null,
      "id": "e735b98b",
      "metadata": {
        "ExecuteTime": {
          "end_time": "2023-09-01T23:57:12.070627Z",
          "start_time": "2023-09-01T23:57:12.044478Z"
        },
        "id": "e735b98b"
      },
      "outputs": [],
      "source": [
        "metodo_A = np.array([89.8, 89.9, 88.6, 88.7, 89.6, 89.7, 89.2, 89.3])\n",
        "metodo_B = np.array([90.0, 90.1, 88.8, 88.9, 89.9, 90.0, 89.0, 89.2])\n",
        "metodo_C = np.array([91.5, 90.7, 90.3, 90.4, 90.2, 90.3, 90.2, 90.3])"
      ]
    },
    {
      "cell_type": "code",
      "execution_count": null,
      "id": "50950883",
      "metadata": {
        "ExecuteTime": {
          "end_time": "2023-09-01T23:57:16.911640Z",
          "start_time": "2023-09-01T23:57:16.887646Z"
        },
        "id": "50950883"
      },
      "outputs": [],
      "source": [
        "fig = go.Figure()\n",
        "fig.add_trace(go.Box(y=metodo_A,name='A'))\n",
        "fig.add_trace(go.Box(y=metodo_B,name='B'))\n",
        "fig.add_trace(go.Box(y=metodo_C,name='C'))\n",
        "fig.show()"
      ]
    },
    {
      "cell_type": "markdown",
      "id": "b0c182d2",
      "metadata": {
        "id": "b0c182d2"
      },
      "source": [
        "Según esta información, realiza la prueba de hipótesis para verificar si hay una diferencia entre el rendimiento de los métodos utilizando un nivel de significancia del 0,05. Si hay una diferencia significativa, realiza un análisis adicional para determinar cuál de los métodos causó la diferencia. Antes de realizar la prueba de hipótesis, verifica las suposiciones relacionadas. Comenta los resultados."
      ]
    },
    {
      "cell_type": "markdown",
      "id": "647e60d9",
      "metadata": {
        "id": "647e60d9"
      },
      "source": [
        "### 1. Definición de Hipótesis\n",
        "* $H₀$: El desempeño promedio de los métodos A, B y C es el mismo.\n",
        "* $H₁$: El desempeño promedio de al menos uno de los métodos A, B y C es diferente."
      ]
    },
    {
      "cell_type": "markdown",
      "id": "d09256f3",
      "metadata": {
        "id": "d09256f3"
      },
      "source": [
        "### 2. Comprobación de supuestos\n",
        "\n",
        "* $H₀$: Los datos tienen una distribución normal.\n",
        "* $H₁$: Los datos no tienen una distribución normal.\n",
        "<br><br>\n",
        "* $H₀$: Las varianzas de las muestras son iguales.\n",
        "* $H₁$: Las varianzas de las muestras son diferentes."
      ]
    },
    {
      "cell_type": "code",
      "execution_count": null,
      "id": "1633d2bb",
      "metadata": {
        "ExecuteTime": {
          "end_time": "2023-09-01T23:58:04.366650Z",
          "start_time": "2023-09-01T23:58:04.350635Z"
        },
        "id": "1633d2bb"
      },
      "outputs": [],
      "source": [
        "probar_normalidad(metodo_A)\n",
        "probar_normalidad(metodo_B)\n",
        "probar_normalidad(metodo_C)\n",
        "probar_varianzas(metodo_A,metodo_B,metodo_C)"
      ]
    },
    {
      "cell_type": "markdown",
      "id": "a5a40ab8",
      "metadata": {
        "id": "a5a40ab8"
      },
      "source": [
        "### 3. Selección de la Prueba Adecuada\n",
        "Hay tres grupos, pero la asunción de normalidad no se cumple. Por lo tanto, necesitamos usar la versión no paramétrica del ANOVA para datos pareados (Prueba de Friedman), ya que los puntajes de precisión se obtienen de los mismos conjuntos de prueba."
      ]
    },
    {
      "cell_type": "code",
      "execution_count": null,
      "id": "031c6a94",
      "metadata": {
        "ExecuteTime": {
          "end_time": "2023-09-01T23:58:40.373728Z",
          "start_time": "2023-09-01T23:58:40.365723Z"
        },
        "id": "031c6a94"
      },
      "outputs": [],
      "source": [
        "test,valor_p=stats.friedmanchisquare(metodo_A,metodo_B,metodo_C)\n",
        "print('Valor p: %0.6f' % (valor_p))\n",
        "if valor_p<0.05:\n",
        "    print('Se rechaza la H0')\n",
        "else:\n",
        "    print('Se mantiene la H0')"
      ]
    },
    {
      "cell_type": "markdown",
      "id": "17f826ee",
      "metadata": {
        "id": "17f826ee"
      },
      "source": [
        "### 4. Decisión y conclusión\n",
        "A este nivel de significancia, al menos uno de los métodos tiene un rendimiento diferente. Dado que los datos no son normales, se utiliza la versión no paramétrica de la prueba post-hoc."
      ]
    },
    {
      "cell_type": "code",
      "execution_count": null,
      "id": "e5dfbede",
      "metadata": {
        "ExecuteTime": {
          "end_time": "2023-09-01T23:59:14.836231Z",
          "start_time": "2023-09-01T23:59:14.718760Z"
        },
        "id": "e5dfbede"
      },
      "outputs": [],
      "source": [
        "datos=np.array([metodo_A,metodo_B,metodo_C])\n",
        "df_posthoc=sp.posthoc_wilcoxon(datos,p_adjust='holm')\n",
        "df_posthoc.columns=['metodo_A','metodo_B','metodo_C']\n",
        "df_posthoc.index=['metodo_A','metodo_B','metodo_C']\n",
        "df_posthoc.style.applymap(lambda x:'background-color:violet' if x<0.05 else 'background-color:white')"
      ]
    },
    {
      "cell_type": "markdown",
      "id": "9e039495",
      "metadata": {
        "id": "9e039495"
      },
      "source": [
        "El método C superó a los demás y logró mejores puntajes de precisión que los demás."
      ]
    },
    {
      "cell_type": "markdown",
      "id": "ae1b8799",
      "metadata": {
        "id": "ae1b8799"
      },
      "source": [
        "## Ejercicios\n",
        "\n",
        "En cada uno de los ejercicios siguientes realice la prueba de hipótesis solicitada, siempre use estadística no paramétrica y sólo si se cumplen los supuestos use estadística paramétrica. Grafique los datos para dar su impresión a \"ojímetro\" antes de realizar sus pruebas. Siga cuidadosamente los 4 pasos explicados en la libreta y no olvide registrar sus conclusiones. Si es necesario realizar un análisis poshoc, hágalo."
      ]
    },
    {
      "cell_type": "markdown",
      "id": "daf7717c",
      "metadata": {
        "id": "daf7717c"
      },
      "source": [
        "### Problema 1\n",
        "Un neurólogo está investigando la eficacia de tres intervenciones diferentes en la mejora de la memoria a corto plazo en pacientes con deterioro cognitivo leve. Para ello, seleccionó aleatoriamente a 18 pacientes y los asignó a tres grupos diferentes (6 pacientes por grupo). Cada grupo recibió una de las intervenciones durante tres meses. Al final del estudio, el neurólogo registró la mejora en la memoria a corto plazo de los pacientes, medida a través del aumento en la puntuación en una prueba de memoria. Los datos se presentan a continuación:"
      ]
    },
    {
      "cell_type": "code",
      "execution_count": null,
      "id": "99deead2",
      "metadata": {
        "ExecuteTime": {
          "end_time": "2023-03-15T07:09:19.418193Z",
          "start_time": "2023-03-15T07:09:19.402169Z"
        },
        "id": "99deead2"
      },
      "outputs": [],
      "source": [
        "intervencion_A = np.array([8, 6, 10, 7, 12, 9])\n",
        "intervencion_B = np.array([14, 15, 18, 16, 13, 17])\n",
        "intervencion_C = np.array([5, 3, 4, 6, 2, 7])"
      ]
    },
    {
      "cell_type": "markdown",
      "id": "0d7dcb14",
      "metadata": {
        "id": "0d7dcb14"
      },
      "source": [
        "¿Hay alguna diferencia significativa en la mejora de la memoria a corto plazo entre los pacientes que recibieron las tres intervenciones diferentes? Sí la hay ¿Entre que grupos específicamente?"
      ]
    },
    {
      "cell_type": "markdown",
      "id": "1f756f9e",
      "metadata": {
        "id": "1f756f9e"
      },
      "source": [
        "### Problema 2\n",
        "Un endocrinólogo está estudiando el efecto de un nuevo medicamento para el control de la diabetes en pacientes con diabetes tipo 2. Reclutó a 10 pacientes y registró sus niveles de azúcar en sangre en ayunas antes y después de 8 semanas de tratamiento con el medicamento. Los datos se presentan a continuación:"
      ]
    },
    {
      "cell_type": "code",
      "execution_count": null,
      "id": "c8cdd24d",
      "metadata": {
        "ExecuteTime": {
          "end_time": "2023-03-15T07:09:19.430272Z",
          "start_time": "2023-03-15T07:09:19.418193Z"
        },
        "id": "c8cdd24d"
      },
      "outputs": [],
      "source": [
        "nivel_antes = np.array([180, 210, 190, 220, 170, 205, 230, 200, 215, 240])\n",
        "nivel_despues = np.array([150, 180, 165, 185, 155, 175, 200, 170, 185, 210])"
      ]
    },
    {
      "cell_type": "markdown",
      "id": "12c288c5",
      "metadata": {
        "id": "12c288c5"
      },
      "source": [
        "¿Hay una diferencia significativa en los niveles de azúcar en sangre en ayunas de los pacientes antes y después del tratamiento con el nuevo medicamento?"
      ]
    },
    {
      "cell_type": "markdown",
      "id": "8b4af229",
      "metadata": {
        "id": "8b4af229"
      },
      "source": [
        "### Problema 3\n",
        "Un gastroenterólogo está evaluando la efectividad de tres diferentes tratamientos para reducir los síntomas del síndrome del intestino irritable (SII). Reunió a 21 pacientes y los asignó aleatoriamente a tres grupos (7 pacientes por grupo). Al final del estudio, los pacientes calificaron la mejoría de sus síntomas en una escala del 1 al 10, donde 1 es sin mejoría y 10 es la mejoría máxima. Los datos se presentan a continuación:"
      ]
    },
    {
      "cell_type": "code",
      "execution_count": null,
      "id": "adaf5c82",
      "metadata": {
        "ExecuteTime": {
          "end_time": "2023-03-15T07:09:19.442538Z",
          "start_time": "2023-03-15T07:09:19.430974Z"
        },
        "id": "adaf5c82"
      },
      "outputs": [],
      "source": [
        "tratamiento_X = np.array([6, 5, 8, 7, 6, 7, 9])\n",
        "tratamiento_Y = np.array([3, 4, 2, 3, 5, 3, 4])\n",
        "tratamiento_Z = np.array([8, 9, 7, 9, 8, 7, 10])"
      ]
    },
    {
      "cell_type": "markdown",
      "id": "f1ec04c2",
      "metadata": {
        "id": "f1ec04c2"
      },
      "source": [
        "¿Existe una diferencia significativa en la mejoría de los síntomas del SII entre los pacientes que recibieron los tres diferentes tratamientos? Sí la hay ¿Entre que grupos específicamente?"
      ]
    }
  ],
  "metadata": {
    "colab": {
      "provenance": []
    },
    "kernelspec": {
      "display_name": "Python 3 (ipykernel)",
      "language": "python",
      "name": "python3"
    },
    "language_info": {
      "codemirror_mode": {
        "name": "ipython",
        "version": 3
      },
      "file_extension": ".py",
      "mimetype": "text/x-python",
      "name": "python",
      "nbconvert_exporter": "python",
      "pygments_lexer": "ipython3",
      "version": "3.11.7"
    },
    "varInspector": {
      "cols": {
        "lenName": 16,
        "lenType": 16,
        "lenVar": 40
      },
      "kernels_config": {
        "python": {
          "delete_cmd_postfix": "",
          "delete_cmd_prefix": "del ",
          "library": "var_list.py",
          "varRefreshCmd": "print(var_dic_list())"
        },
        "r": {
          "delete_cmd_postfix": ") ",
          "delete_cmd_prefix": "rm(",
          "library": "var_list.r",
          "varRefreshCmd": "cat(var_dic_list()) "
        }
      },
      "types_to_exclude": [
        "module",
        "function",
        "builtin_function_or_method",
        "instance",
        "_Feature"
      ],
      "window_display": false
    }
  },
  "nbformat": 4,
  "nbformat_minor": 5
}
