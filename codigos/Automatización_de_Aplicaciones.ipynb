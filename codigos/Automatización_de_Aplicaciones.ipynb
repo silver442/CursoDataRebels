{
  "cells": [
    {
      "cell_type": "markdown",
      "id": "ca942d73",
      "metadata": {
        "id": "ca942d73"
      },
      "source": [
        "# Automatización de aplicaciones con PyAutoGUI\n",
        "\n",
        "PyAutoGUI es una biblioteca de Python que permite automatizar tareas repetitivas a nivel de GUI (Interfaz Gráfica de Usuario) en prácticamente cualquier sistema operativo. Proporciona funciones para controlar el mouse, el teclado e interactuar con las ventanas de las aplicaciones.\n",
        "\n",
        "La biblioteca es multiplataforma y puede simular la entrada de teclado y mouse, tomar capturas de pantalla y localizar imágenes en la pantalla. Esto es especialmente útil para automatizar tareas repetitivas que involucran interacciones con la interfaz de usuario, como mover archivos en un sistema de archivos, rellenar formularios web, entre otros.\n",
        "\n",
        "## Características principales\n",
        "\n",
        "1. **Control del mouse**: PyAutoGUI permite mover el cursor del mouse a cualquier posición en la pantalla, hacer clic en las posiciones del mouse y arrastrar el mouse para seleccionar texto o mover objetos.\n",
        "\n",
        "2. **Control del teclado**: La biblioteca puede simular la entrada del teclado. Puedes \"escribir\" texto, presionar teclas y combinar teclas como Ctrl+C, Ctrl+V, etc.\n",
        "\n",
        "3. **Manejo de ventanas**: PyAutoGUI proporciona funciones para manejar ventanas de aplicaciones. Puedes traer una ventana al frente, maximizar, minimizar y mover la ventana.\n",
        "\n",
        "4. **Reconocimiento de imágenes**: La biblioteca puede localizar una imagen dada en la pantalla, lo cual es útil para interactuar con aplicaciones cuyos controles no pueden ser accedidos por teclado o mouse.\n",
        "\n",
        "Para instalar PyAutoGUI, simplemente usa pip:\n",
        "\n",
        "```bash\n",
        "pip install pyautogui\n"
      ]
    },
    {
      "cell_type": "code",
      "execution_count": 2,
      "id": "62f88f54",
      "metadata": {
        "ExecuteTime": {
          "end_time": "2023-05-31T21:41:59.570349Z",
          "start_time": "2023-05-31T21:41:56.655042Z"
        },
        "id": "62f88f54"
      },
      "outputs": [
        {
          "name": "stdout",
          "output_type": "stream",
          "text": [
            "Ancho de la pantalla: 1920, Altura de la pantalla: 1080\n"
          ]
        }
      ],
      "source": [
        "# Primero importamos la biblioteca\n",
        "import pyautogui\n",
        "\n",
        "# Podemos obtener la resolución de la pantalla\n",
        "screen_width, screen_height = pyautogui.size()\n",
        "print(f\"Ancho de la pantalla: {screen_width}, Altura de la pantalla: {screen_height}\")\n",
        "\n",
        "# PyAutoGUI puede mover el cursor del mouse a una posición específica en la pantalla\n",
        "# Mover el cursor al centro de la pantalla\n",
        "pyautogui.moveTo(screen_width / 2, screen_height / 2, duration=1)\n",
        "\n",
        "# También podemos mover el cursor del mouse relativo a su posición actual\n",
        "# Mover el cursor 100 pixels a la derecha y 50 pixels hacia abajo desde su ubicación actual\n",
        "pyautogui.move(100, 50, duration=4)\n",
        "\n",
        "# PyAutoGUI puede simular un click del mouse\n",
        "# Realizar un click en la posición actual del cursor\n",
        "pyautogui.click()"
      ]
    },
    {
      "cell_type": "markdown",
      "id": "2adbae6e",
      "metadata": {
        "id": "2adbae6e"
      },
      "source": [
        "# Uso avanzado de PyAutoGUI\n",
        "\n",
        "En este ejemplo, mostraremos cómo se pueden usar varias funciones de PyAutoGUI juntas para realizar una tarea más compleja. Vamos a realizar los siguientes pasos:\n",
        "\n",
        "1. Obtener la posición actual del cursor del mouse.\n",
        "2. Mover el cursor a una nueva ubicación.\n",
        "3. Realizar un doble clic.\n",
        "4. Escribir un texto.\n",
        "5. Presionar la tecla Enter.\n",
        "6. Tomar una captura de pantalla y guardarla en un archivo.\n",
        "\n",
        "Este podría ser un escenario típico cuando automatizas la interacción con un formulario en una página web o una aplicación, donde tienes que hacer clic en un campo de entrada, escribir algo, presionar Enter para enviar el formulario y luego tomar una captura de pantalla para documentar los resultados.\n",
        "\n",
        "**Nota:** Este ejemplo asume que el campo de entrada en el que quieres hacer clic está en la posición (500, 500) en la pantalla. Por favor, ajusta estas coordenadas según tus necesidades."
      ]
    },
    {
      "cell_type": "code",
      "execution_count": null,
      "id": "37a0bc32",
      "metadata": {
        "ExecuteTime": {
          "end_time": "2023-05-31T21:45:31.800785Z",
          "start_time": "2023-05-31T21:45:26.660917Z"
        },
        "id": "37a0bc32"
      },
      "outputs": [],
      "source": [
        "# Importamos la biblioteca\n",
        "import pyautogui\n",
        "\n",
        "# Obtenemos y mostramos la posición actual del cursor\n",
        "current_mouse_position = pyautogui.position()\n",
        "print(f\"Posición actual del cursor: {current_mouse_position}\")\n",
        "\n",
        "# Movemos el cursor a la posición (500, 950) y realizamos un doble clic\n",
        "pyautogui.moveTo(100, 105, duration=1)\n",
        "pyautogui.click()\n",
        "#pyautogui.doubleClick()\n",
        "\n",
        "pyautogui.moveTo(250, 950, duration=1)\n",
        "pyautogui.click()\n",
        "# Escribimos un texto\n",
        "pyautogui.write('Hola, mundo!', interval=0.1)  # interval es el tiempo de espera entre cada tecla\n",
        "\n",
        "# Presionamos la tecla Enter\n",
        "pyautogui.press('enter')\n",
        "\n",
        "# Hacemos una pausa de 2 segundos para que la aplicación pueda procesar la entrada\n",
        "pyautogui.sleep(2)\n",
        "# Tomamos una captura de pantalla y la guardamos en un archivo\n",
        "screenshot = pyautogui.screenshot()\n",
        "screenshot.save('screenshot.png')\n",
        "\n",
        "print(\"Captura de pantalla guardada como screenshot.png\")"
      ]
    },
    {
      "cell_type": "code",
      "execution_count": 14,
      "id": "5fdea349",
      "metadata": {},
      "outputs": [
        {
          "name": "stdout",
          "output_type": "stream",
          "text": [
            "Posición actual del cursor: Point(x=961, y=909)\n",
            "Captura de pantalla guardada como screenshot.png\n"
          ]
        }
      ],
      "source": [
        "# Importamos la biblioteca\n",
        "import pyautogui\n",
        "\n",
        "# Obtenemos y mostramos la posición actual del cursor\n",
        "current_mouse_position = pyautogui.position()\n",
        "print(f\"Posición actual del cursor: {current_mouse_position}\")\n",
        "\n",
        "# Movemos el cursor a la posición (500, 950) y realizamos un doble clic\n",
        "pyautogui.moveTo(35, 72, duration=1)\n",
        "pyautogui.click()\n",
        "\n",
        "pyautogui.moveTo(173, 165, duration=1)\n",
        "pyautogui.click()\n",
        "# Escribimos un texto\n",
        "pyautogui.write('Prueba.txt', interval=0.1)  # interval es el tiempo de espera entre cada tecla\n",
        "\n",
        "# Presionamos la tecla Enter\n",
        "pyautogui.press('enter')\n",
        "\n",
        "# Hacemos una pausa de 2 segundos para que la aplicación pueda procesar la entrada\n",
        "pyautogui.sleep(2)\n",
        "# Tomamos una captura de pantalla y la guardamos en un archivo\n",
        "screenshot = pyautogui.screenshot()\n",
        "screenshot.save('screenshot.png')\n",
        "\n",
        "print(\"Captura de pantalla guardada como screenshot.png\")"
      ]
    },
    {
      "cell_type": "code",
      "execution_count": 11,
      "id": "7e676bd8",
      "metadata": {},
      "outputs": [
        {
          "name": "stdout",
          "output_type": "stream",
          "text": [
            "Posición actual del cursor: Point(x=35, y=72)\n"
          ]
        }
      ],
      "source": [
        "current_mouse_position = pyautogui.position()\n",
        "print(f\"Posición actual del cursor: {current_mouse_position}\")"
      ]
    },
    {
      "cell_type": "markdown",
      "id": "93fbf824",
      "metadata": {
        "id": "93fbf824"
      },
      "source": [
        "# Automatización de Bloc de notas con PyAutoGUI\n",
        "\n",
        "En este ejemplo, vamos a demostrar cómo PyAutoGUI puede ser utilizado para interactuar con una aplicación específica: el Bloc de notas en Windows. Este ejemplo muestra cómo se pueden utilizar combinaciones de teclas para navegar en los menús y cómo se puede utilizar la función de espera de PyAutoGUI para asegurarse de que la aplicación tenga tiempo suficiente para responder.\n",
        "\n",
        "Por favor, ten en cuenta que este ejemplo está diseñado para funcionar en Windows y asume que tienes el Bloc de notas instalado y accesible a través del menú de inicio.\n",
        "\n",
        "Los pasos que se van a realizar son los siguientes:\n",
        "\n",
        "1. Presionar la tecla de Windows para abrir el menú de inicio.\n",
        "2. Escribir \"Bloc de notas\" y presionar Enter para abrir la aplicación.\n",
        "3. Escribir un texto en el Bloc de notas.\n",
        "4. Guardar el archivo utilizando la combinación de teclas Ctrl+S.\n",
        "5. Cerrar la aplicación utilizando la combinación de teclas Alt+F4."
      ]
    },
    {
      "cell_type": "code",
      "execution_count": 5,
      "id": "d85773ea",
      "metadata": {
        "ExecuteTime": {
          "end_time": "2023-05-31T21:48:08.171380Z",
          "start_time": "2023-05-31T21:48:00.892230Z"
        },
        "colab": {
          "base_uri": "https://localhost:8080/",
          "height": 394
        },
        "id": "d85773ea",
        "outputId": "d25d00b7-f413-4e63-b447-d92ff3493a9c"
      },
      "outputs": [],
      "source": [
        "# Importamos la biblioteca\n",
        "import pyautogui\n",
        "import time\n",
        "\n",
        "# Abrimos el menú de inicio\n",
        "pyautogui.press('win')\n",
        "\n",
        "# Esperamos un poco para que el menú de inicio se abra\n",
        "time.sleep(1)\n",
        "\n",
        "# Escribimos \"Bloc de notas\" y presionamos Enter para abrir la aplicación\n",
        "pyautogui.write('Bloc de notas')\n",
        "time.sleep(1)\n",
        "pyautogui.press('enter')\n",
        "\n",
        "# Esperamos un poco para que el Bloc de notas se abra\n",
        "time.sleep(2)\n",
        "\n",
        "# Escribimos un texto en el Bloc de notas\n",
        "pyautogui.write('Hola, mundo!', interval=0.1)\n",
        "\n",
        "# Guardamos el archivo utilizando la combinación de teclas Ctrl+S\n",
        "pyautogui.hotkey('ctrl', 'alt', 's')\n",
        "\n",
        "# Esperamos un poco para que se abra el diálogo de guardar\n",
        "time.sleep(2)\n",
        "\n",
        "# Escribimos el nombre del archivo y presionamos Enter\n",
        "pyautogui.write('test1.txt')\n",
        "pyautogui.press('enter')\n",
        "\n",
        "# Cerramos la aplicación utilizando la combinación de teclas Alt+F4\n",
        "pyautogui.hotkey('alt', 'f4')"
      ]
    },
    {
      "cell_type": "code",
      "execution_count": 3,
      "id": "282db9b6",
      "metadata": {},
      "outputs": [],
      "source": [
        "# Importamos la biblioteca\n",
        "import pyautogui\n",
        "import time\n",
        "\n",
        "# Abrimos el menú de inicio\n",
        "pyautogui.press('win')\n",
        "\n",
        "# Esperamos un poco para que el menú de inicio se abra\n",
        "time.sleep(1)\n",
        "\n",
        "# Escribimos \"Bloc de notas\" y presionamos Enter para abrir la aplicación\n",
        "pyautogui.write('Bloc de notas')\n",
        "time.sleep(1)\n",
        "pyautogui.press('enter')"
      ]
    },
    {
      "cell_type": "markdown",
      "id": "a72cfa69",
      "metadata": {
        "id": "a72cfa69"
      },
      "source": [
        "# Reconocimiento de imágenes con PyAutoGUI\n",
        "\n",
        "PyAutoGUI no sólo puede interactuar con la interfaz de usuario a través de las entradas de teclado y ratón, sino que también puede localizar elementos en la pantalla basándose en su apariencia. Esto es útil cuando necesitamos interactuar con elementos que no tienen una posición fija o que no pueden ser accedidos por el teclado.\n",
        "\n",
        "En este ejemplo, vamos a demostrar cómo se puede utilizar la funcionalidad de reconocimiento de imágenes de PyAutoGUI para localizar un botón en la pantalla y hacer clic en él.\n",
        "\n",
        "Para este ejemplo, necesitaremos una captura de pantalla del botón que queremos localizar. Esta imagen debe ser lo más parecida posible al botón tal y como aparece en la pantalla durante la ejecución del script. Además, debe ser sólo del botón, sin ningún fondo o elementos adicionales.\n",
        "\n",
        "**Nota:** Este ejemplo asume que ya tienes una imagen del botón que quieres localizar guardada como 'button.png' en el mismo directorio que este cuaderno de Jupyter. Asegúrate de tener esta imagen antes de ejecutar el código."
      ]
    },
    {
      "cell_type": "code",
      "execution_count": null,
      "id": "476fb466",
      "metadata": {
        "ExecuteTime": {
          "end_time": "2023-05-31T21:49:56.818459Z",
          "start_time": "2023-05-31T21:49:56.259827Z"
        },
        "id": "476fb466"
      },
      "outputs": [],
      "source": [
        "# Importamos la biblioteca\n",
        "import pyautogui\n",
        "\n",
        "# Intentamos localizar el botón en la pantalla\n",
        "button_location = pyautogui.locateOnScreen('button.png')\n",
        "\n",
        "if button_location is not None:\n",
        "    # Si encontramos el botón, hacemos clic en él\n",
        "    button_x, button_y = pyautogui.center(button_location)\n",
        "    pyautogui.click(button_x, button_y)\n",
        "else:\n",
        "    # Si no encontramos el botón, mostramos un mensaje de error\n",
        "    print(\"No se pudo encontrar el botón en la pantalla.\")"
      ]
    },
    {
      "cell_type": "markdown",
      "id": "414631ae",
      "metadata": {
        "id": "414631ae"
      },
      "source": [
        "# Entrada de teclado avanzada con PyAutoGUI\n",
        "\n",
        "PyAutoGUI no sólo puede escribir texto, sino que también puede simular la mayoría de las pulsaciones de teclas que podrías hacer en un teclado físico. Esto incluye las teclas de función (F1, F2, etc.), las teclas de modificador (Shift, Alt, Ctrl, etc.) y muchas otras.\n",
        "\n",
        "En este ejemplo, vamos a mostrar cómo se pueden emitir pulsaciones de teclas complejas con PyAutoGUI.\n",
        "\n",
        "**Nota:** Este ejemplo no producirá ninguna salida visible, pero podrás ver los efectos de las pulsaciones de teclas si haces que el foco de entrada esté en un campo de texto mientras se ejecuta el script (por ejemplo, un editor de texto o un campo de entrada en un navegador web)."
      ]
    },
    {
      "cell_type": "code",
      "execution_count": null,
      "id": "dc3750b0",
      "metadata": {
        "ExecuteTime": {
          "end_time": "2023-05-31T21:54:51.263828Z",
          "start_time": "2023-05-31T21:54:36.513003Z"
        },
        "id": "dc3750b0"
      },
      "outputs": [],
      "source": [
        "# Importamos la biblioteca\n",
        "import pyautogui\n",
        "import time\n",
        "\n",
        "# Esperamos 5 segundos para que puedas hacer clic en un campo de texto\n",
        "print(\"Tienes 5 segundos para hacer clic en un campo de texto...\")\n",
        "time.sleep(5)\n",
        "\n",
        "# Escribimos una cadena de texto\n",
        "pyautogui.write('Hola, mundo!', interval=0.2)\n",
        "\n",
        "# Esperamos un poco\n",
        "time.sleep(1)\n",
        "\n",
        "# Usamos la combinación de teclas para seleccionar todo el texto (Ctrl+A)\n",
        "pyautogui.hotkey('ctrl', 'e')\n",
        "\n",
        "# Usamos la combinación de teclas para copiar el texto seleccionado (Ctrl+C)\n",
        "pyautogui.hotkey('ctrl', 'c')\n",
        "\n",
        "time.sleep(2)\n",
        "pyautogui.move(10, 0, duration=1)\n",
        "pyautogui.click()\n",
        "\n",
        "# Escribimos un texto en mayúsculas utilizando la tecla Shift\n",
        "pyautogui.hotkey('shift', 'h', 'o', 'l', 'a')  # Esto escribirá 'HOLA'\n",
        "\n",
        "# Usamos la combinación de teclas para pegar el texto en el portapapeles (Ctrl+V)\n",
        "pyautogui.hotkey('ctrl', 'v')\n",
        "\n",
        "# Esperamos un poco\n",
        "time.sleep(2)\n",
        "\n",
        "# Emitimos algunas pulsaciones de teclas de función\n",
        "pyautogui.press('f1')"
      ]
    },
    {
      "cell_type": "markdown",
      "id": "57327417",
      "metadata": {
        "id": "57327417"
      },
      "source": [
        "# Capturas de pantalla e identificación de imágenes con PyAutoGUI\n",
        "\n",
        "PyAutoGUI también proporciona funciones para tomar capturas de pantalla y buscar imágenes dentro de esas capturas de pantalla. Esto puede ser útil para interactuar con partes de la interfaz de usuario que no se pueden controlar fácilmente con las funciones de teclado y ratón de PyAutoGUI.\n",
        "\n",
        "En este ejemplo, vamos a tomar una captura de pantalla y luego buscar una imagen específica dentro de esa captura de pantalla. Por favor, asegúrate de tener una imagen en tu directorio para buscarla."
      ]
    },
    {
      "cell_type": "code",
      "execution_count": null,
      "id": "3a806b92",
      "metadata": {
        "ExecuteTime": {
          "end_time": "2023-05-31T21:55:53.996143Z",
          "start_time": "2023-05-31T21:55:53.738666Z"
        },
        "id": "3a806b92"
      },
      "outputs": [],
      "source": [
        "# Importamos la biblioteca\n",
        "import pyautogui\n",
        "\n",
        "# Buscamos la ubicación de una imagen en la captura de pantalla\n",
        "# Asegúrate de proporcionar el nombre correcto de archivo y la ruta a la imagen que deseas buscar\n",
        "# El método `locateOnScreen` devuelve las coordenadas (x, y, ancho, alto) del primer lugar donde se encontró la imagen en la pantalla\n",
        "location = pyautogui.locateOnScreen('image.png')\n",
        "\n",
        "# Si la imagen se encontró en la captura de pantalla, imprimimos su ubicación\n",
        "if location is not None:\n",
        "    print(f'La imagen se encontró en la ubicación: {location}')\n",
        "else:\n",
        "    print('La imagen no se encontró en la captura de pantalla')"
      ]
    },
    {
      "cell_type": "markdown",
      "id": "33eb4565",
      "metadata": {
        "id": "33eb4565"
      },
      "source": [
        "# Interactuando con alertas y cuadros de diálogo con PyAutoGUI\n",
        "\n",
        "PyAutoGUI incluye varias funciones que pueden ser utilizadas para interactuar con alertas y cuadros de diálogo. En este ejemplo, veremos cómo se pueden utilizar estas funciones para proporcionar interactividad a nuestros scripts."
      ]
    },
    {
      "cell_type": "code",
      "execution_count": null,
      "id": "9ead1199",
      "metadata": {
        "ExecuteTime": {
          "end_time": "2023-05-31T21:57:18.659249Z",
          "start_time": "2023-05-31T21:56:42.582302Z"
        },
        "id": "9ead1199"
      },
      "outputs": [],
      "source": [
        "# Importamos la biblioteca\n",
        "import pyautogui\n",
        "\n",
        "# Mostramos un cuadro de diálogo de alerta simple\n",
        "pyautogui.alert('Este es un mensaje de alerta.', 'Alerta')\n",
        "\n",
        "# Mostramos un cuadro de diálogo de confirmación y recogemos la respuesta del usuario\n",
        "response = pyautogui.confirm('¿Quieres continuar?', 'Confirmación')\n",
        "\n",
        "# Imprimimos la respuesta del usuario\n",
        "print(f'El usuario seleccionó: {response}')\n",
        "\n",
        "# Mostramos un cuadro de diálogo de entrada de texto y recogemos la entrada del usuario\n",
        "text = pyautogui.prompt('¿Cuál es tu nombre?', 'Entrada')\n",
        "\n",
        "# Imprimimos la entrada del usuario\n",
        "print(f'El usuario ingresó: {text}')\n",
        "\n",
        "# Mostramos un cuadro de diálogo de entrada de contraseña y recogemos la entrada del usuario\n",
        "password = pyautogui.password('Ingresa tu contraseña.', 'Contraseña')\n",
        "\n",
        "# Imprimimos la entrada del usuario\n",
        "# En un script real, probablemente no querrías imprimir la contraseña en la consola\n",
        "print(f'El usuario ingresó: {password}')"
      ]
    },
    {
      "cell_type": "markdown",
      "id": "1a0d26e7",
      "metadata": {
        "id": "1a0d26e7"
      },
      "source": [
        "# Interactuando con ventanas de aplicaciones con PyAutoGUI\n",
        "\n",
        "PyAutoGUI proporciona varias funciones que puedes usar para interactuar con las ventanas de las aplicaciones. Estas funciones pueden ser útiles para traer una aplicación al frente, cambiar el tamaño y la posición de las ventanas, y más."
      ]
    },
    {
      "cell_type": "code",
      "execution_count": null,
      "id": "9f03f698",
      "metadata": {
        "ExecuteTime": {
          "end_time": "2023-05-31T22:00:36.568350Z",
          "start_time": "2023-05-31T22:00:36.558234Z"
        },
        "id": "9f03f698"
      },
      "outputs": [],
      "source": [
        "# Importamos la biblioteca\n",
        "import pyautogui\n",
        "\n",
        "# Obtén una lista de todas las ventanas\n",
        "windows = pyautogui.getAllWindows()\n",
        "\n",
        "# Imprime la información de cada ventana\n",
        "for window in windows:\n",
        "    print(window)"
      ]
    },
    {
      "cell_type": "code",
      "execution_count": null,
      "id": "250dae23",
      "metadata": {
        "ExecuteTime": {
          "end_time": "2023-05-31T22:01:11.323594Z",
          "start_time": "2023-05-31T22:01:03.224532Z"
        },
        "id": "250dae23"
      },
      "outputs": [],
      "source": [
        "num=4\n",
        "\n",
        "# Activa la primera ventana en la lista\n",
        "if windows:\n",
        "    windows[num].activate()\n",
        "\n",
        "time.sleep(2)\n",
        "\n",
        "# Cambia el tamaño y la posición de la ventana\n",
        "if windows:\n",
        "    windows[num].resizeTo(800, 600)\n",
        "    windows[num].moveTo(100, 100)\n",
        "\n",
        "time.sleep(2)\n",
        "\n",
        "# Maximiza la ventana\n",
        "if windows:\n",
        "    windows[num].maximize()\n",
        "\n",
        "time.sleep(2)\n",
        "\n",
        "# Restaura la ventana a su tamaño y posición anteriores\n",
        "if windows:\n",
        "    windows[num].restore()\n",
        "\n",
        "time.sleep(2)\n",
        "\n",
        "# Minimiza la ventana\n",
        "if windows:\n",
        "    windows[num].minimize()"
      ]
    },
    {
      "cell_type": "markdown",
      "id": "4998782d",
      "metadata": {
        "id": "4998782d"
      },
      "source": [
        "# Desplazamiento del ratón con PyAutoGUI\n",
        "\n",
        "PyAutoGUI permite simular el desplazamiento del ratón, lo cual puede ser útil para interactuar con elementos de la interfaz de usuario que responden a dicha acción. Esto puede resultar útil en situaciones en las que es necesario desplazarse por un documento largo o navegar por una página web que no cabe en la pantalla.\n"
      ]
    },
    {
      "cell_type": "code",
      "execution_count": null,
      "id": "6ab9e14d",
      "metadata": {
        "ExecuteTime": {
          "end_time": "2023-05-31T22:01:27.988564Z",
          "start_time": "2023-05-31T22:01:23.740969Z"
        },
        "id": "6ab9e14d"
      },
      "outputs": [],
      "source": [
        "# Importamos la biblioteca\n",
        "import pyautogui\n",
        "import time\n",
        "\n",
        "# Esperamos un poco\n",
        "time.sleep(2)\n",
        "\n",
        "# Desplazamos hacia arriba\n",
        "pyautogui.scroll(1000)\n",
        "\n",
        "# Esperamos un poco\n",
        "time.sleep(2)\n",
        "\n",
        "# Desplazamos hacia abajo\n",
        "pyautogui.scroll(-1000)"
      ]
    },
    {
      "cell_type": "markdown",
      "id": "300bf3fe",
      "metadata": {
        "id": "300bf3fe"
      },
      "source": [
        "# Uso de la función `dragTo` en PyAutoGUI\n",
        "\n",
        "La función `dragTo` de PyAutoGUI permite simular el movimiento del ratón mientras se mantiene pulsado el botón del ratón. Esto puede ser útil en situaciones en las que necesitas arrastrar y soltar un elemento en la interfaz de usuario, como mover un archivo a otra ubicación.\n"
      ]
    },
    {
      "cell_type": "code",
      "execution_count": null,
      "id": "afa6901b",
      "metadata": {
        "ExecuteTime": {
          "end_time": "2023-05-31T22:03:32.001487Z",
          "start_time": "2023-05-31T22:03:22.613583Z"
        },
        "id": "afa6901b"
      },
      "outputs": [],
      "source": [
        "# Importamos las bibliotecas necesarias\n",
        "import pyautogui\n",
        "import time\n",
        "\n",
        "# Nos aseguramos de tener el escritorio visible (ajustar el tiempo según sea necesario)\n",
        "print(\"Tienes 5 segundos para enfocar el escritorio...\")\n",
        "time.sleep(5)\n",
        "\n",
        "# Asumiendo que el archivo que quieres mover está en la posición (100, 200) en la pantalla\n",
        "# Movemos el ratón hasta el archivo\n",
        "pyautogui.moveTo(10, 10, duration=1)\n",
        "\n",
        "# Hacemos clic y mantenemos pulsado el botón del ratón\n",
        "pyautogui.mouseDown()\n",
        "\n",
        "# Arrastramos el archivo a la nueva ubicación (400, 400)\n",
        "pyautogui.dragTo(400, 400, duration=2)\n",
        "\n",
        "# Soltamos el botón del ratón para soltar el archivo\n",
        "pyautogui.mouseUp()"
      ]
    },
    {
      "cell_type": "markdown",
      "id": "c5ac4404",
      "metadata": {
        "id": "c5ac4404"
      },
      "source": [
        "# Ejercicio: Automatización de tareas con Paint\n",
        "\n",
        "En este ejercicio, tu tarea será utilizar PyAutoGUI para automatizar varias tareas en Microsoft Paint. Deberás crear un script de Python que haga lo siguiente:\n",
        "\n",
        "1. Abre Microsoft Paint. Puedes hacer esto usando la función `pyautogui.press()` para simular la pulsación de la tecla de Windows, y luego escribir 'Paint' y presionar Enter.\n",
        "\n",
        "2. Una vez abierto Paint, tu script debe dibujar una forma simple. Puede ser un cuadrado, un círculo, o cualquier otra forma de tu elección. Puedes hacer esto usando la función `pyautogui.moveTo()` para mover el cursor a la posición del lienzo de Paint, y luego `pyautogui.dragTo()` para dibujar la forma.\n",
        "\n",
        "3. Después de dibujar la forma, tu script debe cambiar el color de la forma. Puedes hacer esto utilizando la función `pyautogui.click()` para seleccionar el cubo de pintura, luego seleccionar un color diferente, y finalmente hacer clic en la forma para cambiar su color.\n",
        "\n",
        "4. Luego, tu script debe guardar la imagen. Puedes hacer esto simulando la pulsación de las teclas 'ctrl' y 's', escribiendo el nombre del archivo, y presionando Enter.\n",
        "\n",
        "5. Finalmente, tu script debe cerrar Paint. De nuevo, puedes hacer esto simulando la pulsación de las teclas 'alt' y 'f4'.\n",
        "\n",
        "Recuerda utilizar las funciones de pausa y las funciones `time.sleep()` de manera apropiada en tu script para evitar que se ejecute demasiado rápido. Asimismo, asegúrate de tener en cuenta la disposición de la interfaz de usuario de Paint en tu sistema operativo y ajustar la posición de los clics del ratón en consecuencia."
      ]
    },
    {
      "cell_type": "code",
      "execution_count": null,
      "id": "fd87fdf5",
      "metadata": {
        "id": "fd87fdf5"
      },
      "outputs": [],
      "source": []
    }
  ],
  "metadata": {
    "colab": {
      "provenance": []
    },
    "kernelspec": {
      "display_name": "Python 3 (ipykernel)",
      "language": "python",
      "name": "python3"
    },
    "language_info": {
      "codemirror_mode": {
        "name": "ipython",
        "version": 3
      },
      "file_extension": ".py",
      "mimetype": "text/x-python",
      "name": "python",
      "nbconvert_exporter": "python",
      "pygments_lexer": "ipython3",
      "version": "3.10.4"
    },
    "varInspector": {
      "cols": {
        "lenName": 16,
        "lenType": 16,
        "lenVar": 40
      },
      "kernels_config": {
        "python": {
          "delete_cmd_postfix": "",
          "delete_cmd_prefix": "del ",
          "library": "var_list.py",
          "varRefreshCmd": "print(var_dic_list())"
        },
        "r": {
          "delete_cmd_postfix": ") ",
          "delete_cmd_prefix": "rm(",
          "library": "var_list.r",
          "varRefreshCmd": "cat(var_dic_list()) "
        }
      },
      "types_to_exclude": [
        "module",
        "function",
        "builtin_function_or_method",
        "instance",
        "_Feature"
      ],
      "window_display": false
    }
  },
  "nbformat": 4,
  "nbformat_minor": 5
}
