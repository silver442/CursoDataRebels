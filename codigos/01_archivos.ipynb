{
 "cells": [
  {
   "cell_type": "code",
   "execution_count": 1,
   "metadata": {},
   "outputs": [
    {
     "name": "stdout",
     "output_type": "stream",
     "text": [
      "Hola VSC\n"
     ]
    }
   ],
   "source": [
    "print(\"Hola VSC\")\n"
   ]
  },
  {
   "cell_type": "code",
   "execution_count": 2,
   "metadata": {},
   "outputs": [
    {
     "name": "stdout",
     "output_type": "stream",
     "text": [
      "Fin de mi celda\n"
     ]
    }
   ],
   "source": [
    "with open(\"01_prueba.txt\", \"w\") as archivo:\n",
    "    archivo.write(\"este es mi primer archivo\")\n",
    "    archivo.write(\"\\nEsta es la segunda linea\")\n",
    "\n",
    "print(\"Fin de mi celda\")"
   ]
  },
  {
   "cell_type": "code",
   "execution_count": 3,
   "metadata": {},
   "outputs": [],
   "source": [
    "with open(\"01_prueba.txt\", \"a\") as archivo:\n",
    "    archivo.write(\"\\nMi tercera linea\")"
   ]
  },
  {
   "cell_type": "code",
   "execution_count": 5,
   "metadata": {},
   "outputs": [
    {
     "name": "stdout",
     "output_type": "stream",
     "text": [
      "este es mi primer archivo\n",
      "Esta es la segunda linea\n",
      "Mi tercera linea\n"
     ]
    }
   ],
   "source": [
    "with open(\"01_prueba.txt\", \"r\") as archivo:\n",
    "    contenido=archivo.read()\n",
    "\n",
    "print(contenido)"
   ]
  },
  {
   "cell_type": "code",
   "execution_count": 8,
   "metadata": {},
   "outputs": [
    {
     "data": {
      "text/plain": [
       "['este es mi primer archivo\\n',\n",
       " 'Esta es la segunda linea\\n',\n",
       " 'Mi tercera linea']"
      ]
     },
     "execution_count": 8,
     "metadata": {},
     "output_type": "execute_result"
    }
   ],
   "source": [
    "with open(\"01_prueba.txt\", \"r\") as archivo:\n",
    "    lista_contenido=archivo.readlines()\n",
    "\n",
    "lista_contenido"
   ]
  },
  {
   "cell_type": "code",
   "execution_count": 9,
   "metadata": {},
   "outputs": [
    {
     "name": "stdout",
     "output_type": "stream",
     "text": [
      "este es mi primer archivo\n",
      "\n",
      "Esta es la segunda linea\n",
      "\n",
      "Mi tercera linea\n"
     ]
    }
   ],
   "source": [
    "with open(\"01_prueba.txt\", \"r\") as archivo:\n",
    "    for linea in archivo:\n",
    "        print(linea)"
   ]
  }
 ],
 "metadata": {
  "kernelspec": {
   "display_name": "Python 3",
   "language": "python",
   "name": "python3"
  },
  "language_info": {
   "codemirror_mode": {
    "name": "ipython",
    "version": 3
   },
   "file_extension": ".py",
   "mimetype": "text/x-python",
   "name": "python",
   "nbconvert_exporter": "python",
   "pygments_lexer": "ipython3",
   "version": "3.11.7"
  }
 },
 "nbformat": 4,
 "nbformat_minor": 2
}
