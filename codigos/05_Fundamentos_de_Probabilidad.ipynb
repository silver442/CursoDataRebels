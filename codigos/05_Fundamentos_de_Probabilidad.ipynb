{
  "cells": [
    {
      "cell_type": "markdown",
      "metadata": {
        "id": "oFCGv-tbER9-"
      },
      "source": [
        "# Introducción a la Probabilidad\n",
        "\n",
        "La probabilidad es una medida numérica de la posibilidad de que ocurra un evento. Nos ayuda a cuantificar la incertidumbre y tomar decisiones informadas en situaciones donde no tenemos información completa.\n",
        "\n",
        "Por ejemplo, al lanzar una moneda, hay dos resultados posibles: cara o cruz. La probabilidad de obtener cara es 0.5, lo que indica que hay una posibilidad del 50% de que ocurra este evento.\n",
        "\n",
        "## Experimentos\n",
        "\n",
        "En probabilidad, un experimento es cualquier proceso que puede dar lugar a varios resultados posibles.\n",
        "\n",
        "Ejemplo:\n",
        "- Lanzar un dado es un experimento con seis posibles resultados: 1, 2, 3, 4, 5 o 6.\n",
        "\n",
        "## Eventos\n",
        "\n",
        "Un evento es un conjunto de resultados posibles de un experimento. Puede ser un resultado individual o una combinación de resultados.\n",
        "\n",
        "Ejemplo:\n",
        "- En el lanzamiento de un dado, el evento \"obtener un número par\" incluye los resultados 2, 4 y 6.\n",
        "\n",
        "## Probabilidades\n",
        "\n",
        "La probabilidad asigna una medida de incertidumbre a un evento, generalmente entre 0 y 1. Un valor de 0 significa que el evento es imposible, mientras que un valor de 1 significa que es seguro.\n",
        "\n",
        "Ejemplo:\n",
        "- La probabilidad de obtener un 3 al lanzar un dado justo es 1/6, ya que hay 6 resultados posibles y solo uno de ellos es un 3."
      ]
    },
    {
      "cell_type": "code",
      "execution_count": null,
      "metadata": {
        "id": "Raa6j8wSER-P"
      },
      "outputs": [],
      "source": [
        "import random\n",
        "\n",
        "# Lanzar una moneda\n",
        "def lanzar_moneda():\n",
        "    resultado = random.choice(['cara', 'cruz'])\n",
        "    return resultado\n",
        "\n",
        "# Simular 1000 lanzamientos de moneda\n",
        "lanzamientos = [lanzar_moneda() for _ in range(1000)]\n",
        "\n",
        "# Calcular la probabilidad de obtener cara\n",
        "probabilidad_cara = lanzamientos.count('cara') / len(lanzamientos)\n",
        "print(f\"Probabilidad de obtener cara: {probabilidad_cara:.2f}\")\n",
        "\n",
        "# Lanzar un dado\n",
        "def lanzar_dado():\n",
        "    resultado = random.randint(1, 6)\n",
        "    return resultado\n",
        "\n",
        "# Simular 1000 lanzamientos de dado\n",
        "lanzamientos_dado = [lanzar_dado() for _ in range(1000)]\n",
        "\n",
        "# Calcular la probabilidad de obtener un 3\n",
        "probabilidad_3 = lanzamientos_dado.count(3) / len(lanzamientos_dado)\n",
        "print(f\"Probabilidad de obtener un 3: {probabilidad_3:.2f}\")"
      ]
    },
    {
      "cell_type": "markdown",
      "metadata": {
        "id": "6koFyJt6ER-V"
      },
      "source": [
        "# Unión e Intersección de Eventos\n",
        "\n",
        "Antes de entrar en probabilidad condicional, es útil entender las operaciones de unión e intersección de eventos.\n",
        "\n",
        "- Unión (A ∪ B): La unión de dos eventos A y B incluye todos los resultados que están en A, en B, o en ambos.\n",
        "- Intersección (A ∩ B): La intersección de dos eventos A y B incluye todos los resultados que están tanto en A como en B.\n",
        "\n",
        "## Ejemplo: Unión e Intersección\n",
        "\n",
        "Supongamos que lanzamos un dado y definimos dos eventos:\n",
        "- A: Obtener un número par {2, 4, 6}\n",
        "- B: Obtener un número mayor a 3 {4, 5, 6}\n",
        "\n",
        "### Unión\n",
        "La unión de A y B es el conjunto de resultados que están en A, en B, o en ambos:\n",
        "$$ A \\cup B = \\{2, 4, 5, 6\\} $$\n",
        "\n",
        "### Intersección\n",
        "La intersección de A y B es el conjunto de resultados que están tanto en A como en B:\n",
        "$$ A \\cap B = \\{4, 6\\} $$"
      ]
    },
    {
      "cell_type": "code",
      "execution_count": null,
      "metadata": {
        "id": "wKKY0KagER-X"
      },
      "outputs": [],
      "source": [
        "import random\n",
        "\n",
        "# Simulación del lanzamiento de un dado\n",
        "def lanzar_dado():\n",
        "    return random.randint(1, 6)\n",
        "\n",
        "# Simular 1000 lanzamientos\n",
        "lanzamientos = [lanzar_dado() for _ in range(1000)]\n",
        "\n",
        "# Definir los eventos\n",
        "evento_A = [2, 4, 6]  # Números pares\n",
        "evento_B = [4, 5, 6]  # Números mayores a 3\n",
        "\n",
        "# Calcular la unión\n",
        "union = [x for x in lanzamientos if x in evento_A or x in evento_B]\n",
        "prob_union = len(union) / len(lanzamientos)\n",
        "print(f\"Probabilidad de A ∪ B: {prob_union:.2f}\")\n",
        "\n",
        "# Calcular la intersección\n",
        "interseccion = [x for x in lanzamientos if x in evento_A and x in evento_B]\n",
        "prob_interseccion = len(interseccion) / len(lanzamientos)\n",
        "print(f\"Probabilidad de A ∩ B: {prob_interseccion:.2f}\")"
      ]
    },
    {
      "cell_type": "markdown",
      "metadata": {
        "id": "cQtbXHMDER-Z"
      },
      "source": [
        "# Probabilidad Condicional\n",
        "\n",
        "La probabilidad condicional es la probabilidad de que ocurra un evento dado que otro evento ya ha ocurrido.\n",
        "\n",
        "La fórmula para la probabilidad condicional de un evento A dado que ha ocurrido un evento B es:\n",
        "\n",
        "$$ P(A|B) = \\frac{P(A \\cap B)}{P(B)} $$\n",
        "\n",
        "donde $P(A \\cap B)$ es la probabilidad de que ambos eventos A y B ocurran.\n",
        "\n",
        "## Ejemplo: Probabilidad Condicional\n",
        "\n",
        "Supongamos que queremos calcular la probabilidad de que un número sea par dado que es mayor a 3 en el lanzamiento de un dado.\n",
        "\n",
        "Definimos los eventos:\n",
        "- A: Obtener un número par {2, 4, 6}\n",
        "- B: Obtener un número mayor a 3 {4, 5, 6}\n",
        "\n",
        "Ya sabemos que:\n",
        "- $P(A \\cap B) = \\text{Probabilidad de obtener 4 o 6} = \\frac{2}{6} = \\frac{1}{3}$\n",
        "- $P(B) = \\text{Probabilidad de obtener un número mayor a 3} = \\frac{3}{6} = \\frac{1}{2}$\n",
        "\n",
        "La probabilidad condicional es:\n",
        "$$ P(A|B) = \\frac{P(A \\cap B)}{P(B)} = \\frac{\\frac{1}{3}}{\\frac{1}{2}} = \\frac{2}{3} $$"
      ]
    },
    {
      "cell_type": "code",
      "execution_count": null,
      "metadata": {
        "id": "TkHvB4hiER-b"
      },
      "outputs": [],
      "source": [
        "# Definir los eventos\n",
        "evento_A = [2, 4, 6]  # Números pares\n",
        "evento_B = [4, 5, 6]  # Números mayores a 3\n",
        "\n",
        "# Filtrar los lanzamientos para B\n",
        "lanzamientos_B = [x for x in lanzamientos if x in evento_B]\n",
        "\n",
        "# Calcular la intersección de A y B\n",
        "interseccion_AB = [x for x in lanzamientos if x in evento_A and x in evento_B]\n",
        "\n",
        "# Calcular la probabilidad condicional P(A|B)\n",
        "prob_B = len(lanzamientos_B) / len(lanzamientos)\n",
        "prob_interseccion_AB = len(interseccion_AB) / len(lanzamientos)\n",
        "prob_A_dado_B = prob_interseccion_AB / prob_B\n",
        "print(f\"Probabilidad de A dado B (número par dado que es mayor a 3): {prob_A_dado_B:.2f}\")"
      ]
    },
    {
      "cell_type": "markdown",
      "metadata": {
        "id": "HbsDWX6RER-d"
      },
      "source": [
        "## Ejemplo: Probabilidad Condicional con una Baraja de Cartas\n",
        "\n",
        "En este ejemplo, vamos a encontrar la probabilidad de que una carta sea un as dado que es una carta de corazones utilizando tanto el cálculo teórico como una simulación en Python.\n",
        "\n",
        "### Cálculo Teórico\n",
        "\n",
        "Queremos encontrar la probabilidad condicional $P(\\text{As}|\\text{Corazones})$, que es la probabilidad de que una carta sea un as dado que es de corazones.\n",
        "\n",
        "#### Pasos del Cálculo Teórico\n",
        "\n",
        "1. **Número total de cartas en la baraja:** 52\n",
        "2. **Número de cartas de corazones:** 13 (cada palo tiene 13 cartas)\n",
        "3. **Número de ases en la baraja:** 4\n",
        "4. **Número de ases de corazones:** 1\n",
        "\n",
        "La fórmula para la probabilidad condicional es:\n",
        "\n",
        "$$ P(A|B) = \\frac{P(A \\cap B)}{P(B)} $$\n",
        "\n",
        "donde:\n",
        "- $P(A)$ es la probabilidad de que la carta sea un as.\n",
        "- $P(B)$ es la probabilidad de que la carta sea de corazones.\n",
        "- $P(A \\cap B)$ es la probabilidad de que la carta sea un as y de corazones.\n",
        "\n",
        "5. **Probabilidad de que la carta sea de corazones $P(B)$:**\n",
        "\n",
        "$$ P(B) = \\frac{13}{52} = \\frac{1}{4} $$\n",
        "\n",
        "6. **Probabilidad de que la carta sea un as y de corazones $P(A \\cap B)$:**\n",
        "\n",
        "$$ P(A \\cap B) = \\frac{1}{52} $$\n",
        "\n",
        "7. **Probabilidad condicional $P(\\text{As}|\\text{Corazones})$:**\n",
        "\n",
        "$$ P(\\text{As}|\\text{Corazones}) = \\frac{P(A \\cap B)}{P(B)} = \\frac{\\frac{1}{52}}{\\frac{1}{4}} = \\frac{1}{52} \\times 4 = \\frac{1}{13} $$\n",
        "\n",
        "Por lo tanto, la probabilidad condicional teórica de que una carta sea un as dado que es de corazones es $\\frac{1}{13}$.\n",
        "\n",
        "### Simulación en Python\n",
        "\n",
        "A continuación, corroboramos este cálculo teórico con una simulación en Python."
      ]
    },
    {
      "cell_type": "code",
      "execution_count": null,
      "metadata": {
        "id": "lZ8MrcDqER-h"
      },
      "outputs": [],
      "source": [
        "import random\n",
        "\n",
        "# Definimos la baraja de cartas\n",
        "palos = ['corazones', 'diamantes', 'tréboles', 'picas']\n",
        "valores = ['2', '3', '4', '5', '6', '7', '8', '9', '10', 'J', 'Q', 'K', 'A']\n",
        "baraja = [(valor, palo) for palo in palos for valor in valores]\n",
        "\n",
        "# Definimos el total de simulaciones\n",
        "total_simulaciones = 10000\n",
        "\n",
        "# Simulamos sacar una carta\n",
        "sacadas = [random.choice(baraja) for _ in range(total_simulaciones)]\n",
        "\n",
        "# Evento B: La carta es de corazones\n",
        "evento_B = [carta for carta in sacadas if carta[1] == 'corazones']\n",
        "\n",
        "# Evento A ∩ B: La carta es un as y de corazones\n",
        "evento_A_and_B = [carta for carta in sacadas if carta[0] == 'A' and carta[1] == 'corazones']\n",
        "\n",
        "# Calcular la probabilidad condicional P(A|B)\n",
        "total_B = len(evento_B)\n",
        "total_A_and_B = len(evento_A_and_B)\n",
        "\n",
        "prob_condicional = total_A_and_B / total_B\n",
        "\n",
        "# Imprimimos los resultados\n",
        "print(f\"Total de cartas sacadas: {total_simulaciones}\")\n",
        "print(f\"Total de veces que la carta es de corazones: {total_B}\")\n",
        "print(f\"Total de veces que la carta es un as y de corazones: {total_A_and_B}\")\n",
        "print(f\"Probabilidad de sacar un as dado que es de corazones (conteo directo): {prob_condicional:.4f}\")\n",
        "\n"
      ]
    },
    {
      "cell_type": "markdown",
      "metadata": {
        "id": "zPSkWRQ5ER-k"
      },
      "source": [
        "# Introducción a las Distribuciones de Probabilidad\n",
        "\n",
        "Las distribuciones de probabilidad son fundamentales en la teoría de la probabilidad y las estadísticas. Describen cómo se distribuyen los valores de una variable aleatoria y nos permiten modelar fenómenos aleatorios en el mundo real. Comprender las distribuciones de probabilidad es esencial para realizar predicciones, inferencias estadísticas, controlar la calidad y realizar simulaciones.\n",
        "\n",
        "Existen diferentes tipos de distribuciones de probabilidad, cada una con sus propias características y aplicaciones. En esta sección, exploraremos tres de las distribuciones más comunes: la distribución normal, la distribución binomial y la distribución de Poisson.\n",
        "\n",
        "## Distribución Normal\n",
        "\n",
        "La distribución normal, también conocida como la distribución gaussiana o de campana, es ampliamente utilizada en estadísticas. Se caracteriza por tener una forma de campana simétrica y es ideal para describir muchos fenómenos en la vida real, como las alturas de las personas o las puntuaciones en un examen.\n",
        "\n",
        "La distribución normal está completamente definida por dos parámetros: la media (o valor esperado) y la desviación estándar. La media representa el valor central de la distribución, mientras que la desviación estándar mide la dispersión de los datos alrededor de la media. Cuanto más pequeña sea la desviación estándar, más estrecha será la campana y viceversa."
      ]
    },
    {
      "cell_type": "code",
      "execution_count": null,
      "metadata": {
        "id": "VIpFp__JER-m"
      },
      "outputs": [],
      "source": [
        "import numpy as np\n",
        "import matplotlib.pyplot as plt\n",
        "\n",
        "# Generar datos simulados con distribución normal\n",
        "media = 0\n",
        "desviacion_estandar = 1\n",
        "datos = np.random.normal(media, desviacion_estandar, 1000)\n",
        "\n",
        "# Graficar la distribución\n",
        "plt.hist(datos, bins=30, density=True, alpha=0.6, color='g')\n",
        "\n",
        "# Graficar la curva de distribución normal\n",
        "xmin, xmax = plt.xlim()\n",
        "x = np.linspace(xmin, xmax, 100)\n",
        "p = np.exp(-0.5*((x - media) / desviacion_estandar)**2) / (desviacion_estandar * np.sqrt(2 * np.pi))\n",
        "plt.plot(x, p, 'k', linewidth=2)\n",
        "plt.title(\"Distribución Normal\")\n",
        "plt.show()"
      ]
    },
    {
      "cell_type": "markdown",
      "metadata": {
        "id": "k2HtawlVER-p"
      },
      "source": [
        "## Distribución Binomial\n",
        "\n",
        "La distribución binomial se utiliza cuando estamos interesados en el número de éxitos en una serie de ensayos independientes y de igual probabilidad. Es comúnmente aplicada en situaciones donde solo hay dos resultados posibles, como éxito o fracaso, sí o no, o positivo y negativo.\n",
        "\n",
        "Esta distribución está definida por dos parámetros: el número de ensayos (n) y la probabilidad de éxito en un solo ensayo (p). A través de la distribución binomial, podemos calcular la probabilidad de obtener un número específico de éxitos en n ensayos.\n",
        "\n",
        "En el siguiente ejemplo, estamos considerando 10 ensayos (n = 10) con una probabilidad de éxito de 0.5 en cada ensayo (p = 0.5).\n",
        "\n",
        "La gráfica adjunta muestra la función de masa de probabilidad (pmf) de la distribución binomial. Cada punto en la gráfica representa la probabilidad de obtener un número específico de éxitos en los 10 ensayos.\n",
        "\n",
        "### Interpretación del Gráfico\n",
        "\n",
        "- **Eje X (Número de éxitos):** Representa el número de éxitos posibles en los 10 ensayos, desde 0 hasta 10.\n",
        "- **Eje Y (Probabilidad):** Representa la probabilidad de obtener cada número de éxitos.\n",
        "\n",
        "### Observaciones\n",
        "\n",
        "- **Valor Máximo:** El punto más alto en la gráfica corresponde a obtener 5 éxitos en los 10 ensayos, lo cual tiene una probabilidad de aproximadamente 0.25 (o 25%). Esto se debe a que con una probabilidad de éxito de 0.5, el número esperado de éxitos es la mitad del número de ensayos, es decir, 5.\n",
        "- **Simetría:** La gráfica es simétrica alrededor de 5 éxitos, lo que refleja que la probabilidad de éxito y fracaso es la misma (0.5). En otras palabras, la probabilidad de obtener 4 éxitos es la misma que la de obtener 6 éxitos, la probabilidad de obtener 3 éxitos es la misma que la de obtener 7 éxitos, y así sucesivamente.\n",
        "- **Distribución:** La distribución muestra que es más probable obtener un número de éxitos cercano a 5, y menos probable obtener un número muy bajo (0, 1) o muy alto (9, 10) de éxitos."
      ]
    },
    {
      "cell_type": "code",
      "execution_count": null,
      "metadata": {
        "id": "eEsz0PaRER-q"
      },
      "outputs": [],
      "source": [
        "from scipy.stats import binom\n",
        "import matplotlib.pyplot as plt\n",
        "\n",
        "# Parámetros de la distribución binomial\n",
        "n = 10  # número de ensayos\n",
        "p = 0.5  # probabilidad de éxito en cada ensayo\n",
        "\n",
        "# Generar datos simulados con distribución binomial\n",
        "x = np.arange(0, n+1)\n",
        "binomial = binom.pmf(x, n, p)\n",
        "\n",
        "# Graficar la distribución\n",
        "plt.plot(x, binomial, 'bo', ms=8)\n",
        "plt.vlines(x, 0, binomial, colors='b', lw=5)\n",
        "plt.title(\"Distribución Binomial\")\n",
        "plt.xlabel(\"Número de éxitos\")\n",
        "plt.ylabel(\"Probabilidad\")\n",
        "plt.show()"
      ]
    },
    {
      "cell_type": "markdown",
      "metadata": {
        "id": "JduHGN8wER-r"
      },
      "source": [
        "### ¿Contraintuitivo?\n",
        "\n",
        "El ejemplo anterior puede haberte dejado con dudas, vamos a realizar una simulación con algo más terrenal. El ejemplo anterior podría corresponder fácilmente con el lanzamiento de una moneda y el cálculo de las veces que sale cara.\n",
        "\n",
        "### Cálculo Teórico\n",
        "\n",
        "La probabilidad teórica de obtener exactamente 5 caras en 10 lanzamientos de una moneda justa se puede calcular utilizando la fórmula de la distribución binomial:\n",
        "\n",
        "$$ P(X = 5) = \\binom{10}{5} (0.5)^5 (0.5)^5 = 0.25 $$\n",
        "\n",
        "Esto significa que, teóricamente, hay un 25% de probabilidad de obtener exactamente 5 caras en 10 lanzamientos.\n",
        "\n",
        "### Simulación en Python\n",
        "\n",
        "Para verificar este resultado, realizamos una simulación de 10,000 experimentos de 10 lanzamientos de una moneda justa cada uno. Contamos cuántas veces obtenemos exactamente 5 caras y calculamos la probabilidad simulada."
      ]
    },
    {
      "cell_type": "code",
      "execution_count": null,
      "metadata": {
        "id": "vMDW0sT7ER-s"
      },
      "outputs": [],
      "source": [
        "import random\n",
        "\n",
        "# Definir el número de simulaciones y lanzamientos\n",
        "total_simulaciones = 10000\n",
        "lanzamientos_por_simulacion = 10\n",
        "\n",
        "# Función para simular el lanzamiento de una moneda\n",
        "def lanzar_moneda():\n",
        "    return random.choice(['cara', 'cruz'])\n",
        "\n",
        "# Contar cuántas veces se obtienen exactamente 5 caras en 10 lanzamientos\n",
        "exitos_5_caras = 0\n",
        "\n",
        "for _ in range(total_simulaciones):\n",
        "    lanzamientos = [lanzar_moneda() for _ in range(lanzamientos_por_simulacion)]\n",
        "    caras = lanzamientos.count('cara')\n",
        "    if caras == 5:\n",
        "        exitos_5_caras += 1\n",
        "\n",
        "# Calcular la probabilidad simulada\n",
        "probabilidad_simulada = exitos_5_caras / total_simulaciones\n",
        "\n",
        "print(f\"Probabilidad simulada de obtener exactamente 5 caras en 10 lanzamientos: {probabilidad_simulada:.2f}\")"
      ]
    },
    {
      "cell_type": "markdown",
      "metadata": {
        "id": "tgFoKlY8ER-t"
      },
      "source": [
        "### Interpretación del Resultado\n",
        "El resultado de la simulación confirma la probabilidad teórica de que, en 10 lanzamientos de una moneda justa, hay aproximadamente un 25% de probabilidad de obtener exactamente 5 caras. Este resultado es coherente con la distribución binomial, que modela el número de éxitos en una serie de ensayos independientes con probabilidad constante de éxito.\n",
        "\n",
        "## Distribución de Poisson\n",
        "\n",
        "La distribución de Poisson es otra distribución discreta que se utiliza para modelar la ocurrencia de eventos raros o poco frecuentes en un intervalo de tiempo o espacio específico. Se caracteriza por ser asimétrica y por tener una media (λ) que representa la tasa promedio de ocurrencia de eventos.\n",
        "\n",
        "### Interpretación del Gráfico\n",
        "La gráfica muestra la función de masa de probabilidad (pmf) de la distribución de Poisson con una tasa promedio de ocurrencia de eventos ($\\lambda$) de 3. Cada punto en la gráfica representa la probabilidad de que ocurra un número específico de eventos en un intervalo de tiempo o espacio dado.\n",
        "\n",
        "#### Eje X (Número de eventos)\n",
        "Representa el número de eventos posibles, desde 0 hasta 14.\n",
        "\n",
        "#### Eje Y (Probabilidad)\n",
        "Representa la probabilidad de que ocurra cada número de eventos.\n",
        "\n",
        "### Observaciones\n",
        "- **Valor Máximo:** El punto más alto en la gráfica corresponde al valor de $\\lambda$, que en este caso es 3. Esto significa que la probabilidad más alta es para que ocurran exactamente 3 eventos en el intervalo dado.\n",
        "- **Asimetría:** La distribución es asimétrica, con una cola más larga hacia la derecha. Esto refleja que hay una mayor probabilidad de tener pocos eventos y una menor probabilidad de tener muchos eventos.\n",
        "- **Distribución:** La distribución de Poisson muestra que es más probable tener un número de eventos cercano a la tasa promedio $\\lambda$ (3 en este caso), y menos probable tener un número muy alto de eventos."
      ]
    },
    {
      "cell_type": "code",
      "execution_count": null,
      "metadata": {
        "id": "NVsP5zriER-u"
      },
      "outputs": [],
      "source": [
        "from scipy.stats import poisson\n",
        "import matplotlib.pyplot as plt\n",
        "\n",
        "# Parámetro de la distribución de Poisson\n",
        "lambda_ = 3  # tasa promedio de ocurrencia de eventos\n",
        "\n",
        "# Generar datos simulados con distribución de Poisson\n",
        "x = np.arange(0, 15)\n",
        "poisson_dist = poisson.pmf(x, lambda_)\n",
        "\n",
        "# Graficar la distribución\n",
        "plt.plot(x, poisson_dist, 'bo', ms=8)\n",
        "plt.vlines(x, 0, poisson_dist, colors='b', lw=5)\n",
        "plt.title(\"Distribución de Poisson\")\n",
        "plt.xlabel(\"Número de eventos\")\n",
        "plt.ylabel(\"Probabilidad\")\n",
        "plt.show()"
      ]
    },
    {
      "cell_type": "markdown",
      "metadata": {
        "id": "uYitMS7-ER-v"
      },
      "source": [
        "### Ejemplo Práctico\n",
        "Supongamos que estamos modelando el número de llamadas que recibe un centro de atención telefónica por hora. Si en promedio se reciben 3 llamadas por hora ($\\lambda = 3$), podemos usar la distribución de Poisson para calcular la probabilidad de recibir diferentes números de llamadas en una hora.\n",
        "\n",
        "La gráfica muestra que:\n",
        "- La probabilidad de recibir exactamente 3 llamadas en una hora es la más alta.\n",
        "- La probabilidad de recibir 0, 1, 2, 4, 5, etc., llamadas disminuye a medida que nos alejamos de 3.\n",
        "\n",
        "### Simulación Manual\n",
        "Para verificar el comportamiento de la distribución de Poisson, realizamos una simulación en Python."
      ]
    },
    {
      "cell_type": "code",
      "execution_count": null,
      "metadata": {
        "id": "TpEaoynAER-x"
      },
      "outputs": [],
      "source": [
        "import random\n",
        "\n",
        "# Parámetros\n",
        "lambda_ = 3  # tasa promedio de ocurrencia de eventos\n",
        "total_simulaciones = 10000\n",
        "\n",
        "# Contar cuántas veces ocurren exactamente 3 eventos en las simulaciones\n",
        "exitos_3_eventos = 0\n",
        "\n",
        "for _ in range(total_simulaciones):\n",
        "    eventos = 0\n",
        "    for _ in range(lambda_ * 10):  # Usamos un factor de 10 para tener más granularidad en la simulación\n",
        "        if random.random() < lambda_ / (lambda_ * 10):\n",
        "            eventos += 1\n",
        "    if eventos == 3:\n",
        "        exitos_3_eventos += 1\n",
        "\n",
        "# Calcular la probabilidad simulada\n",
        "probabilidad_simulada = exitos_3_eventos / total_simulaciones\n",
        "\n",
        "print(f\"Probabilidad simulada de obtener exactamente 3 eventos: {probabilidad_simulada:.2f}\")"
      ]
    },
    {
      "cell_type": "markdown",
      "metadata": {
        "id": "gb5D5JBcER-y"
      },
      "source": [
        "# Importancia de las Distribuciones de Probabilidad\n",
        "\n",
        "Entender las distribuciones de probabilidad es esencial en el análisis de datos por varias razones:\n",
        "\n",
        "- **Predicción y Modelado:** Nos permiten modelar y predecir eventos futuros en función de patrones observados en datos históricos. Por ejemplo, podemos usar la distribución normal para predecir el comportamiento futuro de las ventas de una tienda.\n",
        "\n",
        "- **Inferencia Estadística:** Ayudan en la toma de decisiones y en la inferencia estadística. Podemos utilizar distribuciones de probabilidad para calcular intervalos de confianza, realizar pruebas de hipótesis y tomar decisiones basadas en datos.\n",
        "\n",
        "- **Control de Calidad:** En la industria y la fabricación, las distribuciones de probabilidad se utilizan para controlar la calidad de los productos y garantizar que cumplan con los estándares.\n",
        "\n",
        "- **Simulación:** En campos como la simulación por computadora, las distribuciones de probabilidad se emplean para generar datos que imiten situaciones reales y evaluar diferentes escenarios.\n",
        "\n",
        "# Conclusión\n",
        "\n",
        "En esta clase, hemos explorado los fundamentos de la probabilidad y su relación con el análisis de datos. Desde la definición de probabilidad hasta la comprensión de experimentos, eventos y espacio muestral, hemos construido una base sólida. También hemos discutido la probabilidad condicional, las distribuciones de probabilidad y cómo estos conceptos se aplican en el análisis de datos.\n",
        "\n",
        "A medida que avanzamos en este módulo, profundizaremos en estos temas y los aplicaremos en situaciones del mundo real. La probabilidad es una herramienta poderosa que nos permite tomar decisiones informadas en un entorno incierto, y dominar estos conceptos es esencial para convertirse en un analista de datos competente."
      ]
    }
  ],
  "metadata": {
    "kernelspec": {
      "display_name": "base",
      "language": "python",
      "name": "python3"
    },
    "language_info": {
      "codemirror_mode": {
        "name": "ipython",
        "version": 3
      },
      "file_extension": ".py",
      "mimetype": "text/x-python",
      "name": "python",
      "nbconvert_exporter": "python",
      "pygments_lexer": "ipython3",
      "version": "3.10.13"
    },
    "colab": {
      "provenance": []
    }
  },
  "nbformat": 4,
  "nbformat_minor": 0
}