{
  "cells": [
    {
      "cell_type": "markdown",
      "id": "4f90f3a5",
      "metadata": {
        "id": "4f90f3a5"
      },
      "source": [
        "# Teoría de Grafos y su Implementación en Python\n",
        "\n",
        "La teoría de grafos es una rama de las matemáticas y la informática que estudia las relaciones entre pares de objetos y cómo estas relaciones pueden ser representadas y analizadas matemáticamente. Un grafo consta de vértices (o nodos) y aristas (o conexiones) que los conectan. En este cuaderno, exploraremos cómo podemos modelar y visualizar grafos usando Python.\n",
        "\n",
        "## Importación de Bibliotecas\n",
        "\n",
        "Para comenzar, importaremos la biblioteca `numpy`. Esta biblioteca nos proporcionará las herramientas necesarias para trabajar con matrices y realizar operaciones matriciales, que son fundamentales al tratar con grafos y matrices de adyacencia."
      ]
    },
    {
      "cell_type": "code",
      "execution_count": null,
      "id": "7709c273",
      "metadata": {
        "id": "7709c273"
      },
      "outputs": [],
      "source": [
        "import warnings\n",
        "warnings.filterwarnings('ignore')\n",
        "\n",
        "import numpy as np"
      ]
    },
    {
      "cell_type": "markdown",
      "id": "81e8d0cc",
      "metadata": {
        "id": "81e8d0cc"
      },
      "source": [
        "## Creación de un Grafo Erdos-Renyi\n",
        "\n",
        "Un modelo popular en la teoría de grafos es el modelo Erdos-Renyi. En este modelo, se comienza con \\( N \\) vértices aislados y se añade entre cada par de vértices una arista con probabilidad \\( p \\). En otras palabras, cada posible arista tiene una probabilidad \\( p \\) de estar presente en el grafo.\n",
        "\n",
        "En el código a continuación, inicializamos un grafo con \\( N = 100 \\) vértices y una probabilidad \\( p = 0.1 \\) de que exista una arista entre cualquier par de vértices. El resultado es una matriz de adyacencia, donde cada entrada (i, j) es 1 si hay una arista entre los vértices i y j, y 0 en caso contrario."
      ]
    },
    {
      "cell_type": "code",
      "execution_count": null,
      "id": "0c4d99bc",
      "metadata": {
        "id": "0c4d99bc"
      },
      "outputs": [],
      "source": [
        "#grafo Erdos-Renyi binario no dirigido\n",
        "N=100\n",
        "p=0.02 #va entre 0 y 1\n",
        "\n",
        "grafo=np.zeros((N,N))\n",
        "for i in range(N):\n",
        "    for j in range(i+1,N):\n",
        "        if np.random.random()<p:\n",
        "            grafo[i,j]=1\n",
        "            grafo[j,i]=1"
      ]
    },
    {
      "cell_type": "markdown",
      "id": "813971f2",
      "metadata": {
        "id": "813971f2"
      },
      "source": [
        "## Visualización de la Matriz de Adyacencia\n",
        "\n",
        "Para visualizar la matriz de adyacencia del grafo que hemos creado, utilizaremos la biblioteca `matplotlib`. Esta biblioteca nos permite generar una variedad de gráficos y visualizaciones en Python."
      ]
    },
    {
      "cell_type": "code",
      "execution_count": null,
      "id": "6582fb76",
      "metadata": {
        "id": "6582fb76"
      },
      "outputs": [],
      "source": [
        "import matplotlib.pyplot as plt\n",
        "import matplotlib.cm as cm"
      ]
    },
    {
      "cell_type": "markdown",
      "id": "b3a51629",
      "metadata": {
        "id": "b3a51629"
      },
      "source": [
        "A continuación, visualizamos la matriz de adyacencia del grafo utilizando `matshow`. Las celdas en blanco representan ceros (sin arista) y las celdas en negro representan unos (presencia de una arista)."
      ]
    },
    {
      "cell_type": "code",
      "execution_count": null,
      "id": "f61e3acb",
      "metadata": {
        "id": "f61e3acb"
      },
      "outputs": [],
      "source": [
        "plt.matshow(grafo,cmap='gray')\n",
        "plt.colorbar()\n",
        "plt.show()"
      ]
    },
    {
      "cell_type": "markdown",
      "id": "a411ffe5",
      "metadata": {
        "id": "a411ffe5"
      },
      "source": [
        "## Creación y Visualización del Grafo con NetworkX\n",
        "\n",
        "`networkx` es una biblioteca de Python diseñada específicamente para trabajar con grafos. Con ella, podemos crear, manipular y estudiar la estructura, dinámica y funciones de grafos complejos."
      ]
    },
    {
      "cell_type": "code",
      "execution_count": null,
      "id": "bacca494",
      "metadata": {
        "id": "bacca494"
      },
      "outputs": [],
      "source": [
        "import networkx as nx"
      ]
    },
    {
      "cell_type": "markdown",
      "id": "37cfaa56",
      "metadata": {
        "id": "37cfaa56"
      },
      "source": [
        "Para trabajar más eficientemente con nuestro grafo y poder visualizarlo, convertiremos nuestra matriz de adyacencia en un objeto de grafo usando `networkx`."
      ]
    },
    {
      "cell_type": "code",
      "execution_count": null,
      "id": "668f43f9",
      "metadata": {
        "id": "668f43f9"
      },
      "outputs": [],
      "source": [
        "G=nx.from_numpy_array(grafo)"
      ]
    },
    {
      "cell_type": "markdown",
      "id": "c60c94e9",
      "metadata": {
        "id": "c60c94e9"
      },
      "source": [
        "Ahora que tenemos nuestro objeto de grafo, podemos visualizarlo. A continuación, visualizamos el grafo usando dos disposiciones diferentes: una disposición predeterminada y una disposición circular."
      ]
    },
    {
      "cell_type": "code",
      "execution_count": null,
      "id": "074acf71",
      "metadata": {
        "id": "074acf71"
      },
      "outputs": [],
      "source": [
        "# Define la posición de los nodos usando uno de los algoritmos de layout, como spring_layout\n",
        "pos = nx.spring_layout(G, k=0.3, seed=42)  # seed para reproducibilidad\n",
        "\n",
        "# Dibuja los nodos\n",
        "nx.draw_networkx_nodes(G, pos, node_size=200, node_color='skyblue', alpha=0.6)\n",
        "\n",
        "# Dibuja las aristas\n",
        "nx.draw_networkx_edges(G, pos, width=2, alpha=1, edge_color='gray')\n",
        "\n",
        "# Dibuja las etiquetas de los nodos\n",
        "nx.draw_networkx_labels(G, pos, font_size=12, font_family='sans-serif')\n",
        "\n",
        "plt.title(\"Visualización Mejorada del Grafo del Karate Club\")\n",
        "plt.axis('off')  # Oculta los ejes para mejorar la visualización\n",
        "plt.show()"
      ]
    },
    {
      "cell_type": "code",
      "execution_count": null,
      "id": "60d0345c",
      "metadata": {
        "id": "60d0345c"
      },
      "outputs": [],
      "source": [
        "# Define la posición de los nodos usando el layout circular\n",
        "pos = nx.circular_layout(G)\n",
        "\n",
        "# Configura el tamaño del gráfico para tener una forma más equilibrada\n",
        "plt.figure(figsize=(8, 8))  # Tamaño del gráfico en pulgadas (ancho, alto)\n",
        "\n",
        "# Dibuja los nodos\n",
        "nx.draw_networkx_nodes(G, pos, node_size=100, node_color='skyblue', alpha=0.6)\n",
        "\n",
        "# Dibuja las aristas\n",
        "nx.draw_networkx_edges(G, pos, width=1, alpha=1, edge_color='gray')\n",
        "\n",
        "# Dibuja las etiquetas de los nodos\n",
        "nx.draw_networkx_labels(G, pos, font_size=8, font_family='sans-serif')\n",
        "\n",
        "plt.title(\"Visualización Mejorada del Grafo del Karate Club con Layout Circular\")\n",
        "plt.axis('off')  # Oculta los ejes para mejorar la visualización\n",
        "plt.show()"
      ]
    },
    {
      "cell_type": "markdown",
      "id": "4c3c0ff6",
      "metadata": {
        "id": "4c3c0ff6"
      },
      "source": [
        "## Introducción a la Detección de Comunidades\n",
        "\n",
        "En el estudio de redes y grafos, una **comunidad** se refiere a un grupo de nodos que están más densamente conectados entre sí que con el resto de la red. En otras palabras, los miembros de una comunidad tienden a tener más enlaces entre sí que con nodos fuera de la comunidad. Estos grupos pueden ser evidencia de estructuras organizativas, módulos funcionales, o agrupaciones de nodos con propiedades o roles similares.\n",
        "\n",
        "La **detección de comunidades** es una tarea crucial en la ciencia de redes, ya que permite revelar la estructura interna de las redes y obtener una visión más detallada de su funcionamiento y organización.\n",
        "\n",
        "Las comunidades pueden surgir en una variedad de contextos en redes reales. Por ejemplo:\n",
        "\n",
        "- En una **red social**, las comunidades pueden corresponder a grupos de amigos, familias, colegas de trabajo, entre otros.\n",
        "- En una **red de coautoría científica**, las comunidades pueden corresponder a campos de investigación o instituciones académicas.\n",
        "- En una **red de interacciones proteína-proteína**, las comunidades pueden corresponder a complejos proteicos o vías metabólicas.\n",
        "\n",
        "La detección de comunidades es, en esencia, un problema de agrupación o *clustering*, pero aplicado a la estructura de la red en lugar de a vectores de características de los nodos. El objetivo es identificar los grupos de nodos (comunidades) que están más estrechamente relacionados entre sí.\n",
        "\n",
        "En términos matemáticos, podemos describir una comunidad de la siguiente manera:\n",
        "\n",
        "- Dado un grafo $G = (V, E)$, donde $V$ es el conjunto de todos los nodos y $E$ es el conjunto de todos los enlaces, una **comunidad** $C$ es un subconjunto de nodos $V$ tal que hay más enlaces entre los nodos en $C$ que entre los nodos en $C$ y los nodos en el conjunto complementario $V \\setminus C$.\n",
        "\n",
        "Aquí, $V \\setminus C$ denota la diferencia de conjuntos entre $V$ y $C$ - en otras palabras, es el conjunto de todos los nodos que *no* están en la comunidad $C$.\n",
        "\n",
        "Por lo tanto, la densidad de enlaces dentro de la comunidad $C$ es mayor que la densidad de enlaces entre $C$ y $V \\setminus C$. Esto es lo que significa decir que los nodos dentro de una comunidad están \"más densamente conectados\" entre sí que con el resto de la red.\n",
        "\n",
        "La **detección de comunidades** es entonces el proceso de identificar estas comunidades dentro de la red. En otras palabras, estamos buscando subconjuntos de nodos que tengan esta propiedad de densidad de enlace superior.\n",
        "\n",
        "Existen varios algoritmos y enfoques para la detección de comunidades en redes, cada uno con sus propias fortalezas y debilidades. Algunos de estos métodos se basan en la optimización de una función objetivo, como la modularidad, mientras que otros utilizan técnicas de agrupamiento basadas en la estructura de la red.\n"
      ]
    },
    {
      "cell_type": "markdown",
      "id": "2308786d",
      "metadata": {
        "id": "2308786d"
      },
      "source": [
        "# Definición de Modularidad y su importancia en la detección de comunidades\n",
        "\n",
        "La modularidad es una medida de la estructura de la red que se utiliza para evaluar la calidad de una división particular de la red en comunidades. Se calcula como la fracción de los enlaces que caen dentro de las comunidades en comparación con el número esperado de enlaces que caerían dentro de las comunidades si los enlaces fueran distribuidos al azar.\n",
        "\n",
        "Matemáticamente, la modularidad $Q$ se define como:\n",
        "\n",
        "$$Q = \\frac{1}{2m} \\sum_{ij} \\left[ A_{ij} - \\frac{k_ik_j}{2m} \\right] \\delta(c_i,c_j)$$\n",
        "\n",
        "Donde:\n",
        "\n",
        "- $A_{ij}$ es la matriz de adyacencia, que es 1 si hay un enlace entre los nodos $i$ y $j$, y 0 en caso contrario.\n",
        "- $k_i$ y $k_j$ son los grados de los nodos $i$ y $j$, respectivamente, es decir, el número de enlaces que conectan con el nodo.\n",
        "- $m$ es el número total de enlaces en la red.\n",
        "- $c_i$ y $c_j$ son las comunidades a las que pertenecen los nodos $i$ y $j$, respectivamente.\n",
        "- $\\delta(c_i,c_j)$ es la función delta de Kronecker, que es 1 si $c_i=c_j$ y 0 en caso contrario.\n",
        "\n",
        "El término $\\frac{k_ik_j}{2m}$ representa el número esperado de enlaces entre los nodos $i$ y $j$ si los enlaces fueran distribuidos al azar, manteniendo los grados de los nodos fijos.\n",
        "\n",
        "En términos simples, la modularidad es alta si el número de enlaces dentro de las comunidades es mayor de lo esperado al azar, y es baja si el número de enlaces es igual o menor de lo esperado. Por lo tanto, un buen agrupamiento en comunidades tendrá una modularidad alta.\n",
        "\n",
        "Un aspecto importante a tener en cuenta es que la modularidad sufre de una resolución limitada: para redes muy grandes, puede fallar al detectar comunidades pequeñas. Además, la maximización de la modularidad es un problema NP-completo, lo que significa que encontrar la partición de máxima modularidad puede ser computacionalmente costoso para redes grandes.\n"
      ]
    },
    {
      "cell_type": "markdown",
      "id": "6783f3ee",
      "metadata": {
        "id": "6783f3ee"
      },
      "source": [
        "# Métodos para la Detección de Comunidades\n",
        "\n",
        "Hay muchos métodos disponibles para la detección de comunidades en redes. Algunos de los más populares incluyen el método de Louvain y el algoritmo de Girvan-Newman. Cada método tiene sus propias ventajas y desventajas, y puede ser más adecuado para ciertos tipos de redes o problemas de detección de comunidades.\n",
        "\n",
        "## Algoritmo de Girvan-Newman\n",
        "\n",
        "El algoritmo de Girvan-Newman es un método popular para la detección de comunidades que se basa en la idea de \"betweenness\" de los enlaces, que es una medida de la centralidad en una red.\n",
        "\n",
        "En términos sencillos, la centralidad de intermediación de un enlace se define como el número de caminos más cortos entre cualquier par de nodos que pasan por ese enlace. En el contexto de la detección de comunidades, los enlaces con alta intermediación son los que conectan comunidades, ya que cualquier camino que pase de una comunidad a otra debe pasar por estos enlaces.\n",
        "\n",
        "El algoritmo funciona de la siguiente manera:\n",
        "\n",
        "1. Calcula la centralidad de intermediación para todos los enlaces en la red.\n",
        "2. Elimina el enlace con mayor centralidad de intermediación.\n",
        "3. Recalcula la centralidad de intermediación para todos los enlaces restantes.\n",
        "4. Repite los pasos 2 y 3 hasta que no queden enlaces.\n",
        "5. Al final, cada nodo se encuentra en su propia comunidad. La partición con la mayor modularidad a lo largo de este proceso es la que se selecciona como la división de la comunidad.\n",
        "\n",
        "Este algoritmo tiene la ventaja de que no requiere un número predefinido de comunidades, y puede encontrar comunidades de diferentes tamaños. Sin embargo, tiene la desventaja de que el cálculo de la centralidad de intermediación es computacionalmente costoso, especialmente para redes grandes. Además, este algoritmo puede no ser efectivo si hay enlaces \"puente\" con baja centralidad de intermediación que conectan comunidades."
      ]
    },
    {
      "cell_type": "code",
      "execution_count": null,
      "id": "d235195d",
      "metadata": {
        "ExecuteTime": {
          "end_time": "2023-05-24T16:30:54.276920Z",
          "start_time": "2023-05-24T16:30:54.178294Z"
        },
        "id": "d235195d"
      },
      "outputs": [],
      "source": [
        "# Crea un grafo de Karate Club como ejemplo\n",
        "G = nx.karate_club_graph()\n",
        "\n",
        "# Aplica el algoritmo de Girvan-Newman\n",
        "communities_generator = nx.algorithms.community.centrality.girvan_newman(G)\n",
        "\n",
        "# Convierte el generador en una lista\n",
        "communities = list(communities_generator)\n",
        "\n",
        "# Imprime el desglose en dos comunidades (primera partición)\n",
        "print(\"Desglose en dos comunidades: \", communities[0])\n",
        "\n",
        "# Imprime el desglose en tres comunidades (segunda partición)\n",
        "print(\"Desglose en tres comunidades: \", communities[1])\n",
        "\n",
        "# Y así sucesivamente"
      ]
    },
    {
      "cell_type": "code",
      "execution_count": null,
      "id": "38e6a687",
      "metadata": {
        "ExecuteTime": {
          "end_time": "2023-05-24T16:35:26.861781Z",
          "start_time": "2023-05-24T16:35:26.835188Z"
        },
        "id": "38e6a687"
      },
      "outputs": [],
      "source": [
        "# Inicializa la modularidad máxima en -1\n",
        "max_modularity = -1\n",
        "\n",
        "# Inicializa la mejor división en None\n",
        "best_division = None\n",
        "\n",
        "# Recorre todas las particiones generadas\n",
        "for division in communities:\n",
        "    partition = {}\n",
        "    for i, community in enumerate(division):\n",
        "        for node in community:\n",
        "            partition[node] = i\n",
        "\n",
        "    # Calcula la modularidad de la partición actual\n",
        "    modularity = nx.algorithms.community.quality.modularity(G, division)\n",
        "\n",
        "    # Si la modularidad de la partición actual es mayor que la modularidad máxima encontrada hasta ahora\n",
        "    if modularity > max_modularity:\n",
        "        # Actualiza la modularidad máxima y la mejor división\n",
        "        max_modularity = modularity\n",
        "        best_division = partition\n",
        "\n",
        "# Imprime la mejor división y su modularidad\n",
        "print(\"Mejor división: \", best_division)\n",
        "print(\"Modularidad de la mejor división: \", max_modularity)"
      ]
    },
    {
      "cell_type": "code",
      "execution_count": null,
      "id": "7698f426",
      "metadata": {
        "ExecuteTime": {
          "end_time": "2023-05-24T16:38:41.385681Z",
          "start_time": "2023-05-24T16:38:41.038863Z"
        },
        "id": "7698f426"
      },
      "outputs": [],
      "source": [
        "# Genera una lista de colores de la misma longitud que el número de comunidades\n",
        "colors = [\"#1f77b4\", \"#ff7f0e\", \"#2ca02c\", \"#d62728\",\n",
        "          \"#9467bd\", \"#8c564b\", \"#e377c2\", \"#7f7f7f\",\n",
        "          \"#bcbd22\", \"#17becf\"]\n",
        "\n",
        "# Asigna a cada nodo un color en función de su comunidad\n",
        "node_colors = [colors[best_division[node]] for node in G.nodes]\n",
        "\n",
        "# Dibuja el grafo\n",
        "plt.figure(figsize=(10, 10))\n",
        "nx.draw(G, node_color=node_colors, with_labels=True)\n",
        "plt.show()"
      ]
    },
    {
      "cell_type": "markdown",
      "id": "f881f2ec",
      "metadata": {
        "id": "f881f2ec"
      },
      "source": [
        "## Algoritmo de Propagación de Etiquetas\n",
        "\n",
        "El Algoritmo de Propagación de Etiquetas, propuesto por Raghavan, Albert y Kumara en 2007, es una técnica simple y rápida para la detección de comunidades. Este método se basa en la idea de que una etiqueta (o comunidad) puede propagarse de un nodo a sus vecinos.\n",
        "\n",
        "El algoritmo se ejecuta de la siguiente manera:\n",
        "\n",
        "1. Inicialmente, cada nodo tiene una etiqueta única. Esta etiqueta representa la comunidad a la que pertenece el nodo.\n",
        "\n",
        "2. En cada paso, los nodos son visitados de manera aleatoria. Cada nodo adopta la etiqueta que la mayoría de sus vecinos tienen en ese momento. En caso de empate, se selecciona una etiqueta al azar.\n",
        "\n",
        "3. El algoritmo se detiene cuando cada nodo tiene la etiqueta que la mayoría de sus vecinos tienen.\n",
        "\n",
        "### Ventajas y desventajas del Algoritmo de Propagación de Etiquetas\n",
        "\n",
        "**Ventajas**:\n",
        "\n",
        "*  Es muy simple de entender e implementar.\n",
        "*  Es muy rápido y eficiente en términos de tiempo de ejecución.\n",
        "*  No requiere ninguna configuración de parámetros.\n",
        "*  Es capaz de detectar comunidades de diferentes tamaños.\n",
        "\n",
        "**Desventajas**:\n",
        "\n",
        "*  Puede no ser tan preciso como otros métodos más sofisticados.\n",
        "*  La solución puede no ser óptima ya que depende de la secuencia de visitas a los nodos.\n",
        "*  Puede producir resultados diferentes en diferentes ejecuciones debido a su naturaleza estocástica.\n",
        "*  Te proporcionaré un ejemplo de código para mostrar cómo funciona esto en la siguiente respuesta."
      ]
    },
    {
      "cell_type": "code",
      "execution_count": null,
      "id": "ff88e8b2",
      "metadata": {
        "ExecuteTime": {
          "end_time": "2023-05-24T16:52:14.401679Z",
          "start_time": "2023-05-24T16:52:14.288401Z"
        },
        "id": "ff88e8b2"
      },
      "outputs": [],
      "source": [
        "# Carga el grafo del libro los miserables\n",
        "G = nx.les_miserables_graph()\n",
        "\n",
        "# Ejecuta el algoritmo de propagación de etiquetas\n",
        "communities_generator = nx.algorithms.community.label_propagation.asyn_lpa_communities(G)\n",
        "\n",
        "# Convierte el generador en una lista\n",
        "communities = list(communities_generator)\n",
        "\n",
        "# Inicializa un diccionario vacío para la partition\n",
        "partition = {}\n",
        "\n",
        "# Llena el diccionario con la partición\n",
        "for i, community in enumerate(communities):\n",
        "    for node in community:\n",
        "        partition[node] = i\n",
        "\n",
        "# Imprime la partición\n",
        "print(partition)"
      ]
    },
    {
      "cell_type": "code",
      "execution_count": null,
      "id": "b2c0fd41",
      "metadata": {
        "id": "b2c0fd41"
      },
      "outputs": [],
      "source": [
        "# Genera una lista de colores de la misma longitud que el número de comunidades\n",
        "colors = [\"#1f77b4\", \"#ff7f0e\", \"#2ca02c\", \"#d62728\", \"#9467bd\", \"#8c564b\", \"#e377c2\", \"#7f7f7f\", \"#bcbd22\", \"#17becf\"]\n",
        "\n",
        "# Asigna a cada nodo un color en función de su comunidad\n",
        "node_colors = [colors[partition[node]] for node in G.nodes]\n",
        "\n",
        "# Dibuja el grafo\n",
        "plt.figure(figsize=(10, 10))\n",
        "nx.draw(G, node_color=node_colors, with_labels=True)\n",
        "plt.show()"
      ]
    }
  ],
  "metadata": {
    "kernelspec": {
      "display_name": "Python 3 (ipykernel)",
      "language": "python",
      "name": "python3"
    },
    "language_info": {
      "codemirror_mode": {
        "name": "ipython",
        "version": 3
      },
      "file_extension": ".py",
      "mimetype": "text/x-python",
      "name": "python",
      "nbconvert_exporter": "python",
      "pygments_lexer": "ipython3",
      "version": "3.10.13"
    },
    "varInspector": {
      "cols": {
        "lenName": 16,
        "lenType": 16,
        "lenVar": 40
      },
      "kernels_config": {
        "python": {
          "delete_cmd_postfix": "",
          "delete_cmd_prefix": "del ",
          "library": "var_list.py",
          "varRefreshCmd": "print(var_dic_list())"
        },
        "r": {
          "delete_cmd_postfix": ") ",
          "delete_cmd_prefix": "rm(",
          "library": "var_list.r",
          "varRefreshCmd": "cat(var_dic_list()) "
        }
      },
      "types_to_exclude": [
        "module",
        "function",
        "builtin_function_or_method",
        "instance",
        "_Feature"
      ],
      "window_display": false
    },
    "colab": {
      "provenance": []
    }
  },
  "nbformat": 4,
  "nbformat_minor": 5
}