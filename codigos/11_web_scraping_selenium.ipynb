{
 "cells": [
  {
   "cell_type": "markdown",
   "id": "2cfe881f",
   "metadata": {},
   "source": [
    "\n",
    "## Web Scraping con Selenium\n",
    "\n",
    "En este cuaderno, exploraremos cómo realizar web scraping utilizando la biblioteca Selenium. \n",
    "El web scraping es una técnica utilizada para extraer información de sitios web. Selenium es una herramienta \n",
    "popular para la automatización de navegadores web, lo que permite simular la navegación humana y extraer \n",
    "datos de páginas que requieren interacción o que cargan contenido dinámicamente.\n",
    "\n",
    "### Importación de bibliotecas\n",
    "Comenzaremos importando las bibliotecas necesarias para nuestro proceso:\n",
    "- `selenium`: Para automatizar y controlar un navegador web.\n",
    "- `BeautifulSoup`: Para analizar el contenido HTML y extraer datos.\n",
    "- `csv`: Para manejar y guardar datos en formato CSV.\n"
   ]
  },
  {
   "cell_type": "code",
   "execution_count": null,
   "id": "3b90db2e",
   "metadata": {
    "ExecuteTime": {
     "end_time": "2023-05-19T23:35:19.133955Z",
     "start_time": "2023-05-19T23:35:18.905861Z"
    }
   },
   "outputs": [],
   "source": [
    "from selenium import webdriver\n",
    "from bs4 import BeautifulSoup\n",
    "import csv"
   ]
  },
  {
   "cell_type": "markdown",
   "id": "6a409392",
   "metadata": {},
   "source": [
    "\n",
    "### Definición de la URL objetivo\n",
    "\n",
    "A continuación, definimos la URL de la página web que queremos explorar. Esta URL corresponde a una página \n",
    "de anuncios de departamentos en venta en Coyoacán (un área de la Ciudad de México) en el sitio Vivanuncios. \n",
    "Posteriormente, imprimiremos la URL para verificarla.\n"
   ]
  },
  {
   "cell_type": "code",
   "execution_count": null,
   "id": "15da1357",
   "metadata": {
    "ExecuteTime": {
     "end_time": "2023-05-19T23:42:54.743319Z",
     "start_time": "2023-05-19T23:42:54.718823Z"
    }
   },
   "outputs": [],
   "source": [
    "url='https://www.vivanuncios.com.mx/s-departamentos-en-venta/coyoacan/page-1/v1c1294l10268p2'\n",
    "print(url)"
   ]
  },
  {
   "cell_type": "markdown",
   "id": "c2ab92f1",
   "metadata": {},
   "source": [
    "\n",
    "### Inicialización del WebDriver\n",
    "\n",
    "Para poder navegar por la web y extraer datos, necesitamos inicializar un WebDriver. \n",
    "En este caso, utilizaremos el `webdriver.Chrome()`, que nos permite controlar una instancia del navegador Chrome.\n"
   ]
  },
  {
   "cell_type": "code",
   "execution_count": null,
   "id": "811e3ea8",
   "metadata": {
    "ExecuteTime": {
     "end_time": "2023-05-19T23:46:06.006890Z",
     "start_time": "2023-05-19T23:46:02.084486Z"
    }
   },
   "outputs": [],
   "source": [
    "driver=webdriver.Chrome()"
   ]
  },
  {
   "cell_type": "markdown",
   "id": "54f14f26",
   "metadata": {},
   "source": [
    "\n",
    "### Accediendo a la página web\n",
    "\n",
    "Una vez que el WebDriver está inicializado, podemos usar el método `get()` para dirigir el navegador a la URL especificada. \n",
    "Esto simulará una visita a la página web como si estuviéramos utilizando un navegador de forma manual.\n"
   ]
  },
  {
   "cell_type": "code",
   "execution_count": null,
   "id": "3d3bf9ec",
   "metadata": {
    "ExecuteTime": {
     "end_time": "2023-05-19T23:47:04.840128Z",
     "start_time": "2023-05-19T23:47:00.277776Z"
    }
   },
   "outputs": [],
   "source": [
    "driver.get(url)"
   ]
  },
  {
   "cell_type": "markdown",
   "id": "34a0b514",
   "metadata": {},
   "source": [
    "\n",
    "### Función para generar URLs\n",
    "\n",
    "Dado que es probable que queramos explorar múltiples páginas del sitio, definimos una función `get_url()` que genera \n",
    "URLs basadas en un número de página proporcionado. Esto nos facilitará la tarea de navegar por diferentes páginas \n",
    "sin tener que definir manualmente cada URL.\n"
   ]
  },
  {
   "cell_type": "code",
   "execution_count": null,
   "id": "fbac917c",
   "metadata": {
    "ExecuteTime": {
     "end_time": "2023-05-19T23:49:39.242188Z",
     "start_time": "2023-05-19T23:49:39.234199Z"
    }
   },
   "outputs": [],
   "source": [
    "def get_url(num_pag):\n",
    "    url='https://www.vivanuncios.com.mx/s-departamentos-en-venta/coyoacan/'\n",
    "    url+='page-{}/v1c1294l10268p{}'\n",
    "    return url.format(num_pag,num_pag)"
   ]
  },
  {
   "cell_type": "markdown",
   "id": "4c7bf276",
   "metadata": {},
   "source": [
    "\n",
    "### Navegación a una URL específica\n",
    "\n",
    "Con la función `get_url()` que definimos anteriormente, generamos una URL para la página 20 del sitio y \n",
    "navegamos a ella utilizando el WebDriver. Esto nos permite explorar y extraer datos de diferentes páginas \n",
    "del sitio de manera programática.\n"
   ]
  },
  {
   "cell_type": "code",
   "execution_count": null,
   "id": "e1d581a6",
   "metadata": {
    "ExecuteTime": {
     "end_time": "2023-05-19T23:50:04.042262Z",
     "start_time": "2023-05-19T23:50:02.052086Z"
    }
   },
   "outputs": [],
   "source": [
    "driver.get(get_url(20))"
   ]
  },
  {
   "cell_type": "markdown",
   "id": "321f336e",
   "metadata": {},
   "source": [
    "\n",
    "### Creación del objeto BeautifulSoup\n",
    "\n",
    "Para facilitar la extracción de datos de la página web, utilizamos `BeautifulSoup` para analizar el contenido \n",
    "HTML de la página. Esto nos proporciona una estructura fácil de navegar y nos permite buscar y extraer \n",
    "información específica de la página.\n"
   ]
  },
  {
   "cell_type": "code",
   "execution_count": null,
   "id": "166f40af",
   "metadata": {
    "ExecuteTime": {
     "end_time": "2023-05-19T23:51:46.506354Z",
     "start_time": "2023-05-19T23:51:46.302435Z"
    }
   },
   "outputs": [],
   "source": [
    "sopa=BeautifulSoup(driver.page_source,'html.parser')"
   ]
  },
  {
   "cell_type": "markdown",
   "id": "ea0017a4",
   "metadata": {},
   "source": [
    "\n",
    "### Extracción de tarjetas de anuncios\n",
    "\n",
    "A continuación, buscamos todos los elementos `div` con la clase `REAdTileV2` en la página. Estos elementos \n",
    "representan tarjetas individuales de anuncios de departamentos en venta. Cada tarjeta contiene información \n",
    "sobre un anuncio específico, como precio, ubicación, características, etc.\n"
   ]
  },
  {
   "cell_type": "code",
   "execution_count": null,
   "id": "d7b0206e",
   "metadata": {
    "ExecuteTime": {
     "end_time": "2023-05-19T23:57:04.653124Z",
     "start_time": "2023-05-19T23:57:04.628030Z"
    }
   },
   "outputs": [],
   "source": [
    "tarjetas=sopa.find_all('div',{'class':'sc-1tt2vbg-4'})"
   ]
  },
  {
   "cell_type": "code",
   "execution_count": null,
   "id": "5b3360b9",
   "metadata": {},
   "outputs": [],
   "source": [
    "len(tarjetas)"
   ]
  },
  {
   "cell_type": "markdown",
   "id": "b147d0b0",
   "metadata": {},
   "source": [
    "\n",
    "### Seleccionar la primera tarjeta\n",
    "\n",
    "Para ilustrar el proceso de extracción de datos, seleccionamos la primera tarjeta de la lista de tarjetas \n",
    "extraídas en el paso anterior. A partir de esta tarjeta, extraeremos detalles específicos en los siguientes pasos.\n"
   ]
  },
  {
   "cell_type": "code",
   "execution_count": null,
   "id": "7f98217b",
   "metadata": {
    "ExecuteTime": {
     "end_time": "2023-05-20T00:01:05.631557Z",
     "start_time": "2023-05-20T00:01:05.623530Z"
    }
   },
   "outputs": [],
   "source": [
    "tarjeta=tarjetas[0]"
   ]
  },
  {
   "cell_type": "markdown",
   "id": "ae06c084",
   "metadata": {},
   "source": [
    "\n",
    "### Extracción del precio del anuncio\n",
    "\n",
    "A partir de la tarjeta seleccionada, extraemos el precio del anuncio. El precio se encuentra dentro de un \n",
    "elemento `span` con la clase `ad-price`. Después de extraerlo, limpiamos y mostramos el precio para verificarlo.\n"
   ]
  },
  {
   "cell_type": "code",
   "execution_count": null,
   "id": "e283c306",
   "metadata": {
    "ExecuteTime": {
     "end_time": "2023-05-20T00:01:08.101839Z",
     "start_time": "2023-05-20T00:01:08.077753Z"
    }
   },
   "outputs": [],
   "source": [
    "precio=tarjeta.find('div',{'class':'sc-12dh9kl-4'}).text.strip()\n",
    "precio"
   ]
  },
  {
   "cell_type": "markdown",
   "id": "946aa365",
   "metadata": {},
   "source": [
    "\n",
    "### Extracción del número de habitaciones\n",
    "\n",
    "A continuación, extraemos el número de habitaciones del anuncio. Este dato se encuentra dentro de un elemento \n",
    "`div` con la clase `chiplets-inline-block re-bedroom`. Tras extraerlo, lo mostramos para verificación.\n"
   ]
  },
  {
   "cell_type": "code",
   "execution_count": null,
   "id": "3ece8429",
   "metadata": {},
   "outputs": [],
   "source": [
    "datos=tarjeta.select('div.sc-1uhtbxc-0 span span')"
   ]
  },
  {
   "cell_type": "code",
   "execution_count": null,
   "id": "7ef46544",
   "metadata": {},
   "outputs": [],
   "source": [
    "for dato in datos:\n",
    "    print(dato.text)"
   ]
  },
  {
   "cell_type": "code",
   "execution_count": null,
   "id": "ef454983",
   "metadata": {},
   "outputs": [],
   "source": [
    "medida1=datos[0].text.strip()\n",
    "medida2=datos[1].text.strip()\n",
    "recamaras=datos[2].text.strip()\n",
    "banios=datos[3].text.strip()"
   ]
  },
  {
   "cell_type": "code",
   "execution_count": null,
   "id": "ee959cd1",
   "metadata": {},
   "outputs": [],
   "source": [
    "banios"
   ]
  },
  {
   "cell_type": "markdown",
   "id": "7f4858b0",
   "metadata": {},
   "source": [
    "\n",
    "### Iteración sobre todas las tarjetas\n",
    "\n",
    "Para automatizar la extracción de datos de múltiples anuncios, iteramos sobre todas las tarjetas que \n",
    "hemos extraído previamente. En cada iteración, extraemos el precio, la dirección y el número de habitaciones \n",
    "del anuncio y los almacenamos en variables.\n"
   ]
  },
  {
   "cell_type": "markdown",
   "id": "b12b4860",
   "metadata": {},
   "source": [
    "\n",
    "### Extracción del número de habitaciones\n",
    "\n",
    "De manera similar, extraemos el número de habitaciones del anuncio. Esta información se encuentra en un \n",
    "elemento `div` con la clase `chiplets-inline-block re-bedroom`. Tras extraerla, la limpiamos para su verificación.\n"
   ]
  },
  {
   "cell_type": "markdown",
   "id": "3bdcf297",
   "metadata": {},
   "source": [
    "\n",
    "### Web scraping a gran escala\n",
    "\n",
    "Para recopilar un conjunto de datos más amplio, inicializamos un nuevo WebDriver y luego iteramos sobre \n",
    "50 páginas del sitio. En cada página, extraemos datos de cada anuncio (precio, dirección, número de habitaciones) \n",
    "y los añadimos a una lista llamada `registros`. Esta aproximación nos permite recopilar datos de múltiples \n",
    "anuncios en múltiples páginas de forma automatizada.\n"
   ]
  },
  {
   "cell_type": "code",
   "execution_count": null,
   "id": "aae6f7ad",
   "metadata": {
    "ExecuteTime": {
     "end_time": "2023-05-20T00:04:01.807327Z",
     "start_time": "2023-05-20T00:04:01.775360Z"
    }
   },
   "outputs": [],
   "source": [
    "tarjeta.find('div',{'class':'sc-ge2uzh-2'}).text.strip()"
   ]
  },
  {
   "cell_type": "markdown",
   "id": "68b69dd7",
   "metadata": {},
   "source": [
    "\n",
    "### Visualización de los datos recopilados\n",
    "\n",
    "Finalmente, mostramos la lista `registros` para revisar y verificar los datos que hemos extraído durante \n",
    "el proceso de web scraping.\n"
   ]
  },
  {
   "cell_type": "code",
   "execution_count": null,
   "id": "bfdda8f8",
   "metadata": {},
   "outputs": [],
   "source": [
    "tarjeta.select('div.sc-1uhtbxc-0 span span')[2].text"
   ]
  },
  {
   "cell_type": "markdown",
   "id": "87368d5d",
   "metadata": {},
   "source": [
    "\n",
    "### Iterar sobre todas las tarjetas\n",
    "\n",
    "Ahora que hemos demostrado cómo extraer información detallada de una tarjeta, procedemos a iterar sobre \n",
    "todas las tarjetas recopiladas para extraer el precio, la dirección y el número de habitaciones de cada anuncio.\n"
   ]
  },
  {
   "cell_type": "code",
   "execution_count": null,
   "id": "8e7e612b",
   "metadata": {
    "ExecuteTime": {
     "end_time": "2023-05-19T23:59:37.420193Z",
     "start_time": "2023-05-19T23:59:37.403952Z"
    }
   },
   "outputs": [],
   "source": [
    "for tarjeta in tarjetas:\n",
    "    try:\n",
    "        precio=tarjeta.find('div',{'class':'sc-12dh9kl-4'}).text.strip()\n",
    "        direccion=tarjeta.find('div',{'class':'sc-ge2uzh-2'}).text.strip()\n",
    "        habitaciones=tarjeta.select('div.sc-1uhtbxc-0 span span')[2].text.strip()\n",
    "        print(precio,direccion,habitaciones)\n",
    "    except:\n",
    "        pass"
   ]
  },
  {
   "cell_type": "markdown",
   "id": "57c6a765",
   "metadata": {},
   "source": [
    "\n",
    "### Web scraping a gran escala\n",
    "\n",
    "Para recopilar un conjunto de datos más grande, procedemos a realizar web scraping a lo largo de 50 páginas \n",
    "del sitio web. En cada página, extraemos la información de cada anuncio y la almacenamos en una lista llamada `registros`. \n",
    "Para manejar posibles errores o interrupciones durante el proceso, incluimos manejo de excepciones para asegurarnos \n",
    "de que el proceso continúe incluso si se encuentra con problemas en una página específica.\n"
   ]
  },
  {
   "cell_type": "code",
   "execution_count": null,
   "id": "d4bb1582",
   "metadata": {
    "ExecuteTime": {
     "end_time": "2023-05-20T00:16:44.112011Z",
     "start_time": "2023-05-20T00:14:43.609764Z"
    }
   },
   "outputs": [],
   "source": [
    "import time\n",
    "driver=webdriver.Chrome()\n",
    "registros=[]\n",
    "for pagina in range(1,11):\n",
    "    try:\n",
    "        url=get_url(pagina)\n",
    "        driver.get(url)\n",
    "        time.sleep(2)\n",
    "        print(f'Entrando pagina {pagina}')\n",
    "        sopa=BeautifulSoup(driver.page_source,'html.parser')\n",
    "        tarjetas=sopa.find_all('div',{'class':'sc-1tt2vbg-4'})\n",
    "        for tarjeta in tarjetas:\n",
    "            try:\n",
    "                precio=tarjeta.find('div',{'class':'sc-12dh9kl-4'}).text.strip()\n",
    "                direccion=tarjeta.find('div',{'class':'sc-ge2uzh-2'}).text.strip()\n",
    "                habitaciones=tarjeta.select('div.sc-1uhtbxc-0 span span')[2].text.strip()\n",
    "                registros.append((precio,direccion,habitaciones))\n",
    "            except:\n",
    "                pass            \n",
    "    except Exception as e:\n",
    "        print(e)\n",
    "        driver.close()\n",
    "        driver=webdriver.Chrome()\n",
    "        continue\n",
    "driver.close()"
   ]
  },
  {
   "cell_type": "markdown",
   "id": "2cedfb6a",
   "metadata": {},
   "source": [
    "\n",
    "### Visualización de los datos recopilados\n",
    "\n",
    "Finalmente, mostramos la lista `registros` para verificar y visualizar los datos que hemos extraído durante el proceso de web scraping.\n"
   ]
  },
  {
   "cell_type": "code",
   "execution_count": null,
   "id": "ee88a6dc",
   "metadata": {
    "ExecuteTime": {
     "end_time": "2023-05-20T00:18:27.569949Z",
     "start_time": "2023-05-20T00:18:27.478440Z"
    }
   },
   "outputs": [],
   "source": [
    "registros"
   ]
  },
  {
   "cell_type": "markdown",
   "id": "3e768fec",
   "metadata": {},
   "source": [
    "\n",
    "### Guardando los datos en un archivo CSV\n",
    "\n",
    "Después de recopilar todos los datos deseados, es esencial guardarlos para análisis futuros o para compartirlos. \n",
    "En este paso, guardamos los datos recopilados en un archivo CSV llamado `vivanuncios_coyoacan.csv`. \n",
    "El archivo contendrá columnas para el `precio`, la `direccion` y el número de `habitaciones` de cada anuncio.\n"
   ]
  },
  {
   "cell_type": "code",
   "execution_count": null,
   "id": "292eccc3",
   "metadata": {
    "ExecuteTime": {
     "end_time": "2023-05-20T00:21:10.914611Z",
     "start_time": "2023-05-20T00:21:10.898595Z"
    }
   },
   "outputs": [],
   "source": [
    "with open('vivanuncios_coyoacan.csv','w',\n",
    "         newline='',encoding='utf-8') as f:\n",
    "    writer=csv.writer(f)\n",
    "    writer.writerow(['precio','direccion','habitaciones'])\n",
    "    writer.writerows(registros)"
   ]
  }
 ],
 "metadata": {
  "kernelspec": {
   "display_name": "Python 3 (ipykernel)",
   "language": "python",
   "name": "python3"
  },
  "language_info": {
   "codemirror_mode": {
    "name": "ipython",
    "version": 3
   },
   "file_extension": ".py",
   "mimetype": "text/x-python",
   "name": "python",
   "nbconvert_exporter": "python",
   "pygments_lexer": "ipython3",
   "version": "3.10.13"
  },
  "varInspector": {
   "cols": {
    "lenName": 16,
    "lenType": 16,
    "lenVar": 40
   },
   "kernels_config": {
    "python": {
     "delete_cmd_postfix": "",
     "delete_cmd_prefix": "del ",
     "library": "var_list.py",
     "varRefreshCmd": "print(var_dic_list())"
    },
    "r": {
     "delete_cmd_postfix": ") ",
     "delete_cmd_prefix": "rm(",
     "library": "var_list.r",
     "varRefreshCmd": "cat(var_dic_list()) "
    }
   },
   "types_to_exclude": [
    "module",
    "function",
    "builtin_function_or_method",
    "instance",
    "_Feature"
   ],
   "window_display": false
  }
 },
 "nbformat": 4,
 "nbformat_minor": 5
}
