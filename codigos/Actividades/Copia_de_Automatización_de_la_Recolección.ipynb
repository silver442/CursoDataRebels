{
  "cells": [
    {
      "cell_type": "markdown",
      "id": "ae588ebe",
      "metadata": {},
      "source": [
        "# Acrividad Automatización de la recolección\n",
        "**Nombre:** Silvestre Hernandez Hernandez"
      ]
    },
    {
      "cell_type": "markdown",
      "id": "9fddd7ab",
      "metadata": {},
      "source": [
        "### Extracción Automatizada de Datos de Archivos CSV"
      ]
    },
    {
      "cell_type": "code",
      "execution_count": 3,
      "id": "b56a549e",
      "metadata": {},
      "outputs": [
        {
          "name": "stdout",
          "output_type": "stream",
          "text": [
            "  Nombre  Edad     Ciudad\n",
            "0    Ana    23     Madrid\n",
            "1   Luis    34  Barcelona\n",
            "2  Pedro    29   Valencia\n",
            "3  Marta    22    Sevilla\n",
            "4  Jorge    45     Bilbao\n",
            "5  Lucía    31   Zaragoza\n"
          ]
        }
      ],
      "source": [
        "# Extracción Automatizada de Datos de Archivos CSV\n",
        "\"\"\"\n",
        "Crea un script en Python que automatice la extracción de datos de varios archivos CSV almacenados en una carpeta, combinándolos \n",
        "en un único DataFrame de Pandas.\n",
        "Tips: Utiliza pandas para leer archivos CSV. Puedes usar os.listdir para listar los archivos en una carpeta.\n",
        "\"\"\"\n",
        "import os\n",
        "import pandas as pd\n",
        "\n",
        "# Definir la ruta de la carpeta que contiene los archivos CSV\n",
        "carpeta_csv = './csv'\n",
        "\n",
        "# Obtener una lista de todos los archivos en la carpeta\n",
        "archivos_csv = [archivo for archivo in os.listdir(carpeta_csv) if archivo.endswith('.csv')]\n",
        "\n",
        "# Crear una lista para almacenar los DataFrames\n",
        "dataframes = []\n",
        "\n",
        "# Leer cada archivo CSV y agregar el DataFrame resultante a la lista\n",
        "for archivo in archivos_csv:\n",
        "    ruta_completa = os.path.join(carpeta_csv, archivo)\n",
        "    df = pd.read_csv(ruta_completa)\n",
        "    dataframes.append(df)\n",
        "\n",
        "# Combinar todos los DataFrames en uno solo\n",
        "df_combinado = pd.concat(dataframes, ignore_index=True)\n",
        "\n",
        "# Mostrar el DataFrame combinado\n",
        "print(df_combinado)\n",
        "\n",
        "# Opcional: Guardar el DataFrame combinado en un nuevo archivo CSV\n",
        "df_combinado.to_csv('./csv_conbinado/archivo_combinado.csv', index=False)\n",
        "\n"
      ]
    },
    {
      "cell_type": "markdown",
      "id": "d89f0a26",
      "metadata": {},
      "source": [
        "### Automatización de la Limpieza de Datos"
      ]
    },
    {
      "cell_type": "code",
      "execution_count": null,
      "id": "b2032b7f",
      "metadata": {},
      "outputs": [],
      "source": [
        "# Automatización de la Limpieza de Datos\n",
        "\"\"\"\n",
        "Diseña un programa en Python que identifique y corrija valores atípicos y faltantes en un conjunto de datos proporcionado, utilizando Pandas.\n",
        "Tips: Explora métodos como fillna() y dropna() para manejar valores faltantes y considera técnicas estadísticas para detectar valores atípicos.\n",
        "\"\"\"\n",
        "# Espacio para la solución del usuario:\n"
      ]
    },
    {
      "cell_type": "markdown",
      "id": "557d4885",
      "metadata": {},
      "source": [
        "### Integración de Datos de Diversas Fuentes"
      ]
    },
    {
      "cell_type": "code",
      "execution_count": null,
      "id": "7e99be83",
      "metadata": {},
      "outputs": [],
      "source": [
        "# Integración de Datos de Diversas Fuentes\n",
        "\"\"\"\n",
        "Utiliza Python para extraer datos de al menos dos fuentes diferentes (por ejemplo, un archivo CSV y una base de datos SQL), y combínalos \n",
        "en un único DataFrame.\n",
        "Tips: Para la extracción de bases de datos SQL, utiliza SQLAlchemy o pandas read_sql. Usa merge() o concat() para combinar DataFrames.\n",
        "\"\"\"\n",
        "# Espacio para la solución del usuario:"
      ]
    },
    {
      "cell_type": "markdown",
      "id": "e8e110b5",
      "metadata": {},
      "source": [
        "### Automatización de Extracción de Datos de API"
      ]
    },
    {
      "cell_type": "code",
      "execution_count": null,
      "id": "2c30d761",
      "metadata": {},
      "outputs": [],
      "source": [
        "# Automatización de Extracción de Datos de API\n",
        "\"\"\"\n",
        "Escribe un script en Python que extraiga datos de una API pública y los transforme en un formato utilizable para el análisis.\n",
        "Tips: Utiliza la librería requests para hacer solicitudes a la API y json para procesar la respuesta.\n",
        "\"\"\"\n",
        "# Espacio para la solución del usuario:"
      ]
    },
    {
      "cell_type": "markdown",
      "id": "ca9d54ca",
      "metadata": {},
      "source": [
        "### Simulación de Automatización de Preparación de Datos"
      ]
    },
    {
      "cell_type": "code",
      "execution_count": null,
      "id": "a9e5f3b8",
      "metadata": {
        "id": "a9e5f3b8"
      },
      "outputs": [],
      "source": [
        "# Simulación de Automatización de Preparación de Datos\n",
        "\"\"\"\n",
        "Crea un flujo de trabajo automatizado que simule la recepción de nuevos datos diariamente, limpie y transforme estos datos, y \n",
        "los almacene para análisis futuros.\n",
        "Tips: Implementa un script que simule la adquisición de nuevos datos y usa pandas para las operaciones de limpieza y transformación.\n",
        "\"\"\"\n",
        "# Espacio para la solución del usuario:\n",
        "\n",
        "\n"
      ]
    }
  ],
  "metadata": {
    "colab": {
      "provenance": []
    },
    "kernelspec": {
      "display_name": "base",
      "language": "python",
      "name": "python3"
    },
    "language_info": {
      "codemirror_mode": {
        "name": "ipython",
        "version": 3
      },
      "file_extension": ".py",
      "mimetype": "text/x-python",
      "name": "python",
      "nbconvert_exporter": "python",
      "pygments_lexer": "ipython3",
      "version": "3.11.7"
    }
  },
  "nbformat": 4,
  "nbformat_minor": 5
}
