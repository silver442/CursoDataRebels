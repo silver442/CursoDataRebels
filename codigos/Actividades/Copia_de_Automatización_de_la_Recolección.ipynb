{
  "cells": [
    {
      "cell_type": "code",
      "execution_count": null,
      "id": "a9e5f3b8",
      "metadata": {
        "id": "a9e5f3b8"
      },
      "outputs": [],
      "source": [
        "# Extracción Automatizada de Datos de Archivos CSV\n",
        "\"\"\"\n",
        "Crea un script en Python que automatice la extracción de datos de varios archivos CSV almacenados en una carpeta, combinándolos en un único DataFrame de Pandas.\n",
        "Tips: Utiliza pandas para leer archivos CSV. Puedes usar os.listdir para listar los archivos en una carpeta.\n",
        "\"\"\"\n",
        "# Espacio para la solución del usuario:\n",
        "\n",
        "\n",
        "# Automatización de la Limpieza de Datos\n",
        "\"\"\"\n",
        "Diseña un programa en Python que identifique y corrija valores atípicos y faltantes en un conjunto de datos proporcionado, utilizando Pandas.\n",
        "Tips: Explora métodos como fillna() y dropna() para manejar valores faltantes y considera técnicas estadísticas para detectar valores atípicos.\n",
        "\"\"\"\n",
        "# Espacio para la solución del usuario:\n",
        "\n",
        "\n",
        "# Integración de Datos de Diversas Fuentes\n",
        "\"\"\"\n",
        "Utiliza Python para extraer datos de al menos dos fuentes diferentes (por ejemplo, un archivo CSV y una base de datos SQL), y combínalos en un único DataFrame.\n",
        "Tips: Para la extracción de bases de datos SQL, utiliza SQLAlchemy o pandas read_sql. Usa merge() o concat() para combinar DataFrames.\n",
        "\"\"\"\n",
        "# Espacio para la solución del usuario:\n",
        "\n",
        "\n",
        "# Automatización de Extracción de Datos de API\n",
        "\"\"\"\n",
        "Escribe un script en Python que extraiga datos de una API pública y los transforme en un formato utilizable para el análisis.\n",
        "Tips: Utiliza la librería requests para hacer solicitudes a la API y json para procesar la respuesta.\n",
        "\"\"\"\n",
        "# Espacio para la solución del usuario:\n",
        "\n",
        "\n",
        "# Simulación de Automatización de Preparación de Datos\n",
        "\"\"\"\n",
        "Crea un flujo de trabajo automatizado que simule la recepción de nuevos datos diariamente, limpie y transforme estos datos, y los almacene para análisis futuros.\n",
        "Tips: Implementa un script que simule la adquisición de nuevos datos y usa pandas para las operaciones de limpieza y transformación.\n",
        "\"\"\"\n",
        "# Espacio para la solución del usuario:\n",
        "\n",
        "\n"
      ]
    }
  ],
  "metadata": {
    "colab": {
      "provenance": []
    }
  },
  "nbformat": 4,
  "nbformat_minor": 5
}