{
  "cells": [
    {
      "cell_type": "markdown",
      "id": "b7f60b56",
      "metadata": {},
      "source": [
        "# Actividad Automatización de Análisis de Datos y Generación de Reportes\n",
        "**Nombre:** Silvestre Hernandez Hernandez"
      ]
    },
    {
      "cell_type": "markdown",
      "id": "8f986f10",
      "metadata": {},
      "source": [
        "### Creación de un Script de Análisis de Datos Automatizado"
      ]
    },
    {
      "cell_type": "code",
      "execution_count": 1,
      "id": "ec713ddf",
      "metadata": {},
      "outputs": [
        {
          "name": "stdout",
          "output_type": "stream",
          "text": [
            "Informe generado correctamente en 'informe_estadistico.csv'.\n"
          ]
        },
        {
          "name": "stderr",
          "output_type": "stream",
          "text": [
            "c:\\Users\\semil\\anaconda3\\Lib\\site-packages\\numpy\\core\\fromnumeric.py:3643: FutureWarning: The behavior of DataFrame.std with axis=None is deprecated, in a future version this will reduce over both axes and return a scalar. To retain the old behavior, pass axis=0 (or do not pass axis)\n",
            "  return std(axis=axis, dtype=dtype, out=out, ddof=ddof, **kwargs)\n"
          ]
        }
      ],
      "source": [
        "# Tareas de Automatización de Análisis de Datos y Generación de Reportes\n",
        "\n",
        "# Creación de un Script de Análisis de Datos Automatizado\n",
        "# Descripción: Desarrollar un script en Python que automatice la carga, el análisis y la generación de un informe básico sobre un \n",
        "# conjunto de datos proporcionado. El script debe incluir la importación de datos, su análisis (cálculos estadísticos simples) \n",
        "# y la generación de un informe en formato de texto o CSV.\n",
        "# Tips: Tip: Utiliza pandas para la carga y manipulación de datos, numpy para cálculos estadísticos y csv para la exportación de resultados.\n",
        "# Escribe tu código a continuación\n",
        "# Importación de las bibliotecas necesarias\n",
        "import pandas as pd\n",
        "import numpy as np\n",
        "\n",
        "# Función para cargar datos desde un archivo CSV\n",
        "def cargar_datos(archivo_csv):\n",
        "    try:\n",
        "        datos = pd.read_csv(archivo_csv)\n",
        "        return datos\n",
        "    except FileNotFoundError:\n",
        "        print(f\"Error: Archivo '{archivo_csv}' no encontrado.\")\n",
        "        return None\n",
        "    except pd.errors.EmptyDataError:\n",
        "        print(f\"Error: El archivo '{archivo_csv}' está vacío.\")\n",
        "        return None\n",
        "    except Exception as e:\n",
        "        print(f\"Error inesperado al cargar el archivo '{archivo_csv}':\")\n",
        "        print(e)\n",
        "        return None\n",
        "\n",
        "# Función para realizar análisis de datos básicos\n",
        "def analizar_datos(datos):\n",
        "    if datos is not None:\n",
        "        # Calcular estadísticas simples\n",
        "        estadisticas = {\n",
        "            'Media': np.mean(datos),\n",
        "            'Mediana': np.median(datos),\n",
        "            'Máximo': np.max(datos),\n",
        "            'Mínimo': np.min(datos),\n",
        "            'Desviación estándar': np.std(datos)\n",
        "        }\n",
        "        return estadisticas\n",
        "    else:\n",
        "        return None\n",
        "\n",
        "# Función para generar un informe en formato CSV\n",
        "def generar_reporte(estadisticas, archivo_salida):\n",
        "    try:\n",
        "        df = pd.DataFrame(estadisticas, index=[0])\n",
        "        df.to_csv(archivo_salida, index=False)\n",
        "        print(f\"Informe generado correctamente en '{archivo_salida}'.\")\n",
        "    except Exception as e:\n",
        "        print(f\"Error al generar el informe en '{archivo_salida}':\")\n",
        "        print(e)\n",
        "\n",
        "# Archivo CSV de ejemplo con datos ficticios \n",
        "archivo_datos = 'datos.csv'\n",
        "archivo_informe = 'informe_estadistico.csv'\n",
        "\n",
        "# Cargar datos\n",
        "datos = cargar_datos(archivo_datos)\n",
        "\n",
        "# Analizar datos\n",
        "if datos is not None:\n",
        "    estadisticas = analizar_datos(datos)\n",
        "\n",
        "    # Generar informe\n",
        "    if estadisticas:\n",
        "        generar_reporte(estadisticas, archivo_informe)\n",
        "    else:\n",
        "        print(\"No se pudieron calcular las estadísticas.\")\n",
        "else:\n",
        "    print(\"No se pudo cargar el archivo de datos.\")\n"
      ]
    },
    {
      "cell_type": "markdown",
      "id": "14646b49",
      "metadata": {},
      "source": [
        "### Automatización de la Generación de Gráficos"
      ]
    },
    {
      "cell_type": "code",
      "execution_count": null,
      "id": "7b286128",
      "metadata": {},
      "outputs": [],
      "source": [
        "# Automatización de la Generación de Gráficos\n",
        "# Descripción: Utilizando la librería matplotlib o seaborn, escribe un script que genere automáticamente gráficos a partir de un conjunto de datos dado,\n",
        "#  guardando las visualizaciones en archivos de imagen.\n",
        "# Tips: Tip: Explora las funciones de matplotlib.pyplot o seaborn para crear diferentes tipos de gráficos, como histogramas o diagramas de dispersión.\n",
        "# Escribe tu código a continuación"
      ]
    },
    {
      "cell_type": "markdown",
      "id": "976d2a79",
      "metadata": {},
      "source": [
        "### Creación de Reportes Automáticos en PDF"
      ]
    },
    {
      "cell_type": "code",
      "execution_count": null,
      "id": "8dd12cd0",
      "metadata": {},
      "outputs": [],
      "source": [
        "# Creación de Reportes Automáticos en PDF\n",
        "# Descripción: Implementa un script que analice un conjunto de datos y genere un reporte en PDF que incluya texto explicativo y gráficos, \n",
        "# utilizando librerías como reportlab o Jinja2.\n",
        "# Tips: Tip: Usa reportlab para crear documentos PDF desde cero o Jinja2 para generar HTML que luego puedes convertir a PDF.\n",
        "# Escribe tu código a continuación"
      ]
    },
    {
      "cell_type": "markdown",
      "id": "e5c99672",
      "metadata": {},
      "source": [
        "### Automatización de la Actualización de Reportes"
      ]
    },
    {
      "cell_type": "code",
      "execution_count": null,
      "id": "eb5c7883",
      "metadata": {},
      "outputs": [],
      "source": [
        "# Automatización de la Actualización de Reportes\n",
        "# Descripción: Desarrolla un sistema que, utilizando programación de tareas, actualice y genere un reporte automáticamente en intervalos \n",
        "# regulares a partir de un conjunto de datos que se actualiza constantemente.\n",
        "# Tips: Tip: Investiga cómo utilizar el programador de tareas de tu sistema operativo para ejecutar tu script automáticamente.\n",
        "# Escribe tu código a continuación"
      ]
    },
    {
      "cell_type": "markdown",
      "id": "6ce4bb6e",
      "metadata": {},
      "source": [
        "### Envío Automatizado de Reportes por Correo Electrónico"
      ]
    },
    {
      "cell_type": "code",
      "execution_count": null,
      "id": "9b3f8543",
      "metadata": {
        "id": "9b3f8543"
      },
      "outputs": [],
      "source": [
        "# Envío Automatizado de Reportes por Correo Electrónico\n",
        "# Descripción: Crea un script que, después de generar un reporte, lo envíe automáticamente a una lista de correos electrónicos especificada,\n",
        "#  utilizando la librería smtplib o alguna similar.\n",
        "# Tips: Tip: Utiliza smtplib para conectarte a un servidor SMTP y enviar correos electrónicos con adjuntos.\n",
        "# Escribe tu código a continuación\n",
        "\n"
      ]
    }
  ],
  "metadata": {
    "colab": {
      "provenance": []
    },
    "kernelspec": {
      "display_name": "base",
      "language": "python",
      "name": "python3"
    },
    "language_info": {
      "codemirror_mode": {
        "name": "ipython",
        "version": 3
      },
      "file_extension": ".py",
      "mimetype": "text/x-python",
      "name": "python",
      "nbconvert_exporter": "python",
      "pygments_lexer": "ipython3",
      "version": "3.11.7"
    }
  },
  "nbformat": 4,
  "nbformat_minor": 5
}
